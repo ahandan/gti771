{
 "cells": [
  {
   "cell_type": "code",
   "execution_count": 1,
   "metadata": {},
   "outputs": [
    {
     "data": {
      "text/html": [
       "<style>.container {font-size: 100%; width:90% !important; }</style>"
      ],
      "text/plain": [
       "<IPython.core.display.HTML object>"
      ]
     },
     "metadata": {},
     "output_type": "display_data"
    }
   ],
   "source": [
    "from IPython.core.display import display, HTML\n",
    "display(HTML(\"<style>.container {font-size: 100%; width:90% !important; }</style>\"))"
   ]
  },
  {
   "cell_type": "markdown",
   "metadata": {},
   "source": [
    "# GTI771 - Apprentissage machine avancé\n",
    "## Département du génie logiciel et des technologies de l’information\n",
    "\n",
    "\n",
    "\n",
    "## Laboratoire 1 - Analyse et préparation des données et extraction de primitives\n",
    "\n",
    "#### <font color=white> Version 4.0 mai 2020 </font>\n",
    "#### <font color=black> Version 5.0 janvier 2021 </font>\n",
    "\n",
    "##### Prof. Alessandro L. Koerich"
   ]
  },
  {
   "cell_type": "markdown",
   "metadata": {},
   "source": [
    "| Étudiants             | NOMS - CODE PERMANENT                                   |\n",
    "|-----------------------|---------------------------------------------------------|\n",
    "| Session               | SAISON ANNÉE                                            |\n",
    "| Équipe                | X                                                       |\n",
    "| Numéro du laboratoire | X                                                       |\n",
    "| Professeur            | Prof. NOM                                               |\n",
    "| Chargé de laboratoire | NOM                                                     |\n",
    "| Date                  | DATE                                                    |"
   ]
  },
  {
   "cell_type": "markdown",
   "metadata": {},
   "source": [
    "## Introduction\n",
    "\n",
    "Ce premier laboratoire porte sur la définition et l’extraction de primitives sur des visages. Le problème de classification qui vous est présenté est le problème [Facial Expression Recognition (FER)](https://www.kaggle.com/c/challenges-in-representation-learning-facial-expression-recognition-challenge/data), dont le but est de classer des visages dans sept catégories. En vous basant sur les concepts vus en classe, vous devez définir des primitives que vous jugez pertinentes à extraire sur ces types d’images et effectuer l’extraction de celles-ci sur l’ensemble de données fournies avec cet énoncé.\n",
    "\n",
    "Veuillez noter que les images qui vous sont fournies ne sont pas nécessairement très faciles à travailler. Plusieurs images comportent du bruit, des artéfacts ou des éléments non pertinents. Le défi de ce laboratoire repose sur cette difficulté qui est chose courante dans des problèmes d’apprentissage machine moderne.\n",
    "\n",
    "Voici, en exemple, des images de visages se retrouvant dans l’ensemble de données:\n",
    "\n",
    "![Exemples de FER](https://miro.medium.com/max/2420/1*nXqJ4lMiBRp4Ilm3bpRxuA.png)\n",
    "\n",
    "\n",
    "L’évaluation de ce laboratoire sera basée sur la qualité des primitives proposées, les réponses aux questions dans cette notebook ainsi que l'organisation de votre code source <font color=black> (SVP, n'oubliez pas de mettre des commentaires dans le code!)</font>. Le pouvoir discriminant, c’est-à-dire la capacité des primitives à bien séparer les exemples des classes dans l’espace des primitives, sera également évalué."
   ]
  },
  {
   "cell_type": "markdown",
   "metadata": {
    "collapsed": true
   },
   "source": [
    "# Partie 1: Imports"
   ]
  },
  {
   "cell_type": "markdown",
   "metadata": {},
   "source": [
    "### 1a: Import de bibliotèques"
   ]
  },
  {
   "cell_type": "markdown",
   "metadata": {},
   "source": [
    "### À faire:\n",
    "1. Ajouter toutes les bibliothèques que vous avez utilisées pour compléter ce notebook dans une cellule avec une petite description."
   ]
  },
  {
   "cell_type": "code",
   "execution_count": 2,
   "metadata": {},
   "outputs": [
    {
     "name": "stdout",
     "output_type": "stream",
     "text": [
      "hello\n"
     ]
    }
   ],
   "source": [
    "import numpy as np  # package for scientific computing with Python.\n",
    "import matplotlib.pyplot as plt # 2D plotting library\n",
    "import pandas as pd # Pour la visualisation de matrice\n",
    "from sklearn.preprocessing import MinMaxScaler #Pour la normalisation des images \n",
    "print('hello')\n",
    "# Votre code ici"
   ]
  },
  {
   "cell_type": "markdown",
   "metadata": {},
   "source": [
    "#### Fonctions"
   ]
  },
  {
   "cell_type": "code",
   "execution_count": 3,
   "metadata": {},
   "outputs": [],
   "source": [
    "def fa():\n",
    "    return 1"
   ]
  },
  {
   "cell_type": "markdown",
   "metadata": {},
   "source": [
    "## Partie 2: Analyse exploratoire des données\n",
    "\n",
    "On va commencer en regardant les données.\n",
    "\n",
    "Pour ce lab, nous allons utiliser le dataset FER.\n",
    "\n",
    "Le dataset est disponible dans https://www.kaggle.com/c/challenges-in-representation-learning-facial-expression-recognition-challenge/data, et il continent presque 35,000 visages."
   ]
  },
  {
   "cell_type": "markdown",
   "metadata": {},
   "source": [
    "## 2a: Charger le fichier de données"
   ]
  },
  {
   "cell_type": "code",
   "execution_count": 4,
   "metadata": {},
   "outputs": [
    {
     "name": "stdout",
     "output_type": "stream",
     "text": [
      "(28709, 2304) (3589, 2304) (3589, 2304)\n",
      "[151. 150. 147. ... 193. 183. 184.]\n"
     ]
    }
   ],
   "source": [
    "109.065458# load data\n",
    "ferData = np.loadtxt( 'fer2013/fer2013.csv', delimiter=',', dtype=np.str )\n",
    " \n",
    "# Training set\n",
    "Xtrain = np.ones( (28709,2304), float )\n",
    "\n",
    "for i in range( 1, 28710 ):\n",
    "    Xtrain[i-1] = ferData[i,1].split(\" \")\n",
    "\n",
    "ytrain = ferData[1:28710,0].astype( np.int )\n",
    "\n",
    "# Validation set\n",
    "Xval = np.ones( (3589,2304), float )\n",
    "\n",
    "for i in range( 28710, 32299 ):\n",
    "    Xval[i-28710] = ferData[i,1].split(\" \")\n",
    "\n",
    "yval = ferData[28710:32299,0].astype( np.int )\n",
    "\n",
    "# Test set\n",
    "Xtest = np.ones( (3589,2304), float )\n",
    "\n",
    "for i in range( 32299, 35888 ):\n",
    "    Xtest[i-32299] = ferData[i,1].split(\" \")\n",
    "\n",
    "ytest = ferData[32299:,0].astype( np.int )\n",
    "\n",
    "print(Xtrain.shape, Xval.shape, Xtest.shape)\n",
    "print(Xtrain[1])"
   ]
  },
  {
   "cell_type": "code",
   "execution_count": 5,
   "metadata": {},
   "outputs": [
    {
     "name": "stdout",
     "output_type": "stream",
     "text": [
      "[0 1 4 ... 4 4 4]\n"
     ]
    }
   ],
   "source": [
    "print(yval)"
   ]
  },
  {
   "cell_type": "code",
   "execution_count": 6,
   "metadata": {},
   "outputs": [
    {
     "name": "stdout",
     "output_type": "stream",
     "text": [
      "(28709, 1, 48, 48) (3589, 1, 48, 48) (3589, 1, 48, 48)\n"
     ]
    }
   ],
   "source": [
    "# reshape to be [samples][channels][width][height]\n",
    "Xtrain = Xtrain.reshape( Xtrain.shape[0], 1, 48, 48 ).astype('uint8')\n",
    "Xtest  = Xtest.reshape( Xtest.shape[0], 1, 48, 48 ).astype('uint8')\n",
    "Xval   = Xval.reshape( Xval.shape[0], 1, 48, 48 ).astype('uint8')\n",
    "\n",
    "print( Xtrain.shape, Xval.shape, Xtest.shape )\n"
   ]
  },
  {
   "cell_type": "markdown",
   "metadata": {},
   "source": [
    "## <font color=black> 2b: Pre-traitement et visualisation des visages </font>"
   ]
  },
  {
   "cell_type": "markdown",
   "metadata": {},
   "source": [
    "Vous pouvez visualiser les images en utilisant `plt.imshow`.\n",
    "\n",
    "Il y a différents types de prétraitement que nous pouvons appliquer à des images dans les ensembles de données pour réduire la variabilité, réduire des bruits, etc.\n",
    "\n",
    "### À faire:\n",
    "1. Pensez-vous qu’est nécessaire un prétraitement des images? Si oui, vous pouvez choisir différents algorithmes de prétraitement dans [scikit-image](https://scikit-image.org/docs/stable/api/api.html). Il y a aussi autres types de prétraitement plus généraux dans [scikit-learn](https://scikit-learn.org/stable/modules/preprocessing.html#preprocessing).\n",
    "2. Expliquer et justifier les prétraitements choisis."
   ]
  },
  {
   "cell_type": "markdown",
   "metadata": {},
   "source": [
    "#### Code"
   ]
  },
  {
   "cell_type": "code",
   "execution_count": 7,
   "metadata": {},
   "outputs": [
    {
     "data": {
      "image/png": "[encoded data removed]",
      "text/plain": [
       "<Figure size 720x360 with 8 Axes>"
      ]
     },
     "metadata": {},
     "output_type": "display_data"
    }
   ],
   "source": [
    "# Votre code de pre-processing\n",
    "\n",
    "labels = ['Angry', 'Disgust', 'Fear', 'Happy', 'Sad', 'Surprise', 'Neutral']\n",
    "def visualize_Img(amount = 8):\n",
    "    amount\n",
    "    width = 5\n",
    "    height = 5\n",
    "    rows = 2\n",
    "    cols = 4\n",
    "    axes=[]\n",
    "    fig=plt.figure()\n",
    "    for a in range(amount):\n",
    "        img = Xtrain[a][0]\n",
    "        axes.append( fig.add_subplot(rows, cols, a+1) )\n",
    "#         subplot_title=(\"Subplot\"+str(a))\n",
    "        subplot_title=(labels[ytrain[a]])\n",
    "        axes[-1].set_title(subplot_title)  \n",
    "        plt.imshow(img, cmap='gray')\n",
    "    fig.tight_layout()    \n",
    "    fig.set_size_inches(10,5)\n",
    "    plt.show()\n",
    "    \n",
    "visualize_Img(8)\n",
    "\n",
    "# xtrain_dt = pd.DataFrame(data=Xtrain[1:,1:], index=Xtrain[1:,0], columns=Xtrain[0,1:])\n",
    "# print(Xtrain)\n",
    "#[samples][channels][width][height]\n",
    "# print(Xtrain[0][0][0][0])\n",
    "\n",
    "\n",
    "# Xtrain[0]"
   ]
  },
  {
   "cell_type": "code",
   "execution_count": null,
   "metadata": {},
   "outputs": [],
   "source": []
  },
  {
   "cell_type": "markdown",
   "metadata": {},
   "source": [
    "#### Résultats et résponses"
   ]
  },
  {
   "cell_type": "code",
   "execution_count": 8,
   "metadata": {},
   "outputs": [],
   "source": [
    "# Votre explication/justification"
   ]
  },
  {
   "cell_type": "markdown",
   "metadata": {},
   "source": [
    "## 2c: Statistiques des données"
   ]
  },
  {
   "cell_type": "markdown",
   "metadata": {},
   "source": [
    "### À faire:\n",
    "1. Calculer quelques statistiques (moyenne, écart-type, etc.) que vous jugez importantes/pertinents sur les données (entrées et/ou sorties)\n",
    "2. Faire une analyse des résultats et présenter vos conclusions sur ces statistiques."
   ]
  },
  {
   "cell_type": "markdown",
   "metadata": {},
   "source": [
    "#### Code"
   ]
  },
  {
   "cell_type": "code",
   "execution_count": null,
   "metadata": {},
   "outputs": [],
   "source": [
    "# Load DataSet\n",
    "df = pd.read_csv('fer2013/fer2013.csv')\n",
    "\n",
    "# Recuperer le training set\n",
    "df_train = df.loc[df['Usage']==\"Training\"]\n",
    "\n",
    "#(0=Angry, 1=Disgust, 2=Fear, 3=Happy, 4=Sad, 5=Surprise, 6=Neutral).\n",
    "labels = ['Angry', 'Disgust', 'Fear', 'Happy', 'Sad', 'Surprise', 'Neutral']\n"
   ]
  },
  {
   "cell_type": "code",
   "execution_count": 45,
   "metadata": {},
   "outputs": [],
   "source": [
    "\n",
    "\n",
    "def get_med_df():\n",
    "    df_list_test = []\n",
    "    for label in labels:\n",
    "        index = labels.index(label)\n",
    "        df_train_1 = df_train.loc[df_train['emotion']== index]\n",
    "        df_mean = ((df_train_1['pixels'].str.split(' ', expand=True)).apply(pd.to_numeric)).median()\n",
    "        df_mean_T = pd.DataFrame(data=df_mean).T\n",
    "        df_mean_T.insert(0, \"emotion\", index, True)\n",
    "        df_list_test.append(df_mean_T)\n",
    "        \n",
    "    result = pd.concat(df_list_test)\n",
    "    result.drop(columns='emotion')\n",
    "    result.apply(np.int64)\n",
    "    return result\n",
    "\n",
    "def get_avg_df():\n",
    "    df_list_test = []\n",
    "    for label in labels:\n",
    "        index = labels.index(label)\n",
    "        df_train_1 = df_train.loc[df_train['emotion']== index]\n",
    "        df_mean = ((df_train_1['pixels'].str.split(' ', expand=True)).apply(pd.to_numeric)).mean()\n",
    "        df_mean_T = pd.DataFrame(data=df_mean).T\n",
    "        df_mean_T.insert(0, \"emotion\", index, True)\n",
    "        df_list_test.append(df_mean_T)\n",
    "\n",
    "    result = pd.concat(df_list_test)\n",
    "    result.drop(columns='emotion')\n",
    "    result.apply(np.int64)\n",
    "    return result\n",
    "\n",
    "\n",
    "def visualize_Img(list_q, amount=8):\n",
    "    amount\n",
    "    width = 5\n",
    "    height = 5\n",
    "    rows = 2\n",
    "    cols = 4\n",
    "    axes=[]\n",
    "    fig=plt.figure()\n",
    "    for a in range(amount):\n",
    "        img = np.array_split(list_q[a], 48)\n",
    "        axes.append( fig.add_subplot(rows, cols, a+1) )\n",
    "#         subplot_title=(\"Subplot\"+str(a))\n",
    "        subplot_title=(labels[a])\n",
    "        axes[-1].set_title(subplot_title) \n",
    "        plt.imshow(img, cmap='gray')\n",
    "    fig.tight_layout()    \n",
    "    fig.set_size_inches(10,6)\n",
    "    plt.show()"
   ]
  },
  {
   "cell_type": "code",
   "execution_count": 46,
   "metadata": {},
   "outputs": [
    {
     "name": "stdout",
     "output_type": "stream",
     "text": [
      "[[  0.         115.97346683 113.7008761  ... 107.26683354 108.18072591\n",
      "  108.73191489]\n",
      " [  1.         108.70412844 104.80963303 ... 108.08486239 107.06192661\n",
      "  108.29816514]\n",
      " [  2.         131.14693678 127.08225531 ... 120.12277276 120.48718575\n",
      "  121.16353429]\n",
      " ...\n",
      " [  4.         107.59544513 106.16335404 ... 105.13747412 105.3826087\n",
      "  105.83436853]\n",
      " [  5.         153.31693472 147.89372438 ... 132.85272785 134.21917376\n",
      "  135.64837591]\n",
      " [  6.         109.06545821 105.42114804 ... 109.67613293 110.69607251\n",
      "  112.21993958]]\n",
      "[[  0.  102.  101.  ...  95.   97.   97. ]\n",
      " [  1.   81.5  83.  ...  97.   97.   99.5]\n",
      " [  2.  127.  121.  ... 118.  117.  118. ]\n",
      " ...\n",
      " [  4.   95.   93.  ...  96.   95.   95. ]\n",
      " [  5.  162.  151.  ... 135.  135.  139. ]\n",
      " [  6.   94.   88.  ... 101.  103.  104. ]]\n"
     ]
    }
   ],
   "source": [
    "# result_tt = result\n",
    "# result_tt = result_tt.drop(columns='emotion')\n",
    "# result_T = result_tt.T\n",
    "# result_T = result_T.apply(np.int64)\n",
    "# # result_T = result_T.drop(df.index[0])\n",
    "\n",
    "# test = pd.DataFrame(result_T)\n",
    "# test.columns= labels\n",
    "# test.head()\n",
    "# test_np = result_tt.to_numpy()\n",
    "\n",
    "avg = get_avg_df().to_numpy()\n",
    "print(avg)\n",
    "med = get_med_df().to_numpy()\n",
    "print(med)\n",
    "    \n",
    "    \n",
    "# visualize_Img(avg,7)\n",
    "    \n",
    "# visualize_Img(med,7)\n",
    "\n",
    "    \n",
    "# for i in range(7):\n",
    "#     hist, bins = np.histogram(test_np[i], bins=256, range=(0, 256))\n",
    "#     plt.figure()\n",
    "#     plt.title(\"Class histogram {}\".format(i))\n",
    "#     plt.xlabel(\"Pixel Value\")\n",
    "#     plt.ylabel(\"Number of pixel\")\n",
    "#     plt.plot(bins[0:-1],hist)\n",
    "#     plt.show()"
   ]
  },
  {
   "cell_type": "code",
   "execution_count": 47,
   "metadata": {},
   "outputs": [
    {
     "name": "stderr",
     "output_type": "stream",
     "text": [
      "/home/ziz/.local/lib/python3.6/site-packages/matplotlib/cbook/__init__.py:706: VisibleDeprecationWarning: Creating an ndarray from ragged nested sequences (which is a list-or-tuple of lists-or-tuples-or ndarrays with different lengths or shapes) is deprecated. If you meant to do this, you must specify 'dtype=object' when creating the ndarray\n",
      "  x = np.array(x, subok=True, copy=copy)\n"
     ]
    },
    {
     "ename": "TypeError",
     "evalue": "Image data of dtype object cannot be converted to float",
     "output_type": "error",
     "traceback": [
      "\u001b[0;31m---------------------------------------------------------------------------\u001b[0m",
      "\u001b[0;31mTypeError\u001b[0m                                 Traceback (most recent call last)",
      "\u001b[0;32m<ipython-input-47-e23672e8b6db>\u001b[0m in \u001b[0;36m<module>\u001b[0;34m()\u001b[0m\n\u001b[0;32m----> 1\u001b[0;31m \u001b[0mvisualize_Img\u001b[0m\u001b[0;34m(\u001b[0m\u001b[0mavg\u001b[0m\u001b[0;34m,\u001b[0m\u001b[0;36m7\u001b[0m\u001b[0;34m)\u001b[0m\u001b[0;34m\u001b[0m\u001b[0;34m\u001b[0m\u001b[0m\n\u001b[0m\u001b[1;32m      2\u001b[0m \u001b[0;34m\u001b[0m\u001b[0m\n\u001b[1;32m      3\u001b[0m \u001b[0mvisualize_Img\u001b[0m\u001b[0;34m(\u001b[0m\u001b[0mmed\u001b[0m\u001b[0;34m,\u001b[0m\u001b[0;36m7\u001b[0m\u001b[0;34m)\u001b[0m\u001b[0;34m\u001b[0m\u001b[0;34m\u001b[0m\u001b[0m\n",
      "\u001b[0;32m<ipython-input-45-47689b76abff>\u001b[0m in \u001b[0;36mvisualize_Img\u001b[0;34m(list_q, amount)\u001b[0m\n\u001b[1;32m     44\u001b[0m         \u001b[0msubplot_title\u001b[0m\u001b[0;34m=\u001b[0m\u001b[0;34m(\u001b[0m\u001b[0mlabels\u001b[0m\u001b[0;34m[\u001b[0m\u001b[0ma\u001b[0m\u001b[0;34m]\u001b[0m\u001b[0;34m)\u001b[0m\u001b[0;34m\u001b[0m\u001b[0;34m\u001b[0m\u001b[0m\n\u001b[1;32m     45\u001b[0m         \u001b[0maxes\u001b[0m\u001b[0;34m[\u001b[0m\u001b[0;34m-\u001b[0m\u001b[0;36m1\u001b[0m\u001b[0;34m]\u001b[0m\u001b[0;34m.\u001b[0m\u001b[0mset_title\u001b[0m\u001b[0;34m(\u001b[0m\u001b[0msubplot_title\u001b[0m\u001b[0;34m)\u001b[0m\u001b[0;34m\u001b[0m\u001b[0;34m\u001b[0m\u001b[0m\n\u001b[0;32m---> 46\u001b[0;31m         \u001b[0mplt\u001b[0m\u001b[0;34m.\u001b[0m\u001b[0mimshow\u001b[0m\u001b[0;34m(\u001b[0m\u001b[0mimg\u001b[0m\u001b[0;34m,\u001b[0m \u001b[0mcmap\u001b[0m\u001b[0;34m=\u001b[0m\u001b[0;34m'gray'\u001b[0m\u001b[0;34m)\u001b[0m\u001b[0;34m\u001b[0m\u001b[0;34m\u001b[0m\u001b[0m\n\u001b[0m\u001b[1;32m     47\u001b[0m     \u001b[0mfig\u001b[0m\u001b[0;34m.\u001b[0m\u001b[0mtight_layout\u001b[0m\u001b[0;34m(\u001b[0m\u001b[0;34m)\u001b[0m\u001b[0;34m\u001b[0m\u001b[0;34m\u001b[0m\u001b[0m\n\u001b[1;32m     48\u001b[0m     \u001b[0mfig\u001b[0m\u001b[0;34m.\u001b[0m\u001b[0mset_size_inches\u001b[0m\u001b[0;34m(\u001b[0m\u001b[0;36m10\u001b[0m\u001b[0;34m,\u001b[0m\u001b[0;36m6\u001b[0m\u001b[0;34m)\u001b[0m\u001b[0;34m\u001b[0m\u001b[0;34m\u001b[0m\u001b[0m\n",
      "\u001b[0;32m/home/ziz/.local/lib/python3.6/site-packages/matplotlib/pyplot.py\u001b[0m in \u001b[0;36mimshow\u001b[0;34m(X, cmap, norm, aspect, interpolation, alpha, vmin, vmax, origin, extent, shape, filternorm, filterrad, imlim, resample, url, data, **kwargs)\u001b[0m\n\u001b[1;32m   2649\u001b[0m         \u001b[0mfilternorm\u001b[0m\u001b[0;34m=\u001b[0m\u001b[0mfilternorm\u001b[0m\u001b[0;34m,\u001b[0m \u001b[0mfilterrad\u001b[0m\u001b[0;34m=\u001b[0m\u001b[0mfilterrad\u001b[0m\u001b[0;34m,\u001b[0m \u001b[0mimlim\u001b[0m\u001b[0;34m=\u001b[0m\u001b[0mimlim\u001b[0m\u001b[0;34m,\u001b[0m\u001b[0;34m\u001b[0m\u001b[0;34m\u001b[0m\u001b[0m\n\u001b[1;32m   2650\u001b[0m         resample=resample, url=url, **({\"data\": data} if data is not\n\u001b[0;32m-> 2651\u001b[0;31m         None else {}), **kwargs)\n\u001b[0m\u001b[1;32m   2652\u001b[0m     \u001b[0msci\u001b[0m\u001b[0;34m(\u001b[0m\u001b[0m__ret\u001b[0m\u001b[0;34m)\u001b[0m\u001b[0;34m\u001b[0m\u001b[0;34m\u001b[0m\u001b[0m\n\u001b[1;32m   2653\u001b[0m     \u001b[0;32mreturn\u001b[0m \u001b[0m__ret\u001b[0m\u001b[0;34m\u001b[0m\u001b[0;34m\u001b[0m\u001b[0m\n",
      "\u001b[0;32m/home/ziz/.local/lib/python3.6/site-packages/matplotlib/__init__.py\u001b[0m in \u001b[0;36minner\u001b[0;34m(ax, data, *args, **kwargs)\u001b[0m\n\u001b[1;32m   1563\u001b[0m     \u001b[0;32mdef\u001b[0m \u001b[0minner\u001b[0m\u001b[0;34m(\u001b[0m\u001b[0max\u001b[0m\u001b[0;34m,\u001b[0m \u001b[0;34m*\u001b[0m\u001b[0margs\u001b[0m\u001b[0;34m,\u001b[0m \u001b[0mdata\u001b[0m\u001b[0;34m=\u001b[0m\u001b[0;32mNone\u001b[0m\u001b[0;34m,\u001b[0m \u001b[0;34m**\u001b[0m\u001b[0mkwargs\u001b[0m\u001b[0;34m)\u001b[0m\u001b[0;34m:\u001b[0m\u001b[0;34m\u001b[0m\u001b[0;34m\u001b[0m\u001b[0m\n\u001b[1;32m   1564\u001b[0m         \u001b[0;32mif\u001b[0m \u001b[0mdata\u001b[0m \u001b[0;32mis\u001b[0m \u001b[0;32mNone\u001b[0m\u001b[0;34m:\u001b[0m\u001b[0;34m\u001b[0m\u001b[0;34m\u001b[0m\u001b[0m\n\u001b[0;32m-> 1565\u001b[0;31m             \u001b[0;32mreturn\u001b[0m \u001b[0mfunc\u001b[0m\u001b[0;34m(\u001b[0m\u001b[0max\u001b[0m\u001b[0;34m,\u001b[0m \u001b[0;34m*\u001b[0m\u001b[0mmap\u001b[0m\u001b[0;34m(\u001b[0m\u001b[0msanitize_sequence\u001b[0m\u001b[0;34m,\u001b[0m \u001b[0margs\u001b[0m\u001b[0;34m)\u001b[0m\u001b[0;34m,\u001b[0m \u001b[0;34m**\u001b[0m\u001b[0mkwargs\u001b[0m\u001b[0;34m)\u001b[0m\u001b[0;34m\u001b[0m\u001b[0;34m\u001b[0m\u001b[0m\n\u001b[0m\u001b[1;32m   1566\u001b[0m \u001b[0;34m\u001b[0m\u001b[0m\n\u001b[1;32m   1567\u001b[0m         \u001b[0mbound\u001b[0m \u001b[0;34m=\u001b[0m \u001b[0mnew_sig\u001b[0m\u001b[0;34m.\u001b[0m\u001b[0mbind\u001b[0m\u001b[0;34m(\u001b[0m\u001b[0max\u001b[0m\u001b[0;34m,\u001b[0m \u001b[0;34m*\u001b[0m\u001b[0margs\u001b[0m\u001b[0;34m,\u001b[0m \u001b[0;34m**\u001b[0m\u001b[0mkwargs\u001b[0m\u001b[0;34m)\u001b[0m\u001b[0;34m\u001b[0m\u001b[0;34m\u001b[0m\u001b[0m\n",
      "\u001b[0;32m/home/ziz/.local/lib/python3.6/site-packages/matplotlib/cbook/deprecation.py\u001b[0m in \u001b[0;36mwrapper\u001b[0;34m(*args, **kwargs)\u001b[0m\n\u001b[1;32m    356\u001b[0m                 \u001b[0;34mf\"%(removal)s.  If any parameter follows {name!r}, they \"\u001b[0m\u001b[0;34m\u001b[0m\u001b[0;34m\u001b[0m\u001b[0m\n\u001b[1;32m    357\u001b[0m                 f\"should be pass as keyword, not positionally.\")\n\u001b[0;32m--> 358\u001b[0;31m         \u001b[0;32mreturn\u001b[0m \u001b[0mfunc\u001b[0m\u001b[0;34m(\u001b[0m\u001b[0;34m*\u001b[0m\u001b[0margs\u001b[0m\u001b[0;34m,\u001b[0m \u001b[0;34m**\u001b[0m\u001b[0mkwargs\u001b[0m\u001b[0;34m)\u001b[0m\u001b[0;34m\u001b[0m\u001b[0;34m\u001b[0m\u001b[0m\n\u001b[0m\u001b[1;32m    359\u001b[0m \u001b[0;34m\u001b[0m\u001b[0m\n\u001b[1;32m    360\u001b[0m     \u001b[0;32mreturn\u001b[0m \u001b[0mwrapper\u001b[0m\u001b[0;34m\u001b[0m\u001b[0;34m\u001b[0m\u001b[0m\n",
      "\u001b[0;32m/home/ziz/.local/lib/python3.6/site-packages/matplotlib/cbook/deprecation.py\u001b[0m in \u001b[0;36mwrapper\u001b[0;34m(*args, **kwargs)\u001b[0m\n\u001b[1;32m    356\u001b[0m                 \u001b[0;34mf\"%(removal)s.  If any parameter follows {name!r}, they \"\u001b[0m\u001b[0;34m\u001b[0m\u001b[0;34m\u001b[0m\u001b[0m\n\u001b[1;32m    357\u001b[0m                 f\"should be pass as keyword, not positionally.\")\n\u001b[0;32m--> 358\u001b[0;31m         \u001b[0;32mreturn\u001b[0m \u001b[0mfunc\u001b[0m\u001b[0;34m(\u001b[0m\u001b[0;34m*\u001b[0m\u001b[0margs\u001b[0m\u001b[0;34m,\u001b[0m \u001b[0;34m**\u001b[0m\u001b[0mkwargs\u001b[0m\u001b[0;34m)\u001b[0m\u001b[0;34m\u001b[0m\u001b[0;34m\u001b[0m\u001b[0m\n\u001b[0m\u001b[1;32m    359\u001b[0m \u001b[0;34m\u001b[0m\u001b[0m\n\u001b[1;32m    360\u001b[0m     \u001b[0;32mreturn\u001b[0m \u001b[0mwrapper\u001b[0m\u001b[0;34m\u001b[0m\u001b[0;34m\u001b[0m\u001b[0m\n",
      "\u001b[0;32m/home/ziz/.local/lib/python3.6/site-packages/matplotlib/axes/_axes.py\u001b[0m in \u001b[0;36mimshow\u001b[0;34m(self, X, cmap, norm, aspect, interpolation, alpha, vmin, vmax, origin, extent, shape, filternorm, filterrad, imlim, resample, url, **kwargs)\u001b[0m\n\u001b[1;32m   5613\u001b[0m                               resample=resample, **kwargs)\n\u001b[1;32m   5614\u001b[0m \u001b[0;34m\u001b[0m\u001b[0m\n\u001b[0;32m-> 5615\u001b[0;31m         \u001b[0mim\u001b[0m\u001b[0;34m.\u001b[0m\u001b[0mset_data\u001b[0m\u001b[0;34m(\u001b[0m\u001b[0mX\u001b[0m\u001b[0;34m)\u001b[0m\u001b[0;34m\u001b[0m\u001b[0;34m\u001b[0m\u001b[0m\n\u001b[0m\u001b[1;32m   5616\u001b[0m         \u001b[0mim\u001b[0m\u001b[0;34m.\u001b[0m\u001b[0mset_alpha\u001b[0m\u001b[0;34m(\u001b[0m\u001b[0malpha\u001b[0m\u001b[0;34m)\u001b[0m\u001b[0;34m\u001b[0m\u001b[0;34m\u001b[0m\u001b[0m\n\u001b[1;32m   5617\u001b[0m         \u001b[0;32mif\u001b[0m \u001b[0mim\u001b[0m\u001b[0;34m.\u001b[0m\u001b[0mget_clip_path\u001b[0m\u001b[0;34m(\u001b[0m\u001b[0;34m)\u001b[0m \u001b[0;32mis\u001b[0m \u001b[0;32mNone\u001b[0m\u001b[0;34m:\u001b[0m\u001b[0;34m\u001b[0m\u001b[0;34m\u001b[0m\u001b[0m\n",
      "\u001b[0;32m/home/ziz/.local/lib/python3.6/site-packages/matplotlib/image.py\u001b[0m in \u001b[0;36mset_data\u001b[0;34m(self, A)\u001b[0m\n\u001b[1;32m    692\u001b[0m                 not np.can_cast(self._A.dtype, float, \"same_kind\")):\n\u001b[1;32m    693\u001b[0m             raise TypeError(\"Image data of dtype {} cannot be converted to \"\n\u001b[0;32m--> 694\u001b[0;31m                             \"float\".format(self._A.dtype))\n\u001b[0m\u001b[1;32m    695\u001b[0m \u001b[0;34m\u001b[0m\u001b[0m\n\u001b[1;32m    696\u001b[0m         if not (self._A.ndim == 2\n",
      "\u001b[0;31mTypeError\u001b[0m: Image data of dtype object cannot be converted to float"
     ]
    },
    {
     "data": {
      "image/png": "[encoded data removed]",
      "text/plain": [
       "<Figure size 432x288 with 1 Axes>"
      ]
     },
     "metadata": {},
     "output_type": "display_data"
    }
   ],
   "source": [
    "visualize_Img(avg,7)\n",
    "    \n",
    "visualize_Img(med,7)"
   ]
  },
  {
   "cell_type": "code",
   "execution_count": null,
   "metadata": {},
   "outputs": [],
   "source": [
    "# df_train_01 = pd.DataFrame(df_train_0.pixels.str.split(' ',2303).tolist())\n",
    "\n",
    "# df['purchase'].astype(str).astype(int)\n",
    "\n",
    "\n",
    "# df_train_01 = pd.DataFrame(df_train_0['pixels'].str.split(' ',2310).tolist())\n",
    "\n",
    "df_list = []\n",
    "\n",
    "\n",
    "\n",
    "df_train_0_mean = ((df_train_0['pixels'].str.split(' ', expand=True)).apply(pd.to_numeric)).mean()\n",
    "df0 = pd.DataFrame(data=df_train_0_mean).T\n",
    "df0.insert(0, \"emotion\", 0, True)\n",
    "df_list.append(df0)\n",
    "\n",
    "\n",
    "\n",
    "\n",
    "df_train_1_mean = ((df_train_1['pixels'].str.split(' ', expand=True)).apply(pd.to_numeric)).mean()\n",
    "df1 = pd.DataFrame(data=df_train_1_mean).T\n",
    "df1.insert(0, \"emotion\", 1, True)\n",
    "df_list.append(df1)\n",
    "\n",
    "\n",
    "\n",
    "\n",
    "df_train_2_mean = ((df_train_2['pixels'].str.split(' ', expand=True)).apply(pd.to_numeric)).mean()\n",
    "df2 = pd.DataFrame(data=df_train_2_mean).T\n",
    "df2.insert(0, \"emotion\", 2, True)\n",
    "df_list.append(df2)\n",
    "\n",
    "result = pd.concat(df_list)\n",
    "\n",
    "\n",
    "result.head()\n",
    "\n",
    "\n",
    "\n",
    "\n",
    "\n",
    "\n",
    "\n",
    "# ((df_train.loc[df_train['emotion']== 0]['pixels'].str.split(' ', expand=True)).apply(pd.to_numeric)).mean()\n",
    "\n"
   ]
  },
  {
   "cell_type": "code",
   "execution_count": null,
   "metadata": {},
   "outputs": [],
   "source": []
  },
  {
   "cell_type": "code",
   "execution_count": null,
   "metadata": {},
   "outputs": [],
   "source": []
  },
  {
   "cell_type": "code",
   "execution_count": null,
   "metadata": {},
   "outputs": [],
   "source": [
    "df_train_pixel = (df_train_0['pixels']).T\n",
    "\n",
    "\n",
    "df_train_pixel.head()\n",
    "\n",
    "\n",
    "# df_0 = pd.DataFrame()\n",
    "# list_test = []\n",
    "\n",
    "\n",
    "# list_pixel_0 = df_train_pixel[0].split()\n",
    "# list_pixel_1 = df_train_pixel[1].split()\n",
    "\n",
    "# df_0 = (pd.DataFrame(data=list_pixel_0, dtype=int)).T\n",
    "# df_1 = (pd.DataFrame(data=list_pixel_1, dtype=int)).T\n",
    "\n",
    "\n",
    "# list_test.append(df_0)\n",
    "# list_test.append(df_1)\n",
    "\n",
    "# result = pd.concat(list_test)\n",
    "\n",
    "# result.head()\n",
    "\n",
    "\n",
    "# list_df = []\n",
    "\n",
    "\n",
    "# for label in range(7):\n",
    "#     df_train = df_train.loc[df_train['emotion']== label]\n",
    "#     list_row\n",
    "#     for index, row in df_train.iteritems:\n",
    "        \n",
    "    \n",
    "    \n",
    "    \n",
    "    \n",
    "# # result.describe()\n",
    "\n",
    "\n",
    "\n",
    "# def get_base_model(classe):\n",
    "#     df_train_pixel = df_train['pixels']\n",
    "    \n",
    "\n",
    "\n",
    "\n",
    "\n",
    "\n",
    "\n",
    "# df_test =  pd.DataFrame(data=list_pixel, dtype=int)\n",
    "# df_test = df_test.T\n",
    "\n",
    "\n",
    "# # df_0.append(df_test)\n",
    "\n",
    "# df_test.head()"
   ]
  },
  {
   "cell_type": "code",
   "execution_count": null,
   "metadata": {},
   "outputs": [],
   "source": [
    "df_train_pixel = df_train['pixels']\n",
    "\n",
    "df_0 = pd.DataFrame()\n",
    "\n",
    "list_pixel = df_train_pixel[0].split()\n",
    "# print(list_pixel).describe()\n",
    "\n",
    "\n",
    "\n",
    "df_test =  pd.DataFrame(data=list_pixel, dtype=int)\n",
    "df_test.head()\n",
    "\n",
    "# print(tabulate([[\"Xtrain stats: \",Xtrain.var(),Xtrain.mean(),Xtrain.std(), np.median(Xtrain)]], headers=[\"Variance\",\"Mean\", \"Std\", \"Median\"]))\n",
    "# df_train.head(10)\n",
    "\n",
    "# df_train = df_train.sort_values(by=[\"emotion\"],ascending=False,)\n",
    "# df_train.tail()\n",
    "\n",
    "# print(df_train['emotion'][1])\n",
    "# for i in range(7):\n",
    "#     emotion = df_train['emotion'][]\n",
    "#     print(tabulate([[\"Xtrain stats: \",df_train['pixels'].var(),df_train['pixels'].mean(),df_train['pixels'].std(), np.median(Xtrain)]], headers=[\"Variance\",\"Mean\", \"Std\", \"Median\"]))\n",
    "\n",
    "\n",
    "# def print_stats(df):\n",
    "#     print(tabulate([[\"Xtrain stats: \",df['pixels'].var(),df['pixels'].mean(),df['pixels'].std(), np.median(Xtrain)]], headers=[\"Variance\",\"Mean\", \"Std\", \"Median\"]))\n",
    "\n",
    "# print_stats(df_train.loc[df_train['emotion']== 0])\n",
    "# df_train_0 = df_train.loc[df_train['emotion']== 0]\n",
    "# df_train_0.head()\n",
    "# df_train_0[[\"emotion\", \"pixels\"]].describe()\n",
    "# print(tabulate([[\"Xtrain stats: \",df_train_0['pixels'].var(),df_train_0['pixels'].mean(),df_train_0['pixels'].std(), np.median(Xtrain)]], headers=[\"Variance\",\"Mean\", \"Std\", \"Median\"]))\n",
    "\n",
    "# df_train_1 = df_train.loc[df_train['emotion']== 1]\n",
    "# df_train_2 = df_train.loc[df_train['emotion']== 2]\n",
    "# df_train_3 = df_train.loc[df_train['emotion']== 3]\n",
    "# df_train_4 = df_train.loc[df_train['emotion']== 4]\n",
    "# df_train_5 = df_train.loc[df_train['emotion']== 5]\n",
    "# df_train_6 = df_train.loc[df_train['emotion']== 6]\n",
    "\n"
   ]
  },
  {
   "cell_type": "code",
   "execution_count": null,
   "metadata": {},
   "outputs": [],
   "source": []
  },
  {
   "cell_type": "code",
   "execution_count": null,
   "metadata": {},
   "outputs": [],
   "source": [
    "# Votre code ici\n",
    "\n",
    "\n",
    "\n",
    "\n",
    "\n",
    "# Code exemple:\n",
    "# Histogramme des étiquettes\n",
    "hist, _ = np.histogram(ytrain, density=False, bins=7, range=(0, 7))\n",
    "\n",
    "# Code exemple:\n",
    "# Code exemple\n",
    "# Plot du histogramme\n",
    "# import matplotlib.pyplot as plt\n",
    "\n",
    "fig, ax = plt.subplots()\n",
    "\n",
    "ax.hist(ytrain, bins = [0,1,2,3,4,5,6,7]) \n",
    "\n",
    "ax.set_xticklabels([])\n",
    "#(0=Angry, 1=Disgust, 2=Fear, 3=Happy, 4=Sad, 5=Surprise, 6=Neutral).\n",
    "labels = ['Angry', 'Disgust', 'Fear', 'Happy', 'Sad', 'Surprise', 'Neutral']\n",
    "mticks = ax.get_xticks()\n",
    "ax.set_xticks((mticks[:-1]+mticks[1:])/2+1, minor=True)\n",
    "ax.tick_params(axis='x', which='minor', length=0)\n",
    "ax.set_xticklabels(labels, minor=True)\n",
    "plt.show()"
   ]
  },
  {
   "cell_type": "markdown",
   "metadata": {},
   "source": [
    "#### Résultats et résponses"
   ]
  },
  {
   "cell_type": "code",
   "execution_count": null,
   "metadata": {},
   "outputs": [],
   "source": [
    "# Vos résultats ici"
   ]
  },
  {
   "cell_type": "markdown",
   "metadata": {},
   "source": [
    "## 2d: Créer et évaluer un modèle de base (baseline)\n",
    "\n",
    "Un modèle très simple, mais naturel est une ou nous calculons un modèle moyen (template) pour chaque classe (sur les données d'apprentissage) et nous utilisons ces modèles (templates) pour faire des prédictions sur des nouvelles données."
   ]
  },
  {
   "cell_type": "markdown",
   "metadata": {},
   "source": [
    "### À faire:\n",
    "1. Créer un template pour chaque classe\n",
    "2. Faire un plot de chaque template <font color=black> (visage moyen) </font>\n",
    "3. Classifier tous les exemples (ensembles d'apprentissage, validation et test) et reporter les résultats:<br>\n",
    " 3a. taux de classification correct sur les trois (3) ensembles de données<br>\n",
    " 3b. matrice de confusion pour les résultas sur l'ensemble de test\n",
    "4. Faire une analyse des résultats et présenter vos conclusions sur ce modèle"
   ]
  },
  {
   "cell_type": "markdown",
   "metadata": {},
   "source": [
    "#### Code"
   ]
  },
  {
   "cell_type": "code",
   "execution_count": null,
   "metadata": {},
   "outputs": [],
   "source": [
    "# Votre code de création des modèles"
   ]
  },
  {
   "cell_type": "markdown",
   "metadata": {},
   "source": [
    "#### Résultats et résponses"
   ]
  },
  {
   "cell_type": "code",
   "execution_count": null,
   "metadata": {},
   "outputs": [],
   "source": [
    "# Vos résultats ici"
   ]
  },
  {
   "cell_type": "markdown",
   "metadata": {},
   "source": [
    "# Partie 3: Extraction de primitives\n",
    "\n",
    "Vous devez faire une recherche bibliographique pour trouver quelles sont les primitives qui sont plus souvent utilisées pour la reconnaissance des expressions faciales. Voici quelques sources et mot-clés pour guider votre recherche:\n",
    "\n",
    "- http://www.inf.ufpr.br/lesoliveira/download/ESWA2013.pdf\n",
    "- https://doi.org/10.1016/j.patrec.2015.06.007 \n",
    "- https://doi.org/10.1109/FG.2011.5771374\n",
    "- https://www.hindawi.com/journals/ijbi/2015/267807/\n",
    "\n",
    "\n",
    "Mots-clés: facial expression recognition, facial emotion recognition.\n",
    "\n",
    "Bibliothèques Python pour l'extraction de primitives :\n",
    "* [Scikit-image](https://scikit-image.org/docs/dev/)\n",
    "* [OpenCV](https://opencv-python-tutroals.readthedocs.io/en/latest/py_tutorials/py_tutorials.html)\n",
    "* [Scikit-learn](https://scikit-learn.org/stable/modules/feature_extraction.html)\n",
    "\n",
    "Primitives candidates : \n",
    "\n",
    "* LBP, LPQ, Gabor filters, SIFT, SURF, HOG, GLCM, Haralick Moments, etc."
   ]
  },
  {
   "cell_type": "markdown",
   "metadata": {},
   "source": [
    "## 3a: Extraire des primitives"
   ]
  },
  {
   "cell_type": "markdown",
   "metadata": {},
   "source": [
    "### À faire:\n",
    "1. Choisir au moins deux (2) groupes de primitives et extraire ces primitives des visages (ensembles d'apprentissage, validation et test).\n",
    "Un groupe de primitives peut être 16 filtres Gabor, un ensemble de Haar-like features ou bien les différentes features de Haralick Texture Features (p. ex. contraste, homogénéité, etc.). Vous devez en sélectionner deux (2) groupes.\n",
    "\n",
    "Attention! Le résultat des algorithmes d'extraction de primitives doit être des vecteurs de primitives. Il y a des algorithmes qui nécessitent d'une étape additionnelle comme calculer les histogrammes de primitives (p. ex. LBP, SIFT)\n",
    "\n",
    "2. <font color=black>Sauvegarder vos vecteurs de primitives dans des fichiers '.csv'. Utiliser la même structure du fichier FER3013, où nous avons dans un seul fichier, séquentiellement, les trois partitions: apprentissage (0-28709), validation (28710-32299) et test (32299, 35888). Nommer vos fichiers de primitive en référence à la primitive utilisée. Ex.: lbp83_fer2013.csv </font> \n",
    "\n",
    "3. Expliquer et justifier les primitives choisis."
   ]
  },
  {
   "cell_type": "markdown",
   "metadata": {},
   "source": [
    "#### Code"
   ]
  },
  {
   "cell_type": "code",
   "execution_count": null,
   "metadata": {},
   "outputs": [],
   "source": [
    "# Votre code ici"
   ]
  },
  {
   "cell_type": "markdown",
   "metadata": {},
   "source": [
    "#### Résultats et résponses"
   ]
  },
  {
   "cell_type": "markdown",
   "metadata": {},
   "source": [
    "Vos résultats ici"
   ]
  },
  {
   "cell_type": "markdown",
   "metadata": {},
   "source": [
    "## 3b: Analyse visuelle des primitives"
   ]
  },
  {
   "cell_type": "markdown",
   "metadata": {},
   "source": [
    "##### À faire:\n",
    "1. Choisir quelques paires de primitives (deux dimensions de votre vecteur de primitives) et tracer un graphique 2D (données d'apprentissage) pour visualiser si ces primitives sont capables de bien séparer les sept (7) classes.\n",
    "2. Faire une analyse des résultats et présenter vos conclusions sur ces primitives."
   ]
  },
  {
   "cell_type": "markdown",
   "metadata": {},
   "source": [
    "#### Code"
   ]
  },
  {
   "cell_type": "code",
   "execution_count": null,
   "metadata": {},
   "outputs": [],
   "source": [
    "# Votre code ici"
   ]
  },
  {
   "cell_type": "markdown",
   "metadata": {},
   "source": [
    "#### Résultats et résponses"
   ]
  },
  {
   "cell_type": "code",
   "execution_count": null,
   "metadata": {},
   "outputs": [],
   "source": [
    "# Vos résultats ici"
   ]
  },
  {
   "cell_type": "markdown",
   "metadata": {},
   "source": [
    "# Partie 4: Construction d'un modèle\n",
    "\n",
    "Nous sommes maintenant prêtes à entraîner un premier modèle avec les primitives extraites dans la Partie 3. On suppose que vous avez deux jeux de primitives (p.ex. LBP et SIFT), alors vous devez entraîner un modèle pour chaque jeu de primitives (2 modèles au total)."
   ]
  },
  {
   "cell_type": "markdown",
   "metadata": {},
   "source": [
    "## 4a: Entraîner un modèle\n",
    "\n",
    "Vous devez choisir un des algorithmes d'apprentissage suivants et l'entraîner sur les données d'apprentissage (même algorithme pour les deux jeux de primitives, p.ex. modèle1=DT+LBP et modèle2 = DT+SIFT):<br>\n",
    "* [Decision trees](https://scikit-learn.org/stable/modules/tree.html) de scikit-learn. <br>\n",
    "* [k-NN](https://scikit-learn.org/stable/modules/neighbors.html#nearest-neighbors-classification) de scikit-learn. <br>\n",
    "* [Naïve Bayes](https://scikit-learn.org/stable/modules/naive_bayes.html) de scikit-learn. \n",
    "\n",
    "Pour ce premier modèle, vous n'est pas supposé de régler (optimiser) votre modèle. Vous allez faire ce réglage dans la Partie (4b). Après l'entraînement, vous devez faire des prédictions sur les données de test."
   ]
  },
  {
   "cell_type": "markdown",
   "metadata": {},
   "source": [
    "### À faire:\n",
    "1. Entraîner un modèle avec l'algorithme d'apprentissage choisi\n",
    "2. Classifier tous les exemples (ensembles d'apprentissage, validation et test) et reporter les résultats:<br>\n",
    " 2a. taux de classification correct sur les trois (3) ensembles de données<br>\n",
    " 2b. matrice de confusion pour l'ensemble de test\n",
    "3. <font color=blue>Sauvagarder votre modèle dans un fichier. Regarder [model persistence](https://scikitlearn.org/stable/modules/model_persistence.html?highlight=persistence) </font> \n",
    "4. Expliquer pourquoi vous avez choisi cet algorithme d'apprentissage (Q1).\n",
    "5. Faire une analyse des résultats et présenter vos conclusions sur le modèle entraîné (Q2).\n",
    "6. Concernant vos primitives, sont-elles discriminantes? (Q3)"
   ]
  },
  {
   "cell_type": "markdown",
   "metadata": {},
   "source": [
    "#### Code"
   ]
  },
  {
   "cell_type": "code",
   "execution_count": null,
   "metadata": {},
   "outputs": [],
   "source": [
    "# Votre code ici"
   ]
  },
  {
   "cell_type": "markdown",
   "metadata": {},
   "source": [
    "#### Résultats et résponses"
   ]
  },
  {
   "cell_type": "markdown",
   "metadata": {},
   "source": [
    "#### Vos résultats ici:\n",
    "\n",
    "##### Exemple:\n",
    "\n",
    "| Ensemble | Taux de classification correct |                               \n",
    "|----------|--------------------------------|\n",
    "| App      | 99,67%                         |                   \n",
    "| Val      | 89,77%                         |                             \n",
    "| Test     | 77,99%                         |        \n",
    "\n",
    "Q1: Nous avons choisi l'algorithme d'arbre de décision parce que...\n",
    "\n",
    "Q2: Les taux de classification indiquent que le modèle...\n",
    "\n",
    "Q3: La performance avec le primitive..."
   ]
  },
  {
   "cell_type": "markdown",
   "metadata": {},
   "source": [
    "## 4b: Réglage du modèle\n",
    "\n",
    "Probablement vous avez outperformé le modèle << baseline >>, mais est-ce qu'on peut mieux performer? Est-ce qu'on peut faire un << fine-tuning >> de notre modèle? Quels sont les paramètres que vous pouvez ajuster pour améliorer la performance?"
   ]
  },
  {
   "cell_type": "markdown",
   "metadata": {},
   "source": [
    "##### À faire:\n",
    "1. Lister les principaux paramètres de votre modèle qui peuvent aider à améliorer sa performance.\n",
    "2. Choisir quelques paramètres (au moins 2) et tourner un << grid search>> pour trouver les meilleures valeurs pour ces paramètres.\n",
    "3. Une fois que vous avez trouvé le meilleur modèle, utiliser ce modèle pour classifier tous les exemples (apprentissage, validation, test) et reporter les résultats:<br>\n",
    " 3a. taux de classification correct sur les 3 ensembles<br>\n",
    " 3b. matrice de confusion pour l'ensemble de test\n",
    "4. Explique pourquoi vous avez choisi ces paramètres.\n",
    "5. Faire une analyse des résultats et présenter vos conclusions sur ce modèle << fine- tuned >>"
   ]
  },
  {
   "cell_type": "markdown",
   "metadata": {},
   "source": [
    "#### Code"
   ]
  },
  {
   "cell_type": "code",
   "execution_count": null,
   "metadata": {},
   "outputs": [],
   "source": [
    "# Votre code ici"
   ]
  },
  {
   "cell_type": "markdown",
   "metadata": {},
   "source": [
    "#### Grid search"
   ]
  },
  {
   "cell_type": "code",
   "execution_count": null,
   "metadata": {},
   "outputs": [],
   "source": [
    "# Votre code ici"
   ]
  },
  {
   "cell_type": "markdown",
   "metadata": {},
   "source": [
    "#### Résultats et résponses"
   ]
  },
  {
   "cell_type": "code",
   "execution_count": null,
   "metadata": {},
   "outputs": [],
   "source": [
    "# Vos résultats ici:"
   ]
  },
  {
   "cell_type": "markdown",
   "metadata": {},
   "source": [
    "# Partie 5: Réduction de la dimensionnalité\n",
    "\n",
    "Bibliotèques Python pour la reduction de la dimensionnalité : \n",
    "\n",
    "* [Transformation algorithms](https://scikit-learn.org/stable/modules/decomposition.html#decompositions)\n",
    "* [Feature selection algorithms](https://scikit-learn.org/stable/modules/feature_selection.html)"
   ]
  },
  {
   "cell_type": "markdown",
   "metadata": {},
   "source": [
    "## 5a: Réduction de la dimensionnalité"
   ]
  },
  {
   "cell_type": "markdown",
   "metadata": {},
   "source": [
    "### À faire:\n",
    "1. Choisir un algorithme de transformation de primitives et un algorithme de sélection des primitives et réduire la dimensionnalité de vos vecteurs de primitives (Partie 3).\n",
    "2. Choisir les deux meilleures primitives et ploter un graphique ($pc_1$ X $pc_2$ X classe) pour visualiser si ces primitives sont capables de bien séparer les sept (7) classes.\n",
    "3. Faire une analyse des résultats et présenter vos conclusions sur ces primitives."
   ]
  },
  {
   "cell_type": "markdown",
   "metadata": {},
   "source": [
    "#### Code"
   ]
  },
  {
   "cell_type": "code",
   "execution_count": null,
   "metadata": {},
   "outputs": [],
   "source": [
    "# Votre code ici"
   ]
  },
  {
   "cell_type": "markdown",
   "metadata": {},
   "source": [
    "#### Résultats et résponses"
   ]
  },
  {
   "cell_type": "code",
   "execution_count": null,
   "metadata": {},
   "outputs": [],
   "source": [
    "# Vos résultats ici:"
   ]
  },
  {
   "cell_type": "markdown",
   "metadata": {},
   "source": [
    "## 5b: Rentraîner le modèle de la partie 4a\n",
    "\n",
    "Vous devez rentraîner le modèle et l'entraîner sur les données d'apprentissage.<br>\n",
    "Après l'entraînement, vous devez faire des prédictions sur les données de test."
   ]
  },
  {
   "cell_type": "markdown",
   "metadata": {},
   "source": [
    "#### Code"
   ]
  },
  {
   "cell_type": "code",
   "execution_count": null,
   "metadata": {},
   "outputs": [],
   "source": [
    "# Votre code ici"
   ]
  },
  {
   "cell_type": "markdown",
   "metadata": {},
   "source": [
    "#### Résultats et résponses"
   ]
  },
  {
   "cell_type": "code",
   "execution_count": null,
   "metadata": {},
   "outputs": [],
   "source": [
    "# Vos résultats ici:"
   ]
  },
  {
   "cell_type": "markdown",
   "metadata": {},
   "source": [
    "## 5c: Réglage du modèle\n",
    "\n",
    "Vous devez reoptimiser votre nouveau modèle et l'entraîner sur les données d'apprentissage.\n",
    "Après l'entraînement, vous devez faire des prédictions sur les données de test."
   ]
  },
  {
   "cell_type": "markdown",
   "metadata": {},
   "source": [
    "#### Code"
   ]
  },
  {
   "cell_type": "code",
   "execution_count": null,
   "metadata": {},
   "outputs": [],
   "source": [
    "# Votre code ici"
   ]
  },
  {
   "cell_type": "markdown",
   "metadata": {},
   "source": [
    "#### Résultats et résponses"
   ]
  },
  {
   "cell_type": "code",
   "execution_count": null,
   "metadata": {},
   "outputs": [],
   "source": [
    "# Vos résultats ici"
   ]
  },
  {
   "cell_type": "markdown",
   "metadata": {},
   "source": [
    "# Partie 6: Analyse qualitative\n",
    "\n",
    "Choisir dans l'ensemble de test, exemples de visages bien et mal classifié et montrer ces exemples avec la vraie étiquette et la prédiction faite par votre meilleur modèle."
   ]
  },
  {
   "cell_type": "markdown",
   "metadata": {},
   "source": [
    "#### Code"
   ]
  },
  {
   "cell_type": "code",
   "execution_count": null,
   "metadata": {},
   "outputs": [],
   "source": [
    "# Vos résultats ici"
   ]
  },
  {
   "cell_type": "markdown",
   "metadata": {},
   "source": [
    "#### Résultats et résponses"
   ]
  },
  {
   "cell_type": "code",
   "execution_count": null,
   "metadata": {},
   "outputs": [],
   "source": [
    "# Vos résultats ici"
   ]
  },
  {
   "cell_type": "markdown",
   "metadata": {},
   "source": [
    "<font color=black> \n",
    "\n",
    "# Partie 7: Cross-Dataset Challenge\n",
    "\n",
    "Vous devez tester vos modèles (déjà entraînés et testés sur FER) sur un autre ensemble de données pour eváluer la capacité de géneralisation. \n",
    "    \n",
    "L’ensemble de données à tester est le Jaffe dataset qui contient 213 images de sept (7) expressions faciales pose par 10 modèles féminines japonaises. Chaque image a été étiquetée dans six (6) adjectives d’émotion par 60 sujets japonaises. \n",
    "\n",
    "L’ensemble de données originel contient des images 256x256 en niveau de gris, dans le format .tiff, sans compression.\n",
    "\n",
    "Vous avez les données redimensionnées à 48x48 pixels (`jaffe_48x48.csv`), aussi que les données dans la dimension originelle (`jaffe_256x256.csv`). \n",
    "    \n",
    "* Angry (30 exemples):   Y_test[0:30]   = 0 \n",
    "* Disgust (29 exemples): Y_test[30:59]  = 1\n",
    "* Fear (32 exemples): Y_test[59:91]  = 2 \n",
    "* Happy (31 exemples): Y_test[91:122] = 3 \n",
    "* Neutral (30 exemples): Y_test[122:152]= 6 \n",
    "* Surprise (31 exemples): Y_test[152:183]= 5 \n",
    "* Sad (30 exemples): Y_test[183:213]= 4 \n",
    "\n",
    "</font> "
   ]
  },
  {
   "cell_type": "markdown",
   "metadata": {},
   "source": [
    "<font color=black> \n",
    "    \n",
    "## 7a: Charger le fichier de données de test\n",
    "</font>"
   ]
  },
  {
   "cell_type": "code",
   "execution_count": null,
   "metadata": {},
   "outputs": [],
   "source": [
    "import numpy as np\n",
    "\n",
    "# Read from file\n",
    "X_test_jaffe = np.loadtxt('jaffe_48x48.csv', delimiter=',', dtype=int)\n",
    "#X_test_jaffe = np.loadtxt('jaffe_256x256.csv', delimiter=',', dtype=int)\n",
    "y_test_jaffe = np.loadtxt('jaffe_labels.csv', delimiter=',', dtype=int)\n",
    "\n",
    "# reshape to be [samples][pixels][width][height]\n",
    "X_test_jaffe  = X_test_jaffe.reshape(X_test_jaffe.shape[0], 1, 48, 48).astype('uint8')\n",
    "#X_test_jaffe  = X_test_jaffe.reshape(X_test_jaffe.shape[0], 1, 256, 256).astype('uint8')\n",
    "\n",
    "X_test_jaffe.dtype"
   ]
  },
  {
   "cell_type": "markdown",
   "metadata": {},
   "source": [
    "<font color=black>\n",
    "    \n",
    "## 7b: Visualisation des visages de Jaffe\n",
    "</font>"
   ]
  },
  {
   "cell_type": "code",
   "execution_count": null,
   "metadata": {},
   "outputs": [],
   "source": [
    "import matplotlib.pyplot as plt\n",
    "def getLabel(id):\n",
    "    return ['Angry', 'Disgust', 'Fear', 'Happy', 'Sad', 'Surprise', 'Neutral'][id]\n",
    "plt.figure(figsize=(10, 10))\n",
    "j = 0\n",
    "for i in [5, 40, 70, 105, 135, 171, 191]:\n",
    "    plt.subplot(330 + 1 + j)\n",
    "    plt.imshow(np.squeeze(X_test_jaffe[i], axis=0),cmap=plt.get_cmap('gray'))\n",
    "    plt.gca().get_xaxis().set_ticks([])\n",
    "    plt.gca().get_yaxis().set_ticks([])\n",
    "    plt.ylabel('Label = %s' % getLabel(y_test_jaffe[i]), fontsize = 12)\n",
    "    j = j + 1\n",
    "plt.show()"
   ]
  },
  {
   "cell_type": "markdown",
   "metadata": {},
   "source": [
    "<font color=black> \n",
    "    \n",
    "### À faire:\n",
    "1. Tester vos modèles sur les 213 images de Jaffe dataset.\n",
    "2. Faire une analyse des résultats et présenter vos conclusions sur la capacité de generalisation de vos modèles.\n",
    "</font>"
   ]
  },
  {
   "cell_type": "markdown",
   "metadata": {},
   "source": [
    "#### Code"
   ]
  },
  {
   "cell_type": "code",
   "execution_count": null,
   "metadata": {},
   "outputs": [],
   "source": [
    "# Votre code ici"
   ]
  },
  {
   "cell_type": "markdown",
   "metadata": {},
   "source": [
    "#### Résultats et résponses"
   ]
  },
  {
   "cell_type": "code",
   "execution_count": null,
   "metadata": {},
   "outputs": [],
   "source": [
    "# Vos résultats ici"
   ]
  },
  {
   "cell_type": "markdown",
   "metadata": {},
   "source": [
    "## Partie Final: Conclusion"
   ]
  },
  {
   "cell_type": "markdown",
   "metadata": {},
   "source": [
    "### À faire:\n",
    "1. Résumer et comparer les principaux résultats .\n",
    "2. Faire une analyse des résultats obtenus et présenter vos conclusions sur les différents modèles que vous avez entraînés."
   ]
  },
  {
   "cell_type": "markdown",
   "metadata": {},
   "source": [
    "#### Résultats et résponses"
   ]
  },
  {
   "cell_type": "code",
   "execution_count": null,
   "metadata": {},
   "outputs": [],
   "source": [
    "# Vos résultats ici:"
   ]
  }
 ],
 "metadata": {
  "kernelspec": {
   "display_name": "Python 3",
   "language": "python",
   "name": "python3"
  },
  "language_info": {
   "codemirror_mode": {
    "name": "ipython",
    "version": 3
   },
   "file_extension": ".py",
   "mimetype": "text/x-python",
   "name": "python",
   "nbconvert_exporter": "python",
   "pygments_lexer": "ipython3",
   "version": "3.6.9"
  }
 },
 "nbformat": 4,
 "nbformat_minor": 2
}
