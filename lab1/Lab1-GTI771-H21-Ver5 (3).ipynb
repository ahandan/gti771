{
 "cells": [
  {
   "cell_type": "code",
   "execution_count": 1,
   "metadata": {},
   "outputs": [
    {
     "data": {
      "text/html": [
       "<style>.container {font-size: 100%; width:90% !important; }</style>"
      ],
      "text/plain": [
       "<IPython.core.display.HTML object>"
      ]
     },
     "metadata": {},
     "output_type": "display_data"
    }
   ],
   "source": [
    "from IPython.core.display import display, HTML\n",
    "display(HTML(\"<style>.container {font-size: 100%; width:90% !important; }</style>\"))"
   ]
  },
  {
   "cell_type": "markdown",
   "metadata": {},
   "source": [
    "# GTI771 - Apprentissage machine avancé\n",
    "## Département du génie logiciel et des technologies de l’information\n",
    "\n",
    "\n",
    "\n",
    "## Laboratoire 1 - Analyse et préparation des données et extraction de primitives\n",
    "\n",
    "#### <font color=white> Version 4.0 mai 2020 </font>\n",
    "#### <font color=black> Version 5.0 janvier 2021 </font>\n",
    "\n",
    "##### Prof. Alessandro L. Koerich"
   ]
  },
  {
   "cell_type": "markdown",
   "metadata": {},
   "source": [
    "| Étudiants             | NOMS - CODE PERMANENT                                   |\n",
    "|-----------------------|---------------------------------------------------------|\n",
    "| Session               | SAISON ANNÉE                                            |\n",
    "| Équipe                | X                                                       |\n",
    "| Numéro du laboratoire | X                                                       |\n",
    "| Professeur            | Prof. NOM                                               |\n",
    "| Chargé de laboratoire | NOM                                                     |\n",
    "| Date                  | DATE                                                    |"
   ]
  },
  {
   "cell_type": "markdown",
   "metadata": {},
   "source": [
    "## Introduction\n",
    "\n",
    "Ce premier laboratoire porte sur la définition et l’extraction de primitives sur des visages. Le problème de classification qui vous est présenté est le problème [Facial Expression Recognition (FER)](https://www.kaggle.com/c/challenges-in-representation-learning-facial-expression-recognition-challenge/data), dont le but est de classer des visages dans sept catégories. En vous basant sur les concepts vus en classe, vous devez définir des primitives que vous jugez pertinentes à extraire sur ces types d’images et effectuer l’extraction de celles-ci sur l’ensemble de données fournies avec cet énoncé.\n",
    "\n",
    "Veuillez noter que les images qui vous sont fournies ne sont pas nécessairement très faciles à travailler. Plusieurs images comportent du bruit, des artéfacts ou des éléments non pertinents. Le défi de ce laboratoire repose sur cette difficulté qui est chose courante dans des problèmes d’apprentissage machine moderne.\n",
    "\n",
    "Voici, en exemple, des images de visages se retrouvant dans l’ensemble de données:\n",
    "\n",
    "![Exemples de FER](https://miro.medium.com/max/2420/1*nXqJ4lMiBRp4Ilm3bpRxuA.png)\n",
    "\n",
    "\n",
    "L’évaluation de ce laboratoire sera basée sur la qualité des primitives proposées, les réponses aux questions dans cette notebook ainsi que l'organisation de votre code source <font color=black> (SVP, n'oubliez pas de mettre des commentaires dans le code!)</font>. Le pouvoir discriminant, c’est-à-dire la capacité des primitives à bien séparer les exemples des classes dans l’espace des primitives, sera également évalué."
   ]
  },
  {
   "cell_type": "markdown",
   "metadata": {
    "collapsed": true
   },
   "source": [
    "# Partie 1: Imports"
   ]
  },
  {
   "cell_type": "markdown",
   "metadata": {},
   "source": [
    "### 1a: Import de bibliotèques"
   ]
  },
  {
   "cell_type": "markdown",
   "metadata": {},
   "source": [
    "### À faire:\n",
    "1. Ajouter toutes les bibliothèques que vous avez utilisées pour compléter ce notebook dans une cellule avec une petite description."
   ]
  },
  {
   "cell_type": "code",
   "execution_count": 1,
   "metadata": {},
   "outputs": [
    {
     "name": "stdout",
     "output_type": "stream",
     "text": [
      "hello\n"
     ]
    }
   ],
   "source": [
    "import numpy as np  # package for scientific computing with Python.\n",
    "import matplotlib.pyplot as plt # 2D plotting library\n",
    "import pandas as pd # Pour la visualisation de matrice\n",
    "from sklearn.preprocessing import MinMaxScaler #Pour la normalisation des images \n",
    "from sklearn.metrics import confusion_matrix\n",
    "from sklearn.metrics import accuracy_score\n",
    "from mlxtend.plotting import plot_confusion_matrix\n",
    "from sklearn.preprocessing import StandardScaler\n",
    "import plotly.express as px\n",
    "from sklearn.decomposition import PCA\n",
    "from sklearn import tree\n",
    "from sklearn.metrics import classification_report\n",
    "\n",
    "import cv2\n",
    "print('hello')\n",
    "# Votre code ici"
   ]
  },
  {
   "cell_type": "markdown",
   "metadata": {},
   "source": [
    "#### Fonctions"
   ]
  },
  {
   "cell_type": "code",
   "execution_count": 3,
   "metadata": {},
   "outputs": [],
   "source": [
    "def fa():\n",
    "    return 1"
   ]
  },
  {
   "cell_type": "markdown",
   "metadata": {},
   "source": [
    "## Partie 2: Analyse exploratoire des données\n",
    "\n",
    "On va commencer en regardant les données.\n",
    "\n",
    "Pour ce lab, nous allons utiliser le dataset FER.\n",
    "\n",
    "Le dataset est disponible dans https://www.kaggle.com/c/challenges-in-representation-learning-facial-expression-recognition-challenge/data, et il continent presque 35,000 visages."
   ]
  },
  {
   "cell_type": "markdown",
   "metadata": {},
   "source": [
    "## 2a: Charger le fichier de données"
   ]
  },
  {
   "cell_type": "code",
   "execution_count": 5,
   "metadata": {},
   "outputs": [
    {
     "name": "stdout",
     "output_type": "stream",
     "text": [
      "(28709, 2304) (3589, 2304) (3589, 2304)\n",
      "[151. 150. 147. ... 193. 183. 184.]\n"
     ]
    }
   ],
   "source": [
    "109.065458# load data\n",
    "ferData = np.loadtxt( 'C:/Users/massy/Dev/GTI771-Lab1/data/fer2013.csv', delimiter=',', dtype=np.str )\n",
    " \n",
    "# Training set\n",
    "Xtrain = np.ones( (28709,2304), float )\n",
    "\n",
    "for i in range( 1, 28710 ):\n",
    "    Xtrain[i-1] = ferData[i,1].split(\" \")\n",
    "\n",
    "ytrain = ferData[1:28710,0].astype( np.int )\n",
    "\n",
    "# Validation set\n",
    "Xval = np.ones( (3589,2304), float )\n",
    "\n",
    "for i in range( 28710, 32299 ):\n",
    "    Xval[i-28710] = ferData[i,1].split(\" \")\n",
    "\n",
    "yval = ferData[28710:32299,0].astype( np.int )\n",
    "\n",
    "# Test set\n",
    "Xtest = np.ones( (3589,2304), float )\n",
    "\n",
    "for i in range( 32299, 35888 ):\n",
    "    Xtest[i-32299] = ferData[i,1].split(\" \")\n",
    "\n",
    "ytest = ferData[32299:,0].astype( np.int )\n",
    "\n",
    "print(Xtrain.shape, Xval.shape, Xtest.shape)\n",
    "print(Xtrain[1])"
   ]
  },
  {
   "cell_type": "code",
   "execution_count": 6,
   "metadata": {},
   "outputs": [
    {
     "name": "stdout",
     "output_type": "stream",
     "text": [
      "[0 1 4 ... 4 4 4]\n"
     ]
    }
   ],
   "source": [
    "print(yval)"
   ]
  },
  {
   "cell_type": "code",
   "execution_count": 7,
   "metadata": {},
   "outputs": [
    {
     "name": "stdout",
     "output_type": "stream",
     "text": [
      "(28709, 1, 48, 48) (3589, 1, 48, 48) (3589, 1, 48, 48)\n"
     ]
    }
   ],
   "source": [
    "# reshape to be [samples][channels][width][height]\n",
    "Xtrain = Xtrain.reshape( Xtrain.shape[0], 1, 48, 48 ).astype('uint8')\n",
    "Xtest  = Xtest.reshape( Xtest.shape[0], 1, 48, 48 ).astype('uint8')\n",
    "Xval   = Xval.reshape( Xval.shape[0], 1, 48, 48 ).astype('uint8')\n",
    "\n",
    "print( Xtrain.shape, Xval.shape, Xtest.shape )\n"
   ]
  },
  {
   "cell_type": "markdown",
   "metadata": {},
   "source": [
    "## <font color=black> 2b: Pre-traitement et visualisation des visages </font>"
   ]
  },
  {
   "cell_type": "markdown",
   "metadata": {},
   "source": [
    "Vous pouvez visualiser les images en utilisant `plt.imshow`.\n",
    "\n",
    "Il y a différents types de prétraitement que nous pouvons appliquer à des images dans les ensembles de données pour réduire la variabilité, réduire des bruits, etc.\n",
    "\n",
    "### À faire:\n",
    "1. Pensez-vous qu’est nécessaire un prétraitement des images? Si oui, vous pouvez choisir différents algorithmes de prétraitement dans [scikit-image](https://scikit-image.org/docs/stable/api/api.html). Il y a aussi autres types de prétraitement plus généraux dans [scikit-learn](https://scikit-learn.org/stable/modules/preprocessing.html#preprocessing).\n",
    "2. Expliquer et justifier les prétraitements choisis."
   ]
  },
  {
   "cell_type": "markdown",
   "metadata": {},
   "source": [
    "#### Code"
   ]
  },
  {
   "cell_type": "code",
   "execution_count": 89,
   "metadata": {},
   "outputs": [],
   "source": [
    "# Votre code de pre-processing\n",
    "\n",
    "labels = ['Angry', 'Disgust', 'Fear', 'Happy', 'Sad', 'Surprise', 'Neutral']\n",
    "emotions = [0,1,2,3,4,5,6]\n",
    "def visualize_Img(amount = 8):\n",
    "    \n",
    "    width = 1\n",
    "    height = 1\n",
    "    rows = 1\n",
    "    cols = 6\n",
    "    axes=[]\n",
    "    fig=plt.figure()\n",
    "    for a in range(amount):\n",
    "        img = Xtrain[a][0]\n",
    "        axes.append(fig.add_subplot(rows, cols, a+1) )\n",
    "        subplot_title=(labels[ytrain[a]])\n",
    "        axes[-1].set_title(subplot_title)  \n",
    "        plt.imshow(img, cmap='gray')\n",
    "    fig.tight_layout()    \n",
    "    fig.set_size_inches(30,5)\n",
    "    plt.show()\n",
    "    "
   ]
  },
  {
   "cell_type": "markdown",
   "metadata": {},
   "source": [
    "#### Résultats et résponses"
   ]
  },
  {
   "cell_type": "code",
   "execution_count": 9,
   "metadata": {},
   "outputs": [
    {
     "data": {
      "image/png": "[encoded data removed]",
      "text/plain": [
       "<Figure size 2160x360 with 6 Axes>"
      ]
     },
     "metadata": {
      "needs_background": "light"
     },
     "output_type": "display_data"
    }
   ],
   "source": [
    "visualize_Img(6)"
   ]
  },
  {
   "cell_type": "markdown",
   "metadata": {},
   "source": [
    "## 2c: Statistiques des données"
   ]
  },
  {
   "cell_type": "markdown",
   "metadata": {},
   "source": [
    "### À faire:\n",
    "1. Calculer quelques statistiques (moyenne, écart-type, etc.) que vous jugez importantes/pertinents sur les données (entrées et/ou sorties)\n",
    "2. Faire une analyse des résultats et présenter vos conclusions sur ces statistiques."
   ]
  },
  {
   "cell_type": "markdown",
   "metadata": {},
   "source": [
    "#### Code"
   ]
  },
  {
   "cell_type": "code",
   "execution_count": 11,
   "metadata": {},
   "outputs": [],
   "source": [
    "# Load DataSet\n",
    "df = pd.read_csv('C:/Users/massy/Dev/GTI771-Lab1/data/fer2013.csv')\n",
    "\n",
    "# Recuperer le training set\n",
    "df_train = df.loc[df['Usage']==\"Training\"]\n",
    "\n",
    "# Recuperer les tests publics\n",
    "df_public_test = df.loc[df['Usage']==\"PublicTest\"]\n",
    "\n",
    "# Recuperer les tests privees\n",
    "df_private_test = df.loc[df['Usage']==\"PrivateTest\"]\n",
    "\n",
    "#(0=Angry, 1=Disgust, 2=Fear, 3=Happy, 4=Sad, 5=Surprise, 6=Neutral).\n",
    "labels = ['Angry', 'Disgust', 'Fear', 'Happy', 'Sad', 'Surprise', 'Neutral']\n"
   ]
  },
  {
   "cell_type": "code",
   "execution_count": 12,
   "metadata": {},
   "outputs": [],
   "source": [
    "def get_med_df():\n",
    "    df_list_test = []\n",
    "    for label in labels:\n",
    "        index = labels.index(label)\n",
    "        df_train_1 = df_train.loc[df_train['emotion']== index]\n",
    "        df_mean = ((df_train_1['pixels'].str.split(' ', expand=True)).apply(pd.to_numeric)).median()\n",
    "        df_mean_T = pd.DataFrame(data=df_mean).T\n",
    "#         df_mean_T.insert(0, \"emotion\", index, True)\n",
    "        df_list_test.append(df_mean_T)\n",
    "        \n",
    "    result = pd.concat(df_list_test)\n",
    "#     result.drop(columns='emotion')\n",
    "    result = result.apply(np.int64)\n",
    "    return result\n",
    "\n",
    "def get_avg_df():\n",
    "    df_list_test = []\n",
    "    for label in labels:\n",
    "        index = labels.index(label)\n",
    "        df_train_1 = df_train.loc[df_train['emotion']== index]\n",
    "        df_mean = ((df_train_1['pixels'].str.split(' ', expand=True)).apply(pd.to_numeric)).mean()\n",
    "        df_mean_T = pd.DataFrame(data=df_mean).T\n",
    "        df_mean_T.insert(0, \"emotion\", index, True)\n",
    "        df_list_test.append(df_mean_T)\n",
    "\n",
    "    result = pd.concat(df_list_test)\n",
    "#     result.drop(columns='emotion')\n",
    "    result = result.apply(np.int64)\n",
    "    return result\n",
    "\n",
    "\n",
    "def visualize_Img(list_q):\n",
    "    width = 10\n",
    "    height = 10\n",
    "    rows = 1\n",
    "    cols = 8\n",
    "    axes=[]\n",
    "    fig=plt.figure(figsize=(20,10))\n",
    "    for a in range(len(list_q)):\n",
    "        img = np.array_split(list_q[a], 48)\n",
    "        axes.append(fig.add_subplot(rows, cols, a+1) )\n",
    "        subplot_title=(labels[a])\n",
    "        axes[-1].set_title(subplot_title) \n",
    "        plt.imshow(img, cmap='gray')\n",
    "    fig.tight_layout()    \n",
    "    plt.show()\n",
    "    \n",
    "def visualize_hist(list_q):\n",
    "    for i in range(7):\n",
    "        hist, bins = np.histogram(list_q[i], bins=256, range=(0, 256))\n",
    "        plt.figure()\n",
    "        plt.title(\"Class histogram {}\".format(i))\n",
    "        plt.xlabel(\"Pixel Value\")\n",
    "        plt.ylabel(\"Number of pixel\")\n",
    "        plt.plot(bins[0:-1],hist)\n",
    "        plt.show()\n",
    "        \n",
    "def visualize_hist_test(list_q):\n",
    "    width = 10\n",
    "    height = 5\n",
    "    rows = 1\n",
    "    cols = 8\n",
    "    axes=[]\n",
    "    fig=plt.figure(figsize=(20,2.5))\n",
    "    for a in range(7):\n",
    "        hist, bins = np.histogram(list_q[a], bins=256, range=(0, 256))\n",
    "        axes.append(fig.add_subplot(rows, cols, a+1) )\n",
    "        subplot_title=(labels[a])\n",
    "#         plt.title(\"Class histogram {}\".format(i))\n",
    "#         plt.xlabel(\"Pixel Value\")\n",
    "#         plt.ylabel(\"Number of pixel\")\n",
    "        plt.plot(bins[0:-1],hist)\n",
    "    fig.tight_layout()    \n",
    "    plt.show()\n",
    "    "
   ]
  },
  {
   "cell_type": "code",
   "execution_count": 13,
   "metadata": {},
   "outputs": [
    {
     "data": {
      "text/html": [
       "<div>\n",
       "<style scoped>\n",
       "    .dataframe tbody tr th:only-of-type {\n",
       "        vertical-align: middle;\n",
       "    }\n",
       "\n",
       "    .dataframe tbody tr th {\n",
       "        vertical-align: top;\n",
       "    }\n",
       "\n",
       "    .dataframe thead th {\n",
       "        text-align: right;\n",
       "    }\n",
       "</style>\n",
       "<table border=\"1\" class=\"dataframe\">\n",
       "  <thead>\n",
       "    <tr style=\"text-align: right;\">\n",
       "      <th></th>\n",
       "      <th>emotion</th>\n",
       "      <th>0</th>\n",
       "      <th>1</th>\n",
       "      <th>2</th>\n",
       "      <th>3</th>\n",
       "      <th>4</th>\n",
       "      <th>5</th>\n",
       "      <th>6</th>\n",
       "      <th>7</th>\n",
       "      <th>8</th>\n",
       "      <th>...</th>\n",
       "      <th>2294</th>\n",
       "      <th>2295</th>\n",
       "      <th>2296</th>\n",
       "      <th>2297</th>\n",
       "      <th>2298</th>\n",
       "      <th>2299</th>\n",
       "      <th>2300</th>\n",
       "      <th>2301</th>\n",
       "      <th>2302</th>\n",
       "      <th>2303</th>\n",
       "    </tr>\n",
       "  </thead>\n",
       "  <tbody>\n",
       "    <tr>\n",
       "      <th>0</th>\n",
       "      <td>0</td>\n",
       "      <td>115</td>\n",
       "      <td>113</td>\n",
       "      <td>111</td>\n",
       "      <td>111</td>\n",
       "      <td>110</td>\n",
       "      <td>109</td>\n",
       "      <td>109</td>\n",
       "      <td>109</td>\n",
       "      <td>111</td>\n",
       "      <td>...</td>\n",
       "      <td>105</td>\n",
       "      <td>105</td>\n",
       "      <td>105</td>\n",
       "      <td>105</td>\n",
       "      <td>105</td>\n",
       "      <td>104</td>\n",
       "      <td>106</td>\n",
       "      <td>107</td>\n",
       "      <td>108</td>\n",
       "      <td>108</td>\n",
       "    </tr>\n",
       "    <tr>\n",
       "      <th>0</th>\n",
       "      <td>1</td>\n",
       "      <td>108</td>\n",
       "      <td>104</td>\n",
       "      <td>99</td>\n",
       "      <td>97</td>\n",
       "      <td>97</td>\n",
       "      <td>99</td>\n",
       "      <td>103</td>\n",
       "      <td>106</td>\n",
       "      <td>111</td>\n",
       "      <td>...</td>\n",
       "      <td>115</td>\n",
       "      <td>116</td>\n",
       "      <td>114</td>\n",
       "      <td>114</td>\n",
       "      <td>114</td>\n",
       "      <td>110</td>\n",
       "      <td>108</td>\n",
       "      <td>108</td>\n",
       "      <td>107</td>\n",
       "      <td>108</td>\n",
       "    </tr>\n",
       "    <tr>\n",
       "      <th>0</th>\n",
       "      <td>2</td>\n",
       "      <td>131</td>\n",
       "      <td>127</td>\n",
       "      <td>123</td>\n",
       "      <td>120</td>\n",
       "      <td>118</td>\n",
       "      <td>116</td>\n",
       "      <td>113</td>\n",
       "      <td>112</td>\n",
       "      <td>113</td>\n",
       "      <td>...</td>\n",
       "      <td>117</td>\n",
       "      <td>116</td>\n",
       "      <td>115</td>\n",
       "      <td>116</td>\n",
       "      <td>117</td>\n",
       "      <td>117</td>\n",
       "      <td>119</td>\n",
       "      <td>120</td>\n",
       "      <td>120</td>\n",
       "      <td>121</td>\n",
       "    </tr>\n",
       "    <tr>\n",
       "      <th>0</th>\n",
       "      <td>3</td>\n",
       "      <td>118</td>\n",
       "      <td>116</td>\n",
       "      <td>113</td>\n",
       "      <td>110</td>\n",
       "      <td>109</td>\n",
       "      <td>107</td>\n",
       "      <td>106</td>\n",
       "      <td>106</td>\n",
       "      <td>107</td>\n",
       "      <td>...</td>\n",
       "      <td>109</td>\n",
       "      <td>108</td>\n",
       "      <td>108</td>\n",
       "      <td>108</td>\n",
       "      <td>108</td>\n",
       "      <td>108</td>\n",
       "      <td>108</td>\n",
       "      <td>109</td>\n",
       "      <td>111</td>\n",
       "      <td>111</td>\n",
       "    </tr>\n",
       "    <tr>\n",
       "      <th>0</th>\n",
       "      <td>4</td>\n",
       "      <td>107</td>\n",
       "      <td>106</td>\n",
       "      <td>104</td>\n",
       "      <td>103</td>\n",
       "      <td>102</td>\n",
       "      <td>103</td>\n",
       "      <td>103</td>\n",
       "      <td>104</td>\n",
       "      <td>106</td>\n",
       "      <td>...</td>\n",
       "      <td>103</td>\n",
       "      <td>103</td>\n",
       "      <td>103</td>\n",
       "      <td>103</td>\n",
       "      <td>104</td>\n",
       "      <td>104</td>\n",
       "      <td>104</td>\n",
       "      <td>105</td>\n",
       "      <td>105</td>\n",
       "      <td>105</td>\n",
       "    </tr>\n",
       "  </tbody>\n",
       "</table>\n",
       "<p>5 rows × 2305 columns</p>\n",
       "</div>"
      ],
      "text/plain": [
       "   emotion    0    1    2    3    4    5    6    7    8  ...  2294  2295  \\\n",
       "0        0  115  113  111  111  110  109  109  109  111  ...   105   105   \n",
       "0        1  108  104   99   97   97   99  103  106  111  ...   115   116   \n",
       "0        2  131  127  123  120  118  116  113  112  113  ...   117   116   \n",
       "0        3  118  116  113  110  109  107  106  106  107  ...   109   108   \n",
       "0        4  107  106  104  103  102  103  103  104  106  ...   103   103   \n",
       "\n",
       "   2296  2297  2298  2299  2300  2301  2302  2303  \n",
       "0   105   105   105   104   106   107   108   108  \n",
       "0   114   114   114   110   108   108   107   108  \n",
       "0   115   116   117   117   119   120   120   121  \n",
       "0   108   108   108   108   108   109   111   111  \n",
       "0   103   103   104   104   104   105   105   105  \n",
       "\n",
       "[5 rows x 2305 columns]"
      ]
     },
     "execution_count": 13,
     "metadata": {},
     "output_type": "execute_result"
    }
   ],
   "source": [
    "avg = get_avg_df()\n",
    "pixel = avg.iloc[:,1:]\n",
    "avg.head()"
   ]
  },
  {
   "cell_type": "code",
   "execution_count": 14,
   "metadata": {},
   "outputs": [
    {
     "data": {
      "image/png": "[encoded data removed]",
      "text/plain": [
       "<Figure size 1440x720 with 7 Axes>"
      ]
     },
     "metadata": {
      "needs_background": "light"
     },
     "output_type": "display_data"
    },
    {
     "data": {
      "image/png": "[encoded data removed]",
      "text/plain": [
       "<Figure size 1440x180 with 7 Axes>"
      ]
     },
     "metadata": {
      "needs_background": "light"
     },
     "output_type": "display_data"
    }
   ],
   "source": [
    "visualize_Img(pixel.to_numpy())\n",
    "visualize_hist_test(pixel.to_numpy())"
   ]
  },
  {
   "cell_type": "code",
   "execution_count": 15,
   "metadata": {},
   "outputs": [],
   "source": [
    "\n",
    "# print(avg.iloc[:,1:].to_numpy())"
   ]
  },
  {
   "cell_type": "markdown",
   "metadata": {},
   "source": [
    "#### Résultats et résponses"
   ]
  },
  {
   "cell_type": "code",
   "execution_count": 16,
   "metadata": {},
   "outputs": [],
   "source": [
    "# Vos résultats ici\n",
    "avg.to_csv(\"average_template_emotions.csv\", index = False)"
   ]
  },
  {
   "cell_type": "markdown",
   "metadata": {},
   "source": [
    "## 2d: Créer et évaluer un modèle de base (baseline)\n",
    "\n",
    "Un modèle très simple, mais naturel est une ou nous calculons un modèle moyen (template) pour chaque classe (sur les données d'apprentissage) et nous utilisons ces modèles (templates) pour faire des prédictions sur des nouvelles données."
   ]
  },
  {
   "cell_type": "markdown",
   "metadata": {},
   "source": [
    "### À faire:\n",
    "1. Créer un template pour chaque classe\n",
    "2. Faire un plot de chaque template <font color=black> (visage moyen) </font>\n",
    "3. Classifier tous les exemples (ensembles d'apprentissage, validation et test) et reporter les résultats:<br>\n",
    " 3a. taux de classification correct sur les trois (3) ensembles de données<br>\n",
    " 3b. matrice de confusion pour les résultas sur l'ensemble de test\n",
    "4. Faire une analyse des résultats et présenter vos conclusions sur ce modèle"
   ]
  },
  {
   "cell_type": "markdown",
   "metadata": {},
   "source": [
    "#### Code"
   ]
  },
  {
   "cell_type": "code",
   "execution_count": 17,
   "metadata": {},
   "outputs": [
    {
     "data": {
      "text/plain": [
       "0.10352154376676304"
      ]
     },
     "execution_count": 17,
     "metadata": {},
     "output_type": "execute_result"
    },
    {
     "data": {
      "image/png": "[encoded data removed]",
      "text/plain": [
       "<Figure size 432x288 with 1 Axes>"
      ]
     },
     "metadata": {
      "needs_background": "light"
     },
     "output_type": "display_data"
    }
   ],
   "source": [
    "# Votre code de création des modèles\n",
    "hist = [cv2.calcHist([Xtrain[picture][0]],[0],None,[256],[0,256]) for picture in range(len(Xtrain))] \n",
    "#plt.plot(hist[0])\n",
    "#plt.xlim([0,256])\n",
    "#plt.show()\n",
    "\n",
    "pixel_values_avg = pixel.to_numpy()\n",
    "\n",
    "hist_avg = [cv2.calcHist([pixel_values_avg[picture].astype('uint8')],[0],None,[256],[0,256]) for picture in range(len(pixel_values_avg))] \n",
    "\n",
    "#plt.plot(hist_avg[0])\n",
    "#plt.xlim([0,256])\n",
    "#plt.show()\n",
    "\n",
    "def predict_image():\n",
    "    predicted_images = []\n",
    "    for i in range(len(Xtrain)):\n",
    "        predicted_images.append(np.argmin([cv2.compareHist(hist[i], hist_avg[j], cv2.HISTCMP_CHISQR) for j in range(len(pixel_values_avg))]))\n",
    "    return predicted_images\n",
    "\n",
    "# confusion_matrix(y_true, y_pred)\n",
    "plot_confusion_matrix(confusion_matrix(ytrain, predict_image()))\n",
    "\n",
    "accuracy_score(ytrain, predict_image())\n",
    "    \n",
    "#print(ytrain[0])\n",
    "#plt.imshow(Xtrain[0][0], cmap='gray')"
   ]
  },
  {
   "cell_type": "markdown",
   "metadata": {},
   "source": [
    "#### Résultats et résponses"
   ]
  },
  {
   "cell_type": "code",
   "execution_count": 18,
   "metadata": {},
   "outputs": [],
   "source": [
    "# Vos résultats ici"
   ]
  },
  {
   "cell_type": "markdown",
   "metadata": {},
   "source": [
    "# Partie 3: Extraction de primitives\n",
    "\n",
    "Vous devez faire une recherche bibliographique pour trouver quelles sont les primitives qui sont plus souvent utilisées pour la reconnaissance des expressions faciales. Voici quelques sources et mot-clés pour guider votre recherche:\n",
    "\n",
    "- http://www.inf.ufpr.br/lesoliveira/download/ESWA2013.pdf\n",
    "- https://doi.org/10.1016/j.patrec.2015.06.007 \n",
    "- https://doi.org/10.1109/FG.2011.5771374\n",
    "- https://www.hindawi.com/journals/ijbi/2015/267807/\n",
    "\n",
    "\n",
    "Mots-clés: facial expression recognition, facial emotion recognition.\n",
    "\n",
    "Bibliothèques Python pour l'extraction de primitives :\n",
    "* [Scikit-image](https://scikit-image.org/docs/dev/)\n",
    "* [OpenCV](https://opencv-python-tutroals.readthedocs.io/en/latest/py_tutorials/py_tutorials.html)\n",
    "* [Scikit-learn](https://scikit-learn.org/stable/modules/feature_extraction.html)\n",
    "\n",
    "Primitives candidates : \n",
    "\n",
    "* LBP, LPQ, Gabor filters, SIFT, SURF, HOG, GLCM, Haralick Moments, etc."
   ]
  },
  {
   "cell_type": "markdown",
   "metadata": {},
   "source": [
    "## 3a: Extraire des primitives"
   ]
  },
  {
   "cell_type": "markdown",
   "metadata": {},
   "source": [
    "### À faire:\n",
    "1. Choisir au moins deux (2) groupes de primitives et extraire ces primitives des visages (ensembles d'apprentissage, validation et test).\n",
    "Un groupe de primitives peut être 16 filtres Gabor, un ensemble de Haar-like features ou bien les différentes features de Haralick Texture Features (p. ex. contraste, homogénéité, etc.). Vous devez en sélectionner deux (2) groupes.\n",
    "\n",
    "Attention! Le résultat des algorithmes d'extraction de primitives doit être des vecteurs de primitives. Il y a des algorithmes qui nécessitent d'une étape additionnelle comme calculer les histogrammes de primitives (p. ex. LBP, SIFT)\n",
    "\n",
    "2. <font color=black>Sauvegarder vos vecteurs de primitives dans des fichiers '.csv'. Utiliser la même structure du fichier FER3013, où nous avons dans un seul fichier, séquentiellement, les trois partitions: apprentissage (0-28709), validation (28710-32299) et test (32299, 35888). Nommer vos fichiers de primitive en référence à la primitive utilisée. Ex.: lbp83_fer2013.csv </font> \n",
    "\n",
    "3. Expliquer et justifier les primitives choisis."
   ]
  },
  {
   "cell_type": "markdown",
   "metadata": {},
   "source": [
    "#### Code "
   ]
  },
  {
   "cell_type": "markdown",
   "metadata": {},
   "source": [
    "## LBP Feature extraction "
   ]
  },
  {
   "cell_type": "code",
   "execution_count": 19,
   "metadata": {},
   "outputs": [],
   "source": [
    "from skimage.feature import local_binary_pattern"
   ]
  },
  {
   "cell_type": "code",
   "execution_count": 61,
   "metadata": {},
   "outputs": [],
   "source": [
    "sc = StandardScaler()\n",
    "Xtrain = sc.fit_transform(Xtrain)\n",
    "Xtest = sc.transform(Xtest)\n",
    "Xval = sc.transform(Xval)"
   ]
  },
  {
   "cell_type": "markdown",
   "metadata": {},
   "source": [
    "### Converting images to lbp features based on a radius of 1 "
   ]
  },
  {
   "cell_type": "code",
   "execution_count": 62,
   "metadata": {},
   "outputs": [
    {
     "name": "stdout",
     "output_type": "stream",
     "text": [
      "(28709, 2304) (3589, 2304) (3589, 2304)\n"
     ]
    }
   ],
   "source": [
    "def img_toLBP(images):\n",
    "    # settings for LBP\n",
    "    radius = 1\n",
    "    n_points = 8 * radius  \n",
    "    lbp_img = []\n",
    "    for img in images:\n",
    "        # Convert img to LBP\n",
    "        lbp = local_binary_pattern(img.reshape(48,48), n_points, radius)\n",
    "        lbp_img.append(lbp.reshape(-1))\n",
    "    \n",
    "    return lbp_img\n",
    "\n",
    "\n",
    "Xtrain = Xtrain.reshape(-1, 48*48).astype('uint8')\n",
    "Xtest = Xtest.reshape(-1, 48*48 ).astype('uint8')\n",
    "Xval = Xval.reshape(-1, 48*48 ).astype('uint8')\n",
    "print( Xtrain.shape, Xval.shape, Xtest.shape )\n",
    "Xtrain_lbp = np.array(img_toLBP(Xtrain))\n",
    "Xval_lbp = np.array(img_toLBP(Xval))\n",
    "Xtest_lbp = np.array(img_toLBP(Xtest))"
   ]
  },
  {
   "cell_type": "markdown",
   "metadata": {},
   "source": [
    "### Saving as pickle byte data file"
   ]
  },
  {
   "cell_type": "code",
   "execution_count": 72,
   "metadata": {},
   "outputs": [
    {
     "name": "stdout",
     "output_type": "stream",
     "text": [
      "[['Emotion' 'Pixels' 'Set']\n",
      " [0 array([255., 255., 255., ..., 255., 255., 255.]) 'Training']\n",
      " [0 array([255., 255., 255., ...,   0., 255., 255.]) 'Training']\n",
      " ...\n",
      " [0 array([193., 241., 241., ..., 255., 255., 255.]) 'PrivateTest']\n",
      " [3 array([193., 241., 241., ...,  31.,  31.,  28.]) 'PrivateTest']\n",
      " [2 array([193., 241., 241., ..., 255.,   1.,  16.]) 'PrivateTest']]\n"
     ]
    }
   ],
   "source": [
    "import pickle\n",
    "Lbp = [[\"Emotion\",\"Pixels\",\"Set\"]]\n",
    "Lbp.extend([[e, p, 'Training'] for e, p in zip(ytrain, Xtrain_lbp)])\n",
    "Lbp.extend([[e, p, 'PublicTest'] for e, p in zip(yval, Xval_lbp)])\n",
    "Lbp.extend([[e, p, 'PrivateTest'] for e, p in zip(ytest, Xtest_lbp)])\n",
    "Lbp = np.array(Lbp)\n",
    "\n",
    "\n",
    "with open('lbp_features.pickle', 'wb') as file_pi:\n",
    "    pickle.dump(Lbp, file_pi)\n",
    "print(Lbp)"
   ]
  },
  {
   "cell_type": "code",
   "execution_count": null,
   "metadata": {},
   "outputs": [],
   "source": [
    "\n"
   ]
  },
  {
   "cell_type": "markdown",
   "metadata": {},
   "source": [
    "## SURF feature extraction"
   ]
  },
  {
   "cell_type": "code",
   "execution_count": 64,
   "metadata": {},
   "outputs": [],
   "source": [
    "from skimage import filters\n",
    "\n",
    "def img_sobel(images):\n",
    "    # settings for LBP\n",
    "    sobel_img = []\n",
    "    for img in images:\n",
    "        # Convert img to LBP\n",
    "        sobel = filters.sobel(img.reshape(48,48))\n",
    "        sobel_img.append(sobel.reshape(-1))\n",
    "        \n",
    "    return sobel_img\n",
    "\n",
    "\n",
    "Xtrain_sobel = np.array(img_sobel(Xtrain))\n",
    "Xval_sobel = np.array(img_sobel(Xval))\n",
    "Xtest_sobel = np.array(img_sobel(Xtest))\n",
    "\n",
    "\n",
    "Sobel = [[\"Emotion\",\"Pixels\",\"Set\"]]\n",
    "Sobel.extend([[e, p, 'Training'] for e, p in zip(ytrain, Xtrain_sobel)])\n",
    "Sobel.extend([[e, p, 'PublicTest'] for e, p in zip(yval, Xval_sobel)])\n",
    "Sobel.extend([[e, p, 'PrivateTest'] for e, p in zip(ytest, Xtest_sobel)])\n",
    "\n",
    "\n",
    "file_pi = open('sobel_features.pickle', 'wb') \n",
    "pickle.dump(Sobel, file_pi)"
   ]
  },
  {
   "cell_type": "code",
   "execution_count": 65,
   "metadata": {},
   "outputs": [
    {
     "name": "stdout",
     "output_type": "stream",
     "text": [
      "(28709, 2304)\n"
     ]
    }
   ],
   "source": [
    "sobel_imgs = 0\n",
    "with open(r\"sobel_features.pickle\", \"rb\") as input_file:\n",
    "    sobel_imgs = pickle.load(input_file)\n",
    "    \n",
    "print(Xtrain_sobel.shape)\n"
   ]
  },
  {
   "cell_type": "markdown",
   "metadata": {},
   "source": [
    "#### Résultats et résponses"
   ]
  },
  {
   "cell_type": "markdown",
   "metadata": {},
   "source": [
    "## 3b: Analyse visuelle des primitives"
   ]
  },
  {
   "cell_type": "markdown",
   "metadata": {},
   "source": [
    "##### À faire:\n",
    "1. Choisir quelques paires de primitives (deux dimensions de votre vecteur de primitives) et tracer un graphique 2D (données d'apprentissage) pour visualiser si ces primitives sont capables de bien séparer les sept (7) classes.\n",
    "2. Faire une analyse des résultats et présenter vos conclusions sur ces primitives."
   ]
  },
  {
   "cell_type": "markdown",
   "metadata": {},
   "source": [
    "#### Code"
   ]
  },
  {
   "cell_type": "code",
   "execution_count": 113,
   "metadata": {
    "scrolled": true
   },
   "outputs": [
    {
     "name": "stdout",
     "output_type": "stream",
     "text": [
      "(28709, 2)\n"
     ]
    }
   ],
   "source": [
    "pca = PCA(n_components=2)\n",
    "\n",
    "# pixel = df['pixels']\n",
    "\n",
    "Xtrain_lbp_pca = pca.fit_transform(Xtrain_lbp)\n",
    "print(Xtrain_lbp_pca.shape)\n",
    "df1 = pd.DataFrame(data = Lbp[:1000], columns = [\"emotion\", \"pixels\", \"set\"])\n",
    "df1 = df1.iloc[1:]\n",
    "df1 = df1.loc[df1[\"set\"] == \"Training\"] "
   ]
  },
  {
   "cell_type": "code",
   "execution_count": 112,
   "metadata": {},
   "outputs": [
    {
     "data": {
      "application/vnd.plotly.v1+json": {
       "config": {
        "plotlyServerURL": "https://plot.ly"
       },
       "data": [
        {
         "hovertemplate": "color=0<br>0=%{x}<br>1=%{y}<extra></extra>",
         "legendgroup": "0",
         "marker": {
          "color": "#636efa",
          "symbol": "circle"
         },
         "mode": "markers",
         "name": "0",
         "orientation": "v",
         "showlegend": true,
         "type": "scatter",
         "x": [
          -643.1685172285245,
          -558.2395268677446,
          51.197445249558726,
          -126.99952998094719,
          -491.53943158836717,
          392.752698445333,
          1563.9326230944012,
          -516.0216848711448,
          978.2602682588215,
          -750.092001868552,
          -411.9198980536427,
          -55.40042860200263,
          945.5911015713356,
          -412.6972025632453,
          -604.9413009854472,
          123.76311189455433,
          55.58944479604327,
          -881.6090734079709,
          211.02687157459349,
          -290.1849784519579,
          115.58733067963108,
          76.5570873232464,
          -801.2409964640549,
          -93.67588640673566,
          -1015.7769096761231,
          135.00166783797346,
          -345.8882490326793,
          -880.1348205078968,
          -763.6864420463229,
          219.24313015146964,
          -377.1064356149519,
          200.56898386373382,
          -301.3789158395744,
          -823.111692307963,
          -664.9598210681079,
          291.92020197748803,
          -404.7761316109058,
          -529.6948017755494,
          276.11540042311424,
          -93.67106019272263,
          -748.1465863480837,
          -415.2353892159936,
          11.69328099029282,
          -38.03376261337713,
          -432.30848314552816,
          -46.499264530722705,
          -303.4417377112903,
          446.7192918375201,
          262.9172934042865,
          -697.9621470625851,
          -310.67838134197217,
          308.13461360500366,
          648.4464923845967,
          -26.86513715483371,
          130.62663760048892,
          576.0146111175476,
          458.78035409610936,
          -589.966382522856,
          -235.16585450114644,
          -329.4045865664753,
          683.3663569999736,
          368.5498369029558,
          622.5898566128047,
          212.31735070861484,
          1041.1225589346016,
          194.28726328029816,
          543.7518793265928,
          374.1381863523063,
          327.1176635999185,
          545.3209591620575,
          -131.77123574841457,
          -399.9293746048668,
          -143.36216640821303,
          -71.00992069514037,
          -498.95178929028214,
          565.5466089667672,
          -606.4122602258317,
          -828.7526297749419,
          -92.59801882835288,
          -409.62911565734197,
          -347.4149683252885,
          178.85933811792987,
          166.89647824618865,
          183.94106631719592,
          417.84491731316893,
          -143.72170093485045,
          -21.424850648550986,
          695.8973749595531,
          41.43799132411655,
          574.9142199752627,
          113.78456792932235,
          -540.8058676669222,
          -734.4797939878137,
          -590.7151623553972,
          684.7788080048177,
          -418.44138645261427,
          588.8174564952047,
          -305.38678962770337,
          -1227.179805219622,
          -323.51235073384896,
          -660.7255089656899,
          1024.7419280255556,
          -655.8208662112687,
          -515.027844662424,
          73.8480726429569,
          -151.22639608624468,
          -470.99875911711536,
          -147.1251064288882,
          130.25637752900732,
          1297.6720324081768,
          -113.08763386300181,
          240.7477589961468,
          699.0196262707717,
          -40.54621485195561,
          391.7231616980599,
          -241.25874264640657,
          26.793242266276675,
          -899.6941618716814,
          43.50211784810143,
          744.5074966705853,
          27.110783259020725,
          -294.9547342899909,
          -513.2038542652468,
          -850.5343807832447,
          -885.33230482302,
          9.541410142740968,
          692.183468601465,
          1024.3942389863237,
          -685.6509742182704,
          -249.00843902909693,
          499.1991552804515,
          47.016716660527884,
          -129.44298696369705,
          245.17334545865,
          261.0371628861731,
          -280.9367193518573,
          86.54918046868357,
          -326.5631214495888,
          181.7490564347909,
          186.49213016278088,
          -400.1904094643741,
          -111.44190847885166,
          161.23978166415108,
          76.44973192272548,
          -227.25031760013246,
          -346.5983796242379,
          -73.10123557341036,
          -242.85525306377272,
          -590.4832949558286,
          188.40912224935786,
          219.6810889314354,
          -139.25345570257934,
          212.11449832163504
         ],
         "xaxis": "x",
         "y": [
          132.9911951631838,
          471.4819586896214,
          109.47792594031097,
          444.00547163222,
          346.7501777346744,
          -162.4411612238578,
          179.2399860021717,
          -273.4612801530326,
          508.58588787026827,
          -374.06025963111534,
          -17.024404897923958,
          469.3014044184374,
          174.3509787427852,
          -612.9951583603001,
          -430.63101472810746,
          325.2386735610409,
          -371.8078285973642,
          98.6436370272406,
          187.81196970746097,
          302.2197222545099,
          232.3187132755198,
          535.3658292653724,
          162.3713643520319,
          -595.7095525422033,
          -38.86902189396105,
          89.58878337237492,
          339.7050944712731,
          -320.09099569412024,
          2.0303850882744934,
          702.8580794398812,
          394.8520868932443,
          131.95881443623765,
          579.7882844261588,
          -330.61820330853624,
          447.9154071071231,
          -796.5565751519192,
          492.9036160475437,
          -65.75502433214263,
          -142.46175024761988,
          72.2283290510296,
          -130.55350480243175,
          -475.4958855872047,
          -110.25183257225346,
          290.8178706717104,
          165.86337872387867,
          -440.8773712292055,
          630.1539472961122,
          -57.57602843317454,
          -446.71357073306285,
          -523.0104178779272,
          20.703190466592105,
          -116.83813336731522,
          311.75799784227576,
          221.19387338082123,
          -598.7862763229008,
          140.92131131821904,
          -306.8063066230316,
          141.9421731014787,
          -26.18955156886743,
          -132.5252997521266,
          363.5180572909515,
          -1077.1628629688032,
          314.63132620761485,
          590.977358018147,
          -293.3450437278854,
          12.623189675526858,
          -40.79619091595611,
          40.869947608809376,
          -105.93632841442552,
          141.79643558341928,
          91.01752380212226,
          331.83671273627306,
          105.4833128083686,
          210.56666524586544,
          -1002.0148890420863,
          -269.04320985402893,
          339.5855411092529,
          -393.84100927389,
          -553.4452633658751,
          126.32280540349457,
          64.89889859235502,
          -616.2686363821854,
          -243.54340465694295,
          -34.794955414482885,
          77.5127477601588,
          -4.14324042030031,
          46.511937176912696,
          -267.71857593518206,
          -332.42946547752405,
          391.0503894520825,
          -169.821087490602,
          -66.38374429234966,
          319.4292319381698,
          58.53929999771818,
          149.48123759983557,
          166.45218852978584,
          -441.1473303067987,
          95.71612998159556,
          87.38800780598855,
          314.9164835972231,
          -230.1218708453323,
          102.18857058672623,
          -233.98498309247393,
          303.659761131965,
          -538.8351227883568,
          236.29007419686627,
          513.8061006834084,
          -54.694962156769776,
          449.7597238642144,
          770.884431711951,
          -85.00275307662312,
          259.57130393301077,
          79.8778216445575,
          396.6750187043816,
          -8.653608456483957,
          143.15710422979026,
          665.1254114298266,
          230.6899860738056,
          420.67220897498294,
          -97.59992174837386,
          302.387442426074,
          314.08385031610317,
          -258.7094657994086,
          -121.57612526425105,
          -386.52073457031315,
          -658.9610406092914,
          366.5462086238381,
          556.70851550001,
          -280.1940922211057,
          528.6105783794857,
          -79.03877194121932,
          -407.77498688673774,
          427.3562936366765,
          502.3030754736424,
          -484.9024428608389,
          18.927055487249728,
          -250.111670924997,
          390.1074255643281,
          495.88500166257217,
          205.6194373233912,
          19.460055679246057,
          224.27524722027752,
          500.6362758137036,
          83.071881474507,
          -29.30803702558195,
          579.4364298943649,
          546.5693662309458,
          -250.45934248826808,
          -109.12774596135496,
          -343.9471410406393,
          464.9004619919791,
          25.675352609570588,
          343.61460315757716
         ],
         "yaxis": "y"
        },
        {
         "hovertemplate": "color=2<br>0=%{x}<br>1=%{y}<extra></extra>",
         "legendgroup": "2",
         "marker": {
          "color": "#EF553B",
          "symbol": "circle"
         },
         "mode": "markers",
         "name": "2",
         "orientation": "v",
         "showlegend": true,
         "type": "scatter",
         "x": [
          146.22357365617714,
          -943.3618578579401,
          -468.08963481709054,
          676.4482302205416,
          621.4449834574747,
          -485.3212789730436,
          -327.14145788900555,
          -168.3919428407127,
          149.83977760018806,
          -602.5978320061326,
          667.458007804196,
          67.16285720436036,
          -120.1805049434975,
          7.525083754250749,
          560.8091321267681,
          211.30812688099502,
          37.377104412733004,
          -213.8558903032319,
          250.66540021998887,
          880.944857638851,
          -316.27833199415716,
          512.6188859642848,
          250.32917817357009,
          -35.742539584894246,
          -31.854176459333793,
          -377.7628469716183,
          65.8563089811829,
          1715.706664501283,
          -476.0002386434941,
          -668.5959910826015,
          -782.1029248315447,
          157.41733961675357,
          -462.75105265634255,
          77.70293706449637,
          479.2878781889373,
          -810.4254385781591,
          241.5677405168919,
          -101.71499024829146,
          -259.5028106281029,
          453.4056430656045,
          -229.78904449648456,
          304.7449741472795,
          -852.7309019811198,
          206.0191030088254,
          -266.8646512197261,
          -911.1443450391896,
          -501.2773374109963,
          -296.4701162958983,
          -70.74193224727465,
          -164.2928223296082,
          524.1633669707854,
          516.447110874452,
          61.141108758359486,
          18.72627990445044,
          188.32109556801004,
          -434.2059498835004,
          -100.3995088128404,
          1057.9187606294183,
          86.2959163476254,
          344.11459460238837,
          -813.9833963278721,
          -61.186045255522814,
          -178.47137102841316,
          341.4666541010063,
          151.65163875775767,
          -104.95960544731363,
          550.5714750109564,
          747.4111334749408,
          98.68546250989174,
          297.3630100329621,
          -980.8502822785659,
          721.6927495238327,
          184.8365163367922,
          -64.06438963475073,
          882.74725907908,
          304.269741778292,
          -313.1658105895228,
          -1116.5666647012858,
          437.5912587142361,
          891.9332277094634,
          418.59936375112875,
          -715.4436067086264,
          592.9307739164202,
          700.7597268349989,
          585.4602274474944,
          -250.62922027424702,
          -538.0518644791513,
          -959.7834232496324,
          702.8435409725664,
          52.75817807276503,
          -620.8430408601641,
          254.29632542528864,
          236.48502185943485,
          515.9770685607557,
          66.7668478939134,
          -80.57676963007792,
          -162.31600703776294,
          833.1362809202741,
          -849.1477892138497,
          -1053.3053541188035,
          -110.22266160056002,
          933.6809707914748,
          630.656772581721,
          733.237286727229,
          593.6879203603625,
          -835.0138455774368,
          56.44107055698298,
          -185.73686870670338,
          -48.117960450089626,
          465.60002962469684,
          263.82581910235643,
          294.96227735927465,
          -212.42734154270917,
          -350.59895576933496,
          -219.77749877349308,
          -392.1840195655569,
          -149.06577414174453,
          -62.173066950033224,
          820.846943559955,
          -28.167831036028414,
          -28.167831036028414,
          363.8428287814949,
          -652.0685153853788,
          -526.8583462256802,
          -707.0924856194858,
          -377.0668449204505,
          318.8417686969919,
          -53.45391882605619,
          -90.26422323943355,
          -652.7235305245854,
          12.651269999295351,
          -294.99386740711543,
          311.2207578506834,
          685.6981337701462,
          -484.92366025717644,
          391.41953498499413,
          -331.83555411352853,
          -144.8992948541524,
          405.3252081792712,
          -929.64811269121,
          -868.9137832034845,
          576.728611979467,
          135.54594276936768,
          -588.4000253378534,
          -171.5166293435491,
          91.10906462784786,
          1209.2608225739334,
          -456.0494799411411,
          -137.61698939193144,
          -85.740691241116,
          -551.961274946289,
          319.73993494162727,
          -185.45421159988,
          855.449192751366,
          -153.10729856511765,
          115.81236919351359,
          529.5589947502963,
          56.91038411710664,
          -1039.5040931857125,
          417.5259393147224,
          -207.1638905281383,
          -365.81971682760064,
          689.2646084471482,
          -118.67416728609194,
          650.6886237092398,
          294.5371764649563,
          114.84764890443435,
          181.22301676268836
         ],
         "xaxis": "x",
         "y": [
          80.49108109458932,
          -10.908405902641856,
          -900.9926424864746,
          524.6573092175748,
          -332.7799720234088,
          -781.2829091509207,
          -207.6549727779385,
          218.25876108202422,
          650.1210898502229,
          -191.05035689708845,
          -295.831561180942,
          20.47340919707168,
          202.34518733542834,
          -42.64573732843734,
          -404.109623946326,
          -24.802490833171003,
          -52.73354350395147,
          -679.2444806065896,
          -289.13685633376434,
          -147.08779249341683,
          -1078.5019929328946,
          -60.28811330259751,
          -56.76171125879681,
          -404.79653636997944,
          245.38075682760942,
          -208.5785603738482,
          -249.1633232860886,
          435.1546725453883,
          -745.4734970831187,
          -60.92602065082036,
          -261.75595376812174,
          502.2243183587018,
          412.57029832626046,
          181.39395365309377,
          85.07190540984331,
          293.28175907708487,
          168.17224336110078,
          52.86061975161115,
          85.38525349708479,
          454.93995842302235,
          -552.151240754175,
          377.3694816607965,
          165.42834671523485,
          120.76458868149845,
          400.5460442556461,
          -29.917934704557712,
          260.3981427362613,
          -204.27210508283702,
          189.0638500441718,
          -714.290737922726,
          -147.3847489791781,
          248.4464849307559,
          -434.9902958232892,
          257.14804727094,
          48.70372634626988,
          509.71736573170074,
          356.77916092743254,
          12.491186602717208,
          40.81020709561802,
          77.1578893015917,
          338.78803826819427,
          178.34250983784494,
          158.08903372270711,
          -150.3718283647344,
          -158.8706153519519,
          495.5390658625797,
          -422.09340120687233,
          377.62825088120496,
          -321.10543608251174,
          120.07220791259448,
          76.69973999993653,
          -273.9680657584482,
          -534.461992777016,
          76.08610809271487,
          282.24859817847573,
          407.62414749112907,
          355.1193378021316,
          -138.79523624746537,
          -91.42199706477629,
          45.58787571589325,
          -25.407793140246103,
          384.95490660621266,
          77.86761569268076,
          27.46077373311907,
          -247.90436087728284,
          598.9302194493742,
          487.5984022807798,
          270.4189685198705,
          -505.29340350361787,
          4.451847748996636,
          157.43468215835753,
          -208.1809096073901,
          -63.18732624697964,
          318.3144812188838,
          -9.04060324601791,
          -579.0449047942017,
          49.82553235205253,
          -59.20470836983403,
          181.83136954024064,
          -156.2746001027107,
          812.2879272666588,
          -171.61114621489608,
          200.57905632421506,
          127.5104429802246,
          718.7492908000247,
          296.5927677233083,
          -159.59544598421795,
          -547.3725847829319,
          -231.3057553233033,
          312.9352633577144,
          -132.19005333552124,
          -297.948797958946,
          501.3883632911161,
          116.8425403902632,
          251.82121816548576,
          -155.9685168491725,
          139.6473740062763,
          -491.40040347469284,
          -97.76490087907185,
          -304.447139877529,
          -304.447139877529,
          226.97053344660947,
          -915.3808583890668,
          -103.46966351669995,
          -439.30713228488423,
          404.9042776250334,
          615.1990543388664,
          -445.7181265753126,
          -501.1589020471695,
          244.30650946165997,
          -53.719263736196005,
          -15.492773693832982,
          -309.3043681143877,
          74.78158225535559,
          118.30636170099558,
          426.5379627366698,
          443.2245885055136,
          -471.8157135282539,
          -727.8289669522901,
          -186.28220064922198,
          264.6853957420632,
          437.95532030978416,
          449.820168023902,
          -168.7662252132831,
          295.9624006242675,
          186.20664058488867,
          368.7808983806495,
          636.7135399590194,
          356.62076431703144,
          -276.38053305590427,
          -39.25532911142746,
          190.47710042753744,
          599.761749138773,
          -251.89922412072247,
          -78.15293651999211,
          -97.23444376442735,
          117.70890932919357,
          -443.2802004230817,
          106.06207589078701,
          0.598825810539146,
          -196.87087234299958,
          631.833611776375,
          91.07110614334277,
          -81.67827870110297,
          -570.2449244536107,
          -279.55821497548544,
          513.6916891557338,
          -474.198535406389
         ],
         "yaxis": "y"
        },
        {
         "hovertemplate": "color=4<br>0=%{x}<br>1=%{y}<extra></extra>",
         "legendgroup": "4",
         "marker": {
          "color": "#00cc96",
          "symbol": "circle"
         },
         "mode": "markers",
         "name": "4",
         "orientation": "v",
         "showlegend": true,
         "type": "scatter",
         "x": [
          -177.11471774056298,
          -86.63136663586933,
          154.08754908937723,
          793.8187792589366,
          -30.750294679409976,
          -328.32327994838244,
          -197.51120694863044,
          -337.2939387404878,
          -772.3889666485352,
          276.4112110457334,
          412.8733436108218,
          -444.05552430752147,
          262.4318457697846,
          212.3403310484301,
          504.1409518095569,
          -184.2982198569818,
          641.7261298431787,
          232.78898351732522,
          633.6027368682511,
          -221.76465568936882,
          -555.0405521433245,
          -1090.5033820348065,
          1020.8367294627991,
          -122.44394896773727,
          288.1578798874388,
          -331.8569818770612,
          -843.888387550822,
          -953.5952279006801,
          87.61482004464895,
          313.1394861932553,
          -68.5222565427496,
          -272.44942907994385,
          106.8703906015225,
          -771.9505541882908,
          -54.07512384612899,
          180.80874661551286,
          -468.5702253226037,
          -1192.675001596374,
          369.7910513405821,
          208.89089571054404,
          -141.11216362165646,
          -182.03865856829435,
          472.1924737568015,
          607.0941718837537,
          -156.1199851990018,
          329.9568537367046,
          -516.5629291136366,
          -815.4982805879223,
          -642.6066698992062,
          -220.93286099082644,
          336.57330754623484,
          -135.70951635758115,
          428.73566103507835,
          -317.8550512610944,
          258.91837334154354,
          -101.53375122684565,
          723.7244901685547,
          -33.68621813451494,
          760.7206777899627,
          516.208862439248,
          269.2287054296943,
          -130.87834088069897,
          -272.2225199172363,
          -235.2295159151695,
          333.93942191306286,
          764.6594850312752,
          -359.8763926542304,
          200.44733139621482,
          934.8439798866341,
          7.098061456638195,
          87.7390575398933,
          -296.04355072736183,
          -340.4411470826703,
          612.3132254998424,
          -847.1068570107191,
          655.774628210284,
          164.9187661695158,
          -50.84231855106934,
          193.09387651817076,
          464.6416176052523,
          -315.00900482131226,
          -619.9441032870458,
          -119.23198097803848,
          -105.283800253032,
          -926.661567061162,
          -299.0859366131441,
          -59.14040281658496,
          -343.93099064679126,
          765.0103719458418,
          1276.679833595681,
          -590.0781643608058,
          -42.6988137414033,
          508.7192773488941,
          -538.9637303259162,
          207.34288627543188,
          297.9897179474635,
          -312.17886020471025,
          157.91478112376285,
          89.85120066166571,
          680.2862929867154,
          131.03118131438825,
          -750.8809511202724,
          -73.05652394958987,
          502.28696955017,
          416.0052702453895,
          -250.4917843643234,
          335.7648665176658,
          692.1314168510744,
          -728.3218126187571,
          -554.5342572620244,
          -539.4929583662303,
          76.71314893020363,
          126.83079600828448,
          466.8287727762501,
          540.4741837136012,
          -237.98313401205996,
          -781.3824694137861,
          -641.7961854144957,
          -79.98362334209213,
          623.3191780481274,
          -554.8207541966782,
          -160.1595482522862,
          -141.38524438689876,
          823.6321284541062,
          210.24600029662594,
          6.525370172449098,
          -565.217701428634,
          52.2827846988485,
          -204.38375772415168,
          -1102.09083504244,
          281.31520355262796,
          661.4554206104269,
          -692.4805935670495,
          168.86197699126902,
          170.513054912792,
          736.5561200428882,
          4.233602796034302,
          -110.36651820963165,
          225.34189448197512,
          180.5691977165752,
          106.71357849708598,
          -351.7694444145891,
          -88.30895778200541,
          -699.1882613295895,
          34.74680612407631,
          -448.70072613380984,
          -730.1239171242597,
          -686.5090707062734,
          -478.68655737334245,
          -26.822338694417095,
          -52.04045388145751,
          -356.017539373931,
          224.48568514549873
         ],
         "xaxis": "x",
         "y": [
          499.52093776822886,
          -87.57772747052236,
          151.5465337521191,
          -196.08108384895357,
          -783.3493486507039,
          6.578368321297191,
          531.4212217766895,
          -524.1244286275743,
          170.4652415534055,
          -91.3905528929515,
          361.9619981578616,
          -67.7169073602357,
          433.8863954804907,
          284.2877743229061,
          -275.95891938138556,
          527.7820045711424,
          -238.09250232873148,
          212.19414920363613,
          -362.6833956235038,
          351.08902154677554,
          218.48428389549,
          -266.6601290804946,
          555.892424328183,
          -415.24615308787287,
          -569.7539063667708,
          -260.3333857324771,
          189.4983814345659,
          -24.583194202290716,
          220.98865469492898,
          -284.0814147804158,
          -39.953328596589316,
          596.9814615525167,
          449.48235756258117,
          -282.73066471169045,
          666.9161411165801,
          -41.070720685810244,
          -172.13469280891388,
          -195.69407764673338,
          112.9354570512892,
          612.0988155749945,
          82.28322336867974,
          427.1541953717488,
          396.8922774966356,
          -64.66470661968339,
          -251.34130975044064,
          46.55479404131883,
          302.76189802062527,
          218.85065898633655,
          201.99508974506725,
          402.72483907513606,
          -106.28503284408683,
          47.668296989062576,
          -138.81744869092057,
          447.25585268530864,
          17.57344186521021,
          -89.62366820149323,
          732.5405316343796,
          122.70387822530911,
          47.40658953454153,
          -487.00343301931287,
          225.15668869869518,
          -6.863096493428599,
          -287.5817960213918,
          3.671396135146848,
          -208.02441240713313,
          437.42482415312674,
          -489.68879184425,
          -227.36527120338837,
          -404.8155304218082,
          455.91151822310843,
          698.4946359961115,
          529.0128010646669,
          300.2566075805159,
          211.85132450058077,
          92.09182485769178,
          -164.49174463668797,
          795.1348236889058,
          -484.39232892083805,
          -125.78311776245755,
          -443.864449727648,
          268.30787817294345,
          -561.0492084749932,
          290.42360580351715,
          210.9568907822648,
          126.95916882375765,
          -214.45634268056935,
          69.08778746975942,
          281.2866327877817,
          28.48790378687215,
          342.1241041508632,
          -170.67501875984175,
          343.82113531527756,
          -153.26040349495642,
          77.23142411033605,
          364.7328650077434,
          145.69646968181485,
          268.3223948960441,
          -333.44720469711797,
          296.85062014490956,
          -6.223016610753889,
          -636.7795118509991,
          -423.96771676674047,
          267.1204488852556,
          418.2391422446392,
          341.9682456854243,
          -26.596773138831214,
          -17.191754987987846,
          -678.549733544707,
          -13.253825336177465,
          -262.3311075003809,
          -46.69581837772344,
          392.7740391377546,
          465.364826998534,
          -157.61411666938426,
          -594.5576718259952,
          564.9434340873914,
          -299.10293014188744,
          -593.7253200849688,
          336.49235202722747,
          22.091605712867956,
          -142.72526417018958,
          222.40435913500198,
          -292.14071852627126,
          414.6255612499127,
          -219.65267791450725,
          -448.78054995879,
          15.188911568653907,
          634.876290482482,
          340.76795173970277,
          -105.57564984311217,
          -280.49092066920366,
          -18.7522510810865,
          -348.9560066900984,
          7.970825681832751,
          245.70646404866548,
          -357.946495529626,
          148.23073381905536,
          375.0856870353485,
          198.53274218568632,
          -44.72034854907889,
          -403.68755509812905,
          175.6380047875747,
          -65.38391624141286,
          -305.5329756967511,
          -164.93392608435494,
          649.6685014915685,
          -73.1574460395492,
          -621.3052843347986,
          535.6772782378259,
          671.5857471017428,
          531.1063602626534,
          -167.6603652815608,
          942.3393057492879
         ],
         "yaxis": "y"
        },
        {
         "hovertemplate": "color=6<br>0=%{x}<br>1=%{y}<extra></extra>",
         "legendgroup": "6",
         "marker": {
          "color": "#ab63fa",
          "symbol": "circle"
         },
         "mode": "markers",
         "name": "6",
         "orientation": "v",
         "showlegend": true,
         "type": "scatter",
         "x": [
          422.14470926597664,
          18.45853655415798,
          533.7119889190898,
          -240.51114183478686,
          87.87224942575355,
          -102.01272867218023,
          -282.9060389988855,
          -700.2944301976551,
          63.64386803753171,
          -173.65956849465832,
          588.0923974483062,
          466.73064669645106,
          -703.2100520293994,
          -315.9747048279026,
          660.3883960594841,
          -95.8189271316095,
          -13.083259171824746,
          -553.9652720465069,
          72.03855089437855,
          78.47125760818543,
          -122.39387705773441,
          451.21467300248247,
          380.9236746736567,
          -757.4565509160916,
          693.3733234309365,
          -15.584332137502193,
          47.70625808567608,
          752.6265691487163,
          -2.699895933643375,
          -237.24422027462606,
          -757.8772428722826,
          -153.50995599180442,
          -127.91642775053938,
          -890.571329698615,
          25.221686414514572,
          335.34654976170845,
          -370.4057187908434,
          523.8448036446715,
          426.74240292467886,
          49.2700255531145,
          -744.4213608418187,
          44.04636572377135,
          -269.67910837089323,
          674.9013681554131,
          -83.06952843813664,
          175.98297487931052,
          154.16392528198236,
          687.3846083706077,
          338.8570226090215,
          127.4785588689741,
          226.73718848090687,
          548.7923913190496,
          881.8217469194793,
          -989.1036563515889,
          -651.6088374372313,
          257.27210671262185,
          581.8337426978555,
          -83.36030281523469,
          -962.4740346335057,
          436.46611083167573,
          711.2540136951527,
          -1394.948528154048,
          -418.0770872053587,
          -976.2237407117293,
          954.7421327135569,
          996.4735344670203,
          -511.19605860938714,
          93.9643607960214,
          48.92849370093178,
          -126.1842182923791,
          -994.7774858297696,
          342.5646948977534,
          152.58606797336824,
          -132.0962235003497,
          406.95691400328036,
          -630.5419001726563,
          -367.6092541908647,
          645.3429496601133,
          -128.88025947393442,
          -48.81640972853381,
          -1068.9691154409786,
          -620.0053691295661,
          528.0803944126019,
          -207.9083077384171,
          799.9704754367467,
          185.60436957807593,
          -58.13546633335832,
          742.4726774679579,
          -544.5243382000793,
          -654.6520706410051,
          -17.068584528330646,
          406.76022087043094,
          281.46448959738007,
          -638.6400493510566,
          991.2335437150747,
          465.9658811942777,
          84.9273584154072,
          -169.31771829353715,
          344.1465983985731,
          642.3370472705499,
          -324.2410453060747,
          -641.1461852106098,
          -263.81390814319064,
          240.57512862564639,
          432.0495519344781,
          -436.72423101051567,
          558.1082441239689,
          454.92176130331603,
          -833.0848678201245,
          6.3379209778356405,
          101.837419858944,
          -427.6275260498131,
          -217.77268425911868,
          955.5572689016417,
          -25.286487217995546,
          -137.27753341752282,
          -2.6667682748266306,
          -158.22113818666966,
          431.22925713397404,
          512.4774731059657,
          -445.9580672375523,
          503.18213473689804,
          -75.77355055663766,
          676.1215260201549,
          32.2430536771669,
          216.13525026409226,
          -835.4945227310683,
          167.07862417682455,
          31.73026995171291,
          -271.12033069215124,
          -166.931603148173,
          -523.1521713456176,
          -14.322886142583236,
          551.9169672360277,
          -887.6247600624835,
          761.7676381431723,
          -758.831963007725,
          468.63958966806086,
          -401.15092256990255,
          -243.60870081168815,
          118.62251013784248,
          -628.6488459638313,
          -402.82763151379686,
          125.00211790816805,
          -1204.48691419812,
          243.45860160813237,
          839.8146923568798,
          -774.3173626163423,
          -530.8862321330147,
          -266.67229106601263,
          235.86575607770655,
          435.8186811640071,
          -702.5932621914218,
          -611.0512255478801,
          354.6049494969714,
          -442.3380733377655,
          -1145.5119270597384,
          -156.4302959662906,
          -578.0480356242665,
          630.1034225017839,
          -165.1417975705625,
          -878.3342971992973,
          -188.10506824566346,
          -401.9327932003392,
          -601.5402396942965,
          1020.026749829448,
          -573.7204276857051,
          -591.3549281221174,
          -496.81176942207503,
          -178.45840689996467,
          -163.09979810099003
         ],
         "xaxis": "x",
         "y": [
          -415.93816686076417,
          0.30215636114343447,
          -312.0830678359402,
          67.9833386221117,
          -72.53145279174603,
          426.5189716012722,
          279.5721141624697,
          -303.9907681858908,
          -259.6007560630719,
          246.54921133891753,
          298.93655505714713,
          -318.3005480099334,
          440.7512997888875,
          -366.3175677126737,
          -78.30792994674998,
          80.66515715741801,
          -707.4751080026134,
          318.14142114701076,
          237.41597968098026,
          557.3418500766044,
          -170.03247025501398,
          -141.74787596926595,
          555.819814825279,
          -499.5450309208919,
          1293.6189221424975,
          240.09814611761064,
          626.0662147714396,
          -387.050866245771,
          252.27527653769792,
          -756.4461756733467,
          -467.4636901414201,
          372.1319526486915,
          501.2390887558412,
          333.7476348344926,
          194.3663639035735,
          -599.1131286982172,
          271.16921783433537,
          -98.04930247854307,
          -312.02650007472613,
          322.8789315740756,
          163.98895731136616,
          17.336714080657224,
          397.29649740884076,
          689.4540080241648,
          54.6230373793226,
          298.1065581232572,
          -293.35382162213386,
          -485.3321457058187,
          -428.22813965183326,
          -155.18328841112626,
          39.587927800744744,
          247.50317093140217,
          -77.40653681821556,
          140.89847336146605,
          -234.9487116595305,
          -519.5243717687468,
          210.02488348489774,
          657.8595549885887,
          -79.63816958772952,
          294.78664171705884,
          -222.24063682287954,
          -99.81704822514068,
          265.2007114889154,
          67.30047211582124,
          -293.61493227096196,
          -266.3158426492019,
          -437.3519373106888,
          -259.1533590152522,
          10.158493425789015,
          -356.41463693038867,
          -105.97544609425245,
          -236.4233539441568,
          -371.2834859997436,
          389.898252150583,
          -399.32212459384726,
          366.34332860899747,
          66.541925025463,
          620.1224839484128,
          -145.94819468155816,
          179.77833452749033,
          8.21138519317754,
          -839.38003235579,
          -201.39980592796306,
          -387.61250302696874,
          -430.5731276518136,
          124.94057359414414,
          255.57240516428718,
          -412.24081552140456,
          -98.6898020043213,
          325.57724494440913,
          38.03021312596097,
          -495.1506594701734,
          67.07730522710803,
          -103.67914893617113,
          -33.40895312132343,
          -194.1064923414846,
          -166.71784866450474,
          -102.10972097505086,
          249.52784290062127,
          -329.1533183846346,
          529.6153263112292,
          233.15624392589567,
          -247.54403476365488,
          -283.7310141898915,
          237.01062357167584,
          149.82013324081603,
          -176.4469700648089,
          -456.36852087265044,
          -352.72765308297966,
          550.7239887322772,
          -24.294887710308583,
          396.11421166846833,
          123.5505669572796,
          716.6564361893256,
          343.17203841723864,
          153.3925960993106,
          169.5859553414092,
          428.65379486212163,
          -19.567599593374183,
          192.44786971807045,
          87.2176484611364,
          -678.5616194229191,
          186.068008541263,
          -476.46980352791707,
          55.66461179401395,
          58.08468789865404,
          -321.71151419916026,
          -126.64982234202785,
          464.65692801573624,
          -334.50226901857826,
          257.1505783458064,
          120.97983287614211,
          361.97282003095586,
          554.7847494290219,
          -289.62563691917615,
          229.08820604320118,
          193.50681300729983,
          -289.9427114059793,
          582.8477952224231,
          -136.8583420310565,
          -659.3736790428613,
          271.286006938524,
          655.9513559801608,
          359.263718293363,
          -74.20737032879448,
          -328.49738063389896,
          -354.23004458983416,
          -59.104583667364096,
          223.08874349324742,
          -507.1961373064694,
          -348.26136148032157,
          -356.9451820487338,
          239.3683161241743,
          456.7635491571019,
          235.53300911278944,
          485.5178578705759,
          -270.80074731720066,
          -460.2634676447642,
          25.73923705824514,
          -428.67499772670226,
          -117.9834787846834,
          -249.33353062152608,
          -731.1118532204073,
          -888.2361820090773,
          490.8834641558894,
          33.47263854608047,
          -281.80496674968407,
          301.1736049053502,
          -219.7718819337039,
          -541.5545577063087,
          -386.15540902109126
         ],
         "yaxis": "y"
        },
        {
         "hovertemplate": "color=3<br>0=%{x}<br>1=%{y}<extra></extra>",
         "legendgroup": "3",
         "marker": {
          "color": "#FFA15A",
          "symbol": "circle"
         },
         "mode": "markers",
         "name": "3",
         "orientation": "v",
         "showlegend": true,
         "type": "scatter",
         "x": [
          263.9341035272706,
          -139.05655860075933,
          38.89713784899782,
          -144.915200166689,
          -106.0554518540735,
          -504.7883845498665,
          -393.9127490848482,
          570.219999442949,
          234.63590531841243,
          368.14299763016044,
          -1035.372439500763,
          -689.1959157314869,
          165.13675177489844,
          -117.44695728043331,
          -732.7087360980989,
          361.5658189391404,
          430.327487887888,
          -33.090023454339835,
          89.90789240175455,
          50.13282865775362,
          -950.1128863965782,
          -163.99776387551066,
          -165.00466447310004,
          -555.3619014254056,
          -451.86415179725014,
          793.4052517489908,
          -1197.6134194267668,
          731.9249006690285,
          -482.1874099784325,
          -119.28150649466544,
          106.59653591389046,
          -1157.4032403233018,
          170.65375328038206,
          -92.30905865066245,
          472.6765072980473,
          17.094542978303554,
          133.61851664910992,
          340.76497732794326,
          312.90726673719524,
          -463.40928267416245,
          -749.8849121785698,
          -913.9498575591335,
          439.011659190573,
          -320.8436088610529,
          779.3487866509649,
          1037.2272481425593,
          472.19953474608366,
          554.3954998788661,
          -432.19943710710345,
          460.3059695783031,
          28.96793882552026,
          -551.4289772603934,
          350.7878734277995,
          248.757726801901,
          205.1534068625697,
          -667.8058601921182,
          -166.32825359486083,
          187.39085881553652,
          803.6238551796301,
          6.037259049168358,
          435.989382856835,
          -632.4739152009089,
          147.8433697756267,
          -160.79035010645777,
          254.71343863409427,
          489.0147552121867,
          -644.4220152952122,
          -429.5728175888088,
          -262.31705015001205,
          -116.5784567391888,
          341.01238775953334,
          -22.19573553770363,
          -499.6425918133748,
          -237.27183507746565,
          -450.86013926690384,
          -15.027589526219232,
          384.12050798909854,
          530.4975263588692,
          495.3142536164851,
          -609.970720993241,
          405.5972659724003,
          -668.5308458967166,
          -379.19132726496963,
          312.8929763780768,
          -631.3553543295053,
          112.03049898848211,
          -955.996058184419,
          348.4318480182237,
          984.4612786557769,
          -792.4445831175907,
          -483.2451837028255,
          495.690960290082,
          108.38914039726104,
          -195.51454746114703,
          33.81391015343963,
          -745.5979011732754,
          -250.52190619011228,
          531.6482592100975,
          -297.3820065031954,
          157.01044185701974,
          -458.90492151704615,
          -325.59641402295983,
          563.3280241167103,
          -171.9364637104786,
          50.69597999654181,
          308.1292060197353,
          -133.5703272179616,
          -891.4886891597687,
          11.313370335216797,
          678.2915126831282,
          -230.36938705672083,
          25.80842444330785,
          -517.9757989733654,
          128.069060182451,
          -421.2986072747861,
          280.2592317990664,
          430.15200021584474,
          749.6840748632026,
          522.6434889426944,
          318.2994031732391,
          354.73585120843063,
          -692.8979310920286,
          -439.1369728704622,
          140.87170545531043,
          162.37132275883394,
          -311.2016733272423,
          -263.6747220024112,
          -524.9401966627319,
          815.0527920318077,
          -65.9970753949935,
          -255.23489866776688,
          -298.00763816044054,
          -32.377782910182354,
          338.2271585933486,
          -247.12207127306175,
          274.3071668777577,
          496.8208470025961,
          -446.92643606077945,
          -300.1709013076623,
          503.70402317952266,
          342.0934931279533,
          114.72113137052337,
          372.4105209114994,
          255.5630250813122,
          -199.11024595784838,
          -1132.380188660953,
          248.1236887019176,
          303.52195928881736,
          426.98288731516294,
          -2.72977452966992,
          -851.9534516491259,
          50.805107727878955,
          610.2353100808776,
          660.3090234206736,
          676.5800390746938,
          -160.6526965528747,
          775.4671494142227,
          -313.15724584518244,
          89.88241236554788,
          -226.8653134612584,
          -858.8703070299656,
          423.33015469290507,
          9.389278342413839,
          -758.1125189635295,
          202.78308631728615,
          -635.1673381633727,
          350.6209429011996,
          358.66824029049434,
          -1115.007138944052,
          236.55449388851022,
          683.5377269120326,
          -640.4245094960112,
          -621.5508282647017,
          234.60826364426322,
          1037.024598868346,
          345.08584795473104,
          6.42065466875746,
          90.81935599744466,
          -363.28922774442054,
          308.3691298241191,
          -49.759614505703134,
          -942.5021294274839,
          -873.23273066377,
          333.8700614062382,
          693.1353164260745,
          -523.6315546540701,
          -812.3592230296222,
          542.2893356154552,
          -174.0453622747496,
          -292.6462981325634,
          890.5391822645345,
          128.83894847035802,
          279.31916594050654,
          -212.86843051690335,
          -388.12800974832254,
          221.37333131454739,
          349.07167891765977,
          235.41687194351695,
          325.6205726866344,
          61.55883732427683,
          126.30334651162978,
          -591.8072884376131,
          260.09604859062034,
          -469.05012335324864,
          -628.4125043458082,
          307.48929206140537,
          263.87445930882575,
          -368.4218777063538,
          -711.6672059416439,
          -140.44352440234817,
          -246.50368132494444,
          -425.9543154094685,
          -133.25083416413005,
          -218.08498348242583,
          876.9703081277967,
          -489.09816907618074,
          573.7340414299299,
          -291.98282048637475,
          755.6209780724827,
          -431.5433084414404,
          -349.76573013562927
         ],
         "xaxis": "x",
         "y": [
          766.5464615117734,
          412.3372856090601,
          -232.8253106626143,
          -259.5419433297558,
          123.21010403102764,
          103.27200109250302,
          120.21549563859365,
          3.331461142484371,
          -119.47120001727046,
          -120.16036542451545,
          -197.83608421508055,
          -108.80361280157356,
          -787.5051626789605,
          586.060734823984,
          273.9870508111948,
          10.54643302020458,
          -494.4385549539003,
          519.5643990730039,
          -341.5807725812736,
          569.6930859450363,
          -367.2987101323843,
          32.00278385173294,
          -85.5429478213698,
          285.925333660524,
          308.72241822563444,
          323.59780515326634,
          -18.141121817369687,
          -171.1810737819822,
          -32.43156011603342,
          120.94048093873695,
          316.46883112428736,
          100.4386334433997,
          323.6123212032341,
          -213.96389082424272,
          -299.8337964646056,
          -574.779162674309,
          199.69169611341977,
          71.6874263553125,
          205.76863210629668,
          606.5023736080553,
          -149.612452305849,
          -138.05694516400314,
          -283.28105387104137,
          -70.83681263490966,
          -118.76384038184081,
          512.6116199520097,
          -305.17096627767427,
          207.87198815798746,
          -182.71920491720593,
          -367.97034287923555,
          -485.9496634077352,
          94.05697592231378,
          -419.71827057404494,
          618.601828519152,
          553.0523403210402,
          94.06535280988926,
          436.1910804511096,
          -5.196526834275569,
          -102.24573788429532,
          -215.73332478916265,
          -573.5626743425813,
          -217.5744231242969,
          473.5384191711991,
          -816.8544198998892,
          738.2653165557921,
          -10.433974104669574,
          44.771793079462064,
          -775.2301006482909,
          627.3266090596862,
          -574.5733665940792,
          -8.90741779635492,
          -128.6236780667777,
          415.17087336765184,
          -552.8386409352233,
          57.833295470943604,
          -21.190940439432225,
          454.3590965753879,
          -828.9164356547959,
          316.1371514908065,
          472.9211810682168,
          -320.46249232457996,
          -408.23179996965507,
          4.511257923038369,
          -453.1267098886731,
          -251.03286266742938,
          -218.58422114883066,
          50.34364373111079,
          248.06178440419274,
          257.44842740306007,
          134.33595660423686,
          290.614707738706,
          297.2304368725672,
          151.61944815499342,
          17.195433914018444,
          -119.46380854058194,
          160.6119710915065,
          -236.10608807320943,
          502.785909038553,
          -387.2296463696413,
          -795.5757254793632,
          131.9597288599387,
          260.92074940746016,
          119.05177154148288,
          -453.0721836899717,
          525.4895859541501,
          298.6083868713524,
          84.18901034058104,
          -533.5247019375698,
          -42.98153187909749,
          607.591282608642,
          -226.15794205846774,
          -91.21716805187503,
          -377.8390242877461,
          370.69451859150803,
          -225.85176125530836,
          350.0337793333447,
          508.27827620937956,
          10.414157125724534,
          -313.42773125840955,
          -341.89276888970625,
          589.9864505240921,
          525.5039921312948,
          163.4033680773955,
          -489.31347070817895,
          88.37025448659413,
          -471.09562565122627,
          114.35025673179429,
          73.39574159842839,
          58.099859066096016,
          -80.25488413147423,
          -327.408378822028,
          -421.5043796932481,
          523.1332363880919,
          -454.6977968837023,
          394.7966589546487,
          387.4304437397243,
          -310.27581462793313,
          -170.93070632196216,
          125.20920879409923,
          550.8693455584367,
          -664.0010142183681,
          531.3086715914105,
          241.01297721174953,
          -618.6150078387037,
          -773.4526476425054,
          2.5132655248462825,
          -138.69629972881654,
          -397.35082979008274,
          376.0019720591618,
          425.6916594641843,
          346.8112716600752,
          -163.97750968656206,
          -410.2631509921342,
          727.9594551340339,
          234.41247383013595,
          400.80924244134826,
          -366.77532563337235,
          -203.3808577116801,
          811.5438585565712,
          -481.8292864112576,
          80.61634005544934,
          432.2029529742078,
          147.3210081595174,
          286.4076731838742,
          -499.52481427293515,
          401.3485175255385,
          219.60958695178294,
          -26.406701109764697,
          134.87827570713765,
          333.99942633713584,
          -354.9503566442647,
          296.0042663235077,
          116.2761941946665,
          -28.7936379633133,
          -99.54540483716431,
          -572.3108938624758,
          -133.02412790483163,
          -84.18594087895453,
          270.2358226938919,
          230.628596846522,
          -27.42391785147632,
          -286.1424418100365,
          326.68870646973227,
          466.53423838734153,
          325.4651763249735,
          187.78305809067572,
          -420.5370310384195,
          -379.6008188064779,
          -776.3378340854897,
          -550.5778522937491,
          -52.94771761222786,
          -369.60568465340054,
          -392.3325059749444,
          330.93414472361684,
          -445.65523439843867,
          -12.832515811531632,
          418.2299789401869,
          211.78767664634296,
          589.9449682557774,
          -203.2668482531311,
          228.6998621506076,
          219.8398522996103,
          177.05961478298835,
          37.66711249651631,
          -282.514136147517,
          397.5757478254372,
          710.9639684546654,
          392.6745587762688,
          -153.53373028325925,
          -940.5598990360364,
          518.9044743900812,
          472.76061047037695,
          325.3828215239588,
          -460.4680458033059,
          3.355354975687499,
          -837.4062601360307,
          128.23713331909232,
          -933.9688223917643,
          -20.693807583591454,
          -338.33015718978316,
          203.64089943093674
         ],
         "yaxis": "y"
        },
        {
         "hovertemplate": "color=5<br>0=%{x}<br>1=%{y}<extra></extra>",
         "legendgroup": "5",
         "marker": {
          "color": "#19d3f3",
          "symbol": "circle"
         },
         "mode": "markers",
         "name": "5",
         "orientation": "v",
         "showlegend": true,
         "type": "scatter",
         "x": [
          -1196.9390655010814,
          76.64306293051196,
          -547.830875156105,
          399.3972385209707,
          313.72714733256333,
          -415.3387984270082,
          429.8183949443047,
          486.40825086005833,
          -629.2597249041484,
          196.7282656641615,
          -160.317085513178,
          682.836111137195,
          -825.4606625324133,
          110.1496251044554,
          -389.66633985495383,
          249.913132184881,
          -457.5696101575488,
          -635.9416074031772,
          536.1657537373646,
          627.4301642678262,
          276.16523250835326,
          -352.19133539137647,
          -297.2035781758485,
          259.2217853863717,
          -124.83564817534034,
          -62.070992661156374,
          -424.16286691828526,
          550.5655620076045,
          103.83809953222223,
          -293.0505439555061,
          744.2440382464569,
          497.15834171223463,
          -201.83155628705666,
          344.08215149783956,
          43.35437538358543,
          168.99423265080586,
          732.2592218043349,
          13.256984658317785,
          209.07016898110473,
          154.65936098573115,
          -1355.9716990960274,
          -702.3393310054794,
          250.23186745270195,
          292.88875100575416,
          397.9543064882049,
          -629.4859796165453,
          -698.124952266757,
          262.6641341259263,
          -223.22384931612382,
          -750.995233568101,
          169.7843141687437,
          343.8525612039667,
          507.5374664032902,
          484.60066839403714,
          513.708457403366,
          336.2676147696966,
          338.89034981495604,
          105.97628894717629,
          244.18329566440335,
          614.2473183337829,
          297.0385235449434,
          35.18972909247964,
          57.14967258930357,
          -277.13696280457526,
          3.9399797623787283,
          -209.9396473547162,
          351.9972880954985,
          181.65614722818722,
          -528.9914863122934,
          -185.14914483309377,
          -800.6628332168118,
          -226.25640967346627,
          143.40635496231224,
          -337.5875744886293,
          393.25146220558514,
          583.5241018214583,
          22.140077190641954,
          486.24420963751,
          485.5230974726499,
          515.0737924234335,
          187.84690856792312,
          -300.10487356578244,
          732.2592218043349,
          -548.4308828351432,
          -982.0397313200807,
          -123.08037144099254,
          -1092.1637301875146,
          356.4423464809646,
          266.79393598664393,
          71.04390863657488,
          -410.38935569467253,
          653.2277320765154,
          -127.2582174207314,
          742.65938774603,
          554.9531721836477,
          -574.5561608624871,
          -346.25632897439004,
          16.730512782942466,
          -1059.8123942325642,
          698.5565698417537,
          -461.3245279615188,
          309.78612861431293,
          337.4034891457883,
          443.522711714392,
          -11.238586421294375,
          -272.11405153319805,
          229.62452645083363,
          246.0070712959421,
          30.11844140143598,
          -162.093135949601,
          -209.26950943236818,
          -195.1524498127126,
          264.35162754015795,
          -470.41450283815124,
          420.3869425318539,
          -276.5380183385436,
          -69.38915578489609,
          -64.87266051755684,
          255.20732120539003,
          621.5134057882221,
          141.32857533103856,
          -50.695588801410416
         ],
         "xaxis": "x",
         "y": [
          19.819203484059386,
          354.75382973363764,
          -312.39722844619666,
          -562.0118815195991,
          300.09195118063093,
          -812.0379397670351,
          203.45322047410644,
          -363.66946047960465,
          -148.49844244224587,
          -375.5313956411112,
          -66.83787185720982,
          -445.6433435200433,
          -16.61481094384109,
          -190.63514543050707,
          29.997110664901573,
          283.78777484415224,
          -659.2924361947261,
          -140.30605200754184,
          -567.5006168533826,
          310.5138550367347,
          115.94294246498936,
          273.6420024492212,
          -254.7794500134239,
          -409.64827139279015,
          -150.92897216264322,
          -341.85905950307273,
          142.7421706814089,
          45.30625827936733,
          -99.72544593219396,
          -162.4975620914135,
          -279.85314099555814,
          378.01696180167323,
          -931.5754061170527,
          -219.56460759674331,
          332.01886616753484,
          222.3600620856479,
          -578.6676384307858,
          -443.40555117375607,
          -466.24652300967506,
          200.64672690567542,
          -83.70071174284284,
          -154.12094650589253,
          456.5203460889481,
          -62.4723325070287,
          -425.7371645829612,
          -355.9467821369461,
          -226.82353009681572,
          -577.6420049005633,
          -288.0781809572547,
          280.4022540138534,
          358.92888214267157,
          -237.97471228427207,
          -0.9956966375761158,
          -323.79409561759996,
          171.57112166059048,
          -474.2331409771336,
          -382.04020527925184,
          -163.51148506868114,
          -604.6132322380203,
          -278.50542854052065,
          -192.8062257593931,
          255.49850705019009,
          353.4755149869143,
          -158.74530513045542,
          -107.04166407658636,
          240.30829155387264,
          3.2787807270693397,
          140.6993793342178,
          536.0078160767541,
          324.30797142008277,
          -170.52467562427537,
          -86.37253078485988,
          -150.19540443979207,
          376.1118938548534,
          -477.1185438052299,
          -637.8287736920553,
          -521.0511434921958,
          152.92046575421764,
          -504.8451927226986,
          -453.46044231879426,
          -670.3921075740956,
          170.33440675668797,
          -578.6676384307858,
          -528.727180090484,
          15.983495633957855,
          337.8964743992161,
          61.217128945851606,
          108.18832587376943,
          -305.55356227687537,
          524.5816040711076,
          111.24005726651718,
          -29.446515084481888,
          500.2167175989553,
          -274.2588974032131,
          -390.3063425927958,
          -15.195040633965684,
          411.1881271111296,
          -20.368501482411954,
          -333.72698416340796,
          -411.03071189255746,
          25.13654050824348,
          482.9086886190568,
          255.52203922711323,
          54.790943225505124,
          206.9116466088619,
          -583.796374366957,
          325.4511895509843,
          -586.7330091090714,
          358.58230798503405,
          -496.9373595197403,
          -910.7896303282963,
          -464.8978308246509,
          102.45718040096777,
          346.54471759809775,
          -62.065225674482186,
          262.33928254697514,
          36.184912747162585,
          135.11795588209122,
          -751.4065708998199,
          -619.3396602457135,
          859.7128406346036,
          86.96908437537986
         ],
         "yaxis": "y"
        },
        {
         "hovertemplate": "color=1<br>0=%{x}<br>1=%{y}<extra></extra>",
         "legendgroup": "1",
         "marker": {
          "color": "#FF6692",
          "symbol": "circle"
         },
         "mode": "markers",
         "name": "1",
         "orientation": "v",
         "showlegend": true,
         "type": "scatter",
         "x": [
          -583.6899415261405,
          -356.67101104048254,
          -644.7578574884668,
          -57.4855304952927,
          -650.4963118110827,
          189.30345798981884,
          485.6170686071063,
          -73.43213498165198,
          285.48477715546693,
          -228.7107834972452,
          394.5902279146312
         ],
         "xaxis": "x",
         "y": [
          86.63429428668388,
          -155.0893618936957,
          -104.87038949595626,
          680.9024025658105,
          96.30290419175672,
          -384.475006040215,
          -108.25857868503957,
          -297.03844651879865,
          -533.1361071981433,
          -45.93874265829134,
          37.03276204648746
         ],
         "yaxis": "y"
        }
       ],
       "layout": {
        "legend": {
         "title": {
          "text": "color"
         },
         "tracegroupgap": 0
        },
        "template": {
         "data": {
          "bar": [
           {
            "error_x": {
             "color": "#2a3f5f"
            },
            "error_y": {
             "color": "#2a3f5f"
            },
            "marker": {
             "line": {
              "color": "#E5ECF6",
              "width": 0.5
             }
            },
            "type": "bar"
           }
          ],
          "barpolar": [
           {
            "marker": {
             "line": {
              "color": "#E5ECF6",
              "width": 0.5
             }
            },
            "type": "barpolar"
           }
          ],
          "carpet": [
           {
            "aaxis": {
             "endlinecolor": "#2a3f5f",
             "gridcolor": "white",
             "linecolor": "white",
             "minorgridcolor": "white",
             "startlinecolor": "#2a3f5f"
            },
            "baxis": {
             "endlinecolor": "#2a3f5f",
             "gridcolor": "white",
             "linecolor": "white",
             "minorgridcolor": "white",
             "startlinecolor": "#2a3f5f"
            },
            "type": "carpet"
           }
          ],
          "choropleth": [
           {
            "colorbar": {
             "outlinewidth": 0,
             "ticks": ""
            },
            "type": "choropleth"
           }
          ],
          "contour": [
           {
            "colorbar": {
             "outlinewidth": 0,
             "ticks": ""
            },
            "colorscale": [
             [
              0,
              "#0d0887"
             ],
             [
              0.1111111111111111,
              "#46039f"
             ],
             [
              0.2222222222222222,
              "#7201a8"
             ],
             [
              0.3333333333333333,
              "#9c179e"
             ],
             [
              0.4444444444444444,
              "#bd3786"
             ],
             [
              0.5555555555555556,
              "#d8576b"
             ],
             [
              0.6666666666666666,
              "#ed7953"
             ],
             [
              0.7777777777777778,
              "#fb9f3a"
             ],
             [
              0.8888888888888888,
              "#fdca26"
             ],
             [
              1,
              "#f0f921"
             ]
            ],
            "type": "contour"
           }
          ],
          "contourcarpet": [
           {
            "colorbar": {
             "outlinewidth": 0,
             "ticks": ""
            },
            "type": "contourcarpet"
           }
          ],
          "heatmap": [
           {
            "colorbar": {
             "outlinewidth": 0,
             "ticks": ""
            },
            "colorscale": [
             [
              0,
              "#0d0887"
             ],
             [
              0.1111111111111111,
              "#46039f"
             ],
             [
              0.2222222222222222,
              "#7201a8"
             ],
             [
              0.3333333333333333,
              "#9c179e"
             ],
             [
              0.4444444444444444,
              "#bd3786"
             ],
             [
              0.5555555555555556,
              "#d8576b"
             ],
             [
              0.6666666666666666,
              "#ed7953"
             ],
             [
              0.7777777777777778,
              "#fb9f3a"
             ],
             [
              0.8888888888888888,
              "#fdca26"
             ],
             [
              1,
              "#f0f921"
             ]
            ],
            "type": "heatmap"
           }
          ],
          "heatmapgl": [
           {
            "colorbar": {
             "outlinewidth": 0,
             "ticks": ""
            },
            "colorscale": [
             [
              0,
              "#0d0887"
             ],
             [
              0.1111111111111111,
              "#46039f"
             ],
             [
              0.2222222222222222,
              "#7201a8"
             ],
             [
              0.3333333333333333,
              "#9c179e"
             ],
             [
              0.4444444444444444,
              "#bd3786"
             ],
             [
              0.5555555555555556,
              "#d8576b"
             ],
             [
              0.6666666666666666,
              "#ed7953"
             ],
             [
              0.7777777777777778,
              "#fb9f3a"
             ],
             [
              0.8888888888888888,
              "#fdca26"
             ],
             [
              1,
              "#f0f921"
             ]
            ],
            "type": "heatmapgl"
           }
          ],
          "histogram": [
           {
            "marker": {
             "colorbar": {
              "outlinewidth": 0,
              "ticks": ""
             }
            },
            "type": "histogram"
           }
          ],
          "histogram2d": [
           {
            "colorbar": {
             "outlinewidth": 0,
             "ticks": ""
            },
            "colorscale": [
             [
              0,
              "#0d0887"
             ],
             [
              0.1111111111111111,
              "#46039f"
             ],
             [
              0.2222222222222222,
              "#7201a8"
             ],
             [
              0.3333333333333333,
              "#9c179e"
             ],
             [
              0.4444444444444444,
              "#bd3786"
             ],
             [
              0.5555555555555556,
              "#d8576b"
             ],
             [
              0.6666666666666666,
              "#ed7953"
             ],
             [
              0.7777777777777778,
              "#fb9f3a"
             ],
             [
              0.8888888888888888,
              "#fdca26"
             ],
             [
              1,
              "#f0f921"
             ]
            ],
            "type": "histogram2d"
           }
          ],
          "histogram2dcontour": [
           {
            "colorbar": {
             "outlinewidth": 0,
             "ticks": ""
            },
            "colorscale": [
             [
              0,
              "#0d0887"
             ],
             [
              0.1111111111111111,
              "#46039f"
             ],
             [
              0.2222222222222222,
              "#7201a8"
             ],
             [
              0.3333333333333333,
              "#9c179e"
             ],
             [
              0.4444444444444444,
              "#bd3786"
             ],
             [
              0.5555555555555556,
              "#d8576b"
             ],
             [
              0.6666666666666666,
              "#ed7953"
             ],
             [
              0.7777777777777778,
              "#fb9f3a"
             ],
             [
              0.8888888888888888,
              "#fdca26"
             ],
             [
              1,
              "#f0f921"
             ]
            ],
            "type": "histogram2dcontour"
           }
          ],
          "mesh3d": [
           {
            "colorbar": {
             "outlinewidth": 0,
             "ticks": ""
            },
            "type": "mesh3d"
           }
          ],
          "parcoords": [
           {
            "line": {
             "colorbar": {
              "outlinewidth": 0,
              "ticks": ""
             }
            },
            "type": "parcoords"
           }
          ],
          "pie": [
           {
            "automargin": true,
            "type": "pie"
           }
          ],
          "scatter": [
           {
            "marker": {
             "colorbar": {
              "outlinewidth": 0,
              "ticks": ""
             }
            },
            "type": "scatter"
           }
          ],
          "scatter3d": [
           {
            "line": {
             "colorbar": {
              "outlinewidth": 0,
              "ticks": ""
             }
            },
            "marker": {
             "colorbar": {
              "outlinewidth": 0,
              "ticks": ""
             }
            },
            "type": "scatter3d"
           }
          ],
          "scattercarpet": [
           {
            "marker": {
             "colorbar": {
              "outlinewidth": 0,
              "ticks": ""
             }
            },
            "type": "scattercarpet"
           }
          ],
          "scattergeo": [
           {
            "marker": {
             "colorbar": {
              "outlinewidth": 0,
              "ticks": ""
             }
            },
            "type": "scattergeo"
           }
          ],
          "scattergl": [
           {
            "marker": {
             "colorbar": {
              "outlinewidth": 0,
              "ticks": ""
             }
            },
            "type": "scattergl"
           }
          ],
          "scattermapbox": [
           {
            "marker": {
             "colorbar": {
              "outlinewidth": 0,
              "ticks": ""
             }
            },
            "type": "scattermapbox"
           }
          ],
          "scatterpolar": [
           {
            "marker": {
             "colorbar": {
              "outlinewidth": 0,
              "ticks": ""
             }
            },
            "type": "scatterpolar"
           }
          ],
          "scatterpolargl": [
           {
            "marker": {
             "colorbar": {
              "outlinewidth": 0,
              "ticks": ""
             }
            },
            "type": "scatterpolargl"
           }
          ],
          "scatterternary": [
           {
            "marker": {
             "colorbar": {
              "outlinewidth": 0,
              "ticks": ""
             }
            },
            "type": "scatterternary"
           }
          ],
          "surface": [
           {
            "colorbar": {
             "outlinewidth": 0,
             "ticks": ""
            },
            "colorscale": [
             [
              0,
              "#0d0887"
             ],
             [
              0.1111111111111111,
              "#46039f"
             ],
             [
              0.2222222222222222,
              "#7201a8"
             ],
             [
              0.3333333333333333,
              "#9c179e"
             ],
             [
              0.4444444444444444,
              "#bd3786"
             ],
             [
              0.5555555555555556,
              "#d8576b"
             ],
             [
              0.6666666666666666,
              "#ed7953"
             ],
             [
              0.7777777777777778,
              "#fb9f3a"
             ],
             [
              0.8888888888888888,
              "#fdca26"
             ],
             [
              1,
              "#f0f921"
             ]
            ],
            "type": "surface"
           }
          ],
          "table": [
           {
            "cells": {
             "fill": {
              "color": "#EBF0F8"
             },
             "line": {
              "color": "white"
             }
            },
            "header": {
             "fill": {
              "color": "#C8D4E3"
             },
             "line": {
              "color": "white"
             }
            },
            "type": "table"
           }
          ]
         },
         "layout": {
          "annotationdefaults": {
           "arrowcolor": "#2a3f5f",
           "arrowhead": 0,
           "arrowwidth": 1
          },
          "autotypenumbers": "strict",
          "coloraxis": {
           "colorbar": {
            "outlinewidth": 0,
            "ticks": ""
           }
          },
          "colorscale": {
           "diverging": [
            [
             0,
             "#8e0152"
            ],
            [
             0.1,
             "#c51b7d"
            ],
            [
             0.2,
             "#de77ae"
            ],
            [
             0.3,
             "#f1b6da"
            ],
            [
             0.4,
             "#fde0ef"
            ],
            [
             0.5,
             "#f7f7f7"
            ],
            [
             0.6,
             "#e6f5d0"
            ],
            [
             0.7,
             "#b8e186"
            ],
            [
             0.8,
             "#7fbc41"
            ],
            [
             0.9,
             "#4d9221"
            ],
            [
             1,
             "#276419"
            ]
           ],
           "sequential": [
            [
             0,
             "#0d0887"
            ],
            [
             0.1111111111111111,
             "#46039f"
            ],
            [
             0.2222222222222222,
             "#7201a8"
            ],
            [
             0.3333333333333333,
             "#9c179e"
            ],
            [
             0.4444444444444444,
             "#bd3786"
            ],
            [
             0.5555555555555556,
             "#d8576b"
            ],
            [
             0.6666666666666666,
             "#ed7953"
            ],
            [
             0.7777777777777778,
             "#fb9f3a"
            ],
            [
             0.8888888888888888,
             "#fdca26"
            ],
            [
             1,
             "#f0f921"
            ]
           ],
           "sequentialminus": [
            [
             0,
             "#0d0887"
            ],
            [
             0.1111111111111111,
             "#46039f"
            ],
            [
             0.2222222222222222,
             "#7201a8"
            ],
            [
             0.3333333333333333,
             "#9c179e"
            ],
            [
             0.4444444444444444,
             "#bd3786"
            ],
            [
             0.5555555555555556,
             "#d8576b"
            ],
            [
             0.6666666666666666,
             "#ed7953"
            ],
            [
             0.7777777777777778,
             "#fb9f3a"
            ],
            [
             0.8888888888888888,
             "#fdca26"
            ],
            [
             1,
             "#f0f921"
            ]
           ]
          },
          "colorway": [
           "#636efa",
           "#EF553B",
           "#00cc96",
           "#ab63fa",
           "#FFA15A",
           "#19d3f3",
           "#FF6692",
           "#B6E880",
           "#FF97FF",
           "#FECB52"
          ],
          "font": {
           "color": "#2a3f5f"
          },
          "geo": {
           "bgcolor": "white",
           "lakecolor": "white",
           "landcolor": "#E5ECF6",
           "showlakes": true,
           "showland": true,
           "subunitcolor": "white"
          },
          "hoverlabel": {
           "align": "left"
          },
          "hovermode": "closest",
          "mapbox": {
           "style": "light"
          },
          "paper_bgcolor": "white",
          "plot_bgcolor": "#E5ECF6",
          "polar": {
           "angularaxis": {
            "gridcolor": "white",
            "linecolor": "white",
            "ticks": ""
           },
           "bgcolor": "#E5ECF6",
           "radialaxis": {
            "gridcolor": "white",
            "linecolor": "white",
            "ticks": ""
           }
          },
          "scene": {
           "xaxis": {
            "backgroundcolor": "#E5ECF6",
            "gridcolor": "white",
            "gridwidth": 2,
            "linecolor": "white",
            "showbackground": true,
            "ticks": "",
            "zerolinecolor": "white"
           },
           "yaxis": {
            "backgroundcolor": "#E5ECF6",
            "gridcolor": "white",
            "gridwidth": 2,
            "linecolor": "white",
            "showbackground": true,
            "ticks": "",
            "zerolinecolor": "white"
           },
           "zaxis": {
            "backgroundcolor": "#E5ECF6",
            "gridcolor": "white",
            "gridwidth": 2,
            "linecolor": "white",
            "showbackground": true,
            "ticks": "",
            "zerolinecolor": "white"
           }
          },
          "shapedefaults": {
           "line": {
            "color": "#2a3f5f"
           }
          },
          "ternary": {
           "aaxis": {
            "gridcolor": "white",
            "linecolor": "white",
            "ticks": ""
           },
           "baxis": {
            "gridcolor": "white",
            "linecolor": "white",
            "ticks": ""
           },
           "bgcolor": "#E5ECF6",
           "caxis": {
            "gridcolor": "white",
            "linecolor": "white",
            "ticks": ""
           }
          },
          "title": {
           "x": 0.05
          },
          "xaxis": {
           "automargin": true,
           "gridcolor": "white",
           "linecolor": "white",
           "ticks": "",
           "title": {
            "standoff": 15
           },
           "zerolinecolor": "white",
           "zerolinewidth": 2
          },
          "yaxis": {
           "automargin": true,
           "gridcolor": "white",
           "linecolor": "white",
           "ticks": "",
           "title": {
            "standoff": 15
           },
           "zerolinecolor": "white",
           "zerolinewidth": 2
          }
         }
        },
        "title": {
         "text": "PCA"
        },
        "xaxis": {
         "anchor": "y",
         "domain": [
          0,
          1
         ],
         "title": {
          "text": "0"
         }
        },
        "yaxis": {
         "anchor": "x",
         "domain": [
          0,
          1
         ],
         "title": {
          "text": "1"
         }
        }
       }
      },
      "text/html": [
       "<div>                            <div id=\"df9cb74f-748b-4800-a356-2d1a0f85af63\" class=\"plotly-graph-div\" style=\"height:525px; width:100%;\"></div>            <script type=\"text/javascript\">                require([\"plotly\"], function(Plotly) {                    window.PLOTLYENV=window.PLOTLYENV || {};                                    if (document.getElementById(\"df9cb74f-748b-4800-a356-2d1a0f85af63\")) {                    Plotly.newPlot(                        \"df9cb74f-748b-4800-a356-2d1a0f85af63\",                        [{\"hovertemplate\": \"color=0<br>0=%{x}<br>1=%{y}<extra></extra>\", \"legendgroup\": \"0\", \"marker\": {\"color\": \"#636efa\", \"symbol\": \"circle\"}, \"mode\": \"markers\", \"name\": \"0\", \"orientation\": \"v\", \"showlegend\": true, \"type\": \"scatter\", \"x\": [-643.1685172285245, -558.2395268677446, 51.197445249558726, -126.99952998094719, -491.53943158836717, 392.752698445333, 1563.9326230944012, -516.0216848711448, 978.2602682588215, -750.092001868552, -411.9198980536427, -55.40042860200263, 945.5911015713356, -412.6972025632453, -604.9413009854472, 123.76311189455433, 55.58944479604327, -881.6090734079709, 211.02687157459349, -290.1849784519579, 115.58733067963108, 76.5570873232464, -801.2409964640549, -93.67588640673566, -1015.7769096761231, 135.00166783797346, -345.8882490326793, -880.1348205078968, -763.6864420463229, 219.24313015146964, -377.1064356149519, 200.56898386373382, -301.3789158395744, -823.111692307963, -664.9598210681079, 291.92020197748803, -404.7761316109058, -529.6948017755494, 276.11540042311424, -93.67106019272263, -748.1465863480837, -415.2353892159936, 11.69328099029282, -38.03376261337713, -432.30848314552816, -46.499264530722705, -303.4417377112903, 446.7192918375201, 262.9172934042865, -697.9621470625851, -310.67838134197217, 308.13461360500366, 648.4464923845967, -26.86513715483371, 130.62663760048892, 576.0146111175476, 458.78035409610936, -589.966382522856, -235.16585450114644, -329.4045865664753, 683.3663569999736, 368.5498369029558, 622.5898566128047, 212.31735070861484, 1041.1225589346016, 194.28726328029816, 543.7518793265928, 374.1381863523063, 327.1176635999185, 545.3209591620575, -131.77123574841457, -399.9293746048668, -143.36216640821303, -71.00992069514037, -498.95178929028214, 565.5466089667672, -606.4122602258317, -828.7526297749419, -92.59801882835288, -409.62911565734197, -347.4149683252885, 178.85933811792987, 166.89647824618865, 183.94106631719592, 417.84491731316893, -143.72170093485045, -21.424850648550986, 695.8973749595531, 41.43799132411655, 574.9142199752627, 113.78456792932235, -540.8058676669222, -734.4797939878137, -590.7151623553972, 684.7788080048177, -418.44138645261427, 588.8174564952047, -305.38678962770337, -1227.179805219622, -323.51235073384896, -660.7255089656899, 1024.7419280255556, -655.8208662112687, -515.027844662424, 73.8480726429569, -151.22639608624468, -470.99875911711536, -147.1251064288882, 130.25637752900732, 1297.6720324081768, -113.08763386300181, 240.7477589961468, 699.0196262707717, -40.54621485195561, 391.7231616980599, -241.25874264640657, 26.793242266276675, -899.6941618716814, 43.50211784810143, 744.5074966705853, 27.110783259020725, -294.9547342899909, -513.2038542652468, -850.5343807832447, -885.33230482302, 9.541410142740968, 692.183468601465, 1024.3942389863237, -685.6509742182704, -249.00843902909693, 499.1991552804515, 47.016716660527884, -129.44298696369705, 245.17334545865, 261.0371628861731, -280.9367193518573, 86.54918046868357, -326.5631214495888, 181.7490564347909, 186.49213016278088, -400.1904094643741, -111.44190847885166, 161.23978166415108, 76.44973192272548, -227.25031760013246, -346.5983796242379, -73.10123557341036, -242.85525306377272, -590.4832949558286, 188.40912224935786, 219.6810889314354, -139.25345570257934, 212.11449832163504], \"xaxis\": \"x\", \"y\": [132.9911951631838, 471.4819586896214, 109.47792594031097, 444.00547163222, 346.7501777346744, -162.4411612238578, 179.2399860021717, -273.4612801530326, 508.58588787026827, -374.06025963111534, -17.024404897923958, 469.3014044184374, 174.3509787427852, -612.9951583603001, -430.63101472810746, 325.2386735610409, -371.8078285973642, 98.6436370272406, 187.81196970746097, 302.2197222545099, 232.3187132755198, 535.3658292653724, 162.3713643520319, -595.7095525422033, -38.86902189396105, 89.58878337237492, 339.7050944712731, -320.09099569412024, 2.0303850882744934, 702.8580794398812, 394.8520868932443, 131.95881443623765, 579.7882844261588, -330.61820330853624, 447.9154071071231, -796.5565751519192, 492.9036160475437, -65.75502433214263, -142.46175024761988, 72.2283290510296, -130.55350480243175, -475.4958855872047, -110.25183257225346, 290.8178706717104, 165.86337872387867, -440.8773712292055, 630.1539472961122, -57.57602843317454, -446.71357073306285, -523.0104178779272, 20.703190466592105, -116.83813336731522, 311.75799784227576, 221.19387338082123, -598.7862763229008, 140.92131131821904, -306.8063066230316, 141.9421731014787, -26.18955156886743, -132.5252997521266, 363.5180572909515, -1077.1628629688032, 314.63132620761485, 590.977358018147, -293.3450437278854, 12.623189675526858, -40.79619091595611, 40.869947608809376, -105.93632841442552, 141.79643558341928, 91.01752380212226, 331.83671273627306, 105.4833128083686, 210.56666524586544, -1002.0148890420863, -269.04320985402893, 339.5855411092529, -393.84100927389, -553.4452633658751, 126.32280540349457, 64.89889859235502, -616.2686363821854, -243.54340465694295, -34.794955414482885, 77.5127477601588, -4.14324042030031, 46.511937176912696, -267.71857593518206, -332.42946547752405, 391.0503894520825, -169.821087490602, -66.38374429234966, 319.4292319381698, 58.53929999771818, 149.48123759983557, 166.45218852978584, -441.1473303067987, 95.71612998159556, 87.38800780598855, 314.9164835972231, -230.1218708453323, 102.18857058672623, -233.98498309247393, 303.659761131965, -538.8351227883568, 236.29007419686627, 513.8061006834084, -54.694962156769776, 449.7597238642144, 770.884431711951, -85.00275307662312, 259.57130393301077, 79.8778216445575, 396.6750187043816, -8.653608456483957, 143.15710422979026, 665.1254114298266, 230.6899860738056, 420.67220897498294, -97.59992174837386, 302.387442426074, 314.08385031610317, -258.7094657994086, -121.57612526425105, -386.52073457031315, -658.9610406092914, 366.5462086238381, 556.70851550001, -280.1940922211057, 528.6105783794857, -79.03877194121932, -407.77498688673774, 427.3562936366765, 502.3030754736424, -484.9024428608389, 18.927055487249728, -250.111670924997, 390.1074255643281, 495.88500166257217, 205.6194373233912, 19.460055679246057, 224.27524722027752, 500.6362758137036, 83.071881474507, -29.30803702558195, 579.4364298943649, 546.5693662309458, -250.45934248826808, -109.12774596135496, -343.9471410406393, 464.9004619919791, 25.675352609570588, 343.61460315757716], \"yaxis\": \"y\"}, {\"hovertemplate\": \"color=2<br>0=%{x}<br>1=%{y}<extra></extra>\", \"legendgroup\": \"2\", \"marker\": {\"color\": \"#EF553B\", \"symbol\": \"circle\"}, \"mode\": \"markers\", \"name\": \"2\", \"orientation\": \"v\", \"showlegend\": true, \"type\": \"scatter\", \"x\": [146.22357365617714, -943.3618578579401, -468.08963481709054, 676.4482302205416, 621.4449834574747, -485.3212789730436, -327.14145788900555, -168.3919428407127, 149.83977760018806, -602.5978320061326, 667.458007804196, 67.16285720436036, -120.1805049434975, 7.525083754250749, 560.8091321267681, 211.30812688099502, 37.377104412733004, -213.8558903032319, 250.66540021998887, 880.944857638851, -316.27833199415716, 512.6188859642848, 250.32917817357009, -35.742539584894246, -31.854176459333793, -377.7628469716183, 65.8563089811829, 1715.706664501283, -476.0002386434941, -668.5959910826015, -782.1029248315447, 157.41733961675357, -462.75105265634255, 77.70293706449637, 479.2878781889373, -810.4254385781591, 241.5677405168919, -101.71499024829146, -259.5028106281029, 453.4056430656045, -229.78904449648456, 304.7449741472795, -852.7309019811198, 206.0191030088254, -266.8646512197261, -911.1443450391896, -501.2773374109963, -296.4701162958983, -70.74193224727465, -164.2928223296082, 524.1633669707854, 516.447110874452, 61.141108758359486, 18.72627990445044, 188.32109556801004, -434.2059498835004, -100.3995088128404, 1057.9187606294183, 86.2959163476254, 344.11459460238837, -813.9833963278721, -61.186045255522814, -178.47137102841316, 341.4666541010063, 151.65163875775767, -104.95960544731363, 550.5714750109564, 747.4111334749408, 98.68546250989174, 297.3630100329621, -980.8502822785659, 721.6927495238327, 184.8365163367922, -64.06438963475073, 882.74725907908, 304.269741778292, -313.1658105895228, -1116.5666647012858, 437.5912587142361, 891.9332277094634, 418.59936375112875, -715.4436067086264, 592.9307739164202, 700.7597268349989, 585.4602274474944, -250.62922027424702, -538.0518644791513, -959.7834232496324, 702.8435409725664, 52.75817807276503, -620.8430408601641, 254.29632542528864, 236.48502185943485, 515.9770685607557, 66.7668478939134, -80.57676963007792, -162.31600703776294, 833.1362809202741, -849.1477892138497, -1053.3053541188035, -110.22266160056002, 933.6809707914748, 630.656772581721, 733.237286727229, 593.6879203603625, -835.0138455774368, 56.44107055698298, -185.73686870670338, -48.117960450089626, 465.60002962469684, 263.82581910235643, 294.96227735927465, -212.42734154270917, -350.59895576933496, -219.77749877349308, -392.1840195655569, -149.06577414174453, -62.173066950033224, 820.846943559955, -28.167831036028414, -28.167831036028414, 363.8428287814949, -652.0685153853788, -526.8583462256802, -707.0924856194858, -377.0668449204505, 318.8417686969919, -53.45391882605619, -90.26422323943355, -652.7235305245854, 12.651269999295351, -294.99386740711543, 311.2207578506834, 685.6981337701462, -484.92366025717644, 391.41953498499413, -331.83555411352853, -144.8992948541524, 405.3252081792712, -929.64811269121, -868.9137832034845, 576.728611979467, 135.54594276936768, -588.4000253378534, -171.5166293435491, 91.10906462784786, 1209.2608225739334, -456.0494799411411, -137.61698939193144, -85.740691241116, -551.961274946289, 319.73993494162727, -185.45421159988, 855.449192751366, -153.10729856511765, 115.81236919351359, 529.5589947502963, 56.91038411710664, -1039.5040931857125, 417.5259393147224, -207.1638905281383, -365.81971682760064, 689.2646084471482, -118.67416728609194, 650.6886237092398, 294.5371764649563, 114.84764890443435, 181.22301676268836], \"xaxis\": \"x\", \"y\": [80.49108109458932, -10.908405902641856, -900.9926424864746, 524.6573092175748, -332.7799720234088, -781.2829091509207, -207.6549727779385, 218.25876108202422, 650.1210898502229, -191.05035689708845, -295.831561180942, 20.47340919707168, 202.34518733542834, -42.64573732843734, -404.109623946326, -24.802490833171003, -52.73354350395147, -679.2444806065896, -289.13685633376434, -147.08779249341683, -1078.5019929328946, -60.28811330259751, -56.76171125879681, -404.79653636997944, 245.38075682760942, -208.5785603738482, -249.1633232860886, 435.1546725453883, -745.4734970831187, -60.92602065082036, -261.75595376812174, 502.2243183587018, 412.57029832626046, 181.39395365309377, 85.07190540984331, 293.28175907708487, 168.17224336110078, 52.86061975161115, 85.38525349708479, 454.93995842302235, -552.151240754175, 377.3694816607965, 165.42834671523485, 120.76458868149845, 400.5460442556461, -29.917934704557712, 260.3981427362613, -204.27210508283702, 189.0638500441718, -714.290737922726, -147.3847489791781, 248.4464849307559, -434.9902958232892, 257.14804727094, 48.70372634626988, 509.71736573170074, 356.77916092743254, 12.491186602717208, 40.81020709561802, 77.1578893015917, 338.78803826819427, 178.34250983784494, 158.08903372270711, -150.3718283647344, -158.8706153519519, 495.5390658625797, -422.09340120687233, 377.62825088120496, -321.10543608251174, 120.07220791259448, 76.69973999993653, -273.9680657584482, -534.461992777016, 76.08610809271487, 282.24859817847573, 407.62414749112907, 355.1193378021316, -138.79523624746537, -91.42199706477629, 45.58787571589325, -25.407793140246103, 384.95490660621266, 77.86761569268076, 27.46077373311907, -247.90436087728284, 598.9302194493742, 487.5984022807798, 270.4189685198705, -505.29340350361787, 4.451847748996636, 157.43468215835753, -208.1809096073901, -63.18732624697964, 318.3144812188838, -9.04060324601791, -579.0449047942017, 49.82553235205253, -59.20470836983403, 181.83136954024064, -156.2746001027107, 812.2879272666588, -171.61114621489608, 200.57905632421506, 127.5104429802246, 718.7492908000247, 296.5927677233083, -159.59544598421795, -547.3725847829319, -231.3057553233033, 312.9352633577144, -132.19005333552124, -297.948797958946, 501.3883632911161, 116.8425403902632, 251.82121816548576, -155.9685168491725, 139.6473740062763, -491.40040347469284, -97.76490087907185, -304.447139877529, -304.447139877529, 226.97053344660947, -915.3808583890668, -103.46966351669995, -439.30713228488423, 404.9042776250334, 615.1990543388664, -445.7181265753126, -501.1589020471695, 244.30650946165997, -53.719263736196005, -15.492773693832982, -309.3043681143877, 74.78158225535559, 118.30636170099558, 426.5379627366698, 443.2245885055136, -471.8157135282539, -727.8289669522901, -186.28220064922198, 264.6853957420632, 437.95532030978416, 449.820168023902, -168.7662252132831, 295.9624006242675, 186.20664058488867, 368.7808983806495, 636.7135399590194, 356.62076431703144, -276.38053305590427, -39.25532911142746, 190.47710042753744, 599.761749138773, -251.89922412072247, -78.15293651999211, -97.23444376442735, 117.70890932919357, -443.2802004230817, 106.06207589078701, 0.598825810539146, -196.87087234299958, 631.833611776375, 91.07110614334277, -81.67827870110297, -570.2449244536107, -279.55821497548544, 513.6916891557338, -474.198535406389], \"yaxis\": \"y\"}, {\"hovertemplate\": \"color=4<br>0=%{x}<br>1=%{y}<extra></extra>\", \"legendgroup\": \"4\", \"marker\": {\"color\": \"#00cc96\", \"symbol\": \"circle\"}, \"mode\": \"markers\", \"name\": \"4\", \"orientation\": \"v\", \"showlegend\": true, \"type\": \"scatter\", \"x\": [-177.11471774056298, -86.63136663586933, 154.08754908937723, 793.8187792589366, -30.750294679409976, -328.32327994838244, -197.51120694863044, -337.2939387404878, -772.3889666485352, 276.4112110457334, 412.8733436108218, -444.05552430752147, 262.4318457697846, 212.3403310484301, 504.1409518095569, -184.2982198569818, 641.7261298431787, 232.78898351732522, 633.6027368682511, -221.76465568936882, -555.0405521433245, -1090.5033820348065, 1020.8367294627991, -122.44394896773727, 288.1578798874388, -331.8569818770612, -843.888387550822, -953.5952279006801, 87.61482004464895, 313.1394861932553, -68.5222565427496, -272.44942907994385, 106.8703906015225, -771.9505541882908, -54.07512384612899, 180.80874661551286, -468.5702253226037, -1192.675001596374, 369.7910513405821, 208.89089571054404, -141.11216362165646, -182.03865856829435, 472.1924737568015, 607.0941718837537, -156.1199851990018, 329.9568537367046, -516.5629291136366, -815.4982805879223, -642.6066698992062, -220.93286099082644, 336.57330754623484, -135.70951635758115, 428.73566103507835, -317.8550512610944, 258.91837334154354, -101.53375122684565, 723.7244901685547, -33.68621813451494, 760.7206777899627, 516.208862439248, 269.2287054296943, -130.87834088069897, -272.2225199172363, -235.2295159151695, 333.93942191306286, 764.6594850312752, -359.8763926542304, 200.44733139621482, 934.8439798866341, 7.098061456638195, 87.7390575398933, -296.04355072736183, -340.4411470826703, 612.3132254998424, -847.1068570107191, 655.774628210284, 164.9187661695158, -50.84231855106934, 193.09387651817076, 464.6416176052523, -315.00900482131226, -619.9441032870458, -119.23198097803848, -105.283800253032, -926.661567061162, -299.0859366131441, -59.14040281658496, -343.93099064679126, 765.0103719458418, 1276.679833595681, -590.0781643608058, -42.6988137414033, 508.7192773488941, -538.9637303259162, 207.34288627543188, 297.9897179474635, -312.17886020471025, 157.91478112376285, 89.85120066166571, 680.2862929867154, 131.03118131438825, -750.8809511202724, -73.05652394958987, 502.28696955017, 416.0052702453895, -250.4917843643234, 335.7648665176658, 692.1314168510744, -728.3218126187571, -554.5342572620244, -539.4929583662303, 76.71314893020363, 126.83079600828448, 466.8287727762501, 540.4741837136012, -237.98313401205996, -781.3824694137861, -641.7961854144957, -79.98362334209213, 623.3191780481274, -554.8207541966782, -160.1595482522862, -141.38524438689876, 823.6321284541062, 210.24600029662594, 6.525370172449098, -565.217701428634, 52.2827846988485, -204.38375772415168, -1102.09083504244, 281.31520355262796, 661.4554206104269, -692.4805935670495, 168.86197699126902, 170.513054912792, 736.5561200428882, 4.233602796034302, -110.36651820963165, 225.34189448197512, 180.5691977165752, 106.71357849708598, -351.7694444145891, -88.30895778200541, -699.1882613295895, 34.74680612407631, -448.70072613380984, -730.1239171242597, -686.5090707062734, -478.68655737334245, -26.822338694417095, -52.04045388145751, -356.017539373931, 224.48568514549873], \"xaxis\": \"x\", \"y\": [499.52093776822886, -87.57772747052236, 151.5465337521191, -196.08108384895357, -783.3493486507039, 6.578368321297191, 531.4212217766895, -524.1244286275743, 170.4652415534055, -91.3905528929515, 361.9619981578616, -67.7169073602357, 433.8863954804907, 284.2877743229061, -275.95891938138556, 527.7820045711424, -238.09250232873148, 212.19414920363613, -362.6833956235038, 351.08902154677554, 218.48428389549, -266.6601290804946, 555.892424328183, -415.24615308787287, -569.7539063667708, -260.3333857324771, 189.4983814345659, -24.583194202290716, 220.98865469492898, -284.0814147804158, -39.953328596589316, 596.9814615525167, 449.48235756258117, -282.73066471169045, 666.9161411165801, -41.070720685810244, -172.13469280891388, -195.69407764673338, 112.9354570512892, 612.0988155749945, 82.28322336867974, 427.1541953717488, 396.8922774966356, -64.66470661968339, -251.34130975044064, 46.55479404131883, 302.76189802062527, 218.85065898633655, 201.99508974506725, 402.72483907513606, -106.28503284408683, 47.668296989062576, -138.81744869092057, 447.25585268530864, 17.57344186521021, -89.62366820149323, 732.5405316343796, 122.70387822530911, 47.40658953454153, -487.00343301931287, 225.15668869869518, -6.863096493428599, -287.5817960213918, 3.671396135146848, -208.02441240713313, 437.42482415312674, -489.68879184425, -227.36527120338837, -404.8155304218082, 455.91151822310843, 698.4946359961115, 529.0128010646669, 300.2566075805159, 211.85132450058077, 92.09182485769178, -164.49174463668797, 795.1348236889058, -484.39232892083805, -125.78311776245755, -443.864449727648, 268.30787817294345, -561.0492084749932, 290.42360580351715, 210.9568907822648, 126.95916882375765, -214.45634268056935, 69.08778746975942, 281.2866327877817, 28.48790378687215, 342.1241041508632, -170.67501875984175, 343.82113531527756, -153.26040349495642, 77.23142411033605, 364.7328650077434, 145.69646968181485, 268.3223948960441, -333.44720469711797, 296.85062014490956, -6.223016610753889, -636.7795118509991, -423.96771676674047, 267.1204488852556, 418.2391422446392, 341.9682456854243, -26.596773138831214, -17.191754987987846, -678.549733544707, -13.253825336177465, -262.3311075003809, -46.69581837772344, 392.7740391377546, 465.364826998534, -157.61411666938426, -594.5576718259952, 564.9434340873914, -299.10293014188744, -593.7253200849688, 336.49235202722747, 22.091605712867956, -142.72526417018958, 222.40435913500198, -292.14071852627126, 414.6255612499127, -219.65267791450725, -448.78054995879, 15.188911568653907, 634.876290482482, 340.76795173970277, -105.57564984311217, -280.49092066920366, -18.7522510810865, -348.9560066900984, 7.970825681832751, 245.70646404866548, -357.946495529626, 148.23073381905536, 375.0856870353485, 198.53274218568632, -44.72034854907889, -403.68755509812905, 175.6380047875747, -65.38391624141286, -305.5329756967511, -164.93392608435494, 649.6685014915685, -73.1574460395492, -621.3052843347986, 535.6772782378259, 671.5857471017428, 531.1063602626534, -167.6603652815608, 942.3393057492879], \"yaxis\": \"y\"}, {\"hovertemplate\": \"color=6<br>0=%{x}<br>1=%{y}<extra></extra>\", \"legendgroup\": \"6\", \"marker\": {\"color\": \"#ab63fa\", \"symbol\": \"circle\"}, \"mode\": \"markers\", \"name\": \"6\", \"orientation\": \"v\", \"showlegend\": true, \"type\": \"scatter\", \"x\": [422.14470926597664, 18.45853655415798, 533.7119889190898, -240.51114183478686, 87.87224942575355, -102.01272867218023, -282.9060389988855, -700.2944301976551, 63.64386803753171, -173.65956849465832, 588.0923974483062, 466.73064669645106, -703.2100520293994, -315.9747048279026, 660.3883960594841, -95.8189271316095, -13.083259171824746, -553.9652720465069, 72.03855089437855, 78.47125760818543, -122.39387705773441, 451.21467300248247, 380.9236746736567, -757.4565509160916, 693.3733234309365, -15.584332137502193, 47.70625808567608, 752.6265691487163, -2.699895933643375, -237.24422027462606, -757.8772428722826, -153.50995599180442, -127.91642775053938, -890.571329698615, 25.221686414514572, 335.34654976170845, -370.4057187908434, 523.8448036446715, 426.74240292467886, 49.2700255531145, -744.4213608418187, 44.04636572377135, -269.67910837089323, 674.9013681554131, -83.06952843813664, 175.98297487931052, 154.16392528198236, 687.3846083706077, 338.8570226090215, 127.4785588689741, 226.73718848090687, 548.7923913190496, 881.8217469194793, -989.1036563515889, -651.6088374372313, 257.27210671262185, 581.8337426978555, -83.36030281523469, -962.4740346335057, 436.46611083167573, 711.2540136951527, -1394.948528154048, -418.0770872053587, -976.2237407117293, 954.7421327135569, 996.4735344670203, -511.19605860938714, 93.9643607960214, 48.92849370093178, -126.1842182923791, -994.7774858297696, 342.5646948977534, 152.58606797336824, -132.0962235003497, 406.95691400328036, -630.5419001726563, -367.6092541908647, 645.3429496601133, -128.88025947393442, -48.81640972853381, -1068.9691154409786, -620.0053691295661, 528.0803944126019, -207.9083077384171, 799.9704754367467, 185.60436957807593, -58.13546633335832, 742.4726774679579, -544.5243382000793, -654.6520706410051, -17.068584528330646, 406.76022087043094, 281.46448959738007, -638.6400493510566, 991.2335437150747, 465.9658811942777, 84.9273584154072, -169.31771829353715, 344.1465983985731, 642.3370472705499, -324.2410453060747, -641.1461852106098, -263.81390814319064, 240.57512862564639, 432.0495519344781, -436.72423101051567, 558.1082441239689, 454.92176130331603, -833.0848678201245, 6.3379209778356405, 101.837419858944, -427.6275260498131, -217.77268425911868, 955.5572689016417, -25.286487217995546, -137.27753341752282, -2.6667682748266306, -158.22113818666966, 431.22925713397404, 512.4774731059657, -445.9580672375523, 503.18213473689804, -75.77355055663766, 676.1215260201549, 32.2430536771669, 216.13525026409226, -835.4945227310683, 167.07862417682455, 31.73026995171291, -271.12033069215124, -166.931603148173, -523.1521713456176, -14.322886142583236, 551.9169672360277, -887.6247600624835, 761.7676381431723, -758.831963007725, 468.63958966806086, -401.15092256990255, -243.60870081168815, 118.62251013784248, -628.6488459638313, -402.82763151379686, 125.00211790816805, -1204.48691419812, 243.45860160813237, 839.8146923568798, -774.3173626163423, -530.8862321330147, -266.67229106601263, 235.86575607770655, 435.8186811640071, -702.5932621914218, -611.0512255478801, 354.6049494969714, -442.3380733377655, -1145.5119270597384, -156.4302959662906, -578.0480356242665, 630.1034225017839, -165.1417975705625, -878.3342971992973, -188.10506824566346, -401.9327932003392, -601.5402396942965, 1020.026749829448, -573.7204276857051, -591.3549281221174, -496.81176942207503, -178.45840689996467, -163.09979810099003], \"xaxis\": \"x\", \"y\": [-415.93816686076417, 0.30215636114343447, -312.0830678359402, 67.9833386221117, -72.53145279174603, 426.5189716012722, 279.5721141624697, -303.9907681858908, -259.6007560630719, 246.54921133891753, 298.93655505714713, -318.3005480099334, 440.7512997888875, -366.3175677126737, -78.30792994674998, 80.66515715741801, -707.4751080026134, 318.14142114701076, 237.41597968098026, 557.3418500766044, -170.03247025501398, -141.74787596926595, 555.819814825279, -499.5450309208919, 1293.6189221424975, 240.09814611761064, 626.0662147714396, -387.050866245771, 252.27527653769792, -756.4461756733467, -467.4636901414201, 372.1319526486915, 501.2390887558412, 333.7476348344926, 194.3663639035735, -599.1131286982172, 271.16921783433537, -98.04930247854307, -312.02650007472613, 322.8789315740756, 163.98895731136616, 17.336714080657224, 397.29649740884076, 689.4540080241648, 54.6230373793226, 298.1065581232572, -293.35382162213386, -485.3321457058187, -428.22813965183326, -155.18328841112626, 39.587927800744744, 247.50317093140217, -77.40653681821556, 140.89847336146605, -234.9487116595305, -519.5243717687468, 210.02488348489774, 657.8595549885887, -79.63816958772952, 294.78664171705884, -222.24063682287954, -99.81704822514068, 265.2007114889154, 67.30047211582124, -293.61493227096196, -266.3158426492019, -437.3519373106888, -259.1533590152522, 10.158493425789015, -356.41463693038867, -105.97544609425245, -236.4233539441568, -371.2834859997436, 389.898252150583, -399.32212459384726, 366.34332860899747, 66.541925025463, 620.1224839484128, -145.94819468155816, 179.77833452749033, 8.21138519317754, -839.38003235579, -201.39980592796306, -387.61250302696874, -430.5731276518136, 124.94057359414414, 255.57240516428718, -412.24081552140456, -98.6898020043213, 325.57724494440913, 38.03021312596097, -495.1506594701734, 67.07730522710803, -103.67914893617113, -33.40895312132343, -194.1064923414846, -166.71784866450474, -102.10972097505086, 249.52784290062127, -329.1533183846346, 529.6153263112292, 233.15624392589567, -247.54403476365488, -283.7310141898915, 237.01062357167584, 149.82013324081603, -176.4469700648089, -456.36852087265044, -352.72765308297966, 550.7239887322772, -24.294887710308583, 396.11421166846833, 123.5505669572796, 716.6564361893256, 343.17203841723864, 153.3925960993106, 169.5859553414092, 428.65379486212163, -19.567599593374183, 192.44786971807045, 87.2176484611364, -678.5616194229191, 186.068008541263, -476.46980352791707, 55.66461179401395, 58.08468789865404, -321.71151419916026, -126.64982234202785, 464.65692801573624, -334.50226901857826, 257.1505783458064, 120.97983287614211, 361.97282003095586, 554.7847494290219, -289.62563691917615, 229.08820604320118, 193.50681300729983, -289.9427114059793, 582.8477952224231, -136.8583420310565, -659.3736790428613, 271.286006938524, 655.9513559801608, 359.263718293363, -74.20737032879448, -328.49738063389896, -354.23004458983416, -59.104583667364096, 223.08874349324742, -507.1961373064694, -348.26136148032157, -356.9451820487338, 239.3683161241743, 456.7635491571019, 235.53300911278944, 485.5178578705759, -270.80074731720066, -460.2634676447642, 25.73923705824514, -428.67499772670226, -117.9834787846834, -249.33353062152608, -731.1118532204073, -888.2361820090773, 490.8834641558894, 33.47263854608047, -281.80496674968407, 301.1736049053502, -219.7718819337039, -541.5545577063087, -386.15540902109126], \"yaxis\": \"y\"}, {\"hovertemplate\": \"color=3<br>0=%{x}<br>1=%{y}<extra></extra>\", \"legendgroup\": \"3\", \"marker\": {\"color\": \"#FFA15A\", \"symbol\": \"circle\"}, \"mode\": \"markers\", \"name\": \"3\", \"orientation\": \"v\", \"showlegend\": true, \"type\": \"scatter\", \"x\": [263.9341035272706, -139.05655860075933, 38.89713784899782, -144.915200166689, -106.0554518540735, -504.7883845498665, -393.9127490848482, 570.219999442949, 234.63590531841243, 368.14299763016044, -1035.372439500763, -689.1959157314869, 165.13675177489844, -117.44695728043331, -732.7087360980989, 361.5658189391404, 430.327487887888, -33.090023454339835, 89.90789240175455, 50.13282865775362, -950.1128863965782, -163.99776387551066, -165.00466447310004, -555.3619014254056, -451.86415179725014, 793.4052517489908, -1197.6134194267668, 731.9249006690285, -482.1874099784325, -119.28150649466544, 106.59653591389046, -1157.4032403233018, 170.65375328038206, -92.30905865066245, 472.6765072980473, 17.094542978303554, 133.61851664910992, 340.76497732794326, 312.90726673719524, -463.40928267416245, -749.8849121785698, -913.9498575591335, 439.011659190573, -320.8436088610529, 779.3487866509649, 1037.2272481425593, 472.19953474608366, 554.3954998788661, -432.19943710710345, 460.3059695783031, 28.96793882552026, -551.4289772603934, 350.7878734277995, 248.757726801901, 205.1534068625697, -667.8058601921182, -166.32825359486083, 187.39085881553652, 803.6238551796301, 6.037259049168358, 435.989382856835, -632.4739152009089, 147.8433697756267, -160.79035010645777, 254.71343863409427, 489.0147552121867, -644.4220152952122, -429.5728175888088, -262.31705015001205, -116.5784567391888, 341.01238775953334, -22.19573553770363, -499.6425918133748, -237.27183507746565, -450.86013926690384, -15.027589526219232, 384.12050798909854, 530.4975263588692, 495.3142536164851, -609.970720993241, 405.5972659724003, -668.5308458967166, -379.19132726496963, 312.8929763780768, -631.3553543295053, 112.03049898848211, -955.996058184419, 348.4318480182237, 984.4612786557769, -792.4445831175907, -483.2451837028255, 495.690960290082, 108.38914039726104, -195.51454746114703, 33.81391015343963, -745.5979011732754, -250.52190619011228, 531.6482592100975, -297.3820065031954, 157.01044185701974, -458.90492151704615, -325.59641402295983, 563.3280241167103, -171.9364637104786, 50.69597999654181, 308.1292060197353, -133.5703272179616, -891.4886891597687, 11.313370335216797, 678.2915126831282, -230.36938705672083, 25.80842444330785, -517.9757989733654, 128.069060182451, -421.2986072747861, 280.2592317990664, 430.15200021584474, 749.6840748632026, 522.6434889426944, 318.2994031732391, 354.73585120843063, -692.8979310920286, -439.1369728704622, 140.87170545531043, 162.37132275883394, -311.2016733272423, -263.6747220024112, -524.9401966627319, 815.0527920318077, -65.9970753949935, -255.23489866776688, -298.00763816044054, -32.377782910182354, 338.2271585933486, -247.12207127306175, 274.3071668777577, 496.8208470025961, -446.92643606077945, -300.1709013076623, 503.70402317952266, 342.0934931279533, 114.72113137052337, 372.4105209114994, 255.5630250813122, -199.11024595784838, -1132.380188660953, 248.1236887019176, 303.52195928881736, 426.98288731516294, -2.72977452966992, -851.9534516491259, 50.805107727878955, 610.2353100808776, 660.3090234206736, 676.5800390746938, -160.6526965528747, 775.4671494142227, -313.15724584518244, 89.88241236554788, -226.8653134612584, -858.8703070299656, 423.33015469290507, 9.389278342413839, -758.1125189635295, 202.78308631728615, -635.1673381633727, 350.6209429011996, 358.66824029049434, -1115.007138944052, 236.55449388851022, 683.5377269120326, -640.4245094960112, -621.5508282647017, 234.60826364426322, 1037.024598868346, 345.08584795473104, 6.42065466875746, 90.81935599744466, -363.28922774442054, 308.3691298241191, -49.759614505703134, -942.5021294274839, -873.23273066377, 333.8700614062382, 693.1353164260745, -523.6315546540701, -812.3592230296222, 542.2893356154552, -174.0453622747496, -292.6462981325634, 890.5391822645345, 128.83894847035802, 279.31916594050654, -212.86843051690335, -388.12800974832254, 221.37333131454739, 349.07167891765977, 235.41687194351695, 325.6205726866344, 61.55883732427683, 126.30334651162978, -591.8072884376131, 260.09604859062034, -469.05012335324864, -628.4125043458082, 307.48929206140537, 263.87445930882575, -368.4218777063538, -711.6672059416439, -140.44352440234817, -246.50368132494444, -425.9543154094685, -133.25083416413005, -218.08498348242583, 876.9703081277967, -489.09816907618074, 573.7340414299299, -291.98282048637475, 755.6209780724827, -431.5433084414404, -349.76573013562927], \"xaxis\": \"x\", \"y\": [766.5464615117734, 412.3372856090601, -232.8253106626143, -259.5419433297558, 123.21010403102764, 103.27200109250302, 120.21549563859365, 3.331461142484371, -119.47120001727046, -120.16036542451545, -197.83608421508055, -108.80361280157356, -787.5051626789605, 586.060734823984, 273.9870508111948, 10.54643302020458, -494.4385549539003, 519.5643990730039, -341.5807725812736, 569.6930859450363, -367.2987101323843, 32.00278385173294, -85.5429478213698, 285.925333660524, 308.72241822563444, 323.59780515326634, -18.141121817369687, -171.1810737819822, -32.43156011603342, 120.94048093873695, 316.46883112428736, 100.4386334433997, 323.6123212032341, -213.96389082424272, -299.8337964646056, -574.779162674309, 199.69169611341977, 71.6874263553125, 205.76863210629668, 606.5023736080553, -149.612452305849, -138.05694516400314, -283.28105387104137, -70.83681263490966, -118.76384038184081, 512.6116199520097, -305.17096627767427, 207.87198815798746, -182.71920491720593, -367.97034287923555, -485.9496634077352, 94.05697592231378, -419.71827057404494, 618.601828519152, 553.0523403210402, 94.06535280988926, 436.1910804511096, -5.196526834275569, -102.24573788429532, -215.73332478916265, -573.5626743425813, -217.5744231242969, 473.5384191711991, -816.8544198998892, 738.2653165557921, -10.433974104669574, 44.771793079462064, -775.2301006482909, 627.3266090596862, -574.5733665940792, -8.90741779635492, -128.6236780667777, 415.17087336765184, -552.8386409352233, 57.833295470943604, -21.190940439432225, 454.3590965753879, -828.9164356547959, 316.1371514908065, 472.9211810682168, -320.46249232457996, -408.23179996965507, 4.511257923038369, -453.1267098886731, -251.03286266742938, -218.58422114883066, 50.34364373111079, 248.06178440419274, 257.44842740306007, 134.33595660423686, 290.614707738706, 297.2304368725672, 151.61944815499342, 17.195433914018444, -119.46380854058194, 160.6119710915065, -236.10608807320943, 502.785909038553, -387.2296463696413, -795.5757254793632, 131.9597288599387, 260.92074940746016, 119.05177154148288, -453.0721836899717, 525.4895859541501, 298.6083868713524, 84.18901034058104, -533.5247019375698, -42.98153187909749, 607.591282608642, -226.15794205846774, -91.21716805187503, -377.8390242877461, 370.69451859150803, -225.85176125530836, 350.0337793333447, 508.27827620937956, 10.414157125724534, -313.42773125840955, -341.89276888970625, 589.9864505240921, 525.5039921312948, 163.4033680773955, -489.31347070817895, 88.37025448659413, -471.09562565122627, 114.35025673179429, 73.39574159842839, 58.099859066096016, -80.25488413147423, -327.408378822028, -421.5043796932481, 523.1332363880919, -454.6977968837023, 394.7966589546487, 387.4304437397243, -310.27581462793313, -170.93070632196216, 125.20920879409923, 550.8693455584367, -664.0010142183681, 531.3086715914105, 241.01297721174953, -618.6150078387037, -773.4526476425054, 2.5132655248462825, -138.69629972881654, -397.35082979008274, 376.0019720591618, 425.6916594641843, 346.8112716600752, -163.97750968656206, -410.2631509921342, 727.9594551340339, 234.41247383013595, 400.80924244134826, -366.77532563337235, -203.3808577116801, 811.5438585565712, -481.8292864112576, 80.61634005544934, 432.2029529742078, 147.3210081595174, 286.4076731838742, -499.52481427293515, 401.3485175255385, 219.60958695178294, -26.406701109764697, 134.87827570713765, 333.99942633713584, -354.9503566442647, 296.0042663235077, 116.2761941946665, -28.7936379633133, -99.54540483716431, -572.3108938624758, -133.02412790483163, -84.18594087895453, 270.2358226938919, 230.628596846522, -27.42391785147632, -286.1424418100365, 326.68870646973227, 466.53423838734153, 325.4651763249735, 187.78305809067572, -420.5370310384195, -379.6008188064779, -776.3378340854897, -550.5778522937491, -52.94771761222786, -369.60568465340054, -392.3325059749444, 330.93414472361684, -445.65523439843867, -12.832515811531632, 418.2299789401869, 211.78767664634296, 589.9449682557774, -203.2668482531311, 228.6998621506076, 219.8398522996103, 177.05961478298835, 37.66711249651631, -282.514136147517, 397.5757478254372, 710.9639684546654, 392.6745587762688, -153.53373028325925, -940.5598990360364, 518.9044743900812, 472.76061047037695, 325.3828215239588, -460.4680458033059, 3.355354975687499, -837.4062601360307, 128.23713331909232, -933.9688223917643, -20.693807583591454, -338.33015718978316, 203.64089943093674], \"yaxis\": \"y\"}, {\"hovertemplate\": \"color=5<br>0=%{x}<br>1=%{y}<extra></extra>\", \"legendgroup\": \"5\", \"marker\": {\"color\": \"#19d3f3\", \"symbol\": \"circle\"}, \"mode\": \"markers\", \"name\": \"5\", \"orientation\": \"v\", \"showlegend\": true, \"type\": \"scatter\", \"x\": [-1196.9390655010814, 76.64306293051196, -547.830875156105, 399.3972385209707, 313.72714733256333, -415.3387984270082, 429.8183949443047, 486.40825086005833, -629.2597249041484, 196.7282656641615, -160.317085513178, 682.836111137195, -825.4606625324133, 110.1496251044554, -389.66633985495383, 249.913132184881, -457.5696101575488, -635.9416074031772, 536.1657537373646, 627.4301642678262, 276.16523250835326, -352.19133539137647, -297.2035781758485, 259.2217853863717, -124.83564817534034, -62.070992661156374, -424.16286691828526, 550.5655620076045, 103.83809953222223, -293.0505439555061, 744.2440382464569, 497.15834171223463, -201.83155628705666, 344.08215149783956, 43.35437538358543, 168.99423265080586, 732.2592218043349, 13.256984658317785, 209.07016898110473, 154.65936098573115, -1355.9716990960274, -702.3393310054794, 250.23186745270195, 292.88875100575416, 397.9543064882049, -629.4859796165453, -698.124952266757, 262.6641341259263, -223.22384931612382, -750.995233568101, 169.7843141687437, 343.8525612039667, 507.5374664032902, 484.60066839403714, 513.708457403366, 336.2676147696966, 338.89034981495604, 105.97628894717629, 244.18329566440335, 614.2473183337829, 297.0385235449434, 35.18972909247964, 57.14967258930357, -277.13696280457526, 3.9399797623787283, -209.9396473547162, 351.9972880954985, 181.65614722818722, -528.9914863122934, -185.14914483309377, -800.6628332168118, -226.25640967346627, 143.40635496231224, -337.5875744886293, 393.25146220558514, 583.5241018214583, 22.140077190641954, 486.24420963751, 485.5230974726499, 515.0737924234335, 187.84690856792312, -300.10487356578244, 732.2592218043349, -548.4308828351432, -982.0397313200807, -123.08037144099254, -1092.1637301875146, 356.4423464809646, 266.79393598664393, 71.04390863657488, -410.38935569467253, 653.2277320765154, -127.2582174207314, 742.65938774603, 554.9531721836477, -574.5561608624871, -346.25632897439004, 16.730512782942466, -1059.8123942325642, 698.5565698417537, -461.3245279615188, 309.78612861431293, 337.4034891457883, 443.522711714392, -11.238586421294375, -272.11405153319805, 229.62452645083363, 246.0070712959421, 30.11844140143598, -162.093135949601, -209.26950943236818, -195.1524498127126, 264.35162754015795, -470.41450283815124, 420.3869425318539, -276.5380183385436, -69.38915578489609, -64.87266051755684, 255.20732120539003, 621.5134057882221, 141.32857533103856, -50.695588801410416], \"xaxis\": \"x\", \"y\": [19.819203484059386, 354.75382973363764, -312.39722844619666, -562.0118815195991, 300.09195118063093, -812.0379397670351, 203.45322047410644, -363.66946047960465, -148.49844244224587, -375.5313956411112, -66.83787185720982, -445.6433435200433, -16.61481094384109, -190.63514543050707, 29.997110664901573, 283.78777484415224, -659.2924361947261, -140.30605200754184, -567.5006168533826, 310.5138550367347, 115.94294246498936, 273.6420024492212, -254.7794500134239, -409.64827139279015, -150.92897216264322, -341.85905950307273, 142.7421706814089, 45.30625827936733, -99.72544593219396, -162.4975620914135, -279.85314099555814, 378.01696180167323, -931.5754061170527, -219.56460759674331, 332.01886616753484, 222.3600620856479, -578.6676384307858, -443.40555117375607, -466.24652300967506, 200.64672690567542, -83.70071174284284, -154.12094650589253, 456.5203460889481, -62.4723325070287, -425.7371645829612, -355.9467821369461, -226.82353009681572, -577.6420049005633, -288.0781809572547, 280.4022540138534, 358.92888214267157, -237.97471228427207, -0.9956966375761158, -323.79409561759996, 171.57112166059048, -474.2331409771336, -382.04020527925184, -163.51148506868114, -604.6132322380203, -278.50542854052065, -192.8062257593931, 255.49850705019009, 353.4755149869143, -158.74530513045542, -107.04166407658636, 240.30829155387264, 3.2787807270693397, 140.6993793342178, 536.0078160767541, 324.30797142008277, -170.52467562427537, -86.37253078485988, -150.19540443979207, 376.1118938548534, -477.1185438052299, -637.8287736920553, -521.0511434921958, 152.92046575421764, -504.8451927226986, -453.46044231879426, -670.3921075740956, 170.33440675668797, -578.6676384307858, -528.727180090484, 15.983495633957855, 337.8964743992161, 61.217128945851606, 108.18832587376943, -305.55356227687537, 524.5816040711076, 111.24005726651718, -29.446515084481888, 500.2167175989553, -274.2588974032131, -390.3063425927958, -15.195040633965684, 411.1881271111296, -20.368501482411954, -333.72698416340796, -411.03071189255746, 25.13654050824348, 482.9086886190568, 255.52203922711323, 54.790943225505124, 206.9116466088619, -583.796374366957, 325.4511895509843, -586.7330091090714, 358.58230798503405, -496.9373595197403, -910.7896303282963, -464.8978308246509, 102.45718040096777, 346.54471759809775, -62.065225674482186, 262.33928254697514, 36.184912747162585, 135.11795588209122, -751.4065708998199, -619.3396602457135, 859.7128406346036, 86.96908437537986], \"yaxis\": \"y\"}, {\"hovertemplate\": \"color=1<br>0=%{x}<br>1=%{y}<extra></extra>\", \"legendgroup\": \"1\", \"marker\": {\"color\": \"#FF6692\", \"symbol\": \"circle\"}, \"mode\": \"markers\", \"name\": \"1\", \"orientation\": \"v\", \"showlegend\": true, \"type\": \"scatter\", \"x\": [-583.6899415261405, -356.67101104048254, -644.7578574884668, -57.4855304952927, -650.4963118110827, 189.30345798981884, 485.6170686071063, -73.43213498165198, 285.48477715546693, -228.7107834972452, 394.5902279146312], \"xaxis\": \"x\", \"y\": [86.63429428668388, -155.0893618936957, -104.87038949595626, 680.9024025658105, 96.30290419175672, -384.475006040215, -108.25857868503957, -297.03844651879865, -533.1361071981433, -45.93874265829134, 37.03276204648746], \"yaxis\": \"y\"}],                        {\"legend\": {\"title\": {\"text\": \"color\"}, \"tracegroupgap\": 0}, \"template\": {\"data\": {\"bar\": [{\"error_x\": {\"color\": \"#2a3f5f\"}, \"error_y\": {\"color\": \"#2a3f5f\"}, \"marker\": {\"line\": {\"color\": \"#E5ECF6\", \"width\": 0.5}}, \"type\": \"bar\"}], \"barpolar\": [{\"marker\": {\"line\": {\"color\": \"#E5ECF6\", \"width\": 0.5}}, \"type\": \"barpolar\"}], \"carpet\": [{\"aaxis\": {\"endlinecolor\": \"#2a3f5f\", \"gridcolor\": \"white\", \"linecolor\": \"white\", \"minorgridcolor\": \"white\", \"startlinecolor\": \"#2a3f5f\"}, \"baxis\": {\"endlinecolor\": \"#2a3f5f\", \"gridcolor\": \"white\", \"linecolor\": \"white\", \"minorgridcolor\": \"white\", \"startlinecolor\": \"#2a3f5f\"}, \"type\": \"carpet\"}], \"choropleth\": [{\"colorbar\": {\"outlinewidth\": 0, \"ticks\": \"\"}, \"type\": \"choropleth\"}], \"contour\": [{\"colorbar\": {\"outlinewidth\": 0, \"ticks\": \"\"}, \"colorscale\": [[0.0, \"#0d0887\"], [0.1111111111111111, \"#46039f\"], [0.2222222222222222, \"#7201a8\"], [0.3333333333333333, \"#9c179e\"], [0.4444444444444444, \"#bd3786\"], [0.5555555555555556, \"#d8576b\"], [0.6666666666666666, \"#ed7953\"], [0.7777777777777778, \"#fb9f3a\"], [0.8888888888888888, \"#fdca26\"], [1.0, \"#f0f921\"]], \"type\": \"contour\"}], \"contourcarpet\": [{\"colorbar\": {\"outlinewidth\": 0, \"ticks\": \"\"}, \"type\": \"contourcarpet\"}], \"heatmap\": [{\"colorbar\": {\"outlinewidth\": 0, \"ticks\": \"\"}, \"colorscale\": [[0.0, \"#0d0887\"], [0.1111111111111111, \"#46039f\"], [0.2222222222222222, \"#7201a8\"], [0.3333333333333333, \"#9c179e\"], [0.4444444444444444, \"#bd3786\"], [0.5555555555555556, \"#d8576b\"], [0.6666666666666666, \"#ed7953\"], [0.7777777777777778, \"#fb9f3a\"], [0.8888888888888888, \"#fdca26\"], [1.0, \"#f0f921\"]], \"type\": \"heatmap\"}], \"heatmapgl\": [{\"colorbar\": {\"outlinewidth\": 0, \"ticks\": \"\"}, \"colorscale\": [[0.0, \"#0d0887\"], [0.1111111111111111, \"#46039f\"], [0.2222222222222222, \"#7201a8\"], [0.3333333333333333, \"#9c179e\"], [0.4444444444444444, \"#bd3786\"], [0.5555555555555556, \"#d8576b\"], [0.6666666666666666, \"#ed7953\"], [0.7777777777777778, \"#fb9f3a\"], [0.8888888888888888, \"#fdca26\"], [1.0, \"#f0f921\"]], \"type\": \"heatmapgl\"}], \"histogram\": [{\"marker\": {\"colorbar\": {\"outlinewidth\": 0, \"ticks\": \"\"}}, \"type\": \"histogram\"}], \"histogram2d\": [{\"colorbar\": {\"outlinewidth\": 0, \"ticks\": \"\"}, \"colorscale\": [[0.0, \"#0d0887\"], [0.1111111111111111, \"#46039f\"], [0.2222222222222222, \"#7201a8\"], [0.3333333333333333, \"#9c179e\"], [0.4444444444444444, \"#bd3786\"], [0.5555555555555556, \"#d8576b\"], [0.6666666666666666, \"#ed7953\"], [0.7777777777777778, \"#fb9f3a\"], [0.8888888888888888, \"#fdca26\"], [1.0, \"#f0f921\"]], \"type\": \"histogram2d\"}], \"histogram2dcontour\": [{\"colorbar\": {\"outlinewidth\": 0, \"ticks\": \"\"}, \"colorscale\": [[0.0, \"#0d0887\"], [0.1111111111111111, \"#46039f\"], [0.2222222222222222, \"#7201a8\"], [0.3333333333333333, \"#9c179e\"], [0.4444444444444444, \"#bd3786\"], [0.5555555555555556, \"#d8576b\"], [0.6666666666666666, \"#ed7953\"], [0.7777777777777778, \"#fb9f3a\"], [0.8888888888888888, \"#fdca26\"], [1.0, \"#f0f921\"]], \"type\": \"histogram2dcontour\"}], \"mesh3d\": [{\"colorbar\": {\"outlinewidth\": 0, \"ticks\": \"\"}, \"type\": \"mesh3d\"}], \"parcoords\": [{\"line\": {\"colorbar\": {\"outlinewidth\": 0, \"ticks\": \"\"}}, \"type\": \"parcoords\"}], \"pie\": [{\"automargin\": true, \"type\": \"pie\"}], \"scatter\": [{\"marker\": {\"colorbar\": {\"outlinewidth\": 0, \"ticks\": \"\"}}, \"type\": \"scatter\"}], \"scatter3d\": [{\"line\": {\"colorbar\": {\"outlinewidth\": 0, \"ticks\": \"\"}}, \"marker\": {\"colorbar\": {\"outlinewidth\": 0, \"ticks\": \"\"}}, \"type\": \"scatter3d\"}], \"scattercarpet\": [{\"marker\": {\"colorbar\": {\"outlinewidth\": 0, \"ticks\": \"\"}}, \"type\": \"scattercarpet\"}], \"scattergeo\": [{\"marker\": {\"colorbar\": {\"outlinewidth\": 0, \"ticks\": \"\"}}, \"type\": \"scattergeo\"}], \"scattergl\": [{\"marker\": {\"colorbar\": {\"outlinewidth\": 0, \"ticks\": \"\"}}, \"type\": \"scattergl\"}], \"scattermapbox\": [{\"marker\": {\"colorbar\": {\"outlinewidth\": 0, \"ticks\": \"\"}}, \"type\": \"scattermapbox\"}], \"scatterpolar\": [{\"marker\": {\"colorbar\": {\"outlinewidth\": 0, \"ticks\": \"\"}}, \"type\": \"scatterpolar\"}], \"scatterpolargl\": [{\"marker\": {\"colorbar\": {\"outlinewidth\": 0, \"ticks\": \"\"}}, \"type\": \"scatterpolargl\"}], \"scatterternary\": [{\"marker\": {\"colorbar\": {\"outlinewidth\": 0, \"ticks\": \"\"}}, \"type\": \"scatterternary\"}], \"surface\": [{\"colorbar\": {\"outlinewidth\": 0, \"ticks\": \"\"}, \"colorscale\": [[0.0, \"#0d0887\"], [0.1111111111111111, \"#46039f\"], [0.2222222222222222, \"#7201a8\"], [0.3333333333333333, \"#9c179e\"], [0.4444444444444444, \"#bd3786\"], [0.5555555555555556, \"#d8576b\"], [0.6666666666666666, \"#ed7953\"], [0.7777777777777778, \"#fb9f3a\"], [0.8888888888888888, \"#fdca26\"], [1.0, \"#f0f921\"]], \"type\": \"surface\"}], \"table\": [{\"cells\": {\"fill\": {\"color\": \"#EBF0F8\"}, \"line\": {\"color\": \"white\"}}, \"header\": {\"fill\": {\"color\": \"#C8D4E3\"}, \"line\": {\"color\": \"white\"}}, \"type\": \"table\"}]}, \"layout\": {\"annotationdefaults\": {\"arrowcolor\": \"#2a3f5f\", \"arrowhead\": 0, \"arrowwidth\": 1}, \"autotypenumbers\": \"strict\", \"coloraxis\": {\"colorbar\": {\"outlinewidth\": 0, \"ticks\": \"\"}}, \"colorscale\": {\"diverging\": [[0, \"#8e0152\"], [0.1, \"#c51b7d\"], [0.2, \"#de77ae\"], [0.3, \"#f1b6da\"], [0.4, \"#fde0ef\"], [0.5, \"#f7f7f7\"], [0.6, \"#e6f5d0\"], [0.7, \"#b8e186\"], [0.8, \"#7fbc41\"], [0.9, \"#4d9221\"], [1, \"#276419\"]], \"sequential\": [[0.0, \"#0d0887\"], [0.1111111111111111, \"#46039f\"], [0.2222222222222222, \"#7201a8\"], [0.3333333333333333, \"#9c179e\"], [0.4444444444444444, \"#bd3786\"], [0.5555555555555556, \"#d8576b\"], [0.6666666666666666, \"#ed7953\"], [0.7777777777777778, \"#fb9f3a\"], [0.8888888888888888, \"#fdca26\"], [1.0, \"#f0f921\"]], \"sequentialminus\": [[0.0, \"#0d0887\"], [0.1111111111111111, \"#46039f\"], [0.2222222222222222, \"#7201a8\"], [0.3333333333333333, \"#9c179e\"], [0.4444444444444444, \"#bd3786\"], [0.5555555555555556, \"#d8576b\"], [0.6666666666666666, \"#ed7953\"], [0.7777777777777778, \"#fb9f3a\"], [0.8888888888888888, \"#fdca26\"], [1.0, \"#f0f921\"]]}, \"colorway\": [\"#636efa\", \"#EF553B\", \"#00cc96\", \"#ab63fa\", \"#FFA15A\", \"#19d3f3\", \"#FF6692\", \"#B6E880\", \"#FF97FF\", \"#FECB52\"], \"font\": {\"color\": \"#2a3f5f\"}, \"geo\": {\"bgcolor\": \"white\", \"lakecolor\": \"white\", \"landcolor\": \"#E5ECF6\", \"showlakes\": true, \"showland\": true, \"subunitcolor\": \"white\"}, \"hoverlabel\": {\"align\": \"left\"}, \"hovermode\": \"closest\", \"mapbox\": {\"style\": \"light\"}, \"paper_bgcolor\": \"white\", \"plot_bgcolor\": \"#E5ECF6\", \"polar\": {\"angularaxis\": {\"gridcolor\": \"white\", \"linecolor\": \"white\", \"ticks\": \"\"}, \"bgcolor\": \"#E5ECF6\", \"radialaxis\": {\"gridcolor\": \"white\", \"linecolor\": \"white\", \"ticks\": \"\"}}, \"scene\": {\"xaxis\": {\"backgroundcolor\": \"#E5ECF6\", \"gridcolor\": \"white\", \"gridwidth\": 2, \"linecolor\": \"white\", \"showbackground\": true, \"ticks\": \"\", \"zerolinecolor\": \"white\"}, \"yaxis\": {\"backgroundcolor\": \"#E5ECF6\", \"gridcolor\": \"white\", \"gridwidth\": 2, \"linecolor\": \"white\", \"showbackground\": true, \"ticks\": \"\", \"zerolinecolor\": \"white\"}, \"zaxis\": {\"backgroundcolor\": \"#E5ECF6\", \"gridcolor\": \"white\", \"gridwidth\": 2, \"linecolor\": \"white\", \"showbackground\": true, \"ticks\": \"\", \"zerolinecolor\": \"white\"}}, \"shapedefaults\": {\"line\": {\"color\": \"#2a3f5f\"}}, \"ternary\": {\"aaxis\": {\"gridcolor\": \"white\", \"linecolor\": \"white\", \"ticks\": \"\"}, \"baxis\": {\"gridcolor\": \"white\", \"linecolor\": \"white\", \"ticks\": \"\"}, \"bgcolor\": \"#E5ECF6\", \"caxis\": {\"gridcolor\": \"white\", \"linecolor\": \"white\", \"ticks\": \"\"}}, \"title\": {\"x\": 0.05}, \"xaxis\": {\"automargin\": true, \"gridcolor\": \"white\", \"linecolor\": \"white\", \"ticks\": \"\", \"title\": {\"standoff\": 15}, \"zerolinecolor\": \"white\", \"zerolinewidth\": 2}, \"yaxis\": {\"automargin\": true, \"gridcolor\": \"white\", \"linecolor\": \"white\", \"ticks\": \"\", \"title\": {\"standoff\": 15}, \"zerolinecolor\": \"white\", \"zerolinewidth\": 2}}}, \"title\": {\"text\": \"PCA\"}, \"xaxis\": {\"anchor\": \"y\", \"domain\": [0.0, 1.0], \"title\": {\"text\": \"0\"}}, \"yaxis\": {\"anchor\": \"x\", \"domain\": [0.0, 1.0], \"title\": {\"text\": \"1\"}}},                        {\"responsive\": true}                    ).then(function(){\n",
       "                            \n",
       "var gd = document.getElementById('df9cb74f-748b-4800-a356-2d1a0f85af63');\n",
       "var x = new MutationObserver(function (mutations, observer) {{\n",
       "        var display = window.getComputedStyle(gd).display;\n",
       "        if (!display || display === 'none') {{\n",
       "            console.log([gd, 'removed!']);\n",
       "            Plotly.purge(gd);\n",
       "            observer.disconnect();\n",
       "        }}\n",
       "}});\n",
       "\n",
       "// Listen for the removal of the full notebook cells\n",
       "var notebookContainer = gd.closest('#notebook-container');\n",
       "if (notebookContainer) {{\n",
       "    x.observe(notebookContainer, {childList: true});\n",
       "}}\n",
       "\n",
       "// Listen for the clearing of the current output cell\n",
       "var outputEl = gd.closest('.output');\n",
       "if (outputEl) {{\n",
       "    x.observe(outputEl, {childList: true});\n",
       "}}\n",
       "\n",
       "                        })                };                });            </script>        </div>"
      ]
     },
     "metadata": {},
     "output_type": "display_data"
    }
   ],
   "source": [
    "fig = px.scatter(Xtrain_lbp_pca[:999], x=0, y=1, color=df1['emotion'],title =\"PCA\")\n",
    "fig.show()"
   ]
  },
  {
   "cell_type": "code",
   "execution_count": 115,
   "metadata": {},
   "outputs": [
    {
     "name": "stdout",
     "output_type": "stream",
     "text": [
      "(28709, 2)\n"
     ]
    }
   ],
   "source": [
    "pca = PCA(n_components=2)\n",
    "\n",
    "# pixel = df['pixels']\n",
    "\n",
    "Xtrain_sobel_pca = pca.fit_transform(Xtrain_sobel)\n",
    "print(Xtrain_sobel_pca.shape)\n",
    "df1 = pd.DataFrame(data = Sobel[:1000], columns = [\"emotion\", \"pixels\", \"set\"])\n",
    "df1 = df1.iloc[1:]\n",
    "df1 = df1.loc[df1[\"set\"] == \"Training\"] "
   ]
  },
  {
   "cell_type": "code",
   "execution_count": 116,
   "metadata": {},
   "outputs": [
    {
     "data": {
      "application/vnd.plotly.v1+json": {
       "config": {
        "plotlyServerURL": "https://plot.ly"
       },
       "data": [
        {
         "hovertemplate": "color=0<br>0=%{x}<br>1=%{y}<extra></extra>",
         "legendgroup": "0",
         "marker": {
          "color": "#636efa",
          "symbol": "circle"
         },
         "mode": "markers",
         "name": "0",
         "orientation": "v",
         "showlegend": true,
         "type": "scatter",
         "x": [
          0.8716314903835062,
          2.197011021945993,
          3.664206704280419,
          -0.3847446377830078,
          2.5579002453720285,
          -1.3841824202586506,
          2.5606615664244377,
          -2.018361960671093,
          3.3740900908508067,
          -1.3896962928959902,
          -1.165847770472478,
          -0.6614102225128794,
          2.834141680182415,
          -1.8336199995717044,
          -0.18766396034498678,
          5.718972271865186,
          2.1274542814703787,
          -0.862236668247149,
          -1.4653903589140214,
          2.400561657506499,
          -2.9748184314516855,
          1.7331338414184008,
          0.394602569244072,
          -0.19818183924321175,
          -2.1351293841838066,
          -3.219468138643437,
          0.09123813355727609,
          -3.31044461491125,
          0.8849312337653399,
          -2.1225513012727295,
          -1.7700304256902712,
          0.047230197510304515,
          -0.8355956036145856,
          -1.9042749498639975,
          -4.034452885007446,
          -1.8708043599649007,
          -5.047429611427691,
          2.1706024412944043,
          1.002218700242236,
          0.7923719519773088,
          -1.7360709448994573,
          -1.9289487278374815,
          -3.817343928062755,
          1.508353104917928,
          3.2858658465412116,
          -1.381334894316713,
          2.491155186640298,
          1.409054863116551,
          -0.6453613888820974,
          -2.7835431649948768,
          0.45852898355033106,
          1.781277910906282,
          3.011941961146998,
          2.6447011681339005,
          1.726020443294549,
          3.0538174481308884,
          -1.6072115051073714,
          -1.0640500291338268,
          -3.536252455307956,
          3.696938186828851,
          4.636216892382233,
          3.7012682323829935,
          1.9175539146777028,
          5.033221585712652,
          0.7400243568266824,
          5.19471317088917,
          2.226622343229187,
          -3.8392740534091754,
          -3.2175514059021406,
          5.4263872768908366,
          -1.5603685519999329,
          2.043370136343152,
          5.242246995625751,
          -1.5440953817526346,
          -3.75944027562104,
          1.4061663924895784,
          -1.0050578952850644,
          -3.3145735961434966,
          1.6728571849029505,
          -4.812288804880766,
          0.5146772343145978,
          0.6137608861880139,
          -1.7734779674953196,
          3.0358884960029973,
          -1.2818867227589925,
          1.4957435723733075,
          -1.5891457131731894,
          -0.0066198515216630074,
          -3.2541480369424813,
          6.310862629968334,
          -5.109109424879872,
          -2.6710038581044517,
          -1.0516596503713616,
          -1.437626084520921,
          2.372689593341559,
          -3.8764374778561645,
          3.1223134145030946,
          -3.1173249254206543,
          -3.165304590374005,
          -1.167205364062684,
          1.1349924361916868,
          7.088300569732608,
          -2.59425524608907,
          1.8978082325315755,
          -1.2964677908385476,
          -0.9958429712985105,
          1.7203521687308643,
          -1.2993014290057967,
          1.2430624959650594,
          -0.03797320529420169,
          2.3075721175039243,
          0.042358362279659674,
          -1.5314100875583134,
          4.104981034669115,
          -0.160907454407577,
          -1.277222104173699,
          3.9906868079549698,
          -0.17158192456257412,
          0.33626897939473954,
          -3.0199378857270145,
          2.8469505844610135,
          0.7251299618099106,
          -2.142894610816944,
          -4.146932776751076,
          -2.8521384471504145,
          2.762341496440538,
          3.8511746390135486,
          6.682316105995277,
          -5.000437103909607,
          -1.3785416444056409,
          3.828901286278666,
          1.2489159357605095,
          -1.1998416083686012,
          2.7603065812771566,
          -0.9512756179981189,
          -0.8644525932012241,
          2.179312110374647,
          -0.5537873196730342,
          3.520734988795784,
          3.811553709618984,
          -1.5806750554762603,
          -0.06674948819771519,
          4.869565325253237,
          2.361607021036023,
          -1.7641185417798213,
          2.024093160640529,
          3.7224118382135627,
          0.2187144876893307,
          -1.4029665298454488,
          -2.440809963797633,
          4.318684306227532,
          -3.035749938520574,
          1.9825015976542384
         ],
         "xaxis": "x",
         "y": [
          -1.2280158273724922,
          -3.9665822779876967,
          -0.6729800343593632,
          -2.9135967070220032,
          -1.5471313735831829,
          -1.1080882163257728,
          1.544164932747158,
          1.5013983971303515,
          0.16638475951867993,
          -0.8338552388175171,
          1.8913494747337118,
          0.7332694582027008,
          -2.116539236776445,
          2.655749412431312,
          -2.1885752374853875,
          1.3289850442706044,
          -0.3810670000897633,
          -0.04540839107269719,
          -0.36806420731018724,
          -1.0301389290144294,
          -0.43631952801398655,
          -0.39913565045146504,
          -3.4373176678349155,
          0.9596858232502404,
          -0.5550484597285987,
          -1.405341086980818,
          -2.829767380004622,
          -0.6372444545601773,
          -0.3147073154451856,
          -2.3109502792711276,
          1.3890665621477756,
          0.9257890368094065,
          -0.6128731961596818,
          -1.9680068584259545,
          -0.9953002941667058,
          0.753042473983282,
          -0.497055861809298,
          2.2274249749143125,
          4.2312411608318286,
          -1.243459145144967,
          1.5334696672967498,
          0.8473339757549144,
          -0.30879133449978796,
          0.8969257789148996,
          1.2682288583577603,
          5.861108113660636,
          -2.1620532015927734,
          2.1563352800863327,
          0.3045973327628072,
          2.64877263182213,
          -1.5730781845926984,
          3.1074259851967563,
          -1.386968410466618,
          0.453919874202077,
          0.2351695753475563,
          -2.7546019517857205,
          3.1128887244295416,
          -3.0566900452328865,
          0.09513174687295205,
          -0.07146095851992956,
          -0.1540111014393488,
          1.6684904299862535,
          -3.117889232161591,
          0.6434584186748143,
          2.581569863814963,
          -3.320038122650341,
          -3.2274509209012767,
          -1.2130878890787664,
          0.09423863238012299,
          1.31551989335469,
          1.0110629796358013,
          3.432901235274818,
          2.574010578463784,
          -0.8179934434311549,
          -1.7288726360802986,
          3.2670324785398823,
          -0.7368852357695327,
          -0.9756629524898247,
          0.9545176203509367,
          -0.38812624944164165,
          2.5730988485739164,
          -2.982525536240864,
          -2.39405499220679,
          4.099473082566907,
          0.32369847984257133,
          0.25687420750698914,
          0.8021094258736395,
          -1.0178423616868428,
          -1.4613426082934287,
          2.5928260602174604,
          -0.38887868116085955,
          0.22430060996561318,
          -1.961773078400511,
          -2.7380544984733497,
          -2.522866415477646,
          -0.5829584916390954,
          -2.4567813806874272,
          0.764538649351554,
          -1.8165221845110147,
          -0.6107504245218137,
          3.108709238774359,
          2.4986728433740684,
          0.4155805437086915,
          -4.771354355407475,
          2.9574062760100923,
          0.4953320232551061,
          0.22076873277097148,
          1.136045906702566,
          3.38842288113301,
          0.15530574880287337,
          -1.3630914499362925,
          -0.3045841605513485,
          1.0979120432955216,
          -0.3364194138451265,
          3.139734233915446,
          -0.9748030205585618,
          -2.3974182054937616,
          -1.919974153801095,
          -1.297418955584828,
          0.3083286109442005,
          -1.397412159614395,
          1.2126134604644787,
          -2.504263756035941,
          -0.8968072908533579,
          -0.09309893714235332,
          0.3010022366737828,
          0.7953305157249687,
          -3.5639461963974157,
          -0.5258411093920669,
          2.4698278282994353,
          0.14414842093840471,
          -0.6529288188353914,
          -3.253477157258712,
          -0.2237766220361337,
          0.9556021452058521,
          0.8509106366153221,
          1.0426305182041,
          -0.2450094283208117,
          -0.7685649196026522,
          -0.21105709297595476,
          -1.7610189120706758,
          -0.5800787308177895,
          -3.1516378435221952,
          0.9514061116579595,
          0.01539364443685744,
          -2.303913169674706,
          -2.3870987522854716,
          -0.037744964244125635,
          -2.3287544443949613,
          -1.788921271387732,
          -3.5866002982591447,
          -2.310310109018541,
          -1.8757702779988759
         ],
         "yaxis": "y"
        },
        {
         "hovertemplate": "color=2<br>0=%{x}<br>1=%{y}<extra></extra>",
         "legendgroup": "2",
         "marker": {
          "color": "#EF553B",
          "symbol": "circle"
         },
         "mode": "markers",
         "name": "2",
         "orientation": "v",
         "showlegend": true,
         "type": "scatter",
         "x": [
          0.023790784334399066,
          -0.47979055980123064,
          -3.4476717035515656,
          1.5844349592715288,
          0.10376358780979122,
          -2.332917048380563,
          -2.0035577403647893,
          -3.624397585050593,
          -2.978728106845721,
          -2.7867350890962577,
          -0.9099121005506142,
          -3.640337866157802,
          -0.6856987587887153,
          0.9596697804669764,
          1.0237514081246624,
          -0.9961751409001783,
          3.8825594388139706,
          0.27153596990217055,
          2.4273055770795087,
          1.4911316781968538,
          -3.1020457850666054,
          -2.2214943348579603,
          2.046931524345491,
          -2.9710772701078163,
          -0.485100421735239,
          -1.0870943605231744,
          -1.793990534140372,
          6.3288074365429114,
          -3.3839612672183708,
          -1.9575187248205863,
          -2.3170378252259427,
          3.4121751302359042,
          -2.590307828921939,
          -2.745792076820875,
          -3.0703342105165556,
          2.0681595972405606,
          -1.1425600846917328,
          -0.8087749471318865,
          -0.5028700636395464,
          2.104813060383659,
          -1.8396452414895952,
          -0.8854044986854913,
          0.8722655596938089,
          -0.9165981364200562,
          1.5181736023396626,
          0.2997423868340271,
          -1.7981586234554576,
          0.8097326818024622,
          -2.7828884924602066,
          1.828890160956742,
          2.6904582493062397,
          1.8276435454108286,
          -0.213605068030149,
          -4.08802427197069,
          -1.0573588089140136,
          0.30776979553522515,
          1.4062399666315741,
          3.1463995185553633,
          -0.49583941185822905,
          1.5292010539876666,
          0.5589927337574,
          1.8919178709816735,
          -1.6855281261484634,
          1.1037116155843434,
          2.5617331948103366,
          4.357375231425814,
          0.7575943905013727,
          3.841392830717988,
          4.617179601428104,
          -3.0906066174124063,
          -0.05137960648324406,
          -1.1151485233475413,
          2.9669868762356884,
          -1.647043988054661,
          5.774419558945581,
          -3.6481106405729826,
          -0.4700457004885619,
          -4.080807628988569,
          -4.838636696762119,
          5.771689066046816,
          5.095502815225705,
          2.2815386369560433,
          2.0123833372142292,
          -1.949220055040798,
          -1.1871112364593626,
          -1.1279087945336217,
          -2.264060921692784,
          0.23777642728419748,
          0.9168242536188438,
          3.656238147979008,
          0.6736715038883466,
          -4.205847173988209,
          0.18518324396903937,
          -1.2807046396172694,
          4.657404339177766,
          -2.182090204911097,
          -2.1588753717830533,
          1.0588514702433085,
          -0.12223347940837595,
          -5.151726440439048,
          1.0721190584829527,
          2.1327791251702286,
          4.572242685457708,
          -3.141262792741132,
          8.749186573245431,
          -0.8508758580043305,
          2.475921949155976,
          -0.8405033864230025,
          1.2208915631779371,
          4.7083137745763395,
          -3.5283063260096967,
          0.8179244013753938,
          -0.7232765283172045,
          -3.378443776883059,
          0.6410698296192868,
          -0.7075015945216087,
          -1.9731919806939644,
          0.8972846371181443,
          -0.8362575026694576,
          3.6485249726224316,
          3.6485249726224316,
          -4.650261615173122,
          -4.937168591224195,
          0.4364903513005166,
          -3.9264354908855035,
          -2.980866400662142,
          -0.48451894269345164,
          -2.6457706872968734,
          -3.665918650571484,
          -1.7892337331513426,
          -1.0858596142654295,
          -3.3099612922712187,
          1.3507117557678,
          -3.4780532315065527,
          -1.337310918990311,
          1.8417176846144274,
          -0.6649973514628266,
          -4.396016139470274,
          5.3736750577644425,
          -2.1915295058882114,
          -2.415706839815173,
          0.25431453962439626,
          2.8450126730141387,
          -3.3466125191530325,
          2.1718002575018973,
          -4.44097771575482,
          4.21647282116746,
          1.529657543869584,
          -0.05357107812467087,
          -3.2834735880055974,
          -1.040114892948077,
          0.7146437902609921,
          5.516303365457755,
          -4.342839220301596,
          -2.0636005474107133,
          -1.6080519249965997,
          1.5876810723392376,
          0.6684712853440972,
          -1.6976017460533788,
          0.8174597022571722,
          -1.0940833077133012,
          4.362845463854534,
          0.7132001512531551,
          0.5949992088557121,
          0.1910040470025237,
          0.3109600455161844,
          0.5179480899479917,
          -0.07746333013345545
         ],
         "xaxis": "x",
         "y": [
          3.329244461759779,
          -2.9403147623801034,
          -1.5360628316860376,
          -3.2807401106827436,
          3.3384044305976257,
          -2.4833390096484607,
          -0.5223326583422594,
          0.7949911008071177,
          -1.58325224010808,
          0.8152182678816429,
          -0.44794101421489,
          -0.543361887493219,
          -0.9794190001257427,
          -1.6112339380174607,
          2.0156473599162057,
          -0.9804068782920351,
          0.726875737232981,
          -0.7403262915350322,
          0.17447288082293733,
          -0.3430811309440292,
          -2.1139017649956098,
          -2.2702742209857565,
          -1.4044733070593873,
          -0.5814876155393583,
          1.525904242167517,
          2.2254270330633097,
          -2.702952944987462,
          1.5848391928226264,
          -0.4557219907287081,
          -2.291269570962538,
          0.592746335827612,
          -3.9142142620262717,
          -1.5773920745303236,
          3.658900006646452,
          -1.0292052913140282,
          -5.095282459987646,
          -0.7856067674988507,
          -1.3862425478592686,
          -0.5566968610944393,
          1.4877464021624152,
          -0.4984492496089613,
          1.702942056155607,
          -0.8802105065778253,
          -0.00020013093151938403,
          1.0493271044977135,
          1.2859911142290408,
          -0.9223682067759379,
          -1.34009687836708,
          0.3411279531670587,
          3.2232816674942666,
          -2.859500983924963,
          1.7666872247686276,
          3.9609002171452175,
          1.3786371809937399,
          0.3299828642205957,
          -1.6422737299492651,
          -0.9742512054872194,
          -2.8123947874398225,
          0.31213525938518716,
          1.8891494233333717,
          -2.2044374054236253,
          -0.5239764259130933,
          -3.149584113198112,
          3.1374119825767464,
          -2.035868835463781,
          -1.278964263572065,
          1.9358131044571474,
          1.6285918446976797,
          0.225101351350343,
          0.8467240526939762,
          -1.0927405116476119,
          2.3187872193894323,
          -2.656742310454744,
          3.6938639929996975,
          -0.32410955823463455,
          -0.2157357227240709,
          0.9443157708575657,
          -0.46905927302182937,
          -0.7095322494618874,
          -0.21628706219370836,
          -0.11422724001289385,
          -2.739536697708292,
          -0.8744410959031226,
          -0.61432426453155,
          -0.316398707969973,
          -2.691219770323691,
          -1.4316864333518518,
          -3.5181061990629874,
          -1.5460535944422638,
          1.3194652318193134,
          -3.2010548096872893,
          -1.2930257270620638,
          -1.2201389749412113,
          0.5290063818151897,
          -2.9842124042534457,
          0.4449862539613584,
          -2.2421035840412835,
          -1.7466708937952893,
          1.4062520471702942,
          -0.4029401639498435,
          2.0452089601970296,
          -0.2685418513910701,
          0.4141416886339603,
          0.5926348572243456,
          -0.752979487254164,
          -1.4281575192083111,
          -2.1452797887699635,
          -3.001659786677556,
          0.5701925663365974,
          -1.0910800324927283,
          1.6439691092533828,
          6.666147524716145,
          2.8954049442683574,
          -1.6616415191637353,
          -2.699567879277495,
          -3.0072737448556013,
          0.41684932976446976,
          1.3138535374844995,
          1.078822502315956,
          2.6798060292694332,
          2.6798060292694332,
          -0.7149452472136081,
          -0.6313488142496465,
          0.7833982791899331,
          0.14609542203590534,
          -0.01614465578184766,
          4.047306051282842,
          -2.1176849061006475,
          -1.0657839520073435,
          -2.0247312441500163,
          2.6759287622067736,
          -1.3684684776369387,
          1.070426979186642,
          2.3854714330888327,
          -0.7782862779312876,
          -2.1926482664190416,
          1.5254550591968143,
          0.18542271885750225,
          1.5541675016833898,
          -0.8057034277313726,
          -1.7038736881597032,
          -0.861152707697533,
          -2.2582916601424032,
          -0.832079037620999,
          -2.0946511751186874,
          -0.9947033356446943,
          0.1806454070982854,
          -2.5178929490279813,
          1.2183995379160244,
          -0.009118592072400527,
          -2.164272621872808,
          -2.794133732300831,
          2.445639362886499,
          -1.0640240592031316,
          -1.8366185846560412,
          -0.18098968946403415,
          0.8673548507151195,
          -4.761898321043048,
          -1.1624723358783862,
          1.5156836252620434,
          -0.49963636544926127,
          -4.41903033552376,
          -1.092157140573249,
          -0.06018267254225282,
          -2.191719226997843,
          2.7914230690733453,
          -3.3562105710116903,
          3.967462453928868
         ],
         "yaxis": "y"
        },
        {
         "hovertemplate": "color=4<br>0=%{x}<br>1=%{y}<extra></extra>",
         "legendgroup": "4",
         "marker": {
          "color": "#00cc96",
          "symbol": "circle"
         },
         "mode": "markers",
         "name": "4",
         "orientation": "v",
         "showlegend": true,
         "type": "scatter",
         "x": [
          0.6265948577883356,
          -1.1124368191719458,
          3.2093284651363074,
          2.315925367649554,
          -3.5398138918706694,
          2.5462590153212448,
          -3.207394275390521,
          -3.7047631226124604,
          0.04259679167180819,
          0.035684441622180506,
          -1.4828891075087893,
          0.9978782568951317,
          -0.03674149871913049,
          -4.877227129148867,
          1.6271028033552057,
          -3.1508645304717273,
          -3.191855936684955,
          0.9612503321797964,
          0.3925684947901455,
          0.04206664614116564,
          -0.6389784299721243,
          -2.528340394821313,
          4.640529335249449,
          1.5086497441703774,
          -4.435273412859551,
          1.6503447380698335,
          -2.430683387013917,
          -1.9414287079198511,
          2.9202836807184744,
          0.9864360669566867,
          2.928845438616549,
          1.5915837391409806,
          1.6468620088292623,
          -4.284683206234376,
          1.6117023476790442,
          1.4318634283886462,
          -0.903554166578988,
          -5.133860757800341,
          -2.4763680806290393,
          2.5617305309754523,
          -3.938166891052487,
          2.39642985780629,
          3.919204321873543,
          -0.6848076336176393,
          -3.6596635673963616,
          2.6797261677591986,
          -1.3072188734946122,
          -3.151138147877251,
          2.242583260484909,
          1.9669461479784134,
          3.851094381648772,
          -3.455069812453658,
          5.113979739895333,
          -3.4190211984846677,
          0.15963710424955174,
          1.8890337511255906,
          7.388194181591347,
          -1.4496659558740914,
          2.9302236277526874,
          -3.7878410444784865,
          5.346523606147896,
          3.008286764312593,
          -2.1133608356313034,
          0.9387875535280115,
          -1.616933274006533,
          4.839981287512184,
          -3.284305222584459,
          4.982215629496335,
          -1.0364658831477203,
          -3.039058470832773,
          -0.32613705920745933,
          1.651159123594537,
          2.073426727854143,
          4.792435999223966,
          -1.4261488846947659,
          1.7757772897497994,
          -1.3615375615050056,
          3.745914241942103,
          2.4478950694997272,
          -3.253905733320099,
          3.085520528734217,
          -3.902468602113437,
          -3.0262306303099424,
          2.7474917469435125,
          -0.8362709701733515,
          -0.9548515230952941,
          2.9430867526873072,
          -1.6612739616127765,
          2.732443355400706,
          5.011021754489039,
          -3.2702188337025726,
          0.13369232971612896,
          1.2049110642634715,
          0.23243286329212565,
          1.4851598692835135,
          4.985042986790378,
          0.32979171961694786,
          -2.919953751476294,
          6.453352092591472,
          2.2432313693637282,
          -2.2004118290951493,
          -1.9548519993825482,
          -2.8096380275350494,
          2.6847550070663564,
          -0.6147628304976535,
          -2.20268383692295,
          2.242962261736103,
          -2.127662262259724,
          -1.649456761660953,
          -3.2229832005231303,
          -1.317214690129774,
          1.6399856305030325,
          5.095834535301102,
          0.3508243605122063,
          2.9416693587883995,
          4.7060996386404526,
          -0.28468865292894857,
          -4.7865109743075935,
          0.49592438652746523,
          6.121875698702044,
          -4.131207368271016,
          1.9697114387022945,
          -2.548112890064149,
          4.085579746775669,
          2.736937202221301,
          -0.9312850290454417,
          -1.861294929981575,
          1.9001699104588532,
          -3.172084045925462,
          -3.01098748612066,
          -1.341504876679595,
          1.2611846009861227,
          -2.00463872205285,
          -0.9683570760957929,
          -5.18457969008605,
          -0.8131058850804841,
          -2.6777765308022623,
          0.5077845444135899,
          1.963064212534308,
          -3.1839471530700507,
          1.2768953223190016,
          -2.3550857932267837,
          3.513053918918973,
          -1.9806161547242862,
          -0.1267996101932505,
          2.1200469786127702,
          -2.3455019072066516,
          -3.0257606741651144,
          3.442103381243862,
          5.566114134701481,
          -0.2209811432931549,
          -2.2635525739039974,
          3.792519314662356
         ],
         "xaxis": "x",
         "y": [
          -1.6839013649525654,
          0.4665595904130532,
          0.8132512852062688,
          -2.3236759057037673,
          0.8937023797502902,
          -2.5362377289933513,
          1.3315679916246865,
          -0.6064493685208725,
          -0.5662531790842243,
          1.5418391220730547,
          -1.0420028303397453,
          -1.7339952312247655,
          0.8459527770198544,
          -0.2746905111086784,
          1.7045455787868977,
          -0.48242458765251767,
          -0.802522405776149,
          -1.5121458631058633,
          -2.0012015938028176,
          -1.6367060278700125,
          -2.6973505231555013,
          3.617026035837134,
          0.2815056314798044,
          -0.15604058713632385,
          -0.13375865868479198,
          4.63279173938023,
          -0.39114862195841116,
          -0.1481782073933041,
          0.3440127382143399,
          -0.004680851406147657,
          2.2080584940549817,
          -2.711691251355101,
          0.649358268184044,
          -0.571610471009884,
          -1.9784483551531402,
          1.9222720833974354,
          4.777834935723638,
          -0.3504179123627974,
          -1.0715572738094554,
          -2.895333523195832,
          1.1498696808121855,
          -3.681619797546538,
          -0.5252831782516548,
          0.46456157465942255,
          -1.4741278887659501,
          -1.150900932494296,
          0.6832597516471777,
          -0.45836609604649714,
          -1.5975290480586828,
          -3.565499893650871,
          -0.8490865069101462,
          0.48338325070525845,
          -3.163766345463262,
          -0.9459354211852626,
          4.302065625269797,
          3.824724105422573,
          0.06363497455998642,
          -0.2852279033840653,
          0.639638020984585,
          0.885872567151958,
          -2.177504496319763,
          -1.9493993447920068,
          1.0450962681676967,
          -0.8603048059131627,
          -1.5328112227403565,
          1.1999287525497988,
          -0.2460267135053324,
          -2.2085218697547204,
          -0.5827735875362536,
          2.1200483885767647,
          0.7096305014270801,
          -1.294623907231063,
          -3.4358047489411914,
          -1.0182861191065231,
          -2.2908502286269066,
          0.7529929244878337,
          3.017001338264202,
          -1.5608842639043434,
          0.37216589191826704,
          -1.4301526688666728,
          -5.328664634023429,
          -0.9935680532343917,
          -0.08760952840714951,
          -2.211595792335781,
          -1.4756419854596798,
          -0.20820928451363296,
          -1.8245616452403988,
          -2.4246154824517747,
          -1.7262396591837075,
          0.7423731490088772,
          -0.6987554071838252,
          -1.3844315720372946,
          1.2763910462715498,
          -3.875550123028239,
          -3.016719574871955,
          1.3167584625969881,
          -0.9449460229204083,
          -0.7375245496580969,
          -0.42669144632209,
          1.1692380268176978,
          0.6548757533584053,
          1.8890930655838938,
          -2.2933978144445084,
          1.8283239821508046,
          2.889660880269063,
          -1.2287708375468605,
          -0.48373930340972915,
          0.049155787292932226,
          -1.5622260460677617,
          0.01664310332512081,
          -1.79123198379835,
          -3.5279570578196786,
          -2.4797576807891044,
          0.3998831405663713,
          1.4704064972123319,
          -0.7349533112977347,
          4.4264761201007286,
          -0.11894692039063277,
          3.5299962532140188,
          0.6851279289880112,
          -0.6280951111028338,
          1.893612758888051,
          0.3679672757980485,
          3.3865727886732118,
          -2.5592066576589847,
          0.29703017692041617,
          -1.921120519056194,
          -2.763199962383003,
          1.1120889287726725,
          -1.5922875649524801,
          0.4050404681018212,
          -0.11178117480891052,
          -2.86644170934287,
          1.7330633622037208,
          -0.41097762436432655,
          3.6583168869957317,
          1.7080334957135457,
          2.4080410486975263,
          -1.701320383524039,
          -1.3622773173599898,
          1.052868027735843,
          -1.0323626763567164,
          -0.01262563259172192,
          -1.263824004889226,
          -0.8248577038512058,
          -5.123163143322424,
          -0.13926440227339423,
          2.2202776569341385,
          -2.4840299515185715,
          -3.1028976569388513,
          -0.27991650254201716,
          0.03459007335014005,
          -3.1411476829446707
         ],
         "yaxis": "y"
        },
        {
         "hovertemplate": "color=6<br>0=%{x}<br>1=%{y}<extra></extra>",
         "legendgroup": "6",
         "marker": {
          "color": "#ab63fa",
          "symbol": "circle"
         },
         "mode": "markers",
         "name": "6",
         "orientation": "v",
         "showlegend": true,
         "type": "scatter",
         "x": [
          3.3890054750465737,
          0.08323318166747272,
          -1.886264916799954,
          -5.048223382000511,
          -0.6963464826463294,
          4.011850391947806,
          -2.0113842103570168,
          -0.30904404510495836,
          -2.2144950312719307,
          -1.7258879938294458,
          8.987825566391482,
          -4.940726769374652,
          -4.724754205712816,
          2.1799247820245387,
          -1.5372931340585,
          2.624860704059114,
          0.4661343947064598,
          2.333547998389895,
          -2.618437417983485,
          4.916836954794214,
          -0.5799733557381475,
          5.584314853337725,
          1.7871732026369516,
          -4.44696686575947,
          5.789254811585441,
          -0.3272199086597592,
          4.615376042675088,
          0.9335246762351926,
          1.1113796029245646,
          1.80543646671381,
          -0.4554682715847407,
          1.1884268341984008,
          1.5659144026971799,
          -3.873226569694412,
          -3.440166264772682,
          -0.2220246896836571,
          5.859754828235422,
          -1.8799584396808473,
          3.9611343643345074,
          2.127191813594358,
          0.9501938575171287,
          -2.8421253999968665,
          -0.8842601012291433,
          5.6437190996490365,
          3.8554172614749262,
          -1.6371315292716961,
          1.6668274816780793,
          0.15922777718080602,
          -2.831242383789081,
          3.531606314070758,
          1.6430726293955844,
          0.49626201598389036,
          5.217671316601443,
          -5.0833246409766115,
          -0.5614074790698903,
          3.435407817976845,
          -1.1355864054041496,
          -3.936090901518323,
          -1.2179141757472498,
          3.066829304847755,
          1.1429362041526723,
          -5.157973790131665,
          -3.01312322968907,
          -1.4325588681653119,
          0.6123248693363766,
          0.28339717059752023,
          -4.344891727897556,
          -3.4297837440723282,
          -1.07410709369381,
          1.4196410973727025,
          -2.9952118184046754,
          -0.4357772377388339,
          -0.08728665105588908,
          3.2267517698363677,
          -1.3840219438545691,
          3.116157095172013,
          -5.094631419773944,
          5.9841098212733055,
          -0.00635165806892044,
          6.058451414566627,
          -2.6413779494839353,
          -2.348144455141102,
          0.975372676715338,
          -2.788039008748916,
          -3.2794106992559415,
          -0.5213306204480977,
          -3.5360067100886323,
          -1.2088076636830394,
          0.459893424154197,
          -5.10787092678794,
          0.05999024029479363,
          0.6009221492380753,
          1.2817523216715014,
          -3.6810204796028314,
          2.4100493390870357,
          2.205745113577508,
          3.381187262098781,
          -0.6787265268925721,
          -0.0969433190927953,
          2.3812784425637017,
          3.542084178815796,
          -3.747788525685813,
          -2.969470425650714,
          6.044562856144918,
          2.851114822004467,
          -0.7892872752423756,
          0.7613060391408423,
          3.686856541178434,
          -0.6317332606775911,
          5.8862489560091165,
          3.8542676726849407,
          -1.567619743778979,
          -3.4249475690185234,
          5.9663160382234395,
          2.3170851896619253,
          5.246888485168771,
          -2.057551955858875,
          3.0342374062947863,
          3.4583828653706847,
          1.7110109580167285,
          -2.9191456275253214,
          1.7776007771037705,
          -3.3722017485630955,
          -0.7805977397635429,
          -2.7127688512495123,
          -0.0958729427411571,
          -1.8926389602592517,
          1.8321650699085403,
          -4.153121433065884,
          -0.5130289563349251,
          -1.3955763736502582,
          0.19449468089848612,
          2.5665444579016095,
          6.051668489413954,
          -4.944445710562868,
          0.39008817808536955,
          -2.1705787809321793,
          0.6719606400814427,
          -4.291129064673353,
          1.7134547730530958,
          2.1311257051217787,
          1.6142010013867787,
          -1.5160820689979992,
          -3.173999031888356,
          -3.2116587830994887,
          -1.1013461721935223,
          0.7116721872987309,
          -0.9100033984048432,
          0.20248862899482328,
          -1.234728978362833,
          -2.717295320264961,
          -4.709993381411645,
          -3.08590837972434,
          2.145863750553197,
          3.7870116441705393,
          0.7768234689274717,
          -3.931101062618755,
          -0.09992901549285553,
          0.8852605670554795,
          -1.3794688790529637,
          0.7231328992631,
          -0.7740288363541374,
          -0.7536131208500914,
          -0.5586245048600321,
          2.9441167620588553,
          4.039946208316549,
          -0.7348287374036078,
          1.3110491776283983,
          -0.8431865976514252,
          -2.5803776600120982,
          1.2818028276588034
         ],
         "xaxis": "x",
         "y": [
          2.821764572788144,
          -0.022467801598597695,
          -0.33091682212290613,
          -0.5466013915008441,
          0.3017777223805209,
          2.1750522053812915,
          2.6354995829005596,
          3.890568771602274,
          0.2735373741723154,
          0.09777106677123157,
          1.4261951739305032,
          -0.3621416894187528,
          -0.02735861029845411,
          -0.13836460928067112,
          -1.3814112201681867,
          -0.5475276584676393,
          -3.0106129900712304,
          -1.193654675576776,
          2.5085251706830336,
          -1.4286229845707048,
          1.0360225748412604,
          -0.7917632618624011,
          3.7179171214426625,
          -0.19177933893818297,
          -3.477768534676348,
          1.0694838308775527,
          -1.0776812620116845,
          0.35355806196734874,
          -1.6724042206936995,
          2.137560024523952,
          5.46286262234476,
          -1.1326299981614485,
          1.8554509944289308,
          -1.3842182707939332,
          -0.41939052188066717,
          1.2236661670769995,
          -1.7824106789588785,
          4.581906513014717,
          1.927916884586169,
          3.203926174083312,
          -3.1997703224772627,
          2.3212402805564385,
          -0.7768713711271592,
          1.7385854653648531,
          -1.9906540986260242,
          0.25576438832100096,
          -2.0414998928321477,
          -0.3330302828200865,
          2.031930657946895,
          1.944736099806,
          1.1916424616847379,
          0.5890349040619771,
          2.1368313323801655,
          -0.43973173055772385,
          -1.6928712215949182,
          -1.8105845956119446,
          1.5325176033699233,
          0.34240606992788486,
          1.0558738931419216,
          -0.02356238449704776,
          2.128429733045285,
          -0.46135293543903866,
          -1.4179941568802392,
          2.1952097468400087,
          1.8601405299226454,
          3.220809974373798,
          -0.5424491531605428,
          0.598482571591936,
          2.385490433198708,
          1.0026270846516734,
          -0.6067347758109253,
          0.5240877596287045,
          -1.8455161257430612,
          -1.5642591867594775,
          -0.22742364662920375,
          -3.789660646498571,
          -0.44122558729431105,
          -1.3065588245305952,
          1.0329210545078096,
          -0.8788048471746194,
          -1.0605295971769058,
          2.6970622673830102,
          3.4063704494975937,
          -0.2856185369618765,
          0.7146635463307355,
          -1.5826415018993336,
          1.2456127541261466,
          2.493803482130299,
          4.036919565654834,
          -0.2166982898554798,
          -0.05480220879402925,
          -0.2443354023603187,
          0.9144132821929432,
          -1.2502363471262112,
          2.120589062225822,
          4.886067435092483,
          -3.932069400883189,
          -2.7759261001315934,
          3.366883911275827,
          -4.513175011871163,
          -2.282276432540088,
          -0.24588321097372776,
          -1.0303802382458298,
          1.3167335442323282,
          0.9574537894568793,
          0.051171911057964946,
          -3.298012575040796,
          3.1469809603205268,
          4.295552197351677,
          1.324070107068346,
          -1.434426669100646,
          -0.5914380159480355,
          -0.0025301826176076674,
          -0.6313219234777235,
          0.16945197798434952,
          -1.133350155269848,
          0.36213625562912005,
          1.691344094115043,
          2.1570218472383447,
          3.3478115910766686,
          0.7763795480025651,
          1.9997782369697439,
          0.9334202571270587,
          3.9356417622730793,
          0.4658745961803989,
          -0.9796851532460571,
          -2.323663902677382,
          -0.5459162053400255,
          1.1555399798986175,
          -0.48070413400194584,
          -1.5568964624064778,
          -1.6796735728115297,
          -1.8915030222503215,
          -0.779260494185602,
          -0.6638248927060084,
          0.38265224392852926,
          0.6538189470749032,
          3.2554316226696263,
          -0.7880420946822415,
          1.0807181899544602,
          2.619848514954539,
          -1.909289568179325,
          -2.5188216030263293,
          2.2038998940819567,
          0.249347586245041,
          -2.5604246487342954,
          2.646820200058238,
          2.9132367281956015,
          -2.5765333944140587,
          2.039726544127535,
          -1.7184864318593995,
          -0.09843355952543166,
          -1.478015237684605,
          -3.89718407201831,
          -1.2520018356144418,
          -4.221305832988019,
          -1.3150959043335253,
          0.5606950890284188,
          -2.2351176118785423,
          3.9253396407665133,
          1.2793112688045076,
          3.943600417834316,
          1.1019213379708956,
          2.1277316781449267,
          0.9232950929999547,
          0.16539116625618916,
          -1.9381019759620317,
          -3.585540255021679,
          2.743619779829742,
          2.0385448388761214,
          -0.6781774474460667
         ],
         "yaxis": "y"
        },
        {
         "hovertemplate": "color=3<br>0=%{x}<br>1=%{y}<extra></extra>",
         "legendgroup": "3",
         "marker": {
          "color": "#FFA15A",
          "symbol": "circle"
         },
         "mode": "markers",
         "name": "3",
         "orientation": "v",
         "showlegend": true,
         "type": "scatter",
         "x": [
          1.865881817641136,
          -4.511553027064783,
          2.559458167979791,
          0.7786278164748442,
          2.3073103133381556,
          -0.8530303105806887,
          2.7813124652189716,
          -5.03283242465388,
          5.4373472988985005,
          -2.629470564702875,
          -3.1245886002326855,
          -2.514335817048249,
          -2.1510394971714932,
          -3.3815988902013823,
          -2.243268509821189,
          -3.498410953681697,
          -4.89498592151096,
          0.11009683043464208,
          -2.1120822243047415,
          3.3892442629992465,
          -4.984401641217534,
          3.0029884100675273,
          3.150358583742641,
          -4.548791395400931,
          -0.36246917932206685,
          1.2123711369249175,
          -2.7868771527185325,
          1.4407536424223448,
          -1.3778008595455973,
          0.015125082007098051,
          0.9939810375330772,
          -3.0152127735707763,
          -1.3516859484530273,
          -3.304438340492981,
          -0.14677895003696645,
          -1.3412371995263976,
          -0.7431783334432878,
          -3.6921260422726445,
          -2.9680728482817944,
          0.24108112829837783,
          -3.134170544525864,
          -2.651447671198447,
          0.9897017268908684,
          -2.8453808706050756,
          4.946446300915052,
          3.437016510391756,
          -2.1555897936088426,
          3.027319869021578,
          -0.37870335204383104,
          1.8308034959141475,
          -1.4629629425258184,
          2.828753022842189,
          -1.1387351171011377,
          -3.779315037950087,
          -3.3208474781629764,
          0.7411373593006312,
          0.5794281680612413,
          5.700172841353146,
          2.151092157683939,
          1.0194205501664086,
          -0.5768885420567429,
          0.713488379835006,
          -4.347045741315528,
          1.080106744761713,
          -1.8825392519831734,
          0.2562676053273145,
          -0.015642894967264065,
          -0.23783896237740457,
          1.411722684597676,
          -4.4197395134726705,
          -4.748382365579139,
          0.11323064135940908,
          1.1093472365469783,
          -1.4817718806305817,
          1.2595730039883104,
          5.043604171995298,
          -2.7101276929990488,
          1.9141685714196337,
          -4.434835472495614,
          2.996917511810886,
          -0.4150965584833492,
          0.29429677794721903,
          2.275520932223364,
          -0.3051769167966857,
          -1.3524876776368937,
          1.2473397139809783,
          -2.8362412761322267,
          4.394604381654915,
          4.756110391845263,
          0.4164873219289505,
          1.2212756564263336,
          4.047543900075291,
          3.250149797718369,
          -1.121684694192183,
          -3.969364451882385,
          -0.9032963135182303,
          -1.9138086988927083,
          5.79839203759226,
          0.33627494290707793,
          -0.6289994838939966,
          -1.8246559721746598,
          4.700298340412232,
          -0.8129784322022303,
          -0.4688152483117319,
          -4.559835976788789,
          -0.535043494742965,
          0.06444564002317829,
          -4.06349348563458,
          -0.09016532456346014,
          3.2366474038308866,
          -0.8429515549599051,
          2.570945276572606,
          0.6461550393575298,
          5.171713283472288,
          1.2326930165809136,
          2.44243378716138,
          -0.8482135216116587,
          1.8613633605358295,
          -2.172857912082046,
          -4.735116752337168,
          -1.407014352191844,
          1.8603547689354518,
          0.11306752180742027,
          0.7442931479193541,
          -2.093081763550655,
          2.3049133282651275,
          2.36221334029317,
          -0.6959860362927203,
          4.685158953326401,
          -1.225533687988994,
          -0.8176772091656359,
          -2.507213889928796,
          -1.6902396458801168,
          0.7482556144277336,
          5.029874000444285,
          0.9181177686353521,
          0.5743260815987308,
          0.9224197547723828,
          0.8038814255004276,
          1.5992383362257028,
          -0.24756523792937826,
          -4.292837121134567,
          4.132810058890413,
          -1.36478860438245,
          -4.057644970253038,
          -4.229150497071728,
          -0.7511756558832516,
          4.450776770713378,
          -1.516720094261009,
          -4.5619211792110965,
          -3.1716575593987044,
          1.8036318217120066,
          -4.779584891370276,
          3.974799915180526,
          0.22595981220129804,
          1.3763904651550805,
          0.8666559323225631,
          0.6041878269623591,
          0.027119468620117684,
          -0.40833145641653407,
          0.37287920362322247,
          -3.99005632265612,
          4.385182413246143,
          1.603051318503472,
          -2.546856828038068,
          -0.7296794933919063,
          -2.5615446876944463,
          0.7941831677574206,
          -1.6979401063934274,
          3.917676475262693,
          -1.5929310321388956,
          -1.4330014139220637,
          0.8177553571946471,
          2.7954193444770454,
          -0.3867357550074261,
          0.7404077602474508,
          -1.9850441683201574,
          -2.8221075188246885,
          -2.1387465620949166,
          -2.958290583104529,
          -1.1717415535012168,
          -3.692192704395921,
          -0.19633701106015145,
          3.9118615096348544,
          0.9741711001421435,
          -4.212819419447193,
          -1.2594297466081803,
          -4.16952943157294,
          -4.17154183575481,
          0.7749226506297848,
          -1.6946216404340804,
          0.9609361530528039,
          3.1016280191181673,
          -1.8110086608251508,
          -2.707609450054829,
          5.59447555313761,
          -2.590053044942504,
          3.2401256049179405,
          5.734410584023729,
          -4.568116561580315,
          3.443306899542219,
          1.5395695452682518,
          -4.753189709674314,
          -0.6426615144561902,
          -1.073950470395456,
          -0.9753851202627603,
          4.813949086576059,
          -0.7601746546117818,
          -2.185356790259387,
          -0.11728904386255787,
          -2.254921850010132,
          -1.7180028479721112,
          0.2680175376425288,
          2.0976786916575434,
          5.182045227646796,
          -0.526072346032064,
          -3.132383976197897,
          -2.741157708224236,
          2.816099683139491,
          1.739323715284788,
          -0.33262492134514426
         ],
         "xaxis": "x",
         "y": [
          3.7603048165249398,
          0.7754947025676757,
          -0.027323345866628015,
          1.8316355489845182,
          -1.5672694043818507,
          -3.688660333353983,
          -2.078237074915562,
          -0.38490157320758456,
          2.3368883517349377,
          1.1321788216848412,
          1.4310868763560038,
          3.0191418399932655,
          -2.5513470857084433,
          1.4318002085704544,
          -2.4188921540643293,
          2.1319427393533337,
          -0.5757234513121025,
          -2.439816232411538,
          -1.021066673921411,
          -0.2802299592344823,
          -0.48988441910677655,
          -0.7228658999454386,
          2.26336195627189,
          -0.4314191204393454,
          1.2605866038870739,
          -1.0656607563988667,
          -0.1302679176539018,
          -3.115736969905201,
          1.7943180039665951,
          2.4945692311277283,
          0.1230196607505502,
          -1.381199328850725,
          0.7279859653047409,
          -1.057439878546193,
          3.4540102104062798,
          5.102544610246987,
          3.940743722504738,
          -0.7839678828858562,
          -1.3474025620509418,
          -4.682286457652228,
          0.31160471248019395,
          3.1144690397635846,
          0.24441245894406877,
          -2.226945449429415,
          -1.2349177601004113,
          -0.7676074244056599,
          3.120320579887289,
          5.446383442311698,
          0.029284363420439868,
          1.763318606502189,
          -2.665411157874311,
          -1.6959112174264865,
          -1.6468418492146288,
          0.8225924885380188,
          0.8785969124283516,
          -0.1759094581390021,
          4.590779908837737,
          -0.6264721706435169,
          0.8693996247006583,
          -2.010734836057119,
          -0.43500270801143054,
          0.14019125581764036,
          -0.19831941120913021,
          0.8169791236618498,
          2.070847349850907,
          2.041146727863815,
          1.8364427916302284,
          4.905884674555152,
          -0.9572905381353428,
          -0.11019713290340416,
          -0.45584125435754547,
          0.9209724952827721,
          -3.449426828110285,
          -2.643395950982848,
          -1.4976091290968883,
          -1.3782682152197385,
          1.3540602572796647,
          3.2203622695284397,
          0.3853184396406798,
          -1.9264922241676001,
          2.5531032660741966,
          3.166087354888447,
          -3.799475933734439,
          3.4513238814973644,
          0.11415259658448472,
          -3.432256371465389,
          0.43772377428278975,
          0.967353834528314,
          -0.6636206449213838,
          -2.8596429268242094,
          -4.47206770414456,
          0.8314241295718372,
          -1.221368947063067,
          1.3304165899714266,
          -1.4072881783857605,
          -2.659935302971191,
          -0.6975665988360381,
          1.2985975771178304,
          5.027359717901126,
          -1.0683228479257239,
          -2.996566815882123,
          -1.6150300598534075,
          1.1856836476403432,
          1.2273747556296066,
          -0.31036261639232415,
          0.35494879451871764,
          -0.46505378335346303,
          -0.7080059163968814,
          1.8395868903231651,
          -1.9447954713925952,
          -2.861530923125444,
          2.2508476777298223,
          4.195227218542206,
          -3.0424622683380433,
          -1.3780036715988482,
          -0.8124628324682347,
          2.22625484577408,
          3.37754803452589,
          0.8999634095736279,
          -0.7453013304489636,
          1.3720882407649861,
          -5.45698012685812,
          0.014514008540469877,
          0.8698510605747102,
          2.7235335575515647,
          4.362741084995723,
          -2.3092473767650894,
          -1.9872815804710056,
          2.644855829992161,
          1.1959601412418464,
          1.7955214125617842,
          -1.3151459956251788,
          0.44769810127984944,
          2.6500874834747927,
          0.20316055831320765,
          -3.136776381114856,
          -0.743865922320892,
          1.6290395807717173,
          -1.0396316871340705,
          5.022632973208645,
          5.607123091260424,
          0.78003044876767,
          1.0832518213228604,
          -0.5128366852430156,
          -1.4990030936153347,
          -0.9374609721025494,
          3.403155466933,
          1.0281198659895556,
          1.0361412994585388,
          -0.7178828444252872,
          -1.7649548849625314,
          3.190464752860353,
          -0.6757446391716817,
          0.18890479313867484,
          0.14973080952540657,
          -2.3802825397440452,
          -0.14889965599019703,
          1.9660859509408741,
          0.656153916556562,
          0.16310862673991053,
          1.4743654764677854,
          -0.2214442600998176,
          -0.1646781667280276,
          -1.5720453310245155,
          -1.4692009764925875,
          -3.101919397519787,
          0.4049804513749166,
          -1.2442313016839006,
          -2.1485527512332494,
          -0.801161660903199,
          0.7418170191472335,
          1.5059067454248014,
          -3.4028105983686143,
          3.2702957879914725,
          -1.6383502485323067,
          -1.9258653523598244,
          0.35952394150055,
          -1.4977636856116763,
          -1.6870401068724603,
          1.7405547777873804,
          1.4516073656013881,
          0.2597994197799361,
          -1.9809050581416123,
          -2.493175006548065,
          -1.3346360493825298,
          0.39132018440733596,
          4.5928048542365465,
          -0.5605957730664615,
          -0.9210743593375563,
          6.705441058092413,
          0.039924721495582106,
          -1.8887683871011733,
          -0.6114496261032566,
          3.3866236245803254,
          1.3563598837447184,
          1.751352136184029,
          -0.0854326776749024,
          -3.0054891902762466,
          -1.0303205817927765,
          -0.7116568462508388,
          -0.5960288586632473,
          -1.177661977300862,
          0.40250848558735813,
          -1.6115270509965693,
          -0.9607439470557644,
          -1.2821066587913204,
          -0.5865545418606603,
          -0.2825756607034318,
          -0.4961162387001007,
          4.0626394830401935,
          1.1683314003764123,
          -3.0683308836213112,
          1.9987466933162747,
          3.2416008916572814,
          -0.16146115154903198,
          4.923301043427236,
          2.148215492801042,
          -2.1535386325976273,
          -0.9274017580805182,
          6.897850334076064,
          2.3467306539926476
         ],
         "yaxis": "y"
        },
        {
         "hovertemplate": "color=5<br>0=%{x}<br>1=%{y}<extra></extra>",
         "legendgroup": "5",
         "marker": {
          "color": "#19d3f3",
          "symbol": "circle"
         },
         "mode": "markers",
         "name": "5",
         "orientation": "v",
         "showlegend": true,
         "type": "scatter",
         "x": [
          -3.0866458302609296,
          -4.22611954924576,
          1.519283538308982,
          -0.22998654041366212,
          0.18785381406880952,
          -3.419080897604527,
          -0.6095068404962714,
          -4.437069642772109,
          0.5198334542354679,
          -0.2961693314369615,
          1.0791022030798338,
          -1.3163394246167757,
          -2.4254933407190444,
          -1.0160314237868604,
          -2.504190081417048,
          0.5857266714085617,
          -3.11007010390423,
          -1.7323495166602538,
          -2.500051507312697,
          -4.363147732286963,
          0.8987944324408995,
          0.983873059799406,
          1.4898730432572678,
          2.92566120006098,
          -2.905493013991322,
          1.5060246421201802,
          1.4382555662375303,
          4.49117027339734,
          -0.5869426159699037,
          1.5998485762437629,
          -3.180180708491216,
          1.124551356260775,
          -2.6718841573043353,
          -4.417759050749985,
          -3.577495193427175,
          -0.5366084465204134,
          -3.041367302927881,
          -2.9896183648899366,
          -1.6673693400106533,
          2.104300886194131,
          -4.6707991570339535,
          -2.4131221283998423,
          4.38720124187298,
          -3.6017820405349315,
          -1.76104644186287,
          -1.5002646600965108,
          -2.3137384692098517,
          1.238628333889691,
          0.0939719451415715,
          -2.6424187626137967,
          0.18340572745023864,
          0.35069684728999395,
          0.04355852657408263,
          -0.4628837217296459,
          3.073038003664432,
          -1.4215932511963045,
          -2.209496088502107,
          -3.4946344621090017,
          -4.5915451265121465,
          2.3833591403442265,
          -1.0196548655664877,
          -2.429233664485166,
          -4.077217858049435,
          -3.421346523503728,
          -1.8183460675416967,
          -0.057840741720492105,
          3.070669036069445,
          4.580439880809874,
          1.504482886725031,
          2.854322530810891,
          -0.640445290917767,
          0.6227575164670771,
          -1.7249165540572935,
          -4.797810061911092,
          -2.942440756530457,
          -5.121044699641947,
          -3.525133020264376,
          1.4051138709758866,
          -4.744173310313272,
          1.9679002754110508,
          0.13743531228786265,
          -2.5583762161098234,
          -3.041367302927881,
          0.07615376859865135,
          -3.188070972515815,
          -1.5930689881570623,
          -1.5482170608811139,
          2.57114014043087,
          -3.2217040647671595,
          -2.760449081907389,
          1.7841626035927047,
          -3.81974681540352,
          -1.8962257066602386,
          0.1923417324600891,
          -0.9240988865739593,
          -1.3132402252099085,
          3.763300721363332,
          -0.9661257745775478,
          -2.8305872172348168,
          -4.302380485256155,
          1.1224812077685602,
          2.746562172700867,
          -1.9960002670615145,
          -2.28288454930918,
          -2.162966185067737,
          0.5651585785074703,
          -2.3360113498975164,
          -0.75944796269235,
          -4.045937874841035,
          -1.405883362402646,
          -4.259732792719775,
          1.2126859487306836,
          -3.0224742251636747,
          -0.298827034403329,
          -1.8009066356032832,
          -1.4788619643884717,
          -1.4739685613066864,
          -4.604150341360486,
          0.8136136083142387,
          1.3230419456827478,
          0.6796537806801546,
          -0.5356266669960995
         ],
         "xaxis": "x",
         "y": [
          -1.7067758109621545,
          -0.21883580996929736,
          2.767299171731279,
          1.6179019043477434,
          -0.6457445805482672,
          -1.57434746697495,
          -0.569643094752891,
          -1.1765093475851458,
          0.0635337469538012,
          4.485585318127998,
          5.890109177209964,
          0.2109504633772953,
          0.9314775555526736,
          2.681265451512854,
          -1.8424921771563603,
          -0.26227580077350704,
          -1.8824442753040933,
          -0.7591482216300486,
          -1.8271639517144662,
          -0.8012857488982198,
          3.7198656380779576,
          -2.08011779861184,
          1.7252495867873154,
          4.8649554595567714,
          -2.2641193353668476,
          -4.414149811654232,
          -4.256852343878207,
          2.6378281062639664,
          3.100159668583644,
          2.252229002220463,
          -1.7718304613771128,
          5.563393141686824,
          -1.2900293557738485,
          -1.1437226267123195,
          1.7203084650830294,
          0.006138185263069429,
          -1.2171813620262624,
          -0.24954828011799748,
          -2.6754691134715127,
          1.7814213995007313,
          -0.9281333779394422,
          -1.982230837375248,
          -0.08677458652196166,
          0.9944437255737637,
          4.1474966435668,
          -0.34199647090268626,
          -2.2848406654530837,
          -1.2769108840899275,
          1.69548495520586,
          -1.2663762171447464,
          -3.3150942257118596,
          4.103764157390365,
          3.5461665382173893,
          0.8348972951393363,
          -0.6895960279022146,
          -2.9483310074826403,
          -0.08462873120271944,
          -1.4046638825859186,
          -0.6779615636185428,
          1.6736844997352769,
          4.7452710023059215,
          -1.5955402371378469,
          -0.8749779725194957,
          -0.3837203060641769,
          0.7634715859021255,
          -1.7043295189020229,
          0.41209081284426474,
          0.26428258605238625,
          -1.9081751958998194,
          -4.332337757292988,
          0.6614096242136904,
          -0.48109665156451753,
          0.21120664374165163,
          -0.055735115737767994,
          -1.3939815864079994,
          -0.4529908521986428,
          -1.0076174540141252,
          -1.8714367128749891,
          -0.7470058450557849,
          0.9630085274533098,
          -0.6833363936940579,
          -0.5368897518607361,
          -1.2171813620262624,
          3.334655702609648,
          -0.8743257170591017,
          0.8105382216971893,
          -1.4214129074232307,
          3.557543673948117,
          0.12436194149938748,
          1.4601424574835073,
          -1.9411253710752598,
          0.10180412620610828,
          -2.2608230258430253,
          -0.07682008034324718,
          2.5263791244385074,
          -1.0328560938876912,
          1.2420566845319458,
          -0.4633266810286013,
          -0.17138238261849903,
          -0.15526736615568307,
          0.4432541162984559,
          -0.7496950388921619,
          -1.427921472458979,
          -0.3163780921036409,
          -1.3308480529731115,
          1.3787042309272766,
          -0.12632306154232603,
          1.1206904090807701,
          -0.5079688863940914,
          -1.1574513663164523,
          -0.7870534322515932,
          3.013077853910209,
          0.9121360561246756,
          -2.1078673924937865,
          2.1072211808985712,
          -1.6146533523617372,
          -2.2248803239478647,
          -0.5708472077720231,
          1.406556629075976,
          1.7119648738317175,
          -4.34029493622215,
          -0.36619741193624283
         ],
         "yaxis": "y"
        },
        {
         "hovertemplate": "color=1<br>0=%{x}<br>1=%{y}<extra></extra>",
         "legendgroup": "1",
         "marker": {
          "color": "#FF6692",
          "symbol": "circle"
         },
         "mode": "markers",
         "name": "1",
         "orientation": "v",
         "showlegend": true,
         "type": "scatter",
         "x": [
          -3.876552298977751,
          -0.2621403526289344,
          -2.080441952156964,
          4.24678719904367,
          1.6298147869266264,
          -4.111484026071752,
          -0.0918626636704407,
          4.742382626792086,
          0.5296831207385815,
          -1.2868923161896366,
          2.5275352343456268
         ],
         "xaxis": "x",
         "y": [
          -1.0958815777150923,
          0.9076306467759965,
          -1.7003725512953025,
          -2.229781737897189,
          -1.595882738526843,
          -0.23746448617023938,
          -1.9398332593937584,
          1.3057911797443427,
          -2.9601860190484954,
          3.482868612439623,
          -0.8132291033137741
         ],
         "yaxis": "y"
        }
       ],
       "layout": {
        "legend": {
         "title": {
          "text": "color"
         },
         "tracegroupgap": 0
        },
        "template": {
         "data": {
          "bar": [
           {
            "error_x": {
             "color": "#2a3f5f"
            },
            "error_y": {
             "color": "#2a3f5f"
            },
            "marker": {
             "line": {
              "color": "#E5ECF6",
              "width": 0.5
             }
            },
            "type": "bar"
           }
          ],
          "barpolar": [
           {
            "marker": {
             "line": {
              "color": "#E5ECF6",
              "width": 0.5
             }
            },
            "type": "barpolar"
           }
          ],
          "carpet": [
           {
            "aaxis": {
             "endlinecolor": "#2a3f5f",
             "gridcolor": "white",
             "linecolor": "white",
             "minorgridcolor": "white",
             "startlinecolor": "#2a3f5f"
            },
            "baxis": {
             "endlinecolor": "#2a3f5f",
             "gridcolor": "white",
             "linecolor": "white",
             "minorgridcolor": "white",
             "startlinecolor": "#2a3f5f"
            },
            "type": "carpet"
           }
          ],
          "choropleth": [
           {
            "colorbar": {
             "outlinewidth": 0,
             "ticks": ""
            },
            "type": "choropleth"
           }
          ],
          "contour": [
           {
            "colorbar": {
             "outlinewidth": 0,
             "ticks": ""
            },
            "colorscale": [
             [
              0,
              "#0d0887"
             ],
             [
              0.1111111111111111,
              "#46039f"
             ],
             [
              0.2222222222222222,
              "#7201a8"
             ],
             [
              0.3333333333333333,
              "#9c179e"
             ],
             [
              0.4444444444444444,
              "#bd3786"
             ],
             [
              0.5555555555555556,
              "#d8576b"
             ],
             [
              0.6666666666666666,
              "#ed7953"
             ],
             [
              0.7777777777777778,
              "#fb9f3a"
             ],
             [
              0.8888888888888888,
              "#fdca26"
             ],
             [
              1,
              "#f0f921"
             ]
            ],
            "type": "contour"
           }
          ],
          "contourcarpet": [
           {
            "colorbar": {
             "outlinewidth": 0,
             "ticks": ""
            },
            "type": "contourcarpet"
           }
          ],
          "heatmap": [
           {
            "colorbar": {
             "outlinewidth": 0,
             "ticks": ""
            },
            "colorscale": [
             [
              0,
              "#0d0887"
             ],
             [
              0.1111111111111111,
              "#46039f"
             ],
             [
              0.2222222222222222,
              "#7201a8"
             ],
             [
              0.3333333333333333,
              "#9c179e"
             ],
             [
              0.4444444444444444,
              "#bd3786"
             ],
             [
              0.5555555555555556,
              "#d8576b"
             ],
             [
              0.6666666666666666,
              "#ed7953"
             ],
             [
              0.7777777777777778,
              "#fb9f3a"
             ],
             [
              0.8888888888888888,
              "#fdca26"
             ],
             [
              1,
              "#f0f921"
             ]
            ],
            "type": "heatmap"
           }
          ],
          "heatmapgl": [
           {
            "colorbar": {
             "outlinewidth": 0,
             "ticks": ""
            },
            "colorscale": [
             [
              0,
              "#0d0887"
             ],
             [
              0.1111111111111111,
              "#46039f"
             ],
             [
              0.2222222222222222,
              "#7201a8"
             ],
             [
              0.3333333333333333,
              "#9c179e"
             ],
             [
              0.4444444444444444,
              "#bd3786"
             ],
             [
              0.5555555555555556,
              "#d8576b"
             ],
             [
              0.6666666666666666,
              "#ed7953"
             ],
             [
              0.7777777777777778,
              "#fb9f3a"
             ],
             [
              0.8888888888888888,
              "#fdca26"
             ],
             [
              1,
              "#f0f921"
             ]
            ],
            "type": "heatmapgl"
           }
          ],
          "histogram": [
           {
            "marker": {
             "colorbar": {
              "outlinewidth": 0,
              "ticks": ""
             }
            },
            "type": "histogram"
           }
          ],
          "histogram2d": [
           {
            "colorbar": {
             "outlinewidth": 0,
             "ticks": ""
            },
            "colorscale": [
             [
              0,
              "#0d0887"
             ],
             [
              0.1111111111111111,
              "#46039f"
             ],
             [
              0.2222222222222222,
              "#7201a8"
             ],
             [
              0.3333333333333333,
              "#9c179e"
             ],
             [
              0.4444444444444444,
              "#bd3786"
             ],
             [
              0.5555555555555556,
              "#d8576b"
             ],
             [
              0.6666666666666666,
              "#ed7953"
             ],
             [
              0.7777777777777778,
              "#fb9f3a"
             ],
             [
              0.8888888888888888,
              "#fdca26"
             ],
             [
              1,
              "#f0f921"
             ]
            ],
            "type": "histogram2d"
           }
          ],
          "histogram2dcontour": [
           {
            "colorbar": {
             "outlinewidth": 0,
             "ticks": ""
            },
            "colorscale": [
             [
              0,
              "#0d0887"
             ],
             [
              0.1111111111111111,
              "#46039f"
             ],
             [
              0.2222222222222222,
              "#7201a8"
             ],
             [
              0.3333333333333333,
              "#9c179e"
             ],
             [
              0.4444444444444444,
              "#bd3786"
             ],
             [
              0.5555555555555556,
              "#d8576b"
             ],
             [
              0.6666666666666666,
              "#ed7953"
             ],
             [
              0.7777777777777778,
              "#fb9f3a"
             ],
             [
              0.8888888888888888,
              "#fdca26"
             ],
             [
              1,
              "#f0f921"
             ]
            ],
            "type": "histogram2dcontour"
           }
          ],
          "mesh3d": [
           {
            "colorbar": {
             "outlinewidth": 0,
             "ticks": ""
            },
            "type": "mesh3d"
           }
          ],
          "parcoords": [
           {
            "line": {
             "colorbar": {
              "outlinewidth": 0,
              "ticks": ""
             }
            },
            "type": "parcoords"
           }
          ],
          "pie": [
           {
            "automargin": true,
            "type": "pie"
           }
          ],
          "scatter": [
           {
            "marker": {
             "colorbar": {
              "outlinewidth": 0,
              "ticks": ""
             }
            },
            "type": "scatter"
           }
          ],
          "scatter3d": [
           {
            "line": {
             "colorbar": {
              "outlinewidth": 0,
              "ticks": ""
             }
            },
            "marker": {
             "colorbar": {
              "outlinewidth": 0,
              "ticks": ""
             }
            },
            "type": "scatter3d"
           }
          ],
          "scattercarpet": [
           {
            "marker": {
             "colorbar": {
              "outlinewidth": 0,
              "ticks": ""
             }
            },
            "type": "scattercarpet"
           }
          ],
          "scattergeo": [
           {
            "marker": {
             "colorbar": {
              "outlinewidth": 0,
              "ticks": ""
             }
            },
            "type": "scattergeo"
           }
          ],
          "scattergl": [
           {
            "marker": {
             "colorbar": {
              "outlinewidth": 0,
              "ticks": ""
             }
            },
            "type": "scattergl"
           }
          ],
          "scattermapbox": [
           {
            "marker": {
             "colorbar": {
              "outlinewidth": 0,
              "ticks": ""
             }
            },
            "type": "scattermapbox"
           }
          ],
          "scatterpolar": [
           {
            "marker": {
             "colorbar": {
              "outlinewidth": 0,
              "ticks": ""
             }
            },
            "type": "scatterpolar"
           }
          ],
          "scatterpolargl": [
           {
            "marker": {
             "colorbar": {
              "outlinewidth": 0,
              "ticks": ""
             }
            },
            "type": "scatterpolargl"
           }
          ],
          "scatterternary": [
           {
            "marker": {
             "colorbar": {
              "outlinewidth": 0,
              "ticks": ""
             }
            },
            "type": "scatterternary"
           }
          ],
          "surface": [
           {
            "colorbar": {
             "outlinewidth": 0,
             "ticks": ""
            },
            "colorscale": [
             [
              0,
              "#0d0887"
             ],
             [
              0.1111111111111111,
              "#46039f"
             ],
             [
              0.2222222222222222,
              "#7201a8"
             ],
             [
              0.3333333333333333,
              "#9c179e"
             ],
             [
              0.4444444444444444,
              "#bd3786"
             ],
             [
              0.5555555555555556,
              "#d8576b"
             ],
             [
              0.6666666666666666,
              "#ed7953"
             ],
             [
              0.7777777777777778,
              "#fb9f3a"
             ],
             [
              0.8888888888888888,
              "#fdca26"
             ],
             [
              1,
              "#f0f921"
             ]
            ],
            "type": "surface"
           }
          ],
          "table": [
           {
            "cells": {
             "fill": {
              "color": "#EBF0F8"
             },
             "line": {
              "color": "white"
             }
            },
            "header": {
             "fill": {
              "color": "#C8D4E3"
             },
             "line": {
              "color": "white"
             }
            },
            "type": "table"
           }
          ]
         },
         "layout": {
          "annotationdefaults": {
           "arrowcolor": "#2a3f5f",
           "arrowhead": 0,
           "arrowwidth": 1
          },
          "autotypenumbers": "strict",
          "coloraxis": {
           "colorbar": {
            "outlinewidth": 0,
            "ticks": ""
           }
          },
          "colorscale": {
           "diverging": [
            [
             0,
             "#8e0152"
            ],
            [
             0.1,
             "#c51b7d"
            ],
            [
             0.2,
             "#de77ae"
            ],
            [
             0.3,
             "#f1b6da"
            ],
            [
             0.4,
             "#fde0ef"
            ],
            [
             0.5,
             "#f7f7f7"
            ],
            [
             0.6,
             "#e6f5d0"
            ],
            [
             0.7,
             "#b8e186"
            ],
            [
             0.8,
             "#7fbc41"
            ],
            [
             0.9,
             "#4d9221"
            ],
            [
             1,
             "#276419"
            ]
           ],
           "sequential": [
            [
             0,
             "#0d0887"
            ],
            [
             0.1111111111111111,
             "#46039f"
            ],
            [
             0.2222222222222222,
             "#7201a8"
            ],
            [
             0.3333333333333333,
             "#9c179e"
            ],
            [
             0.4444444444444444,
             "#bd3786"
            ],
            [
             0.5555555555555556,
             "#d8576b"
            ],
            [
             0.6666666666666666,
             "#ed7953"
            ],
            [
             0.7777777777777778,
             "#fb9f3a"
            ],
            [
             0.8888888888888888,
             "#fdca26"
            ],
            [
             1,
             "#f0f921"
            ]
           ],
           "sequentialminus": [
            [
             0,
             "#0d0887"
            ],
            [
             0.1111111111111111,
             "#46039f"
            ],
            [
             0.2222222222222222,
             "#7201a8"
            ],
            [
             0.3333333333333333,
             "#9c179e"
            ],
            [
             0.4444444444444444,
             "#bd3786"
            ],
            [
             0.5555555555555556,
             "#d8576b"
            ],
            [
             0.6666666666666666,
             "#ed7953"
            ],
            [
             0.7777777777777778,
             "#fb9f3a"
            ],
            [
             0.8888888888888888,
             "#fdca26"
            ],
            [
             1,
             "#f0f921"
            ]
           ]
          },
          "colorway": [
           "#636efa",
           "#EF553B",
           "#00cc96",
           "#ab63fa",
           "#FFA15A",
           "#19d3f3",
           "#FF6692",
           "#B6E880",
           "#FF97FF",
           "#FECB52"
          ],
          "font": {
           "color": "#2a3f5f"
          },
          "geo": {
           "bgcolor": "white",
           "lakecolor": "white",
           "landcolor": "#E5ECF6",
           "showlakes": true,
           "showland": true,
           "subunitcolor": "white"
          },
          "hoverlabel": {
           "align": "left"
          },
          "hovermode": "closest",
          "mapbox": {
           "style": "light"
          },
          "paper_bgcolor": "white",
          "plot_bgcolor": "#E5ECF6",
          "polar": {
           "angularaxis": {
            "gridcolor": "white",
            "linecolor": "white",
            "ticks": ""
           },
           "bgcolor": "#E5ECF6",
           "radialaxis": {
            "gridcolor": "white",
            "linecolor": "white",
            "ticks": ""
           }
          },
          "scene": {
           "xaxis": {
            "backgroundcolor": "#E5ECF6",
            "gridcolor": "white",
            "gridwidth": 2,
            "linecolor": "white",
            "showbackground": true,
            "ticks": "",
            "zerolinecolor": "white"
           },
           "yaxis": {
            "backgroundcolor": "#E5ECF6",
            "gridcolor": "white",
            "gridwidth": 2,
            "linecolor": "white",
            "showbackground": true,
            "ticks": "",
            "zerolinecolor": "white"
           },
           "zaxis": {
            "backgroundcolor": "#E5ECF6",
            "gridcolor": "white",
            "gridwidth": 2,
            "linecolor": "white",
            "showbackground": true,
            "ticks": "",
            "zerolinecolor": "white"
           }
          },
          "shapedefaults": {
           "line": {
            "color": "#2a3f5f"
           }
          },
          "ternary": {
           "aaxis": {
            "gridcolor": "white",
            "linecolor": "white",
            "ticks": ""
           },
           "baxis": {
            "gridcolor": "white",
            "linecolor": "white",
            "ticks": ""
           },
           "bgcolor": "#E5ECF6",
           "caxis": {
            "gridcolor": "white",
            "linecolor": "white",
            "ticks": ""
           }
          },
          "title": {
           "x": 0.05
          },
          "xaxis": {
           "automargin": true,
           "gridcolor": "white",
           "linecolor": "white",
           "ticks": "",
           "title": {
            "standoff": 15
           },
           "zerolinecolor": "white",
           "zerolinewidth": 2
          },
          "yaxis": {
           "automargin": true,
           "gridcolor": "white",
           "linecolor": "white",
           "ticks": "",
           "title": {
            "standoff": 15
           },
           "zerolinecolor": "white",
           "zerolinewidth": 2
          }
         }
        },
        "title": {
         "text": "PCA"
        },
        "xaxis": {
         "anchor": "y",
         "domain": [
          0,
          1
         ],
         "title": {
          "text": "0"
         }
        },
        "yaxis": {
         "anchor": "x",
         "domain": [
          0,
          1
         ],
         "title": {
          "text": "1"
         }
        }
       }
      },
      "text/html": [
       "<div>                            <div id=\"34aa2a35-85e5-42dd-ad31-fdc2f312147b\" class=\"plotly-graph-div\" style=\"height:525px; width:100%;\"></div>            <script type=\"text/javascript\">                require([\"plotly\"], function(Plotly) {                    window.PLOTLYENV=window.PLOTLYENV || {};                                    if (document.getElementById(\"34aa2a35-85e5-42dd-ad31-fdc2f312147b\")) {                    Plotly.newPlot(                        \"34aa2a35-85e5-42dd-ad31-fdc2f312147b\",                        [{\"hovertemplate\": \"color=0<br>0=%{x}<br>1=%{y}<extra></extra>\", \"legendgroup\": \"0\", \"marker\": {\"color\": \"#636efa\", \"symbol\": \"circle\"}, \"mode\": \"markers\", \"name\": \"0\", \"orientation\": \"v\", \"showlegend\": true, \"type\": \"scatter\", \"x\": [0.8716314903835062, 2.197011021945993, 3.664206704280419, -0.3847446377830078, 2.5579002453720285, -1.3841824202586506, 2.5606615664244377, -2.018361960671093, 3.3740900908508067, -1.3896962928959902, -1.165847770472478, -0.6614102225128794, 2.834141680182415, -1.8336199995717044, -0.18766396034498678, 5.718972271865186, 2.1274542814703787, -0.862236668247149, -1.4653903589140214, 2.400561657506499, -2.9748184314516855, 1.7331338414184008, 0.394602569244072, -0.19818183924321175, -2.1351293841838066, -3.219468138643437, 0.09123813355727609, -3.31044461491125, 0.8849312337653399, -2.1225513012727295, -1.7700304256902712, 0.047230197510304515, -0.8355956036145856, -1.9042749498639975, -4.034452885007446, -1.8708043599649007, -5.047429611427691, 2.1706024412944043, 1.002218700242236, 0.7923719519773088, -1.7360709448994573, -1.9289487278374815, -3.817343928062755, 1.508353104917928, 3.2858658465412116, -1.381334894316713, 2.491155186640298, 1.409054863116551, -0.6453613888820974, -2.7835431649948768, 0.45852898355033106, 1.781277910906282, 3.011941961146998, 2.6447011681339005, 1.726020443294549, 3.0538174481308884, -1.6072115051073714, -1.0640500291338268, -3.536252455307956, 3.696938186828851, 4.636216892382233, 3.7012682323829935, 1.9175539146777028, 5.033221585712652, 0.7400243568266824, 5.19471317088917, 2.226622343229187, -3.8392740534091754, -3.2175514059021406, 5.4263872768908366, -1.5603685519999329, 2.043370136343152, 5.242246995625751, -1.5440953817526346, -3.75944027562104, 1.4061663924895784, -1.0050578952850644, -3.3145735961434966, 1.6728571849029505, -4.812288804880766, 0.5146772343145978, 0.6137608861880139, -1.7734779674953196, 3.0358884960029973, -1.2818867227589925, 1.4957435723733075, -1.5891457131731894, -0.0066198515216630074, -3.2541480369424813, 6.310862629968334, -5.109109424879872, -2.6710038581044517, -1.0516596503713616, -1.437626084520921, 2.372689593341559, -3.8764374778561645, 3.1223134145030946, -3.1173249254206543, -3.165304590374005, -1.167205364062684, 1.1349924361916868, 7.088300569732608, -2.59425524608907, 1.8978082325315755, -1.2964677908385476, -0.9958429712985105, 1.7203521687308643, -1.2993014290057967, 1.2430624959650594, -0.03797320529420169, 2.3075721175039243, 0.042358362279659674, -1.5314100875583134, 4.104981034669115, -0.160907454407577, -1.277222104173699, 3.9906868079549698, -0.17158192456257412, 0.33626897939473954, -3.0199378857270145, 2.8469505844610135, 0.7251299618099106, -2.142894610816944, -4.146932776751076, -2.8521384471504145, 2.762341496440538, 3.8511746390135486, 6.682316105995277, -5.000437103909607, -1.3785416444056409, 3.828901286278666, 1.2489159357605095, -1.1998416083686012, 2.7603065812771566, -0.9512756179981189, -0.8644525932012241, 2.179312110374647, -0.5537873196730342, 3.520734988795784, 3.811553709618984, -1.5806750554762603, -0.06674948819771519, 4.869565325253237, 2.361607021036023, -1.7641185417798213, 2.024093160640529, 3.7224118382135627, 0.2187144876893307, -1.4029665298454488, -2.440809963797633, 4.318684306227532, -3.035749938520574, 1.9825015976542384], \"xaxis\": \"x\", \"y\": [-1.2280158273724922, -3.9665822779876967, -0.6729800343593632, -2.9135967070220032, -1.5471313735831829, -1.1080882163257728, 1.544164932747158, 1.5013983971303515, 0.16638475951867993, -0.8338552388175171, 1.8913494747337118, 0.7332694582027008, -2.116539236776445, 2.655749412431312, -2.1885752374853875, 1.3289850442706044, -0.3810670000897633, -0.04540839107269719, -0.36806420731018724, -1.0301389290144294, -0.43631952801398655, -0.39913565045146504, -3.4373176678349155, 0.9596858232502404, -0.5550484597285987, -1.405341086980818, -2.829767380004622, -0.6372444545601773, -0.3147073154451856, -2.3109502792711276, 1.3890665621477756, 0.9257890368094065, -0.6128731961596818, -1.9680068584259545, -0.9953002941667058, 0.753042473983282, -0.497055861809298, 2.2274249749143125, 4.2312411608318286, -1.243459145144967, 1.5334696672967498, 0.8473339757549144, -0.30879133449978796, 0.8969257789148996, 1.2682288583577603, 5.861108113660636, -2.1620532015927734, 2.1563352800863327, 0.3045973327628072, 2.64877263182213, -1.5730781845926984, 3.1074259851967563, -1.386968410466618, 0.453919874202077, 0.2351695753475563, -2.7546019517857205, 3.1128887244295416, -3.0566900452328865, 0.09513174687295205, -0.07146095851992956, -0.1540111014393488, 1.6684904299862535, -3.117889232161591, 0.6434584186748143, 2.581569863814963, -3.320038122650341, -3.2274509209012767, -1.2130878890787664, 0.09423863238012299, 1.31551989335469, 1.0110629796358013, 3.432901235274818, 2.574010578463784, -0.8179934434311549, -1.7288726360802986, 3.2670324785398823, -0.7368852357695327, -0.9756629524898247, 0.9545176203509367, -0.38812624944164165, 2.5730988485739164, -2.982525536240864, -2.39405499220679, 4.099473082566907, 0.32369847984257133, 0.25687420750698914, 0.8021094258736395, -1.0178423616868428, -1.4613426082934287, 2.5928260602174604, -0.38887868116085955, 0.22430060996561318, -1.961773078400511, -2.7380544984733497, -2.522866415477646, -0.5829584916390954, -2.4567813806874272, 0.764538649351554, -1.8165221845110147, -0.6107504245218137, 3.108709238774359, 2.4986728433740684, 0.4155805437086915, -4.771354355407475, 2.9574062760100923, 0.4953320232551061, 0.22076873277097148, 1.136045906702566, 3.38842288113301, 0.15530574880287337, -1.3630914499362925, -0.3045841605513485, 1.0979120432955216, -0.3364194138451265, 3.139734233915446, -0.9748030205585618, -2.3974182054937616, -1.919974153801095, -1.297418955584828, 0.3083286109442005, -1.397412159614395, 1.2126134604644787, -2.504263756035941, -0.8968072908533579, -0.09309893714235332, 0.3010022366737828, 0.7953305157249687, -3.5639461963974157, -0.5258411093920669, 2.4698278282994353, 0.14414842093840471, -0.6529288188353914, -3.253477157258712, -0.2237766220361337, 0.9556021452058521, 0.8509106366153221, 1.0426305182041, -0.2450094283208117, -0.7685649196026522, -0.21105709297595476, -1.7610189120706758, -0.5800787308177895, -3.1516378435221952, 0.9514061116579595, 0.01539364443685744, -2.303913169674706, -2.3870987522854716, -0.037744964244125635, -2.3287544443949613, -1.788921271387732, -3.5866002982591447, -2.310310109018541, -1.8757702779988759], \"yaxis\": \"y\"}, {\"hovertemplate\": \"color=2<br>0=%{x}<br>1=%{y}<extra></extra>\", \"legendgroup\": \"2\", \"marker\": {\"color\": \"#EF553B\", \"symbol\": \"circle\"}, \"mode\": \"markers\", \"name\": \"2\", \"orientation\": \"v\", \"showlegend\": true, \"type\": \"scatter\", \"x\": [0.023790784334399066, -0.47979055980123064, -3.4476717035515656, 1.5844349592715288, 0.10376358780979122, -2.332917048380563, -2.0035577403647893, -3.624397585050593, -2.978728106845721, -2.7867350890962577, -0.9099121005506142, -3.640337866157802, -0.6856987587887153, 0.9596697804669764, 1.0237514081246624, -0.9961751409001783, 3.8825594388139706, 0.27153596990217055, 2.4273055770795087, 1.4911316781968538, -3.1020457850666054, -2.2214943348579603, 2.046931524345491, -2.9710772701078163, -0.485100421735239, -1.0870943605231744, -1.793990534140372, 6.3288074365429114, -3.3839612672183708, -1.9575187248205863, -2.3170378252259427, 3.4121751302359042, -2.590307828921939, -2.745792076820875, -3.0703342105165556, 2.0681595972405606, -1.1425600846917328, -0.8087749471318865, -0.5028700636395464, 2.104813060383659, -1.8396452414895952, -0.8854044986854913, 0.8722655596938089, -0.9165981364200562, 1.5181736023396626, 0.2997423868340271, -1.7981586234554576, 0.8097326818024622, -2.7828884924602066, 1.828890160956742, 2.6904582493062397, 1.8276435454108286, -0.213605068030149, -4.08802427197069, -1.0573588089140136, 0.30776979553522515, 1.4062399666315741, 3.1463995185553633, -0.49583941185822905, 1.5292010539876666, 0.5589927337574, 1.8919178709816735, -1.6855281261484634, 1.1037116155843434, 2.5617331948103366, 4.357375231425814, 0.7575943905013727, 3.841392830717988, 4.617179601428104, -3.0906066174124063, -0.05137960648324406, -1.1151485233475413, 2.9669868762356884, -1.647043988054661, 5.774419558945581, -3.6481106405729826, -0.4700457004885619, -4.080807628988569, -4.838636696762119, 5.771689066046816, 5.095502815225705, 2.2815386369560433, 2.0123833372142292, -1.949220055040798, -1.1871112364593626, -1.1279087945336217, -2.264060921692784, 0.23777642728419748, 0.9168242536188438, 3.656238147979008, 0.6736715038883466, -4.205847173988209, 0.18518324396903937, -1.2807046396172694, 4.657404339177766, -2.182090204911097, -2.1588753717830533, 1.0588514702433085, -0.12223347940837595, -5.151726440439048, 1.0721190584829527, 2.1327791251702286, 4.572242685457708, -3.141262792741132, 8.749186573245431, -0.8508758580043305, 2.475921949155976, -0.8405033864230025, 1.2208915631779371, 4.7083137745763395, -3.5283063260096967, 0.8179244013753938, -0.7232765283172045, -3.378443776883059, 0.6410698296192868, -0.7075015945216087, -1.9731919806939644, 0.8972846371181443, -0.8362575026694576, 3.6485249726224316, 3.6485249726224316, -4.650261615173122, -4.937168591224195, 0.4364903513005166, -3.9264354908855035, -2.980866400662142, -0.48451894269345164, -2.6457706872968734, -3.665918650571484, -1.7892337331513426, -1.0858596142654295, -3.3099612922712187, 1.3507117557678, -3.4780532315065527, -1.337310918990311, 1.8417176846144274, -0.6649973514628266, -4.396016139470274, 5.3736750577644425, -2.1915295058882114, -2.415706839815173, 0.25431453962439626, 2.8450126730141387, -3.3466125191530325, 2.1718002575018973, -4.44097771575482, 4.21647282116746, 1.529657543869584, -0.05357107812467087, -3.2834735880055974, -1.040114892948077, 0.7146437902609921, 5.516303365457755, -4.342839220301596, -2.0636005474107133, -1.6080519249965997, 1.5876810723392376, 0.6684712853440972, -1.6976017460533788, 0.8174597022571722, -1.0940833077133012, 4.362845463854534, 0.7132001512531551, 0.5949992088557121, 0.1910040470025237, 0.3109600455161844, 0.5179480899479917, -0.07746333013345545], \"xaxis\": \"x\", \"y\": [3.329244461759779, -2.9403147623801034, -1.5360628316860376, -3.2807401106827436, 3.3384044305976257, -2.4833390096484607, -0.5223326583422594, 0.7949911008071177, -1.58325224010808, 0.8152182678816429, -0.44794101421489, -0.543361887493219, -0.9794190001257427, -1.6112339380174607, 2.0156473599162057, -0.9804068782920351, 0.726875737232981, -0.7403262915350322, 0.17447288082293733, -0.3430811309440292, -2.1139017649956098, -2.2702742209857565, -1.4044733070593873, -0.5814876155393583, 1.525904242167517, 2.2254270330633097, -2.702952944987462, 1.5848391928226264, -0.4557219907287081, -2.291269570962538, 0.592746335827612, -3.9142142620262717, -1.5773920745303236, 3.658900006646452, -1.0292052913140282, -5.095282459987646, -0.7856067674988507, -1.3862425478592686, -0.5566968610944393, 1.4877464021624152, -0.4984492496089613, 1.702942056155607, -0.8802105065778253, -0.00020013093151938403, 1.0493271044977135, 1.2859911142290408, -0.9223682067759379, -1.34009687836708, 0.3411279531670587, 3.2232816674942666, -2.859500983924963, 1.7666872247686276, 3.9609002171452175, 1.3786371809937399, 0.3299828642205957, -1.6422737299492651, -0.9742512054872194, -2.8123947874398225, 0.31213525938518716, 1.8891494233333717, -2.2044374054236253, -0.5239764259130933, -3.149584113198112, 3.1374119825767464, -2.035868835463781, -1.278964263572065, 1.9358131044571474, 1.6285918446976797, 0.225101351350343, 0.8467240526939762, -1.0927405116476119, 2.3187872193894323, -2.656742310454744, 3.6938639929996975, -0.32410955823463455, -0.2157357227240709, 0.9443157708575657, -0.46905927302182937, -0.7095322494618874, -0.21628706219370836, -0.11422724001289385, -2.739536697708292, -0.8744410959031226, -0.61432426453155, -0.316398707969973, -2.691219770323691, -1.4316864333518518, -3.5181061990629874, -1.5460535944422638, 1.3194652318193134, -3.2010548096872893, -1.2930257270620638, -1.2201389749412113, 0.5290063818151897, -2.9842124042534457, 0.4449862539613584, -2.2421035840412835, -1.7466708937952893, 1.4062520471702942, -0.4029401639498435, 2.0452089601970296, -0.2685418513910701, 0.4141416886339603, 0.5926348572243456, -0.752979487254164, -1.4281575192083111, -2.1452797887699635, -3.001659786677556, 0.5701925663365974, -1.0910800324927283, 1.6439691092533828, 6.666147524716145, 2.8954049442683574, -1.6616415191637353, -2.699567879277495, -3.0072737448556013, 0.41684932976446976, 1.3138535374844995, 1.078822502315956, 2.6798060292694332, 2.6798060292694332, -0.7149452472136081, -0.6313488142496465, 0.7833982791899331, 0.14609542203590534, -0.01614465578184766, 4.047306051282842, -2.1176849061006475, -1.0657839520073435, -2.0247312441500163, 2.6759287622067736, -1.3684684776369387, 1.070426979186642, 2.3854714330888327, -0.7782862779312876, -2.1926482664190416, 1.5254550591968143, 0.18542271885750225, 1.5541675016833898, -0.8057034277313726, -1.7038736881597032, -0.861152707697533, -2.2582916601424032, -0.832079037620999, -2.0946511751186874, -0.9947033356446943, 0.1806454070982854, -2.5178929490279813, 1.2183995379160244, -0.009118592072400527, -2.164272621872808, -2.794133732300831, 2.445639362886499, -1.0640240592031316, -1.8366185846560412, -0.18098968946403415, 0.8673548507151195, -4.761898321043048, -1.1624723358783862, 1.5156836252620434, -0.49963636544926127, -4.41903033552376, -1.092157140573249, -0.06018267254225282, -2.191719226997843, 2.7914230690733453, -3.3562105710116903, 3.967462453928868], \"yaxis\": \"y\"}, {\"hovertemplate\": \"color=4<br>0=%{x}<br>1=%{y}<extra></extra>\", \"legendgroup\": \"4\", \"marker\": {\"color\": \"#00cc96\", \"symbol\": \"circle\"}, \"mode\": \"markers\", \"name\": \"4\", \"orientation\": \"v\", \"showlegend\": true, \"type\": \"scatter\", \"x\": [0.6265948577883356, -1.1124368191719458, 3.2093284651363074, 2.315925367649554, -3.5398138918706694, 2.5462590153212448, -3.207394275390521, -3.7047631226124604, 0.04259679167180819, 0.035684441622180506, -1.4828891075087893, 0.9978782568951317, -0.03674149871913049, -4.877227129148867, 1.6271028033552057, -3.1508645304717273, -3.191855936684955, 0.9612503321797964, 0.3925684947901455, 0.04206664614116564, -0.6389784299721243, -2.528340394821313, 4.640529335249449, 1.5086497441703774, -4.435273412859551, 1.6503447380698335, -2.430683387013917, -1.9414287079198511, 2.9202836807184744, 0.9864360669566867, 2.928845438616549, 1.5915837391409806, 1.6468620088292623, -4.284683206234376, 1.6117023476790442, 1.4318634283886462, -0.903554166578988, -5.133860757800341, -2.4763680806290393, 2.5617305309754523, -3.938166891052487, 2.39642985780629, 3.919204321873543, -0.6848076336176393, -3.6596635673963616, 2.6797261677591986, -1.3072188734946122, -3.151138147877251, 2.242583260484909, 1.9669461479784134, 3.851094381648772, -3.455069812453658, 5.113979739895333, -3.4190211984846677, 0.15963710424955174, 1.8890337511255906, 7.388194181591347, -1.4496659558740914, 2.9302236277526874, -3.7878410444784865, 5.346523606147896, 3.008286764312593, -2.1133608356313034, 0.9387875535280115, -1.616933274006533, 4.839981287512184, -3.284305222584459, 4.982215629496335, -1.0364658831477203, -3.039058470832773, -0.32613705920745933, 1.651159123594537, 2.073426727854143, 4.792435999223966, -1.4261488846947659, 1.7757772897497994, -1.3615375615050056, 3.745914241942103, 2.4478950694997272, -3.253905733320099, 3.085520528734217, -3.902468602113437, -3.0262306303099424, 2.7474917469435125, -0.8362709701733515, -0.9548515230952941, 2.9430867526873072, -1.6612739616127765, 2.732443355400706, 5.011021754489039, -3.2702188337025726, 0.13369232971612896, 1.2049110642634715, 0.23243286329212565, 1.4851598692835135, 4.985042986790378, 0.32979171961694786, -2.919953751476294, 6.453352092591472, 2.2432313693637282, -2.2004118290951493, -1.9548519993825482, -2.8096380275350494, 2.6847550070663564, -0.6147628304976535, -2.20268383692295, 2.242962261736103, -2.127662262259724, -1.649456761660953, -3.2229832005231303, -1.317214690129774, 1.6399856305030325, 5.095834535301102, 0.3508243605122063, 2.9416693587883995, 4.7060996386404526, -0.28468865292894857, -4.7865109743075935, 0.49592438652746523, 6.121875698702044, -4.131207368271016, 1.9697114387022945, -2.548112890064149, 4.085579746775669, 2.736937202221301, -0.9312850290454417, -1.861294929981575, 1.9001699104588532, -3.172084045925462, -3.01098748612066, -1.341504876679595, 1.2611846009861227, -2.00463872205285, -0.9683570760957929, -5.18457969008605, -0.8131058850804841, -2.6777765308022623, 0.5077845444135899, 1.963064212534308, -3.1839471530700507, 1.2768953223190016, -2.3550857932267837, 3.513053918918973, -1.9806161547242862, -0.1267996101932505, 2.1200469786127702, -2.3455019072066516, -3.0257606741651144, 3.442103381243862, 5.566114134701481, -0.2209811432931549, -2.2635525739039974, 3.792519314662356], \"xaxis\": \"x\", \"y\": [-1.6839013649525654, 0.4665595904130532, 0.8132512852062688, -2.3236759057037673, 0.8937023797502902, -2.5362377289933513, 1.3315679916246865, -0.6064493685208725, -0.5662531790842243, 1.5418391220730547, -1.0420028303397453, -1.7339952312247655, 0.8459527770198544, -0.2746905111086784, 1.7045455787868977, -0.48242458765251767, -0.802522405776149, -1.5121458631058633, -2.0012015938028176, -1.6367060278700125, -2.6973505231555013, 3.617026035837134, 0.2815056314798044, -0.15604058713632385, -0.13375865868479198, 4.63279173938023, -0.39114862195841116, -0.1481782073933041, 0.3440127382143399, -0.004680851406147657, 2.2080584940549817, -2.711691251355101, 0.649358268184044, -0.571610471009884, -1.9784483551531402, 1.9222720833974354, 4.777834935723638, -0.3504179123627974, -1.0715572738094554, -2.895333523195832, 1.1498696808121855, -3.681619797546538, -0.5252831782516548, 0.46456157465942255, -1.4741278887659501, -1.150900932494296, 0.6832597516471777, -0.45836609604649714, -1.5975290480586828, -3.565499893650871, -0.8490865069101462, 0.48338325070525845, -3.163766345463262, -0.9459354211852626, 4.302065625269797, 3.824724105422573, 0.06363497455998642, -0.2852279033840653, 0.639638020984585, 0.885872567151958, -2.177504496319763, -1.9493993447920068, 1.0450962681676967, -0.8603048059131627, -1.5328112227403565, 1.1999287525497988, -0.2460267135053324, -2.2085218697547204, -0.5827735875362536, 2.1200483885767647, 0.7096305014270801, -1.294623907231063, -3.4358047489411914, -1.0182861191065231, -2.2908502286269066, 0.7529929244878337, 3.017001338264202, -1.5608842639043434, 0.37216589191826704, -1.4301526688666728, -5.328664634023429, -0.9935680532343917, -0.08760952840714951, -2.211595792335781, -1.4756419854596798, -0.20820928451363296, -1.8245616452403988, -2.4246154824517747, -1.7262396591837075, 0.7423731490088772, -0.6987554071838252, -1.3844315720372946, 1.2763910462715498, -3.875550123028239, -3.016719574871955, 1.3167584625969881, -0.9449460229204083, -0.7375245496580969, -0.42669144632209, 1.1692380268176978, 0.6548757533584053, 1.8890930655838938, -2.2933978144445084, 1.8283239821508046, 2.889660880269063, -1.2287708375468605, -0.48373930340972915, 0.049155787292932226, -1.5622260460677617, 0.01664310332512081, -1.79123198379835, -3.5279570578196786, -2.4797576807891044, 0.3998831405663713, 1.4704064972123319, -0.7349533112977347, 4.4264761201007286, -0.11894692039063277, 3.5299962532140188, 0.6851279289880112, -0.6280951111028338, 1.893612758888051, 0.3679672757980485, 3.3865727886732118, -2.5592066576589847, 0.29703017692041617, -1.921120519056194, -2.763199962383003, 1.1120889287726725, -1.5922875649524801, 0.4050404681018212, -0.11178117480891052, -2.86644170934287, 1.7330633622037208, -0.41097762436432655, 3.6583168869957317, 1.7080334957135457, 2.4080410486975263, -1.701320383524039, -1.3622773173599898, 1.052868027735843, -1.0323626763567164, -0.01262563259172192, -1.263824004889226, -0.8248577038512058, -5.123163143322424, -0.13926440227339423, 2.2202776569341385, -2.4840299515185715, -3.1028976569388513, -0.27991650254201716, 0.03459007335014005, -3.1411476829446707], \"yaxis\": \"y\"}, {\"hovertemplate\": \"color=6<br>0=%{x}<br>1=%{y}<extra></extra>\", \"legendgroup\": \"6\", \"marker\": {\"color\": \"#ab63fa\", \"symbol\": \"circle\"}, \"mode\": \"markers\", \"name\": \"6\", \"orientation\": \"v\", \"showlegend\": true, \"type\": \"scatter\", \"x\": [3.3890054750465737, 0.08323318166747272, -1.886264916799954, -5.048223382000511, -0.6963464826463294, 4.011850391947806, -2.0113842103570168, -0.30904404510495836, -2.2144950312719307, -1.7258879938294458, 8.987825566391482, -4.940726769374652, -4.724754205712816, 2.1799247820245387, -1.5372931340585, 2.624860704059114, 0.4661343947064598, 2.333547998389895, -2.618437417983485, 4.916836954794214, -0.5799733557381475, 5.584314853337725, 1.7871732026369516, -4.44696686575947, 5.789254811585441, -0.3272199086597592, 4.615376042675088, 0.9335246762351926, 1.1113796029245646, 1.80543646671381, -0.4554682715847407, 1.1884268341984008, 1.5659144026971799, -3.873226569694412, -3.440166264772682, -0.2220246896836571, 5.859754828235422, -1.8799584396808473, 3.9611343643345074, 2.127191813594358, 0.9501938575171287, -2.8421253999968665, -0.8842601012291433, 5.6437190996490365, 3.8554172614749262, -1.6371315292716961, 1.6668274816780793, 0.15922777718080602, -2.831242383789081, 3.531606314070758, 1.6430726293955844, 0.49626201598389036, 5.217671316601443, -5.0833246409766115, -0.5614074790698903, 3.435407817976845, -1.1355864054041496, -3.936090901518323, -1.2179141757472498, 3.066829304847755, 1.1429362041526723, -5.157973790131665, -3.01312322968907, -1.4325588681653119, 0.6123248693363766, 0.28339717059752023, -4.344891727897556, -3.4297837440723282, -1.07410709369381, 1.4196410973727025, -2.9952118184046754, -0.4357772377388339, -0.08728665105588908, 3.2267517698363677, -1.3840219438545691, 3.116157095172013, -5.094631419773944, 5.9841098212733055, -0.00635165806892044, 6.058451414566627, -2.6413779494839353, -2.348144455141102, 0.975372676715338, -2.788039008748916, -3.2794106992559415, -0.5213306204480977, -3.5360067100886323, -1.2088076636830394, 0.459893424154197, -5.10787092678794, 0.05999024029479363, 0.6009221492380753, 1.2817523216715014, -3.6810204796028314, 2.4100493390870357, 2.205745113577508, 3.381187262098781, -0.6787265268925721, -0.0969433190927953, 2.3812784425637017, 3.542084178815796, -3.747788525685813, -2.969470425650714, 6.044562856144918, 2.851114822004467, -0.7892872752423756, 0.7613060391408423, 3.686856541178434, -0.6317332606775911, 5.8862489560091165, 3.8542676726849407, -1.567619743778979, -3.4249475690185234, 5.9663160382234395, 2.3170851896619253, 5.246888485168771, -2.057551955858875, 3.0342374062947863, 3.4583828653706847, 1.7110109580167285, -2.9191456275253214, 1.7776007771037705, -3.3722017485630955, -0.7805977397635429, -2.7127688512495123, -0.0958729427411571, -1.8926389602592517, 1.8321650699085403, -4.153121433065884, -0.5130289563349251, -1.3955763736502582, 0.19449468089848612, 2.5665444579016095, 6.051668489413954, -4.944445710562868, 0.39008817808536955, -2.1705787809321793, 0.6719606400814427, -4.291129064673353, 1.7134547730530958, 2.1311257051217787, 1.6142010013867787, -1.5160820689979992, -3.173999031888356, -3.2116587830994887, -1.1013461721935223, 0.7116721872987309, -0.9100033984048432, 0.20248862899482328, -1.234728978362833, -2.717295320264961, -4.709993381411645, -3.08590837972434, 2.145863750553197, 3.7870116441705393, 0.7768234689274717, -3.931101062618755, -0.09992901549285553, 0.8852605670554795, -1.3794688790529637, 0.7231328992631, -0.7740288363541374, -0.7536131208500914, -0.5586245048600321, 2.9441167620588553, 4.039946208316549, -0.7348287374036078, 1.3110491776283983, -0.8431865976514252, -2.5803776600120982, 1.2818028276588034], \"xaxis\": \"x\", \"y\": [2.821764572788144, -0.022467801598597695, -0.33091682212290613, -0.5466013915008441, 0.3017777223805209, 2.1750522053812915, 2.6354995829005596, 3.890568771602274, 0.2735373741723154, 0.09777106677123157, 1.4261951739305032, -0.3621416894187528, -0.02735861029845411, -0.13836460928067112, -1.3814112201681867, -0.5475276584676393, -3.0106129900712304, -1.193654675576776, 2.5085251706830336, -1.4286229845707048, 1.0360225748412604, -0.7917632618624011, 3.7179171214426625, -0.19177933893818297, -3.477768534676348, 1.0694838308775527, -1.0776812620116845, 0.35355806196734874, -1.6724042206936995, 2.137560024523952, 5.46286262234476, -1.1326299981614485, 1.8554509944289308, -1.3842182707939332, -0.41939052188066717, 1.2236661670769995, -1.7824106789588785, 4.581906513014717, 1.927916884586169, 3.203926174083312, -3.1997703224772627, 2.3212402805564385, -0.7768713711271592, 1.7385854653648531, -1.9906540986260242, 0.25576438832100096, -2.0414998928321477, -0.3330302828200865, 2.031930657946895, 1.944736099806, 1.1916424616847379, 0.5890349040619771, 2.1368313323801655, -0.43973173055772385, -1.6928712215949182, -1.8105845956119446, 1.5325176033699233, 0.34240606992788486, 1.0558738931419216, -0.02356238449704776, 2.128429733045285, -0.46135293543903866, -1.4179941568802392, 2.1952097468400087, 1.8601405299226454, 3.220809974373798, -0.5424491531605428, 0.598482571591936, 2.385490433198708, 1.0026270846516734, -0.6067347758109253, 0.5240877596287045, -1.8455161257430612, -1.5642591867594775, -0.22742364662920375, -3.789660646498571, -0.44122558729431105, -1.3065588245305952, 1.0329210545078096, -0.8788048471746194, -1.0605295971769058, 2.6970622673830102, 3.4063704494975937, -0.2856185369618765, 0.7146635463307355, -1.5826415018993336, 1.2456127541261466, 2.493803482130299, 4.036919565654834, -0.2166982898554798, -0.05480220879402925, -0.2443354023603187, 0.9144132821929432, -1.2502363471262112, 2.120589062225822, 4.886067435092483, -3.932069400883189, -2.7759261001315934, 3.366883911275827, -4.513175011871163, -2.282276432540088, -0.24588321097372776, -1.0303802382458298, 1.3167335442323282, 0.9574537894568793, 0.051171911057964946, -3.298012575040796, 3.1469809603205268, 4.295552197351677, 1.324070107068346, -1.434426669100646, -0.5914380159480355, -0.0025301826176076674, -0.6313219234777235, 0.16945197798434952, -1.133350155269848, 0.36213625562912005, 1.691344094115043, 2.1570218472383447, 3.3478115910766686, 0.7763795480025651, 1.9997782369697439, 0.9334202571270587, 3.9356417622730793, 0.4658745961803989, -0.9796851532460571, -2.323663902677382, -0.5459162053400255, 1.1555399798986175, -0.48070413400194584, -1.5568964624064778, -1.6796735728115297, -1.8915030222503215, -0.779260494185602, -0.6638248927060084, 0.38265224392852926, 0.6538189470749032, 3.2554316226696263, -0.7880420946822415, 1.0807181899544602, 2.619848514954539, -1.909289568179325, -2.5188216030263293, 2.2038998940819567, 0.249347586245041, -2.5604246487342954, 2.646820200058238, 2.9132367281956015, -2.5765333944140587, 2.039726544127535, -1.7184864318593995, -0.09843355952543166, -1.478015237684605, -3.89718407201831, -1.2520018356144418, -4.221305832988019, -1.3150959043335253, 0.5606950890284188, -2.2351176118785423, 3.9253396407665133, 1.2793112688045076, 3.943600417834316, 1.1019213379708956, 2.1277316781449267, 0.9232950929999547, 0.16539116625618916, -1.9381019759620317, -3.585540255021679, 2.743619779829742, 2.0385448388761214, -0.6781774474460667], \"yaxis\": \"y\"}, {\"hovertemplate\": \"color=3<br>0=%{x}<br>1=%{y}<extra></extra>\", \"legendgroup\": \"3\", \"marker\": {\"color\": \"#FFA15A\", \"symbol\": \"circle\"}, \"mode\": \"markers\", \"name\": \"3\", \"orientation\": \"v\", \"showlegend\": true, \"type\": \"scatter\", \"x\": [1.865881817641136, -4.511553027064783, 2.559458167979791, 0.7786278164748442, 2.3073103133381556, -0.8530303105806887, 2.7813124652189716, -5.03283242465388, 5.4373472988985005, -2.629470564702875, -3.1245886002326855, -2.514335817048249, -2.1510394971714932, -3.3815988902013823, -2.243268509821189, -3.498410953681697, -4.89498592151096, 0.11009683043464208, -2.1120822243047415, 3.3892442629992465, -4.984401641217534, 3.0029884100675273, 3.150358583742641, -4.548791395400931, -0.36246917932206685, 1.2123711369249175, -2.7868771527185325, 1.4407536424223448, -1.3778008595455973, 0.015125082007098051, 0.9939810375330772, -3.0152127735707763, -1.3516859484530273, -3.304438340492981, -0.14677895003696645, -1.3412371995263976, -0.7431783334432878, -3.6921260422726445, -2.9680728482817944, 0.24108112829837783, -3.134170544525864, -2.651447671198447, 0.9897017268908684, -2.8453808706050756, 4.946446300915052, 3.437016510391756, -2.1555897936088426, 3.027319869021578, -0.37870335204383104, 1.8308034959141475, -1.4629629425258184, 2.828753022842189, -1.1387351171011377, -3.779315037950087, -3.3208474781629764, 0.7411373593006312, 0.5794281680612413, 5.700172841353146, 2.151092157683939, 1.0194205501664086, -0.5768885420567429, 0.713488379835006, -4.347045741315528, 1.080106744761713, -1.8825392519831734, 0.2562676053273145, -0.015642894967264065, -0.23783896237740457, 1.411722684597676, -4.4197395134726705, -4.748382365579139, 0.11323064135940908, 1.1093472365469783, -1.4817718806305817, 1.2595730039883104, 5.043604171995298, -2.7101276929990488, 1.9141685714196337, -4.434835472495614, 2.996917511810886, -0.4150965584833492, 0.29429677794721903, 2.275520932223364, -0.3051769167966857, -1.3524876776368937, 1.2473397139809783, -2.8362412761322267, 4.394604381654915, 4.756110391845263, 0.4164873219289505, 1.2212756564263336, 4.047543900075291, 3.250149797718369, -1.121684694192183, -3.969364451882385, -0.9032963135182303, -1.9138086988927083, 5.79839203759226, 0.33627494290707793, -0.6289994838939966, -1.8246559721746598, 4.700298340412232, -0.8129784322022303, -0.4688152483117319, -4.559835976788789, -0.535043494742965, 0.06444564002317829, -4.06349348563458, -0.09016532456346014, 3.2366474038308866, -0.8429515549599051, 2.570945276572606, 0.6461550393575298, 5.171713283472288, 1.2326930165809136, 2.44243378716138, -0.8482135216116587, 1.8613633605358295, -2.172857912082046, -4.735116752337168, -1.407014352191844, 1.8603547689354518, 0.11306752180742027, 0.7442931479193541, -2.093081763550655, 2.3049133282651275, 2.36221334029317, -0.6959860362927203, 4.685158953326401, -1.225533687988994, -0.8176772091656359, -2.507213889928796, -1.6902396458801168, 0.7482556144277336, 5.029874000444285, 0.9181177686353521, 0.5743260815987308, 0.9224197547723828, 0.8038814255004276, 1.5992383362257028, -0.24756523792937826, -4.292837121134567, 4.132810058890413, -1.36478860438245, -4.057644970253038, -4.229150497071728, -0.7511756558832516, 4.450776770713378, -1.516720094261009, -4.5619211792110965, -3.1716575593987044, 1.8036318217120066, -4.779584891370276, 3.974799915180526, 0.22595981220129804, 1.3763904651550805, 0.8666559323225631, 0.6041878269623591, 0.027119468620117684, -0.40833145641653407, 0.37287920362322247, -3.99005632265612, 4.385182413246143, 1.603051318503472, -2.546856828038068, -0.7296794933919063, -2.5615446876944463, 0.7941831677574206, -1.6979401063934274, 3.917676475262693, -1.5929310321388956, -1.4330014139220637, 0.8177553571946471, 2.7954193444770454, -0.3867357550074261, 0.7404077602474508, -1.9850441683201574, -2.8221075188246885, -2.1387465620949166, -2.958290583104529, -1.1717415535012168, -3.692192704395921, -0.19633701106015145, 3.9118615096348544, 0.9741711001421435, -4.212819419447193, -1.2594297466081803, -4.16952943157294, -4.17154183575481, 0.7749226506297848, -1.6946216404340804, 0.9609361530528039, 3.1016280191181673, -1.8110086608251508, -2.707609450054829, 5.59447555313761, -2.590053044942504, 3.2401256049179405, 5.734410584023729, -4.568116561580315, 3.443306899542219, 1.5395695452682518, -4.753189709674314, -0.6426615144561902, -1.073950470395456, -0.9753851202627603, 4.813949086576059, -0.7601746546117818, -2.185356790259387, -0.11728904386255787, -2.254921850010132, -1.7180028479721112, 0.2680175376425288, 2.0976786916575434, 5.182045227646796, -0.526072346032064, -3.132383976197897, -2.741157708224236, 2.816099683139491, 1.739323715284788, -0.33262492134514426], \"xaxis\": \"x\", \"y\": [3.7603048165249398, 0.7754947025676757, -0.027323345866628015, 1.8316355489845182, -1.5672694043818507, -3.688660333353983, -2.078237074915562, -0.38490157320758456, 2.3368883517349377, 1.1321788216848412, 1.4310868763560038, 3.0191418399932655, -2.5513470857084433, 1.4318002085704544, -2.4188921540643293, 2.1319427393533337, -0.5757234513121025, -2.439816232411538, -1.021066673921411, -0.2802299592344823, -0.48988441910677655, -0.7228658999454386, 2.26336195627189, -0.4314191204393454, 1.2605866038870739, -1.0656607563988667, -0.1302679176539018, -3.115736969905201, 1.7943180039665951, 2.4945692311277283, 0.1230196607505502, -1.381199328850725, 0.7279859653047409, -1.057439878546193, 3.4540102104062798, 5.102544610246987, 3.940743722504738, -0.7839678828858562, -1.3474025620509418, -4.682286457652228, 0.31160471248019395, 3.1144690397635846, 0.24441245894406877, -2.226945449429415, -1.2349177601004113, -0.7676074244056599, 3.120320579887289, 5.446383442311698, 0.029284363420439868, 1.763318606502189, -2.665411157874311, -1.6959112174264865, -1.6468418492146288, 0.8225924885380188, 0.8785969124283516, -0.1759094581390021, 4.590779908837737, -0.6264721706435169, 0.8693996247006583, -2.010734836057119, -0.43500270801143054, 0.14019125581764036, -0.19831941120913021, 0.8169791236618498, 2.070847349850907, 2.041146727863815, 1.8364427916302284, 4.905884674555152, -0.9572905381353428, -0.11019713290340416, -0.45584125435754547, 0.9209724952827721, -3.449426828110285, -2.643395950982848, -1.4976091290968883, -1.3782682152197385, 1.3540602572796647, 3.2203622695284397, 0.3853184396406798, -1.9264922241676001, 2.5531032660741966, 3.166087354888447, -3.799475933734439, 3.4513238814973644, 0.11415259658448472, -3.432256371465389, 0.43772377428278975, 0.967353834528314, -0.6636206449213838, -2.8596429268242094, -4.47206770414456, 0.8314241295718372, -1.221368947063067, 1.3304165899714266, -1.4072881783857605, -2.659935302971191, -0.6975665988360381, 1.2985975771178304, 5.027359717901126, -1.0683228479257239, -2.996566815882123, -1.6150300598534075, 1.1856836476403432, 1.2273747556296066, -0.31036261639232415, 0.35494879451871764, -0.46505378335346303, -0.7080059163968814, 1.8395868903231651, -1.9447954713925952, -2.861530923125444, 2.2508476777298223, 4.195227218542206, -3.0424622683380433, -1.3780036715988482, -0.8124628324682347, 2.22625484577408, 3.37754803452589, 0.8999634095736279, -0.7453013304489636, 1.3720882407649861, -5.45698012685812, 0.014514008540469877, 0.8698510605747102, 2.7235335575515647, 4.362741084995723, -2.3092473767650894, -1.9872815804710056, 2.644855829992161, 1.1959601412418464, 1.7955214125617842, -1.3151459956251788, 0.44769810127984944, 2.6500874834747927, 0.20316055831320765, -3.136776381114856, -0.743865922320892, 1.6290395807717173, -1.0396316871340705, 5.022632973208645, 5.607123091260424, 0.78003044876767, 1.0832518213228604, -0.5128366852430156, -1.4990030936153347, -0.9374609721025494, 3.403155466933, 1.0281198659895556, 1.0361412994585388, -0.7178828444252872, -1.7649548849625314, 3.190464752860353, -0.6757446391716817, 0.18890479313867484, 0.14973080952540657, -2.3802825397440452, -0.14889965599019703, 1.9660859509408741, 0.656153916556562, 0.16310862673991053, 1.4743654764677854, -0.2214442600998176, -0.1646781667280276, -1.5720453310245155, -1.4692009764925875, -3.101919397519787, 0.4049804513749166, -1.2442313016839006, -2.1485527512332494, -0.801161660903199, 0.7418170191472335, 1.5059067454248014, -3.4028105983686143, 3.2702957879914725, -1.6383502485323067, -1.9258653523598244, 0.35952394150055, -1.4977636856116763, -1.6870401068724603, 1.7405547777873804, 1.4516073656013881, 0.2597994197799361, -1.9809050581416123, -2.493175006548065, -1.3346360493825298, 0.39132018440733596, 4.5928048542365465, -0.5605957730664615, -0.9210743593375563, 6.705441058092413, 0.039924721495582106, -1.8887683871011733, -0.6114496261032566, 3.3866236245803254, 1.3563598837447184, 1.751352136184029, -0.0854326776749024, -3.0054891902762466, -1.0303205817927765, -0.7116568462508388, -0.5960288586632473, -1.177661977300862, 0.40250848558735813, -1.6115270509965693, -0.9607439470557644, -1.2821066587913204, -0.5865545418606603, -0.2825756607034318, -0.4961162387001007, 4.0626394830401935, 1.1683314003764123, -3.0683308836213112, 1.9987466933162747, 3.2416008916572814, -0.16146115154903198, 4.923301043427236, 2.148215492801042, -2.1535386325976273, -0.9274017580805182, 6.897850334076064, 2.3467306539926476], \"yaxis\": \"y\"}, {\"hovertemplate\": \"color=5<br>0=%{x}<br>1=%{y}<extra></extra>\", \"legendgroup\": \"5\", \"marker\": {\"color\": \"#19d3f3\", \"symbol\": \"circle\"}, \"mode\": \"markers\", \"name\": \"5\", \"orientation\": \"v\", \"showlegend\": true, \"type\": \"scatter\", \"x\": [-3.0866458302609296, -4.22611954924576, 1.519283538308982, -0.22998654041366212, 0.18785381406880952, -3.419080897604527, -0.6095068404962714, -4.437069642772109, 0.5198334542354679, -0.2961693314369615, 1.0791022030798338, -1.3163394246167757, -2.4254933407190444, -1.0160314237868604, -2.504190081417048, 0.5857266714085617, -3.11007010390423, -1.7323495166602538, -2.500051507312697, -4.363147732286963, 0.8987944324408995, 0.983873059799406, 1.4898730432572678, 2.92566120006098, -2.905493013991322, 1.5060246421201802, 1.4382555662375303, 4.49117027339734, -0.5869426159699037, 1.5998485762437629, -3.180180708491216, 1.124551356260775, -2.6718841573043353, -4.417759050749985, -3.577495193427175, -0.5366084465204134, -3.041367302927881, -2.9896183648899366, -1.6673693400106533, 2.104300886194131, -4.6707991570339535, -2.4131221283998423, 4.38720124187298, -3.6017820405349315, -1.76104644186287, -1.5002646600965108, -2.3137384692098517, 1.238628333889691, 0.0939719451415715, -2.6424187626137967, 0.18340572745023864, 0.35069684728999395, 0.04355852657408263, -0.4628837217296459, 3.073038003664432, -1.4215932511963045, -2.209496088502107, -3.4946344621090017, -4.5915451265121465, 2.3833591403442265, -1.0196548655664877, -2.429233664485166, -4.077217858049435, -3.421346523503728, -1.8183460675416967, -0.057840741720492105, 3.070669036069445, 4.580439880809874, 1.504482886725031, 2.854322530810891, -0.640445290917767, 0.6227575164670771, -1.7249165540572935, -4.797810061911092, -2.942440756530457, -5.121044699641947, -3.525133020264376, 1.4051138709758866, -4.744173310313272, 1.9679002754110508, 0.13743531228786265, -2.5583762161098234, -3.041367302927881, 0.07615376859865135, -3.188070972515815, -1.5930689881570623, -1.5482170608811139, 2.57114014043087, -3.2217040647671595, -2.760449081907389, 1.7841626035927047, -3.81974681540352, -1.8962257066602386, 0.1923417324600891, -0.9240988865739593, -1.3132402252099085, 3.763300721363332, -0.9661257745775478, -2.8305872172348168, -4.302380485256155, 1.1224812077685602, 2.746562172700867, -1.9960002670615145, -2.28288454930918, -2.162966185067737, 0.5651585785074703, -2.3360113498975164, -0.75944796269235, -4.045937874841035, -1.405883362402646, -4.259732792719775, 1.2126859487306836, -3.0224742251636747, -0.298827034403329, -1.8009066356032832, -1.4788619643884717, -1.4739685613066864, -4.604150341360486, 0.8136136083142387, 1.3230419456827478, 0.6796537806801546, -0.5356266669960995], \"xaxis\": \"x\", \"y\": [-1.7067758109621545, -0.21883580996929736, 2.767299171731279, 1.6179019043477434, -0.6457445805482672, -1.57434746697495, -0.569643094752891, -1.1765093475851458, 0.0635337469538012, 4.485585318127998, 5.890109177209964, 0.2109504633772953, 0.9314775555526736, 2.681265451512854, -1.8424921771563603, -0.26227580077350704, -1.8824442753040933, -0.7591482216300486, -1.8271639517144662, -0.8012857488982198, 3.7198656380779576, -2.08011779861184, 1.7252495867873154, 4.8649554595567714, -2.2641193353668476, -4.414149811654232, -4.256852343878207, 2.6378281062639664, 3.100159668583644, 2.252229002220463, -1.7718304613771128, 5.563393141686824, -1.2900293557738485, -1.1437226267123195, 1.7203084650830294, 0.006138185263069429, -1.2171813620262624, -0.24954828011799748, -2.6754691134715127, 1.7814213995007313, -0.9281333779394422, -1.982230837375248, -0.08677458652196166, 0.9944437255737637, 4.1474966435668, -0.34199647090268626, -2.2848406654530837, -1.2769108840899275, 1.69548495520586, -1.2663762171447464, -3.3150942257118596, 4.103764157390365, 3.5461665382173893, 0.8348972951393363, -0.6895960279022146, -2.9483310074826403, -0.08462873120271944, -1.4046638825859186, -0.6779615636185428, 1.6736844997352769, 4.7452710023059215, -1.5955402371378469, -0.8749779725194957, -0.3837203060641769, 0.7634715859021255, -1.7043295189020229, 0.41209081284426474, 0.26428258605238625, -1.9081751958998194, -4.332337757292988, 0.6614096242136904, -0.48109665156451753, 0.21120664374165163, -0.055735115737767994, -1.3939815864079994, -0.4529908521986428, -1.0076174540141252, -1.8714367128749891, -0.7470058450557849, 0.9630085274533098, -0.6833363936940579, -0.5368897518607361, -1.2171813620262624, 3.334655702609648, -0.8743257170591017, 0.8105382216971893, -1.4214129074232307, 3.557543673948117, 0.12436194149938748, 1.4601424574835073, -1.9411253710752598, 0.10180412620610828, -2.2608230258430253, -0.07682008034324718, 2.5263791244385074, -1.0328560938876912, 1.2420566845319458, -0.4633266810286013, -0.17138238261849903, -0.15526736615568307, 0.4432541162984559, -0.7496950388921619, -1.427921472458979, -0.3163780921036409, -1.3308480529731115, 1.3787042309272766, -0.12632306154232603, 1.1206904090807701, -0.5079688863940914, -1.1574513663164523, -0.7870534322515932, 3.013077853910209, 0.9121360561246756, -2.1078673924937865, 2.1072211808985712, -1.6146533523617372, -2.2248803239478647, -0.5708472077720231, 1.406556629075976, 1.7119648738317175, -4.34029493622215, -0.36619741193624283], \"yaxis\": \"y\"}, {\"hovertemplate\": \"color=1<br>0=%{x}<br>1=%{y}<extra></extra>\", \"legendgroup\": \"1\", \"marker\": {\"color\": \"#FF6692\", \"symbol\": \"circle\"}, \"mode\": \"markers\", \"name\": \"1\", \"orientation\": \"v\", \"showlegend\": true, \"type\": \"scatter\", \"x\": [-3.876552298977751, -0.2621403526289344, -2.080441952156964, 4.24678719904367, 1.6298147869266264, -4.111484026071752, -0.0918626636704407, 4.742382626792086, 0.5296831207385815, -1.2868923161896366, 2.5275352343456268], \"xaxis\": \"x\", \"y\": [-1.0958815777150923, 0.9076306467759965, -1.7003725512953025, -2.229781737897189, -1.595882738526843, -0.23746448617023938, -1.9398332593937584, 1.3057911797443427, -2.9601860190484954, 3.482868612439623, -0.8132291033137741], \"yaxis\": \"y\"}],                        {\"legend\": {\"title\": {\"text\": \"color\"}, \"tracegroupgap\": 0}, \"template\": {\"data\": {\"bar\": [{\"error_x\": {\"color\": \"#2a3f5f\"}, \"error_y\": {\"color\": \"#2a3f5f\"}, \"marker\": {\"line\": {\"color\": \"#E5ECF6\", \"width\": 0.5}}, \"type\": \"bar\"}], \"barpolar\": [{\"marker\": {\"line\": {\"color\": \"#E5ECF6\", \"width\": 0.5}}, \"type\": \"barpolar\"}], \"carpet\": [{\"aaxis\": {\"endlinecolor\": \"#2a3f5f\", \"gridcolor\": \"white\", \"linecolor\": \"white\", \"minorgridcolor\": \"white\", \"startlinecolor\": \"#2a3f5f\"}, \"baxis\": {\"endlinecolor\": \"#2a3f5f\", \"gridcolor\": \"white\", \"linecolor\": \"white\", \"minorgridcolor\": \"white\", \"startlinecolor\": \"#2a3f5f\"}, \"type\": \"carpet\"}], \"choropleth\": [{\"colorbar\": {\"outlinewidth\": 0, \"ticks\": \"\"}, \"type\": \"choropleth\"}], \"contour\": [{\"colorbar\": {\"outlinewidth\": 0, \"ticks\": \"\"}, \"colorscale\": [[0.0, \"#0d0887\"], [0.1111111111111111, \"#46039f\"], [0.2222222222222222, \"#7201a8\"], [0.3333333333333333, \"#9c179e\"], [0.4444444444444444, \"#bd3786\"], [0.5555555555555556, \"#d8576b\"], [0.6666666666666666, \"#ed7953\"], [0.7777777777777778, \"#fb9f3a\"], [0.8888888888888888, \"#fdca26\"], [1.0, \"#f0f921\"]], \"type\": \"contour\"}], \"contourcarpet\": [{\"colorbar\": {\"outlinewidth\": 0, \"ticks\": \"\"}, \"type\": \"contourcarpet\"}], \"heatmap\": [{\"colorbar\": {\"outlinewidth\": 0, \"ticks\": \"\"}, \"colorscale\": [[0.0, \"#0d0887\"], [0.1111111111111111, \"#46039f\"], [0.2222222222222222, \"#7201a8\"], [0.3333333333333333, \"#9c179e\"], [0.4444444444444444, \"#bd3786\"], [0.5555555555555556, \"#d8576b\"], [0.6666666666666666, \"#ed7953\"], [0.7777777777777778, \"#fb9f3a\"], [0.8888888888888888, \"#fdca26\"], [1.0, \"#f0f921\"]], \"type\": \"heatmap\"}], \"heatmapgl\": [{\"colorbar\": {\"outlinewidth\": 0, \"ticks\": \"\"}, \"colorscale\": [[0.0, \"#0d0887\"], [0.1111111111111111, \"#46039f\"], [0.2222222222222222, \"#7201a8\"], [0.3333333333333333, \"#9c179e\"], [0.4444444444444444, \"#bd3786\"], [0.5555555555555556, \"#d8576b\"], [0.6666666666666666, \"#ed7953\"], [0.7777777777777778, \"#fb9f3a\"], [0.8888888888888888, \"#fdca26\"], [1.0, \"#f0f921\"]], \"type\": \"heatmapgl\"}], \"histogram\": [{\"marker\": {\"colorbar\": {\"outlinewidth\": 0, \"ticks\": \"\"}}, \"type\": \"histogram\"}], \"histogram2d\": [{\"colorbar\": {\"outlinewidth\": 0, \"ticks\": \"\"}, \"colorscale\": [[0.0, \"#0d0887\"], [0.1111111111111111, \"#46039f\"], [0.2222222222222222, \"#7201a8\"], [0.3333333333333333, \"#9c179e\"], [0.4444444444444444, \"#bd3786\"], [0.5555555555555556, \"#d8576b\"], [0.6666666666666666, \"#ed7953\"], [0.7777777777777778, \"#fb9f3a\"], [0.8888888888888888, \"#fdca26\"], [1.0, \"#f0f921\"]], \"type\": \"histogram2d\"}], \"histogram2dcontour\": [{\"colorbar\": {\"outlinewidth\": 0, \"ticks\": \"\"}, \"colorscale\": [[0.0, \"#0d0887\"], [0.1111111111111111, \"#46039f\"], [0.2222222222222222, \"#7201a8\"], [0.3333333333333333, \"#9c179e\"], [0.4444444444444444, \"#bd3786\"], [0.5555555555555556, \"#d8576b\"], [0.6666666666666666, \"#ed7953\"], [0.7777777777777778, \"#fb9f3a\"], [0.8888888888888888, \"#fdca26\"], [1.0, \"#f0f921\"]], \"type\": \"histogram2dcontour\"}], \"mesh3d\": [{\"colorbar\": {\"outlinewidth\": 0, \"ticks\": \"\"}, \"type\": \"mesh3d\"}], \"parcoords\": [{\"line\": {\"colorbar\": {\"outlinewidth\": 0, \"ticks\": \"\"}}, \"type\": \"parcoords\"}], \"pie\": [{\"automargin\": true, \"type\": \"pie\"}], \"scatter\": [{\"marker\": {\"colorbar\": {\"outlinewidth\": 0, \"ticks\": \"\"}}, \"type\": \"scatter\"}], \"scatter3d\": [{\"line\": {\"colorbar\": {\"outlinewidth\": 0, \"ticks\": \"\"}}, \"marker\": {\"colorbar\": {\"outlinewidth\": 0, \"ticks\": \"\"}}, \"type\": \"scatter3d\"}], \"scattercarpet\": [{\"marker\": {\"colorbar\": {\"outlinewidth\": 0, \"ticks\": \"\"}}, \"type\": \"scattercarpet\"}], \"scattergeo\": [{\"marker\": {\"colorbar\": {\"outlinewidth\": 0, \"ticks\": \"\"}}, \"type\": \"scattergeo\"}], \"scattergl\": [{\"marker\": {\"colorbar\": {\"outlinewidth\": 0, \"ticks\": \"\"}}, \"type\": \"scattergl\"}], \"scattermapbox\": [{\"marker\": {\"colorbar\": {\"outlinewidth\": 0, \"ticks\": \"\"}}, \"type\": \"scattermapbox\"}], \"scatterpolar\": [{\"marker\": {\"colorbar\": {\"outlinewidth\": 0, \"ticks\": \"\"}}, \"type\": \"scatterpolar\"}], \"scatterpolargl\": [{\"marker\": {\"colorbar\": {\"outlinewidth\": 0, \"ticks\": \"\"}}, \"type\": \"scatterpolargl\"}], \"scatterternary\": [{\"marker\": {\"colorbar\": {\"outlinewidth\": 0, \"ticks\": \"\"}}, \"type\": \"scatterternary\"}], \"surface\": [{\"colorbar\": {\"outlinewidth\": 0, \"ticks\": \"\"}, \"colorscale\": [[0.0, \"#0d0887\"], [0.1111111111111111, \"#46039f\"], [0.2222222222222222, \"#7201a8\"], [0.3333333333333333, \"#9c179e\"], [0.4444444444444444, \"#bd3786\"], [0.5555555555555556, \"#d8576b\"], [0.6666666666666666, \"#ed7953\"], [0.7777777777777778, \"#fb9f3a\"], [0.8888888888888888, \"#fdca26\"], [1.0, \"#f0f921\"]], \"type\": \"surface\"}], \"table\": [{\"cells\": {\"fill\": {\"color\": \"#EBF0F8\"}, \"line\": {\"color\": \"white\"}}, \"header\": {\"fill\": {\"color\": \"#C8D4E3\"}, \"line\": {\"color\": \"white\"}}, \"type\": \"table\"}]}, \"layout\": {\"annotationdefaults\": {\"arrowcolor\": \"#2a3f5f\", \"arrowhead\": 0, \"arrowwidth\": 1}, \"autotypenumbers\": \"strict\", \"coloraxis\": {\"colorbar\": {\"outlinewidth\": 0, \"ticks\": \"\"}}, \"colorscale\": {\"diverging\": [[0, \"#8e0152\"], [0.1, \"#c51b7d\"], [0.2, \"#de77ae\"], [0.3, \"#f1b6da\"], [0.4, \"#fde0ef\"], [0.5, \"#f7f7f7\"], [0.6, \"#e6f5d0\"], [0.7, \"#b8e186\"], [0.8, \"#7fbc41\"], [0.9, \"#4d9221\"], [1, \"#276419\"]], \"sequential\": [[0.0, \"#0d0887\"], [0.1111111111111111, \"#46039f\"], [0.2222222222222222, \"#7201a8\"], [0.3333333333333333, \"#9c179e\"], [0.4444444444444444, \"#bd3786\"], [0.5555555555555556, \"#d8576b\"], [0.6666666666666666, \"#ed7953\"], [0.7777777777777778, \"#fb9f3a\"], [0.8888888888888888, \"#fdca26\"], [1.0, \"#f0f921\"]], \"sequentialminus\": [[0.0, \"#0d0887\"], [0.1111111111111111, \"#46039f\"], [0.2222222222222222, \"#7201a8\"], [0.3333333333333333, \"#9c179e\"], [0.4444444444444444, \"#bd3786\"], [0.5555555555555556, \"#d8576b\"], [0.6666666666666666, \"#ed7953\"], [0.7777777777777778, \"#fb9f3a\"], [0.8888888888888888, \"#fdca26\"], [1.0, \"#f0f921\"]]}, \"colorway\": [\"#636efa\", \"#EF553B\", \"#00cc96\", \"#ab63fa\", \"#FFA15A\", \"#19d3f3\", \"#FF6692\", \"#B6E880\", \"#FF97FF\", \"#FECB52\"], \"font\": {\"color\": \"#2a3f5f\"}, \"geo\": {\"bgcolor\": \"white\", \"lakecolor\": \"white\", \"landcolor\": \"#E5ECF6\", \"showlakes\": true, \"showland\": true, \"subunitcolor\": \"white\"}, \"hoverlabel\": {\"align\": \"left\"}, \"hovermode\": \"closest\", \"mapbox\": {\"style\": \"light\"}, \"paper_bgcolor\": \"white\", \"plot_bgcolor\": \"#E5ECF6\", \"polar\": {\"angularaxis\": {\"gridcolor\": \"white\", \"linecolor\": \"white\", \"ticks\": \"\"}, \"bgcolor\": \"#E5ECF6\", \"radialaxis\": {\"gridcolor\": \"white\", \"linecolor\": \"white\", \"ticks\": \"\"}}, \"scene\": {\"xaxis\": {\"backgroundcolor\": \"#E5ECF6\", \"gridcolor\": \"white\", \"gridwidth\": 2, \"linecolor\": \"white\", \"showbackground\": true, \"ticks\": \"\", \"zerolinecolor\": \"white\"}, \"yaxis\": {\"backgroundcolor\": \"#E5ECF6\", \"gridcolor\": \"white\", \"gridwidth\": 2, \"linecolor\": \"white\", \"showbackground\": true, \"ticks\": \"\", \"zerolinecolor\": \"white\"}, \"zaxis\": {\"backgroundcolor\": \"#E5ECF6\", \"gridcolor\": \"white\", \"gridwidth\": 2, \"linecolor\": \"white\", \"showbackground\": true, \"ticks\": \"\", \"zerolinecolor\": \"white\"}}, \"shapedefaults\": {\"line\": {\"color\": \"#2a3f5f\"}}, \"ternary\": {\"aaxis\": {\"gridcolor\": \"white\", \"linecolor\": \"white\", \"ticks\": \"\"}, \"baxis\": {\"gridcolor\": \"white\", \"linecolor\": \"white\", \"ticks\": \"\"}, \"bgcolor\": \"#E5ECF6\", \"caxis\": {\"gridcolor\": \"white\", \"linecolor\": \"white\", \"ticks\": \"\"}}, \"title\": {\"x\": 0.05}, \"xaxis\": {\"automargin\": true, \"gridcolor\": \"white\", \"linecolor\": \"white\", \"ticks\": \"\", \"title\": {\"standoff\": 15}, \"zerolinecolor\": \"white\", \"zerolinewidth\": 2}, \"yaxis\": {\"automargin\": true, \"gridcolor\": \"white\", \"linecolor\": \"white\", \"ticks\": \"\", \"title\": {\"standoff\": 15}, \"zerolinecolor\": \"white\", \"zerolinewidth\": 2}}}, \"title\": {\"text\": \"PCA\"}, \"xaxis\": {\"anchor\": \"y\", \"domain\": [0.0, 1.0], \"title\": {\"text\": \"0\"}}, \"yaxis\": {\"anchor\": \"x\", \"domain\": [0.0, 1.0], \"title\": {\"text\": \"1\"}}},                        {\"responsive\": true}                    ).then(function(){\n",
       "                            \n",
       "var gd = document.getElementById('34aa2a35-85e5-42dd-ad31-fdc2f312147b');\n",
       "var x = new MutationObserver(function (mutations, observer) {{\n",
       "        var display = window.getComputedStyle(gd).display;\n",
       "        if (!display || display === 'none') {{\n",
       "            console.log([gd, 'removed!']);\n",
       "            Plotly.purge(gd);\n",
       "            observer.disconnect();\n",
       "        }}\n",
       "}});\n",
       "\n",
       "// Listen for the removal of the full notebook cells\n",
       "var notebookContainer = gd.closest('#notebook-container');\n",
       "if (notebookContainer) {{\n",
       "    x.observe(notebookContainer, {childList: true});\n",
       "}}\n",
       "\n",
       "// Listen for the clearing of the current output cell\n",
       "var outputEl = gd.closest('.output');\n",
       "if (outputEl) {{\n",
       "    x.observe(outputEl, {childList: true});\n",
       "}}\n",
       "\n",
       "                        })                };                });            </script>        </div>"
      ]
     },
     "metadata": {},
     "output_type": "display_data"
    }
   ],
   "source": [
    "fig = px.scatter(Xtrain_sobel_pca[:999], x=0, y=1, color=df1['emotion'],title =\"PCA\")\n",
    "fig.show()"
   ]
  },
  {
   "cell_type": "markdown",
   "metadata": {},
   "source": [
    "#### Résultats et résponses"
   ]
  },
  {
   "cell_type": "code",
   "execution_count": null,
   "metadata": {},
   "outputs": [],
   "source": [
    "# Vos résultats ici"
   ]
  },
  {
   "cell_type": "markdown",
   "metadata": {},
   "source": [
    "# Partie 4: Construction d'un modèle\n",
    "\n",
    "Nous sommes maintenant prêtes à entraîner un premier modèle avec les primitives extraites dans la Partie 3. On suppose que vous avez deux jeux de primitives (p.ex. LBP et SIFT), alors vous devez entraîner un modèle pour chaque jeu de primitives (2 modèles au total)."
   ]
  },
  {
   "cell_type": "markdown",
   "metadata": {},
   "source": [
    "## 4a: Entraîner un modèle\n",
    "\n",
    "Vous devez choisir un des algorithmes d'apprentissage suivants et l'entraîner sur les données d'apprentissage (même algorithme pour les deux jeux de primitives, p.ex. modèle1=DT+LBP et modèle2 = DT+SIFT):<br>\n",
    "* [Decision trees](https://scikit-learn.org/stable/modules/tree.html) de scikit-learn. <br>\n",
    "* [k-NN](https://scikit-learn.org/stable/modules/neighbors.html#nearest-neighbors-classification) de scikit-learn. <br>\n",
    "* [Naïve Bayes](https://scikit-learn.org/stable/modules/naive_bayes.html) de scikit-learn. \n",
    "\n",
    "Pour ce premier modèle, vous n'est pas supposé de régler (optimiser) votre modèle. Vous allez faire ce réglage dans la Partie (4b). Après l'entraînement, vous devez faire des prédictions sur les données de test."
   ]
  },
  {
   "cell_type": "markdown",
   "metadata": {},
   "source": [
    "### À faire:\n",
    "1. Entraîner un modèle avec l'algorithme d'apprentissage choisi\n",
    "2. Classifier tous les exemples (ensembles d'apprentissage, validation et test) et reporter les résultats:<br>\n",
    " 2a. taux de classification correct sur les trois (3) ensembles de données<br>\n",
    " 2b. matrice de confusion pour l'ensemble de test\n",
    "3. <font color=blue>Sauvagarder votre modèle dans un fichier. Regarder [model persistence](https://scikitlearn.org/stable/modules/model_persistence.html?highlight=persistence) </font> \n",
    "4. Expliquer pourquoi vous avez choisi cet algorithme d'apprentissage (Q1).\n",
    "5. Faire une analyse des résultats et présenter vos conclusions sur le modèle entraîné (Q2).\n",
    "6. Concernant vos primitives, sont-elles discriminantes? (Q3)"
   ]
  },
  {
   "cell_type": "markdown",
   "metadata": {},
   "source": [
    "#### Code"
   ]
  },
  {
   "cell_type": "code",
   "execution_count": 127,
   "metadata": {},
   "outputs": [],
   "source": [
    "lbp_model = tree.DecisionTreeClassifier(max_depth = 10)\n",
    "lbp_model = model.fit(Xtrain_lbp, ytrain)\n"
   ]
  },
  {
   "cell_type": "code",
   "execution_count": 131,
   "metadata": {},
   "outputs": [
    {
     "name": "stdout",
     "output_type": "stream",
     "text": [
      "Training\n"
     ]
    },
    {
     "ename": "ValueError",
     "evalue": "Found input variables with inconsistent numbers of samples: [28709, 3589]",
     "output_type": "error",
     "traceback": [
      "\u001b[1;31m---------------------------------------------------------------------------\u001b[0m",
      "\u001b[1;31mValueError\u001b[0m                                Traceback (most recent call last)",
      "\u001b[1;32m<ipython-input-131-f1d11c32084d>\u001b[0m in \u001b[0;36m<module>\u001b[1;34m\u001b[0m\n\u001b[0;32m      1\u001b[0m \u001b[0mprint\u001b[0m\u001b[1;33m(\u001b[0m\u001b[1;34m\"Training\"\u001b[0m\u001b[1;33m)\u001b[0m\u001b[1;33m\u001b[0m\u001b[1;33m\u001b[0m\u001b[0m\n\u001b[0;32m      2\u001b[0m \u001b[0my_train_pred\u001b[0m \u001b[1;33m=\u001b[0m \u001b[0mlbp_model\u001b[0m\u001b[1;33m.\u001b[0m\u001b[0mpredict\u001b[0m\u001b[1;33m(\u001b[0m\u001b[0mXtest_lbp\u001b[0m\u001b[1;33m)\u001b[0m\u001b[1;33m\u001b[0m\u001b[1;33m\u001b[0m\u001b[0m\n\u001b[1;32m----> 3\u001b[1;33m \u001b[0mprint\u001b[0m\u001b[1;33m(\u001b[0m\u001b[1;34m\"Model Accuracy: \"\u001b[0m \u001b[1;33m+\u001b[0m \u001b[0maccuracy_score\u001b[0m\u001b[1;33m(\u001b[0m\u001b[0mytrain\u001b[0m\u001b[1;33m,\u001b[0m \u001b[0my_train_pred\u001b[0m\u001b[1;33m)\u001b[0m\u001b[1;33m)\u001b[0m\u001b[1;33m\u001b[0m\u001b[1;33m\u001b[0m\u001b[0m\n\u001b[0m\u001b[0;32m      4\u001b[0m \u001b[0mprint\u001b[0m\u001b[1;33m(\u001b[0m\u001b[1;34m\"Confusion Matrix\"\u001b[0m\u001b[1;33m)\u001b[0m\u001b[1;33m\u001b[0m\u001b[1;33m\u001b[0m\u001b[0m\n\u001b[0;32m      5\u001b[0m \u001b[0mplot_confusion_matrix\u001b[0m\u001b[1;33m(\u001b[0m\u001b[0mconf_mat\u001b[0m\u001b[1;33m=\u001b[0m\u001b[0mconfusion_matrix\u001b[0m\u001b[1;33m(\u001b[0m\u001b[0mytrain\u001b[0m\u001b[1;33m,\u001b[0m\u001b[0my_train_pred\u001b[0m\u001b[1;33m)\u001b[0m\u001b[1;33m)\u001b[0m\u001b[1;33m\u001b[0m\u001b[1;33m\u001b[0m\u001b[0m\n",
      "\u001b[1;32m~\\anaconda3\\lib\\site-packages\\sklearn\\utils\\validation.py\u001b[0m in \u001b[0;36minner_f\u001b[1;34m(*args, **kwargs)\u001b[0m\n\u001b[0;32m     71\u001b[0m                           FutureWarning)\n\u001b[0;32m     72\u001b[0m         \u001b[0mkwargs\u001b[0m\u001b[1;33m.\u001b[0m\u001b[0mupdate\u001b[0m\u001b[1;33m(\u001b[0m\u001b[1;33m{\u001b[0m\u001b[0mk\u001b[0m\u001b[1;33m:\u001b[0m \u001b[0marg\u001b[0m \u001b[1;32mfor\u001b[0m \u001b[0mk\u001b[0m\u001b[1;33m,\u001b[0m \u001b[0marg\u001b[0m \u001b[1;32min\u001b[0m \u001b[0mzip\u001b[0m\u001b[1;33m(\u001b[0m\u001b[0msig\u001b[0m\u001b[1;33m.\u001b[0m\u001b[0mparameters\u001b[0m\u001b[1;33m,\u001b[0m \u001b[0margs\u001b[0m\u001b[1;33m)\u001b[0m\u001b[1;33m}\u001b[0m\u001b[1;33m)\u001b[0m\u001b[1;33m\u001b[0m\u001b[1;33m\u001b[0m\u001b[0m\n\u001b[1;32m---> 73\u001b[1;33m         \u001b[1;32mreturn\u001b[0m \u001b[0mf\u001b[0m\u001b[1;33m(\u001b[0m\u001b[1;33m**\u001b[0m\u001b[0mkwargs\u001b[0m\u001b[1;33m)\u001b[0m\u001b[1;33m\u001b[0m\u001b[1;33m\u001b[0m\u001b[0m\n\u001b[0m\u001b[0;32m     74\u001b[0m     \u001b[1;32mreturn\u001b[0m \u001b[0minner_f\u001b[0m\u001b[1;33m\u001b[0m\u001b[1;33m\u001b[0m\u001b[0m\n\u001b[0;32m     75\u001b[0m \u001b[1;33m\u001b[0m\u001b[0m\n",
      "\u001b[1;32m~\\anaconda3\\lib\\site-packages\\sklearn\\metrics\\_classification.py\u001b[0m in \u001b[0;36maccuracy_score\u001b[1;34m(y_true, y_pred, normalize, sample_weight)\u001b[0m\n\u001b[0;32m    185\u001b[0m \u001b[1;33m\u001b[0m\u001b[0m\n\u001b[0;32m    186\u001b[0m     \u001b[1;31m# Compute accuracy for each possible representation\u001b[0m\u001b[1;33m\u001b[0m\u001b[1;33m\u001b[0m\u001b[1;33m\u001b[0m\u001b[0m\n\u001b[1;32m--> 187\u001b[1;33m     \u001b[0my_type\u001b[0m\u001b[1;33m,\u001b[0m \u001b[0my_true\u001b[0m\u001b[1;33m,\u001b[0m \u001b[0my_pred\u001b[0m \u001b[1;33m=\u001b[0m \u001b[0m_check_targets\u001b[0m\u001b[1;33m(\u001b[0m\u001b[0my_true\u001b[0m\u001b[1;33m,\u001b[0m \u001b[0my_pred\u001b[0m\u001b[1;33m)\u001b[0m\u001b[1;33m\u001b[0m\u001b[1;33m\u001b[0m\u001b[0m\n\u001b[0m\u001b[0;32m    188\u001b[0m     \u001b[0mcheck_consistent_length\u001b[0m\u001b[1;33m(\u001b[0m\u001b[0my_true\u001b[0m\u001b[1;33m,\u001b[0m \u001b[0my_pred\u001b[0m\u001b[1;33m,\u001b[0m \u001b[0msample_weight\u001b[0m\u001b[1;33m)\u001b[0m\u001b[1;33m\u001b[0m\u001b[1;33m\u001b[0m\u001b[0m\n\u001b[0;32m    189\u001b[0m     \u001b[1;32mif\u001b[0m \u001b[0my_type\u001b[0m\u001b[1;33m.\u001b[0m\u001b[0mstartswith\u001b[0m\u001b[1;33m(\u001b[0m\u001b[1;34m'multilabel'\u001b[0m\u001b[1;33m)\u001b[0m\u001b[1;33m:\u001b[0m\u001b[1;33m\u001b[0m\u001b[1;33m\u001b[0m\u001b[0m\n",
      "\u001b[1;32m~\\anaconda3\\lib\\site-packages\\sklearn\\metrics\\_classification.py\u001b[0m in \u001b[0;36m_check_targets\u001b[1;34m(y_true, y_pred)\u001b[0m\n\u001b[0;32m     79\u001b[0m     \u001b[0my_pred\u001b[0m \u001b[1;33m:\u001b[0m \u001b[0marray\u001b[0m \u001b[1;32mor\u001b[0m \u001b[0mindicator\u001b[0m \u001b[0mmatrix\u001b[0m\u001b[1;33m\u001b[0m\u001b[1;33m\u001b[0m\u001b[0m\n\u001b[0;32m     80\u001b[0m     \"\"\"\n\u001b[1;32m---> 81\u001b[1;33m     \u001b[0mcheck_consistent_length\u001b[0m\u001b[1;33m(\u001b[0m\u001b[0my_true\u001b[0m\u001b[1;33m,\u001b[0m \u001b[0my_pred\u001b[0m\u001b[1;33m)\u001b[0m\u001b[1;33m\u001b[0m\u001b[1;33m\u001b[0m\u001b[0m\n\u001b[0m\u001b[0;32m     82\u001b[0m     \u001b[0mtype_true\u001b[0m \u001b[1;33m=\u001b[0m \u001b[0mtype_of_target\u001b[0m\u001b[1;33m(\u001b[0m\u001b[0my_true\u001b[0m\u001b[1;33m)\u001b[0m\u001b[1;33m\u001b[0m\u001b[1;33m\u001b[0m\u001b[0m\n\u001b[0;32m     83\u001b[0m     \u001b[0mtype_pred\u001b[0m \u001b[1;33m=\u001b[0m \u001b[0mtype_of_target\u001b[0m\u001b[1;33m(\u001b[0m\u001b[0my_pred\u001b[0m\u001b[1;33m)\u001b[0m\u001b[1;33m\u001b[0m\u001b[1;33m\u001b[0m\u001b[0m\n",
      "\u001b[1;32m~\\anaconda3\\lib\\site-packages\\sklearn\\utils\\validation.py\u001b[0m in \u001b[0;36mcheck_consistent_length\u001b[1;34m(*arrays)\u001b[0m\n\u001b[0;32m    254\u001b[0m     \u001b[0muniques\u001b[0m \u001b[1;33m=\u001b[0m \u001b[0mnp\u001b[0m\u001b[1;33m.\u001b[0m\u001b[0munique\u001b[0m\u001b[1;33m(\u001b[0m\u001b[0mlengths\u001b[0m\u001b[1;33m)\u001b[0m\u001b[1;33m\u001b[0m\u001b[1;33m\u001b[0m\u001b[0m\n\u001b[0;32m    255\u001b[0m     \u001b[1;32mif\u001b[0m \u001b[0mlen\u001b[0m\u001b[1;33m(\u001b[0m\u001b[0muniques\u001b[0m\u001b[1;33m)\u001b[0m \u001b[1;33m>\u001b[0m \u001b[1;36m1\u001b[0m\u001b[1;33m:\u001b[0m\u001b[1;33m\u001b[0m\u001b[1;33m\u001b[0m\u001b[0m\n\u001b[1;32m--> 256\u001b[1;33m         raise ValueError(\"Found input variables with inconsistent numbers of\"\n\u001b[0m\u001b[0;32m    257\u001b[0m                          \" samples: %r\" % [int(l) for l in lengths])\n\u001b[0;32m    258\u001b[0m \u001b[1;33m\u001b[0m\u001b[0m\n",
      "\u001b[1;31mValueError\u001b[0m: Found input variables with inconsistent numbers of samples: [28709, 3589]"
     ]
    }
   ],
   "source": [
    "print(\"Training\")\n",
    "y_train_pred = lbp_model.predict(Xtest_lbp)\n",
    "print(\"Model Accuracy: \" + accuracy_score(ytrain, y_train_pred))\n",
    "print(\"Confusion Matrix\")\n",
    "plot_confusion_matrix(conf_mat=confusion_matrix(ytrain,y_train_pred))\n",
    "plt.show()\n",
    "y_valid_pred = lbp_model.predict(Xval_lbp)"
   ]
  },
  {
   "cell_type": "markdown",
   "metadata": {},
   "source": [
    "#### Résultats et résponses"
   ]
  },
  {
   "cell_type": "markdown",
   "metadata": {},
   "source": [
    "#### Vos résultats ici:\n",
    "\n",
    "##### Exemple:\n",
    "\n",
    "| Ensemble | Taux de classification correct |                               \n",
    "|----------|--------------------------------|\n",
    "| App      | 99,67%                         |                   \n",
    "| Val      | 89,77%                         |                             \n",
    "| Test     | 77,99%                         |        \n",
    "\n",
    "Q1: Nous avons choisi l'algorithme d'arbre de décision parce que...\n",
    "\n",
    "Q2: Les taux de classification indiquent que le modèle...\n",
    "\n",
    "Q3: La performance avec le primitive..."
   ]
  },
  {
   "cell_type": "markdown",
   "metadata": {},
   "source": [
    "## 4b: Réglage du modèle\n",
    "\n",
    "Probablement vous avez outperformé le modèle << baseline >>, mais est-ce qu'on peut mieux performer? Est-ce qu'on peut faire un << fine-tuning >> de notre modèle? Quels sont les paramètres que vous pouvez ajuster pour améliorer la performance?"
   ]
  },
  {
   "cell_type": "markdown",
   "metadata": {},
   "source": [
    "##### À faire:\n",
    "1. Lister les principaux paramètres de votre modèle qui peuvent aider à améliorer sa performance.\n",
    "2. Choisir quelques paramètres (au moins 2) et tourner un << grid search>> pour trouver les meilleures valeurs pour ces paramètres.\n",
    "3. Une fois que vous avez trouvé le meilleur modèle, utiliser ce modèle pour classifier tous les exemples (apprentissage, validation, test) et reporter les résultats:<br>\n",
    " 3a. taux de classification correct sur les 3 ensembles<br>\n",
    " 3b. matrice de confusion pour l'ensemble de test\n",
    "4. Explique pourquoi vous avez choisi ces paramètres.\n",
    "5. Faire une analyse des résultats et présenter vos conclusions sur ce modèle << fine- tuned >>"
   ]
  },
  {
   "cell_type": "markdown",
   "metadata": {},
   "source": [
    "#### Code"
   ]
  },
  {
   "cell_type": "code",
   "execution_count": null,
   "metadata": {},
   "outputs": [],
   "source": [
    "# Votre code ici"
   ]
  },
  {
   "cell_type": "markdown",
   "metadata": {},
   "source": [
    "#### Grid search"
   ]
  },
  {
   "cell_type": "code",
   "execution_count": null,
   "metadata": {},
   "outputs": [],
   "source": [
    "# Votre code ici"
   ]
  },
  {
   "cell_type": "markdown",
   "metadata": {},
   "source": [
    "#### Résultats et résponses"
   ]
  },
  {
   "cell_type": "code",
   "execution_count": null,
   "metadata": {},
   "outputs": [],
   "source": [
    "# Vos résultats ici:"
   ]
  },
  {
   "cell_type": "markdown",
   "metadata": {},
   "source": [
    "# Partie 5: Réduction de la dimensionnalité\n",
    "\n",
    "Bibliotèques Python pour la reduction de la dimensionnalité : \n",
    "\n",
    "* [Transformation algorithms](https://scikit-learn.org/stable/modules/decomposition.html#decompositions)\n",
    "* [Feature selection algorithms](https://scikit-learn.org/stable/modules/feature_selection.html)"
   ]
  },
  {
   "cell_type": "markdown",
   "metadata": {},
   "source": [
    "## 5a: Réduction de la dimensionnalité"
   ]
  },
  {
   "cell_type": "markdown",
   "metadata": {},
   "source": [
    "### À faire:\n",
    "1. Choisir un algorithme de transformation de primitives et un algorithme de sélection des primitives et réduire la dimensionnalité de vos vecteurs de primitives (Partie 3).\n",
    "2. Choisir les deux meilleures primitives et ploter un graphique ($pc_1$ X $pc_2$ X classe) pour visualiser si ces primitives sont capables de bien séparer les sept (7) classes.\n",
    "3. Faire une analyse des résultats et présenter vos conclusions sur ces primitives."
   ]
  },
  {
   "cell_type": "markdown",
   "metadata": {},
   "source": [
    "#### Code"
   ]
  },
  {
   "cell_type": "code",
   "execution_count": null,
   "metadata": {},
   "outputs": [],
   "source": [
    "# Votre code ici"
   ]
  },
  {
   "cell_type": "markdown",
   "metadata": {},
   "source": [
    "#### Résultats et résponses"
   ]
  },
  {
   "cell_type": "code",
   "execution_count": null,
   "metadata": {},
   "outputs": [],
   "source": [
    "# Vos résultats ici:"
   ]
  },
  {
   "cell_type": "markdown",
   "metadata": {},
   "source": [
    "## 5b: Rentraîner le modèle de la partie 4a\n",
    "\n",
    "Vous devez rentraîner le modèle et l'entraîner sur les données d'apprentissage.<br>\n",
    "Après l'entraînement, vous devez faire des prédictions sur les données de test."
   ]
  },
  {
   "cell_type": "markdown",
   "metadata": {},
   "source": [
    "#### Code"
   ]
  },
  {
   "cell_type": "code",
   "execution_count": null,
   "metadata": {},
   "outputs": [],
   "source": [
    "# Votre code ici"
   ]
  },
  {
   "cell_type": "markdown",
   "metadata": {},
   "source": [
    "#### Résultats et résponses"
   ]
  },
  {
   "cell_type": "code",
   "execution_count": null,
   "metadata": {},
   "outputs": [],
   "source": [
    "# Vos résultats ici:"
   ]
  },
  {
   "cell_type": "markdown",
   "metadata": {},
   "source": [
    "## 5c: Réglage du modèle\n",
    "\n",
    "Vous devez reoptimiser votre nouveau modèle et l'entraîner sur les données d'apprentissage.\n",
    "Après l'entraînement, vous devez faire des prédictions sur les données de test."
   ]
  },
  {
   "cell_type": "markdown",
   "metadata": {},
   "source": [
    "#### Code"
   ]
  },
  {
   "cell_type": "code",
   "execution_count": null,
   "metadata": {},
   "outputs": [],
   "source": [
    "# Votre code ici"
   ]
  },
  {
   "cell_type": "markdown",
   "metadata": {},
   "source": [
    "#### Résultats et résponses"
   ]
  },
  {
   "cell_type": "code",
   "execution_count": null,
   "metadata": {},
   "outputs": [],
   "source": [
    "# Vos résultats ici"
   ]
  },
  {
   "cell_type": "markdown",
   "metadata": {},
   "source": [
    "# Partie 6: Analyse qualitative\n",
    "\n",
    "Choisir dans l'ensemble de test, exemples de visages bien et mal classifié et montrer ces exemples avec la vraie étiquette et la prédiction faite par votre meilleur modèle."
   ]
  },
  {
   "cell_type": "markdown",
   "metadata": {},
   "source": [
    "#### Code"
   ]
  },
  {
   "cell_type": "code",
   "execution_count": null,
   "metadata": {},
   "outputs": [],
   "source": [
    "# Vos résultats ici"
   ]
  },
  {
   "cell_type": "markdown",
   "metadata": {},
   "source": [
    "#### Résultats et résponses"
   ]
  },
  {
   "cell_type": "code",
   "execution_count": null,
   "metadata": {},
   "outputs": [],
   "source": [
    "# Vos résultats ici"
   ]
  },
  {
   "cell_type": "markdown",
   "metadata": {},
   "source": [
    "<font color=black> \n",
    "\n",
    "# Partie 7: Cross-Dataset Challenge\n",
    "\n",
    "Vous devez tester vos modèles (déjà entraînés et testés sur FER) sur un autre ensemble de données pour eváluer la capacité de géneralisation. \n",
    "    \n",
    "L’ensemble de données à tester est le Jaffe dataset qui contient 213 images de sept (7) expressions faciales pose par 10 modèles féminines japonaises. Chaque image a été étiquetée dans six (6) adjectives d’émotion par 60 sujets japonaises. \n",
    "\n",
    "L’ensemble de données originel contient des images 256x256 en niveau de gris, dans le format .tiff, sans compression.\n",
    "\n",
    "Vous avez les données redimensionnées à 48x48 pixels (`jaffe_48x48.csv`), aussi que les données dans la dimension originelle (`jaffe_256x256.csv`). \n",
    "    \n",
    "* Angry (30 exemples):   Y_test[0:30]   = 0 \n",
    "* Disgust (29 exemples): Y_test[30:59]  = 1\n",
    "* Fear (32 exemples): Y_test[59:91]  = 2 \n",
    "* Happy (31 exemples): Y_test[91:122] = 3 \n",
    "* Neutral (30 exemples): Y_test[122:152]= 6 \n",
    "* Surprise (31 exemples): Y_test[152:183]= 5 \n",
    "* Sad (30 exemples): Y_test[183:213]= 4 \n",
    "\n",
    "</font> "
   ]
  },
  {
   "cell_type": "markdown",
   "metadata": {},
   "source": [
    "<font color=black> \n",
    "    \n",
    "## 7a: Charger le fichier de données de test\n",
    "</font>"
   ]
  },
  {
   "cell_type": "code",
   "execution_count": null,
   "metadata": {},
   "outputs": [],
   "source": [
    "import numpy as np\n",
    "\n",
    "# Read from file\n",
    "X_test_jaffe = np.loadtxt('jaffe_48x48.csv', delimiter=',', dtype=int)\n",
    "#X_test_jaffe = np.loadtxt('jaffe_256x256.csv', delimiter=',', dtype=int)\n",
    "y_test_jaffe = np.loadtxt('jaffe_labels.csv', delimiter=',', dtype=int)\n",
    "\n",
    "# reshape to be [samples][pixels][width][height]\n",
    "X_test_jaffe  = X_test_jaffe.reshape(X_test_jaffe.shape[0], 1, 48, 48).astype('uint8')\n",
    "#X_test_jaffe  = X_test_jaffe.reshape(X_test_jaffe.shape[0], 1, 256, 256).astype('uint8')\n",
    "\n",
    "X_test_jaffe.dtype"
   ]
  },
  {
   "cell_type": "markdown",
   "metadata": {},
   "source": [
    "<font color=black>\n",
    "    \n",
    "## 7b: Visualisation des visages de Jaffe\n",
    "</font>"
   ]
  },
  {
   "cell_type": "code",
   "execution_count": null,
   "metadata": {},
   "outputs": [],
   "source": [
    "import matplotlib.pyplot as plt\n",
    "def getLabel(id):\n",
    "    return ['Angry', 'Disgust', 'Fear', 'Happy', 'Sad', 'Surprise', 'Neutral'][id]\n",
    "plt.figure(figsize=(10, 10))\n",
    "j = 0\n",
    "for i in [5, 40, 70, 105, 135, 171, 191]:\n",
    "    plt.subplot(330 + 1 + j)\n",
    "    plt.imshow(np.squeeze(X_test_jaffe[i], axis=0),cmap=plt.get_cmap('gray'))\n",
    "    plt.gca().get_xaxis().set_ticks([])\n",
    "    plt.gca().get_yaxis().set_ticks([])\n",
    "    plt.ylabel('Label = %s' % getLabel(y_test_jaffe[i]), fontsize = 12)\n",
    "    j = j + 1\n",
    "plt.show()"
   ]
  },
  {
   "cell_type": "markdown",
   "metadata": {},
   "source": [
    "<font color=black> \n",
    "    \n",
    "### À faire:\n",
    "1. Tester vos modèles sur les 213 images de Jaffe dataset.\n",
    "2. Faire une analyse des résultats et présenter vos conclusions sur la capacité de generalisation de vos modèles.\n",
    "</font>"
   ]
  },
  {
   "cell_type": "markdown",
   "metadata": {},
   "source": [
    "#### Code"
   ]
  },
  {
   "cell_type": "code",
   "execution_count": null,
   "metadata": {},
   "outputs": [],
   "source": [
    "# Votre code ici"
   ]
  },
  {
   "cell_type": "markdown",
   "metadata": {},
   "source": [
    "#### Résultats et résponses"
   ]
  },
  {
   "cell_type": "code",
   "execution_count": null,
   "metadata": {},
   "outputs": [],
   "source": [
    "# Vos résultats ici"
   ]
  },
  {
   "cell_type": "markdown",
   "metadata": {},
   "source": [
    "## Partie Final: Conclusion"
   ]
  },
  {
   "cell_type": "markdown",
   "metadata": {},
   "source": [
    "### À faire:\n",
    "1. Résumer et comparer les principaux résultats .\n",
    "2. Faire une analyse des résultats obtenus et présenter vos conclusions sur les différents modèles que vous avez entraînés."
   ]
  },
  {
   "cell_type": "markdown",
   "metadata": {},
   "source": [
    "#### Résultats et résponses"
   ]
  },
  {
   "cell_type": "code",
   "execution_count": null,
   "metadata": {},
   "outputs": [],
   "source": [
    "# Vos résultats ici:"
   ]
  }
 ],
 "metadata": {
  "kernelspec": {
   "display_name": "Python 3",
   "language": "python",
   "name": "python3"
  },
  "language_info": {
   "codemirror_mode": {
    "name": "ipython",
    "version": 3
   },
   "file_extension": ".py",
   "mimetype": "text/x-python",
   "name": "python",
   "nbconvert_exporter": "python",
   "pygments_lexer": "ipython3",
   "version": "3.8.3"
  }
 },
 "nbformat": 4,
 "nbformat_minor": 2
}
