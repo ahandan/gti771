{
 "cells": [
  {
   "cell_type": "code",
   "execution_count": 1,
   "metadata": {},
   "outputs": [
    {
     "data": {
      "text/html": [
       "<style>.container {font-size: 100%; width:90% !important; }</style>"
      ],
      "text/plain": [
       "<IPython.core.display.HTML object>"
      ]
     },
     "metadata": {},
     "output_type": "display_data"
    }
   ],
   "source": [
    "from IPython.core.display import display, HTML\n",
    "display(HTML(\"<style>.container {font-size: 100%; width:90% !important; }</style>\"))"
   ]
  },
  {
   "cell_type": "markdown",
   "metadata": {},
   "source": [
    "# GTI771 - Apprentissage machine avancé\n",
    "## Département du génie logiciel et des technologies de l’information\n",
    "\n",
    "\n",
    "\n",
    "## Laboratoire 1 - Analyse et préparation des données et extraction de primitives\n",
    "\n",
    "#### <font color=white> Version 4.0 mai 2020 </font>\n",
    "#### <font color=black> Version 5.0 janvier 2021 </font>\n",
    "\n",
    "##### Prof. Alessandro L. Koerich"
   ]
  },
  {
   "cell_type": "markdown",
   "metadata": {},
   "source": [
    "| Étudiants             | NOMS - CODE PERMANENT                                   |\n",
    "|-----------------------|---------------------------------------------------------|\n",
    "| Session               | SAISON ANNÉE                                            |\n",
    "| Équipe                | X                                                       |\n",
    "| Numéro du laboratoire | X                                                       |\n",
    "| Professeur            | Prof. NOM                                               |\n",
    "| Chargé de laboratoire | NOM                                                     |\n",
    "| Date                  | DATE                                                    |"
   ]
  },
  {
   "cell_type": "markdown",
   "metadata": {},
   "source": [
    "## Introduction\n",
    "\n",
    "Ce premier laboratoire porte sur la définition et l’extraction de primitives sur des visages. Le problème de classification qui vous est présenté est le problème [Facial Expression Recognition (FER)](https://www.kaggle.com/c/challenges-in-representation-learning-facial-expression-recognition-challenge/data), dont le but est de classer des visages dans sept catégories. En vous basant sur les concepts vus en classe, vous devez définir des primitives que vous jugez pertinentes à extraire sur ces types d’images et effectuer l’extraction de celles-ci sur l’ensemble de données fournies avec cet énoncé.\n",
    "\n",
    "Veuillez noter que les images qui vous sont fournies ne sont pas nécessairement très faciles à travailler. Plusieurs images comportent du bruit, des artéfacts ou des éléments non pertinents. Le défi de ce laboratoire repose sur cette difficulté qui est chose courante dans des problèmes d’apprentissage machine moderne.\n",
    "\n",
    "Voici, en exemple, des images de visages se retrouvant dans l’ensemble de données:\n",
    "\n",
    "![Exemples de FER](https://miro.medium.com/max/2420/1*nXqJ4lMiBRp4Ilm3bpRxuA.png)\n",
    "\n",
    "\n",
    "L’évaluation de ce laboratoire sera basée sur la qualité des primitives proposées, les réponses aux questions dans cette notebook ainsi que l'organisation de votre code source <font color=black> (SVP, n'oubliez pas de mettre des commentaires dans le code!)</font>. Le pouvoir discriminant, c’est-à-dire la capacité des primitives à bien séparer les exemples des classes dans l’espace des primitives, sera également évalué."
   ]
  },
  {
   "cell_type": "markdown",
   "metadata": {
    "collapsed": true
   },
   "source": [
    "# Partie 1: Imports"
   ]
  },
  {
   "cell_type": "markdown",
   "metadata": {},
   "source": [
    "### 1a: Import de bibliotèques"
   ]
  },
  {
   "cell_type": "markdown",
   "metadata": {},
   "source": [
    "### À faire:\n",
    "1. Ajouter toutes les bibliothèques que vous avez utilisées pour compléter ce notebook dans une cellule avec une petite description."
   ]
  },
  {
   "cell_type": "code",
   "execution_count": 2,
   "metadata": {},
   "outputs": [
    {
     "name": "stdout",
     "output_type": "stream",
     "text": [
      "hello\n"
     ]
    }
   ],
   "source": [
    "import numpy as np  # package for scientific computing with Python.\n",
    "import matplotlib.pyplot as plt # 2D plotting library\n",
    "import pandas as pd # Pour la visualisation de matrice\n",
    "from sklearn.preprocessing import MinMaxScaler #Pour la normalisation des images \n",
    "from sklearn.metrics import confusion_matrix\n",
    "from sklearn.metrics import accuracy_score\n",
    "from mlxtend.plotting import plot_confusion_matrix\n",
    "\n",
    "import cv2\n",
    "print('hello')\n",
    "# Votre code ici"
   ]
  },
  {
   "cell_type": "markdown",
   "metadata": {},
   "source": [
    "#### Fonctions"
   ]
  },
  {
   "cell_type": "code",
   "execution_count": 3,
   "metadata": {},
   "outputs": [],
   "source": [
    "def fa():\n",
    "    return 1"
   ]
  },
  {
   "cell_type": "markdown",
   "metadata": {},
   "source": [
    "## Partie 2: Analyse exploratoire des données\n",
    "\n",
    "On va commencer en regardant les données.\n",
    "\n",
    "Pour ce lab, nous allons utiliser le dataset FER.\n",
    "\n",
    "Le dataset est disponible dans https://www.kaggle.com/c/challenges-in-representation-learning-facial-expression-recognition-challenge/data, et il continent presque 35,000 visages."
   ]
  },
  {
   "cell_type": "markdown",
   "metadata": {},
   "source": [
    "## 2a: Charger le fichier de données"
   ]
  },
  {
   "cell_type": "code",
   "execution_count": 4,
   "metadata": {},
   "outputs": [
    {
     "name": "stdout",
     "output_type": "stream",
     "text": [
      "(28709, 2304) (3589, 2304) (3589, 2304)\n",
      "[151. 150. 147. ... 193. 183. 184.]\n"
     ]
    }
   ],
   "source": [
    "109.065458# load data\n",
    "ferData = np.loadtxt( 'fer2013.csv', delimiter=',', dtype=np.str )\n",
    " \n",
    "# Training set\n",
    "Xtrain = np.ones( (28709,2304), float )\n",
    "\n",
    "for i in range( 1, 28710 ):\n",
    "    Xtrain[i-1] = ferData[i,1].split(\" \")\n",
    "\n",
    "ytrain = ferData[1:28710,0].astype( np.int )\n",
    "\n",
    "# Validation set\n",
    "Xval = np.ones( (3589,2304), float )\n",
    "\n",
    "for i in range( 28710, 32299 ):\n",
    "    Xval[i-28710] = ferData[i,1].split(\" \")\n",
    "\n",
    "yval = ferData[28710:32299,0].astype( np.int )\n",
    "\n",
    "# Test set\n",
    "Xtest = np.ones( (3589,2304), float )\n",
    "\n",
    "for i in range( 32299, 35888 ):\n",
    "    Xtest[i-32299] = ferData[i,1].split(\" \")\n",
    "\n",
    "ytest = ferData[32299:,0].astype( np.int )\n",
    "\n",
    "print(Xtrain.shape, Xval.shape, Xtest.shape)\n",
    "print(Xtrain[1])"
   ]
  },
  {
   "cell_type": "code",
   "execution_count": 5,
   "metadata": {},
   "outputs": [
    {
     "name": "stdout",
     "output_type": "stream",
     "text": [
      "[0 1 4 ... 4 4 4]\n"
     ]
    }
   ],
   "source": [
    "print(yval)"
   ]
  },
  {
   "cell_type": "code",
   "execution_count": 6,
   "metadata": {},
   "outputs": [
    {
     "name": "stdout",
     "output_type": "stream",
     "text": [
      "(28709, 1, 48, 48) (3589, 1, 48, 48) (3589, 1, 48, 48)\n"
     ]
    }
   ],
   "source": [
    "# reshape to be [samples][channels][width][height]\n",
    "Xtrain = Xtrain.reshape( Xtrain.shape[0], 1, 48, 48 ).astype('uint8')\n",
    "Xtest  = Xtest.reshape( Xtest.shape[0], 1, 48, 48 ).astype('uint8')\n",
    "Xval   = Xval.reshape( Xval.shape[0], 1, 48, 48 ).astype('uint8')\n",
    "\n",
    "print( Xtrain.shape, Xval.shape, Xtest.shape )\n"
   ]
  },
  {
   "cell_type": "markdown",
   "metadata": {},
   "source": [
    "## <font color=black> 2b: Pre-traitement et visualisation des visages </font>"
   ]
  },
  {
   "cell_type": "markdown",
   "metadata": {},
   "source": [
    "Vous pouvez visualiser les images en utilisant `plt.imshow`.\n",
    "\n",
    "Il y a différents types de prétraitement que nous pouvons appliquer à des images dans les ensembles de données pour réduire la variabilité, réduire des bruits, etc.\n",
    "\n",
    "### À faire:\n",
    "1. Pensez-vous qu’est nécessaire un prétraitement des images? Si oui, vous pouvez choisir différents algorithmes de prétraitement dans [scikit-image](https://scikit-image.org/docs/stable/api/api.html). Il y a aussi autres types de prétraitement plus généraux dans [scikit-learn](https://scikit-learn.org/stable/modules/preprocessing.html#preprocessing).\n",
    "2. Expliquer et justifier les prétraitements choisis."
   ]
  },
  {
   "cell_type": "markdown",
   "metadata": {},
   "source": [
    "#### Code"
   ]
  },
  {
   "cell_type": "code",
   "execution_count": 7,
   "metadata": {},
   "outputs": [],
   "source": [
    "# Votre code de pre-processing\n",
    "\n",
    "labels = ['Angry', 'Disgust', 'Fear', 'Happy', 'Sad', 'Surprise', 'Neutral']\n",
    "def visualize_Img(amount = 8):\n",
    "    \n",
    "    width = 1\n",
    "    height = 1\n",
    "    rows = 1\n",
    "    cols = 6\n",
    "    axes=[]\n",
    "    fig=plt.figure()\n",
    "    for a in range(amount):\n",
    "        img = Xtrain[a][0]\n",
    "        axes.append(fig.add_subplot(rows, cols, a+1) )\n",
    "        subplot_title=(labels[ytrain[a]])\n",
    "        axes[-1].set_title(subplot_title)  \n",
    "        plt.imshow(img, cmap='gray')\n",
    "    fig.tight_layout()    \n",
    "    fig.set_size_inches(30,5)\n",
    "    plt.show()\n",
    "    "
   ]
  },
  {
   "cell_type": "markdown",
   "metadata": {},
   "source": [
    "#### Résultats et résponses"
   ]
  },
  {
   "cell_type": "code",
   "execution_count": 8,
   "metadata": {},
   "outputs": [
    {
     "data": {
      "image/png": "[encoded data removed]",
      "text/plain": [
       "<Figure size 2160x360 with 6 Axes>"
      ]
     },
     "metadata": {},
     "output_type": "display_data"
    }
   ],
   "source": [
    "visualize_Img(6)"
   ]
  },
  {
   "cell_type": "markdown",
   "metadata": {},
   "source": [
    "## 2c: Statistiques des données"
   ]
  },
  {
   "cell_type": "markdown",
   "metadata": {},
   "source": [
    "### À faire:\n",
    "1. Calculer quelques statistiques (moyenne, écart-type, etc.) que vous jugez importantes/pertinents sur les données (entrées et/ou sorties)\n",
    "2. Faire une analyse des résultats et présenter vos conclusions sur ces statistiques."
   ]
  },
  {
   "cell_type": "markdown",
   "metadata": {},
   "source": [
    "#### Code"
   ]
  },
  {
   "cell_type": "code",
   "execution_count": 9,
   "metadata": {},
   "outputs": [],
   "source": [
    "# Load DataSet\n",
    "df = pd.read_csv('fer2013.csv')\n",
    "\n",
    "# Recuperer le training set\n",
    "df_train = df.loc[df['Usage']==\"Training\"]\n",
    "\n",
    "# Recuperer les tests publics\n",
    "df_public_test = df.loc[df['Usage']==\"PublicTest\"]\n",
    "\n",
    "# Recuperer les tests privees\n",
    "df_private_test = df.loc[df['Usage']==\"PrivateTest\"]\n",
    "\n",
    "#(0=Angry, 1=Disgust, 2=Fear, 3=Happy, 4=Sad, 5=Surprise, 6=Neutral).\n",
    "labels = ['Angry', 'Disgust', 'Fear', 'Happy', 'Sad', 'Surprise', 'Neutral']\n"
   ]
  },
  {
   "cell_type": "code",
   "execution_count": 10,
   "metadata": {},
   "outputs": [],
   "source": [
    "def get_med_df():\n",
    "    df_list_test = []\n",
    "    for label in labels:\n",
    "        index = labels.index(label)\n",
    "        df_train_1 = df_train.loc[df_train['emotion']== index]\n",
    "        df_mean = ((df_train_1['pixels'].str.split(' ', expand=True)).apply(pd.to_numeric)).median()\n",
    "        df_mean_T = pd.DataFrame(data=df_mean).T\n",
    "#         df_mean_T.insert(0, \"emotion\", index, True)\n",
    "        df_list_test.append(df_mean_T)\n",
    "        \n",
    "    result = pd.concat(df_list_test)\n",
    "#     result.drop(columns='emotion')\n",
    "    result = result.apply(np.int64)\n",
    "    return result\n",
    "\n",
    "def get_avg_df():\n",
    "    df_list_test = []\n",
    "    for label in labels:\n",
    "        index = labels.index(label)\n",
    "        df_train_1 = df_train.loc[df_train['emotion']== index]\n",
    "        df_mean = ((df_train_1['pixels'].str.split(' ', expand=True)).apply(pd.to_numeric)).mean()\n",
    "        df_mean_T = pd.DataFrame(data=df_mean).T\n",
    "        df_mean_T.insert(0, \"emotion\", index, True)\n",
    "        df_list_test.append(df_mean_T)\n",
    "\n",
    "    result = pd.concat(df_list_test)\n",
    "#     result.drop(columns='emotion')\n",
    "    result = result.apply(np.int64)\n",
    "    return result\n",
    "\n",
    "\n",
    "def visualize_Img(list_q):\n",
    "    width = 10\n",
    "    height = 10\n",
    "    rows = 1\n",
    "    cols = 8\n",
    "    axes=[]\n",
    "    fig=plt.figure(figsize=(20,10))\n",
    "    for a in range(len(list_q)):\n",
    "        img = np.array_split(list_q[a], 48)\n",
    "        axes.append(fig.add_subplot(rows, cols, a+1) )\n",
    "        subplot_title=(labels[a])\n",
    "        axes[-1].set_title(subplot_title) \n",
    "        plt.imshow(img, cmap='gray')\n",
    "    fig.tight_layout()    \n",
    "    plt.show()\n",
    "    \n",
    "def visualize_hist(list_q):\n",
    "    for i in range(7):\n",
    "        hist, bins = np.histogram(list_q[i], bins=256, range=(0, 256))\n",
    "        plt.figure()\n",
    "        plt.title(\"Class histogram {}\".format(i))\n",
    "        plt.xlabel(\"Pixel Value\")\n",
    "        plt.ylabel(\"Number of pixel\")\n",
    "        plt.plot(bins[0:-1],hist)\n",
    "        plt.show()\n",
    "        \n",
    "def visualize_hist_test(list_q):\n",
    "    width = 10\n",
    "    height = 5\n",
    "    rows = 1\n",
    "    cols = 8\n",
    "    axes=[]\n",
    "    fig=plt.figure(figsize=(20,2.5))\n",
    "    for a in range(7):\n",
    "        hist, bins = np.histogram(list_q[a], bins=256, range=(0, 256))\n",
    "        axes.append(fig.add_subplot(rows, cols, a+1) )\n",
    "        subplot_title=(labels[a])\n",
    "#         plt.title(\"Class histogram {}\".format(i))\n",
    "#         plt.xlabel(\"Pixel Value\")\n",
    "#         plt.ylabel(\"Number of pixel\")\n",
    "        plt.plot(bins[0:-1],hist)\n",
    "    fig.tight_layout()    \n",
    "    plt.show()\n",
    "    "
   ]
  },
  {
   "cell_type": "code",
   "execution_count": 11,
   "metadata": {},
   "outputs": [
    {
     "data": {
      "text/html": [
       "<div>\n",
       "<style scoped>\n",
       "    .dataframe tbody tr th:only-of-type {\n",
       "        vertical-align: middle;\n",
       "    }\n",
       "\n",
       "    .dataframe tbody tr th {\n",
       "        vertical-align: top;\n",
       "    }\n",
       "\n",
       "    .dataframe thead th {\n",
       "        text-align: right;\n",
       "    }\n",
       "</style>\n",
       "<table border=\"1\" class=\"dataframe\">\n",
       "  <thead>\n",
       "    <tr style=\"text-align: right;\">\n",
       "      <th></th>\n",
       "      <th>emotion</th>\n",
       "      <th>0</th>\n",
       "      <th>1</th>\n",
       "      <th>2</th>\n",
       "      <th>3</th>\n",
       "      <th>4</th>\n",
       "      <th>5</th>\n",
       "      <th>6</th>\n",
       "      <th>7</th>\n",
       "      <th>8</th>\n",
       "      <th>...</th>\n",
       "      <th>2294</th>\n",
       "      <th>2295</th>\n",
       "      <th>2296</th>\n",
       "      <th>2297</th>\n",
       "      <th>2298</th>\n",
       "      <th>2299</th>\n",
       "      <th>2300</th>\n",
       "      <th>2301</th>\n",
       "      <th>2302</th>\n",
       "      <th>2303</th>\n",
       "    </tr>\n",
       "  </thead>\n",
       "  <tbody>\n",
       "    <tr>\n",
       "      <th>0</th>\n",
       "      <td>0</td>\n",
       "      <td>115</td>\n",
       "      <td>113</td>\n",
       "      <td>111</td>\n",
       "      <td>111</td>\n",
       "      <td>110</td>\n",
       "      <td>109</td>\n",
       "      <td>109</td>\n",
       "      <td>109</td>\n",
       "      <td>111</td>\n",
       "      <td>...</td>\n",
       "      <td>105</td>\n",
       "      <td>105</td>\n",
       "      <td>105</td>\n",
       "      <td>105</td>\n",
       "      <td>105</td>\n",
       "      <td>104</td>\n",
       "      <td>106</td>\n",
       "      <td>107</td>\n",
       "      <td>108</td>\n",
       "      <td>108</td>\n",
       "    </tr>\n",
       "    <tr>\n",
       "      <th>0</th>\n",
       "      <td>1</td>\n",
       "      <td>108</td>\n",
       "      <td>104</td>\n",
       "      <td>99</td>\n",
       "      <td>97</td>\n",
       "      <td>97</td>\n",
       "      <td>99</td>\n",
       "      <td>103</td>\n",
       "      <td>106</td>\n",
       "      <td>111</td>\n",
       "      <td>...</td>\n",
       "      <td>115</td>\n",
       "      <td>116</td>\n",
       "      <td>114</td>\n",
       "      <td>114</td>\n",
       "      <td>114</td>\n",
       "      <td>110</td>\n",
       "      <td>108</td>\n",
       "      <td>108</td>\n",
       "      <td>107</td>\n",
       "      <td>108</td>\n",
       "    </tr>\n",
       "    <tr>\n",
       "      <th>0</th>\n",
       "      <td>2</td>\n",
       "      <td>131</td>\n",
       "      <td>127</td>\n",
       "      <td>123</td>\n",
       "      <td>120</td>\n",
       "      <td>118</td>\n",
       "      <td>116</td>\n",
       "      <td>113</td>\n",
       "      <td>112</td>\n",
       "      <td>113</td>\n",
       "      <td>...</td>\n",
       "      <td>117</td>\n",
       "      <td>116</td>\n",
       "      <td>115</td>\n",
       "      <td>116</td>\n",
       "      <td>117</td>\n",
       "      <td>117</td>\n",
       "      <td>119</td>\n",
       "      <td>120</td>\n",
       "      <td>120</td>\n",
       "      <td>121</td>\n",
       "    </tr>\n",
       "    <tr>\n",
       "      <th>0</th>\n",
       "      <td>3</td>\n",
       "      <td>118</td>\n",
       "      <td>116</td>\n",
       "      <td>113</td>\n",
       "      <td>110</td>\n",
       "      <td>109</td>\n",
       "      <td>107</td>\n",
       "      <td>106</td>\n",
       "      <td>106</td>\n",
       "      <td>107</td>\n",
       "      <td>...</td>\n",
       "      <td>109</td>\n",
       "      <td>108</td>\n",
       "      <td>108</td>\n",
       "      <td>108</td>\n",
       "      <td>108</td>\n",
       "      <td>108</td>\n",
       "      <td>108</td>\n",
       "      <td>109</td>\n",
       "      <td>111</td>\n",
       "      <td>111</td>\n",
       "    </tr>\n",
       "    <tr>\n",
       "      <th>0</th>\n",
       "      <td>4</td>\n",
       "      <td>107</td>\n",
       "      <td>106</td>\n",
       "      <td>104</td>\n",
       "      <td>103</td>\n",
       "      <td>102</td>\n",
       "      <td>103</td>\n",
       "      <td>103</td>\n",
       "      <td>104</td>\n",
       "      <td>106</td>\n",
       "      <td>...</td>\n",
       "      <td>103</td>\n",
       "      <td>103</td>\n",
       "      <td>103</td>\n",
       "      <td>103</td>\n",
       "      <td>104</td>\n",
       "      <td>104</td>\n",
       "      <td>104</td>\n",
       "      <td>105</td>\n",
       "      <td>105</td>\n",
       "      <td>105</td>\n",
       "    </tr>\n",
       "  </tbody>\n",
       "</table>\n",
       "<p>5 rows × 2305 columns</p>\n",
       "</div>"
      ],
      "text/plain": [
       "   emotion    0    1    2    3    4    5    6    7    8  ...  2294  2295  \\\n",
       "0        0  115  113  111  111  110  109  109  109  111  ...   105   105   \n",
       "0        1  108  104   99   97   97   99  103  106  111  ...   115   116   \n",
       "0        2  131  127  123  120  118  116  113  112  113  ...   117   116   \n",
       "0        3  118  116  113  110  109  107  106  106  107  ...   109   108   \n",
       "0        4  107  106  104  103  102  103  103  104  106  ...   103   103   \n",
       "\n",
       "   2296  2297  2298  2299  2300  2301  2302  2303  \n",
       "0   105   105   105   104   106   107   108   108  \n",
       "0   114   114   114   110   108   108   107   108  \n",
       "0   115   116   117   117   119   120   120   121  \n",
       "0   108   108   108   108   108   109   111   111  \n",
       "0   103   103   104   104   104   105   105   105  \n",
       "\n",
       "[5 rows x 2305 columns]"
      ]
     },
     "execution_count": 11,
     "metadata": {},
     "output_type": "execute_result"
    }
   ],
   "source": [
    "avg = get_avg_df()\n",
    "pixel = avg.iloc[:,1:]\n",
    "avg.head()"
   ]
  },
  {
   "cell_type": "code",
   "execution_count": 12,
   "metadata": {},
   "outputs": [
    {
     "data": {
      "image/png": "[encoded data removed]",
      "text/plain": [
       "<Figure size 1440x720 with 7 Axes>"
      ]
     },
     "metadata": {},
     "output_type": "display_data"
    },
    {
     "data": {
      "image/png": "[encoded data removed]",
      "text/plain": [
       "<Figure size 1440x180 with 7 Axes>"
      ]
     },
     "metadata": {},
     "output_type": "display_data"
    }
   ],
   "source": [
    "visualize_Img(pixel.to_numpy())\n",
    "visualize_hist_test(pixel.to_numpy())"
   ]
  },
  {
   "cell_type": "code",
   "execution_count": 13,
   "metadata": {},
   "outputs": [],
   "source": [
    "\n",
    "# print(avg.iloc[:,1:].to_numpy())"
   ]
  },
  {
   "cell_type": "markdown",
   "metadata": {},
   "source": [
    "#### Résultats et résponses"
   ]
  },
  {
   "cell_type": "code",
   "execution_count": 14,
   "metadata": {},
   "outputs": [],
   "source": [
    "# Vos résultats ici\n",
    "avg.to_csv(\"average_template_emotions.csv\", index = False)"
   ]
  },
  {
   "cell_type": "markdown",
   "metadata": {},
   "source": [
    "## 2d: Créer et évaluer un modèle de base (baseline)\n",
    "\n",
    "Un modèle très simple, mais naturel est une ou nous calculons un modèle moyen (template) pour chaque classe (sur les données d'apprentissage) et nous utilisons ces modèles (templates) pour faire des prédictions sur des nouvelles données."
   ]
  },
  {
   "cell_type": "markdown",
   "metadata": {},
   "source": [
    "### À faire:\n",
    "1. Créer un template pour chaque classe\n",
    "2. Faire un plot de chaque template <font color=black> (visage moyen) </font>\n",
    "3. Classifier tous les exemples (ensembles d'apprentissage, validation et test) et reporter les résultats:<br>\n",
    " 3a. taux de classification correct sur les trois (3) ensembles de données<br>\n",
    " 3b. matrice de confusion pour les résultas sur l'ensemble de test\n",
    "4. Faire une analyse des résultats et présenter vos conclusions sur ce modèle"
   ]
  },
  {
   "cell_type": "markdown",
   "metadata": {},
   "source": [
    "#### Code"
   ]
  },
  {
   "cell_type": "code",
   "execution_count": 15,
   "metadata": {},
   "outputs": [
    {
     "data": {
      "text/plain": [
       "0.10352154376676304"
      ]
     },
     "execution_count": 15,
     "metadata": {},
     "output_type": "execute_result"
    },
    {
     "data": {
      "image/png": "[encoded data removed]",
      "text/plain": [
       "<Figure size 432x288 with 1 Axes>"
      ]
     },
     "metadata": {},
     "output_type": "display_data"
    }
   ],
   "source": [
    "# Votre code de création des modèles\n",
    "hist = [cv2.calcHist([Xtrain[picture][0]],[0],None,[256],[0,256]) for picture in range(len(Xtrain))] \n",
    "#plt.plot(hist[0])\n",
    "#plt.xlim([0,256])\n",
    "#plt.show()\n",
    "\n",
    "pixel_values_avg = pixel.to_numpy()\n",
    "\n",
    "hist_avg = [cv2.calcHist([pixel_values_avg[picture].astype('uint8')],[0],None,[256],[0,256]) for picture in range(len(pixel_values_avg))] \n",
    "\n",
    "#plt.plot(hist_avg[0])\n",
    "#plt.xlim([0,256])\n",
    "#plt.show()\n",
    "\n",
    "def predict_image():\n",
    "    predicted_images = []\n",
    "    for i in range(len(Xtrain)):\n",
    "        predicted_images.append(np.argmin([cv2.compareHist(hist[i], hist_avg[j], cv2.HISTCMP_CHISQR) for j in range(len(pixel_values_avg))]))\n",
    "    return predicted_images\n",
    "\n",
    "# confusion_matrix(y_true, y_pred)\n",
    "plot_confusion_matrix(confusion_matrix(ytrain, predict_image()))\n",
    "\n",
    "accuracy_score(ytrain, predict_image())\n",
    "    \n",
    "#print(ytrain[0])\n",
    "#plt.imshow(Xtrain[0][0], cmap='gray')"
   ]
  },
  {
   "cell_type": "markdown",
   "metadata": {},
   "source": [
    "#### Résultats et résponses"
   ]
  },
  {
   "cell_type": "code",
   "execution_count": 16,
   "metadata": {},
   "outputs": [],
   "source": [
    "# Vos résultats ici"
   ]
  },
  {
   "cell_type": "markdown",
   "metadata": {},
   "source": [
    "# Partie 3: Extraction de primitives\n",
    "\n",
    "Vous devez faire une recherche bibliographique pour trouver quelles sont les primitives qui sont plus souvent utilisées pour la reconnaissance des expressions faciales. Voici quelques sources et mot-clés pour guider votre recherche:\n",
    "\n",
    "- http://www.inf.ufpr.br/lesoliveira/download/ESWA2013.pdf\n",
    "- https://doi.org/10.1016/j.patrec.2015.06.007 \n",
    "- https://doi.org/10.1109/FG.2011.5771374\n",
    "- https://www.hindawi.com/journals/ijbi/2015/267807/\n",
    "\n",
    "\n",
    "Mots-clés: facial expression recognition, facial emotion recognition.\n",
    "\n",
    "Bibliothèques Python pour l'extraction de primitives :\n",
    "* [Scikit-image](https://scikit-image.org/docs/dev/)\n",
    "* [OpenCV](https://opencv-python-tutroals.readthedocs.io/en/latest/py_tutorials/py_tutorials.html)\n",
    "* [Scikit-learn](https://scikit-learn.org/stable/modules/feature_extraction.html)\n",
    "\n",
    "Primitives candidates : \n",
    "\n",
    "* LBP, LPQ, Gabor filters, SIFT, SURF, HOG, GLCM, Haralick Moments, etc."
   ]
  },
  {
   "cell_type": "markdown",
   "metadata": {},
   "source": [
    "## 3a: Extraire des primitives"
   ]
  },
  {
   "cell_type": "markdown",
   "metadata": {},
   "source": [
    "### À faire:\n",
    "1. Choisir au moins deux (2) groupes de primitives et extraire ces primitives des visages (ensembles d'apprentissage, validation et test).\n",
    "Un groupe de primitives peut être 16 filtres Gabor, un ensemble de Haar-like features ou bien les différentes features de Haralick Texture Features (p. ex. contraste, homogénéité, etc.). Vous devez en sélectionner deux (2) groupes.\n",
    "\n",
    "Attention! Le résultat des algorithmes d'extraction de primitives doit être des vecteurs de primitives. Il y a des algorithmes qui nécessitent d'une étape additionnelle comme calculer les histogrammes de primitives (p. ex. LBP, SIFT)\n",
    "\n",
    "2. <font color=black>Sauvegarder vos vecteurs de primitives dans des fichiers '.csv'. Utiliser la même structure du fichier FER3013, où nous avons dans un seul fichier, séquentiellement, les trois partitions: apprentissage (0-28709), validation (28710-32299) et test (32299, 35888). Nommer vos fichiers de primitive en référence à la primitive utilisée. Ex.: lbp83_fer2013.csv </font> \n",
    "\n",
    "3. Expliquer et justifier les primitives choisis."
   ]
  },
  {
   "cell_type": "markdown",
   "metadata": {},
   "source": [
    "#### Code "
   ]
  },
  {
   "cell_type": "markdown",
   "metadata": {},
   "source": [
    "## LBP Feature extraction "
   ]
  },
  {
   "cell_type": "code",
   "execution_count": 23,
   "metadata": {},
   "outputs": [],
   "source": [
    "from skimage.feature import local_binary_pattern"
   ]
  },
  {
   "cell_type": "markdown",
   "metadata": {},
   "source": [
    "### Converting images to lbp features based on a radius of 1 "
   ]
  },
  {
   "cell_type": "code",
   "execution_count": 41,
   "metadata": {},
   "outputs": [],
   "source": [
    "def img_toLBP(images):\n",
    "    # settings for LBP\n",
    "    radius = 1\n",
    "    n_points = 8 * radius  \n",
    "    lbp_img = []\n",
    "    for img in images:\n",
    "        # Convert img to LBP\n",
    "        lbp = local_binary_pattern(img[0], n_points, radius)\n",
    "        lbp_img.append(lbp)\n",
    "    \n",
    "    return lbp_img\n",
    "\n",
    "\n",
    "\n",
    "Xtrain_lbp = img_toLBP(Xtrain)\n",
    "Xval_lbp = img_toLBP(Xval)\n",
    "Xtest_lbp = img_toLBP(Xtest)"
   ]
  },
  {
   "cell_type": "markdown",
   "metadata": {},
   "source": [
    "### Saving as pickle byte data file"
   ]
  },
  {
   "cell_type": "code",
   "execution_count": 42,
   "metadata": {},
   "outputs": [],
   "source": [
    "import pickle\n",
    "Lbp = [[\"Emotion\",\"Pixels\",\"Set\"]]\n",
    "Lbp.extend([[e, p, 'Training'] for e, p in zip(ytrain, Xtrain_lbp)])\n",
    "Lbp.extend([[e, p, 'PublicTest'] for e, p in zip(yval, Xval_lbp)])\n",
    "Lbp.extend([[e, p, 'PrivateTest'] for e, p in zip(ytest, Xtest_lbp)])\n",
    "\n",
    "\n",
    "file_pi = open('lbp_features.pickle', 'wb') \n",
    "pickle.dump(Lbp, file_pi)"
   ]
  },
  {
   "cell_type": "code",
   "execution_count": 59,
   "metadata": {},
   "outputs": [
    {
     "name": "stdout",
     "output_type": "stream",
     "text": [
      "[[193. 241. 129. ... 241. 193. 112.]\n",
      " [193. 115. 151. ...  57.  23.  92.]\n",
      " [  7.  28. 255. ... 223. 175.  68.]\n",
      " ...\n",
      " [  7.  31.  95. ... 143.  68.  60.]\n",
      " [ 70. 127.   0. ... 239.   4. 124.]\n",
      " [  5.  16.  28. ...  19.   4.  24.]]\n"
     ]
    },
    {
     "data": {
      "text/plain": [
       "<matplotlib.image.AxesImage at 0x7f4c173495f8>"
      ]
     },
     "execution_count": 59,
     "metadata": {},
     "output_type": "execute_result"
    },
    {
     "data": {
      "image/png": "[encoded data removed]",
      "text/plain": [
       "<Figure size 432x288 with 1 Axes>"
      ]
     },
     "metadata": {},
     "output_type": "display_data"
    }
   ],
   "source": [
    "lbp_imgs = 0\n",
    "with open(r\"lbp_features.pickle\", \"rb\") as input_file:\n",
    "   lbp_imgs = pickle.load(input_file)\n",
    "    \n",
    "print(lbp_imgs[33249][1])\n",
    "plt.imshow(lbp_imgs[1][1], cmap='gray')"
   ]
  },
  {
   "cell_type": "markdown",
   "metadata": {},
   "source": [
    "## SURF feature extraction"
   ]
  },
  {
   "cell_type": "code",
   "execution_count": 56,
   "metadata": {},
   "outputs": [],
   "source": [
    "from skimage import filters\n",
    "\n",
    "def img_sobel(images):\n",
    "    # settings for LBP\n",
    "    sobel_img = []\n",
    "    for img in images:\n",
    "        # Convert img to LBP\n",
    "        sobel = filters.sobel(Xtrain[0][0])\n",
    "        sobel_img.append(sobel)\n",
    "        \n",
    "    return sobel_img\n",
    "\n",
    "\n",
    "Xtrain_sobel = img_sobel(Xtrain)\n",
    "Xval_sobel = img_sobel(Xval)\n",
    "Xtest_sobel = img_sobel(Xtest)\n",
    "\n",
    "\n",
    "Sobel = [[\"Emotion\",\"Pixels\",\"Set\"]]\n",
    "Sobel.extend([[e, p, 'Training'] for e, p in zip(ytrain, Xtrain_sobel)])\n",
    "Sobel.extend([[e, p, 'PublicTest'] for e, p in zip(yval, Xval_sobel)])\n",
    "Sobel.extend([[e, p, 'PrivateTest'] for e, p in zip(ytest, Xtest_sobel)])\n",
    "\n",
    "\n",
    "file_pi = open('sobel_features.pickle', 'wb') \n",
    "pickle.dump(Sobel, file_pi)"
   ]
  },
  {
   "cell_type": "code",
   "execution_count": 64,
   "metadata": {},
   "outputs": [
    {
     "name": "stdout",
     "output_type": "stream",
     "text": [
      "[[0.02967205 0.05061141 0.06006852 ... 0.03943566 0.03568681 0.01580835]\n",
      " [0.06733374 0.08458688 0.07010318 ... 0.01023559 0.03258975 0.02849891]\n",
      " [0.06844514 0.04280173 0.03453709 ... 0.04464823 0.01860163 0.01946023]\n",
      " ...\n",
      " [0.07076503 0.12552466 0.1187732  ... 0.11765114 0.08858319 0.04421558]\n",
      " [0.02829582 0.03926468 0.10105651 ... 0.10275427 0.17161344 0.13270469]\n",
      " [0.00980392 0.01903577 0.02573413 ... 0.02543357 0.12084303 0.12523335]]\n"
     ]
    },
    {
     "data": {
      "text/plain": [
       "<matplotlib.image.AxesImage at 0x7f4c120732e8>"
      ]
     },
     "execution_count": 64,
     "metadata": {},
     "output_type": "execute_result"
    },
    {
     "data": {
      "image/png": "[encoded data removed]",
      "text/plain": [
       "<Figure size 432x288 with 1 Axes>"
      ]
     },
     "metadata": {},
     "output_type": "display_data"
    }
   ],
   "source": [
    "sobel_imgs = 0\n",
    "with open(r\"sobel_features.pickle\", \"rb\") as input_file:\n",
    "    sobel_imgs = pickle.load(input_file)\n",
    "    \n",
    "print(sobel_imgs[1][1])\n",
    "plt.imshow(sobel_imgs[1][1], cmap='gray')"
   ]
  },
  {
   "cell_type": "markdown",
   "metadata": {},
   "source": [
    "#### Résultats et résponses"
   ]
  },
  {
   "cell_type": "markdown",
   "metadata": {},
   "source": [
    "## 3b: Analyse visuelle des primitives"
   ]
  },
  {
   "cell_type": "markdown",
   "metadata": {},
   "source": [
    "##### À faire:\n",
    "1. Choisir quelques paires de primitives (deux dimensions de votre vecteur de primitives) et tracer un graphique 2D (données d'apprentissage) pour visualiser si ces primitives sont capables de bien séparer les sept (7) classes.\n",
    "2. Faire une analyse des résultats et présenter vos conclusions sur ces primitives."
   ]
  },
  {
   "cell_type": "markdown",
   "metadata": {},
   "source": [
    "#### Code"
   ]
  },
  {
   "cell_type": "code",
   "execution_count": 109,
   "metadata": {},
   "outputs": [
    {
     "name": "stderr",
     "output_type": "stream",
     "text": [
      "IOPub data rate exceeded.\n",
      "The notebook server will temporarily stop sending output\n",
      "to the client in order to avoid crashing it.\n",
      "To change this limit, set the config variable\n",
      "`--NotebookApp.iopub_data_rate_limit`.\n",
      "\n",
      "Current values:\n",
      "NotebookApp.iopub_data_rate_limit=1000000.0 (bytes/sec)\n",
      "NotebookApp.rate_limit_window=3.0 (secs)\n",
      "\n"
     ]
    }
   ],
   "source": [
    "from sklearn.decomposition import PCA\n",
    "# pca = PCA(n_components=2)\n",
    "pca = PCA(n_components=2)\n",
    "\n",
    "# pixel = df['pixels']\n",
    "\n",
    "p = [x[1] for x in Lbp if x[2] == 'Training']\n",
    "\n",
    "\n",
    "\n",
    "# pca_img = pca.fit_transform(pixel)\n",
    "\n",
    "\n",
    "# # pca_img = pca.fit_transform(Xtest_lbp[0])\n",
    "# # print(pca_img)\n",
    "# print(pca.explained_variance_ratio_)\n",
    "# plt.imshow(pca_img)"
   ]
  },
  {
   "cell_type": "code",
   "execution_count": 123,
   "metadata": {},
   "outputs": [
    {
     "name": "stdout",
     "output_type": "stream",
     "text": [
      "(48, 48)\n"
     ]
    }
   ],
   "source": [
    "# print(p[0])\n",
    "# pca_img = pca.fit_transform(np.array(p))\n",
    "print(p[0].shape)\n",
    "# print(pca_img)"
   ]
  },
  {
   "cell_type": "code",
   "execution_count": 101,
   "metadata": {},
   "outputs": [
    {
     "name": "stderr",
     "output_type": "stream",
     "text": [
      "/home/ziz/.local/lib/python3.6/site-packages/sklearn/decomposition/_pca.py:463: RuntimeWarning: invalid value encountered in true_divide\n",
      "  explained_variance_ratio_ = explained_variance_ / total_var\n",
      "/home/ziz/.local/lib/python3.6/site-packages/sklearn/decomposition/_pca.py:463: RuntimeWarning: invalid value encountered in true_divide\n",
      "  explained_variance_ratio_ = explained_variance_ / total_var\n",
      "/home/ziz/.local/lib/python3.6/site-packages/sklearn/decomposition/_pca.py:463: RuntimeWarning: invalid value encountered in true_divide\n",
      "  explained_variance_ratio_ = explained_variance_ / total_var\n",
      "/home/ziz/.local/lib/python3.6/site-packages/sklearn/decomposition/_pca.py:463: RuntimeWarning: invalid value encountered in true_divide\n",
      "  explained_variance_ratio_ = explained_variance_ / total_var\n",
      "/home/ziz/.local/lib/python3.6/site-packages/sklearn/decomposition/_pca.py:463: RuntimeWarning: invalid value encountered in true_divide\n",
      "  explained_variance_ratio_ = explained_variance_ / total_var\n",
      "/home/ziz/.local/lib/python3.6/site-packages/sklearn/decomposition/_pca.py:463: RuntimeWarning: invalid value encountered in true_divide\n",
      "  explained_variance_ratio_ = explained_variance_ / total_var\n",
      "/home/ziz/.local/lib/python3.6/site-packages/sklearn/decomposition/_pca.py:463: RuntimeWarning: invalid value encountered in true_divide\n",
      "  explained_variance_ratio_ = explained_variance_ / total_var\n"
     ]
    },
    {
     "ename": "KeyboardInterrupt",
     "evalue": "",
     "output_type": "error",
     "traceback": [
      "\u001b[0;31m---------------------------------------------------------------------------\u001b[0m",
      "\u001b[0;31mKeyboardInterrupt\u001b[0m                         Traceback (most recent call last)",
      "\u001b[0;32m<ipython-input-101-79bc6c499530>\u001b[0m in \u001b[0;36m<module>\u001b[0;34m()\u001b[0m\n\u001b[1;32m     19\u001b[0m \u001b[0;31m# pca_img = pca.fit_transform(Xtrain_lbp)\u001b[0m\u001b[0;34m\u001b[0m\u001b[0;34m\u001b[0m\u001b[0;34m\u001b[0m\u001b[0m\n\u001b[1;32m     20\u001b[0m \u001b[0;34m\u001b[0m\u001b[0m\n\u001b[0;32m---> 21\u001b[0;31m \u001b[0mXtrain_lbp_pca\u001b[0m\u001b[0;34m,\u001b[0m \u001b[0mXtrain_lbp_pca_var\u001b[0m \u001b[0;34m=\u001b[0m \u001b[0mpca_fit\u001b[0m\u001b[0;34m(\u001b[0m\u001b[0mXtrain_lbp\u001b[0m\u001b[0;34m)\u001b[0m\u001b[0;34m\u001b[0m\u001b[0;34m\u001b[0m\u001b[0m\n\u001b[0m\u001b[1;32m     22\u001b[0m \u001b[0;31m# Xtest_lbp_pca, Xtest_lbp_pca_var  = pca_fit(Xtest_lbp)\u001b[0m\u001b[0;34m\u001b[0m\u001b[0;34m\u001b[0m\u001b[0;34m\u001b[0m\u001b[0m\n\u001b[1;32m     23\u001b[0m \u001b[0;31m# Xval_lbp_pca, Xval_lbp_pca_var = pca_fit(Xval_lbp)\u001b[0m\u001b[0;34m\u001b[0m\u001b[0;34m\u001b[0m\u001b[0;34m\u001b[0m\u001b[0m\n",
      "\u001b[0;32m<ipython-input-101-79bc6c499530>\u001b[0m in \u001b[0;36mpca_fit\u001b[0;34m(images_features)\u001b[0m\n\u001b[1;32m      9\u001b[0m \u001b[0;34m\u001b[0m\u001b[0m\n\u001b[1;32m     10\u001b[0m     \u001b[0;32mfor\u001b[0m \u001b[0mimg\u001b[0m \u001b[0;32min\u001b[0m \u001b[0mimages_features\u001b[0m\u001b[0;34m:\u001b[0m\u001b[0;34m\u001b[0m\u001b[0;34m\u001b[0m\u001b[0m\n\u001b[0;32m---> 11\u001b[0;31m         \u001b[0mpca_img\u001b[0m \u001b[0;34m=\u001b[0m \u001b[0mpca\u001b[0m\u001b[0;34m.\u001b[0m\u001b[0mfit_transform\u001b[0m\u001b[0;34m(\u001b[0m\u001b[0mimg\u001b[0m\u001b[0;34m)\u001b[0m\u001b[0;34m\u001b[0m\u001b[0;34m\u001b[0m\u001b[0m\n\u001b[0m\u001b[1;32m     12\u001b[0m         \u001b[0mpca_l\u001b[0m\u001b[0;34m.\u001b[0m\u001b[0mappend\u001b[0m\u001b[0;34m(\u001b[0m\u001b[0mpca_img\u001b[0m\u001b[0;34m)\u001b[0m\u001b[0;34m\u001b[0m\u001b[0;34m\u001b[0m\u001b[0m\n\u001b[1;32m     13\u001b[0m         \u001b[0mpca_var\u001b[0m\u001b[0;34m.\u001b[0m\u001b[0mappend\u001b[0m\u001b[0;34m(\u001b[0m\u001b[0mpca\u001b[0m\u001b[0;34m.\u001b[0m\u001b[0mexplained_variance_ratio_\u001b[0m\u001b[0;34m)\u001b[0m\u001b[0;34m\u001b[0m\u001b[0;34m\u001b[0m\u001b[0m\n",
      "\u001b[0;32m/home/ziz/.local/lib/python3.6/site-packages/sklearn/decomposition/_pca.py\u001b[0m in \u001b[0;36mfit_transform\u001b[0;34m(self, X, y)\u001b[0m\n\u001b[1;32m    374\u001b[0m         \u001b[0mC\u001b[0m\u001b[0;34m-\u001b[0m\u001b[0mordered\u001b[0m \u001b[0marray\u001b[0m\u001b[0;34m,\u001b[0m \u001b[0muse\u001b[0m \u001b[0;34m'np.ascontiguousarray'\u001b[0m\u001b[0;34m.\u001b[0m\u001b[0;34m\u001b[0m\u001b[0;34m\u001b[0m\u001b[0m\n\u001b[1;32m    375\u001b[0m         \"\"\"\n\u001b[0;32m--> 376\u001b[0;31m         \u001b[0mU\u001b[0m\u001b[0;34m,\u001b[0m \u001b[0mS\u001b[0m\u001b[0;34m,\u001b[0m \u001b[0mV\u001b[0m \u001b[0;34m=\u001b[0m \u001b[0mself\u001b[0m\u001b[0;34m.\u001b[0m\u001b[0m_fit\u001b[0m\u001b[0;34m(\u001b[0m\u001b[0mX\u001b[0m\u001b[0;34m)\u001b[0m\u001b[0;34m\u001b[0m\u001b[0;34m\u001b[0m\u001b[0m\n\u001b[0m\u001b[1;32m    377\u001b[0m         \u001b[0mU\u001b[0m \u001b[0;34m=\u001b[0m \u001b[0mU\u001b[0m\u001b[0;34m[\u001b[0m\u001b[0;34m:\u001b[0m\u001b[0;34m,\u001b[0m \u001b[0;34m:\u001b[0m\u001b[0mself\u001b[0m\u001b[0;34m.\u001b[0m\u001b[0mn_components_\u001b[0m\u001b[0;34m]\u001b[0m\u001b[0;34m\u001b[0m\u001b[0;34m\u001b[0m\u001b[0m\n\u001b[1;32m    378\u001b[0m \u001b[0;34m\u001b[0m\u001b[0m\n",
      "\u001b[0;32m/home/ziz/.local/lib/python3.6/site-packages/sklearn/decomposition/_pca.py\u001b[0m in \u001b[0;36m_fit\u001b[0;34m(self, X)\u001b[0m\n\u001b[1;32m    421\u001b[0m         \u001b[0;31m# Call different fits for either full or truncated SVD\u001b[0m\u001b[0;34m\u001b[0m\u001b[0;34m\u001b[0m\u001b[0;34m\u001b[0m\u001b[0m\n\u001b[1;32m    422\u001b[0m         \u001b[0;32mif\u001b[0m \u001b[0mself\u001b[0m\u001b[0;34m.\u001b[0m\u001b[0m_fit_svd_solver\u001b[0m \u001b[0;34m==\u001b[0m \u001b[0;34m'full'\u001b[0m\u001b[0;34m:\u001b[0m\u001b[0;34m\u001b[0m\u001b[0;34m\u001b[0m\u001b[0m\n\u001b[0;32m--> 423\u001b[0;31m             \u001b[0;32mreturn\u001b[0m \u001b[0mself\u001b[0m\u001b[0;34m.\u001b[0m\u001b[0m_fit_full\u001b[0m\u001b[0;34m(\u001b[0m\u001b[0mX\u001b[0m\u001b[0;34m,\u001b[0m \u001b[0mn_components\u001b[0m\u001b[0;34m)\u001b[0m\u001b[0;34m\u001b[0m\u001b[0;34m\u001b[0m\u001b[0m\n\u001b[0m\u001b[1;32m    424\u001b[0m         \u001b[0;32melif\u001b[0m \u001b[0mself\u001b[0m\u001b[0;34m.\u001b[0m\u001b[0m_fit_svd_solver\u001b[0m \u001b[0;32min\u001b[0m \u001b[0;34m[\u001b[0m\u001b[0;34m'arpack'\u001b[0m\u001b[0;34m,\u001b[0m \u001b[0;34m'randomized'\u001b[0m\u001b[0;34m]\u001b[0m\u001b[0;34m:\u001b[0m\u001b[0;34m\u001b[0m\u001b[0;34m\u001b[0m\u001b[0m\n\u001b[1;32m    425\u001b[0m             \u001b[0;32mreturn\u001b[0m \u001b[0mself\u001b[0m\u001b[0;34m.\u001b[0m\u001b[0m_fit_truncated\u001b[0m\u001b[0;34m(\u001b[0m\u001b[0mX\u001b[0m\u001b[0;34m,\u001b[0m \u001b[0mn_components\u001b[0m\u001b[0;34m,\u001b[0m \u001b[0mself\u001b[0m\u001b[0;34m.\u001b[0m\u001b[0m_fit_svd_solver\u001b[0m\u001b[0;34m)\u001b[0m\u001b[0;34m\u001b[0m\u001b[0;34m\u001b[0m\u001b[0m\n",
      "\u001b[0;32m/home/ziz/.local/lib/python3.6/site-packages/sklearn/decomposition/_pca.py\u001b[0m in \u001b[0;36m_fit_full\u001b[0;34m(self, X, n_components)\u001b[0m\n\u001b[1;32m    452\u001b[0m         \u001b[0mX\u001b[0m \u001b[0;34m-=\u001b[0m \u001b[0mself\u001b[0m\u001b[0;34m.\u001b[0m\u001b[0mmean_\u001b[0m\u001b[0;34m\u001b[0m\u001b[0;34m\u001b[0m\u001b[0m\n\u001b[1;32m    453\u001b[0m \u001b[0;34m\u001b[0m\u001b[0m\n\u001b[0;32m--> 454\u001b[0;31m         \u001b[0mU\u001b[0m\u001b[0;34m,\u001b[0m \u001b[0mS\u001b[0m\u001b[0;34m,\u001b[0m \u001b[0mV\u001b[0m \u001b[0;34m=\u001b[0m \u001b[0mlinalg\u001b[0m\u001b[0;34m.\u001b[0m\u001b[0msvd\u001b[0m\u001b[0;34m(\u001b[0m\u001b[0mX\u001b[0m\u001b[0;34m,\u001b[0m \u001b[0mfull_matrices\u001b[0m\u001b[0;34m=\u001b[0m\u001b[0;32mFalse\u001b[0m\u001b[0;34m)\u001b[0m\u001b[0;34m\u001b[0m\u001b[0;34m\u001b[0m\u001b[0m\n\u001b[0m\u001b[1;32m    455\u001b[0m         \u001b[0;31m# flip eigenvectors' sign to enforce deterministic output\u001b[0m\u001b[0;34m\u001b[0m\u001b[0;34m\u001b[0m\u001b[0;34m\u001b[0m\u001b[0m\n\u001b[1;32m    456\u001b[0m         \u001b[0mU\u001b[0m\u001b[0;34m,\u001b[0m \u001b[0mV\u001b[0m \u001b[0;34m=\u001b[0m \u001b[0msvd_flip\u001b[0m\u001b[0;34m(\u001b[0m\u001b[0mU\u001b[0m\u001b[0;34m,\u001b[0m \u001b[0mV\u001b[0m\u001b[0;34m)\u001b[0m\u001b[0;34m\u001b[0m\u001b[0;34m\u001b[0m\u001b[0m\n",
      "\u001b[0;32m/home/ziz/.local/lib/python3.6/site-packages/scipy/linalg/decomp_svd.py\u001b[0m in \u001b[0;36msvd\u001b[0;34m(a, full_matrices, compute_uv, overwrite_a, check_finite, lapack_driver)\u001b[0m\n\u001b[1;32m    127\u001b[0m     \u001b[0;31m# perform decomposition\u001b[0m\u001b[0;34m\u001b[0m\u001b[0;34m\u001b[0m\u001b[0;34m\u001b[0m\u001b[0m\n\u001b[1;32m    128\u001b[0m     u, s, v, info = gesXd(a1, compute_uv=compute_uv, lwork=lwork,\n\u001b[0;32m--> 129\u001b[0;31m                           full_matrices=full_matrices, overwrite_a=overwrite_a)\n\u001b[0m\u001b[1;32m    130\u001b[0m \u001b[0;34m\u001b[0m\u001b[0m\n\u001b[1;32m    131\u001b[0m     \u001b[0;32mif\u001b[0m \u001b[0minfo\u001b[0m \u001b[0;34m>\u001b[0m \u001b[0;36m0\u001b[0m\u001b[0;34m:\u001b[0m\u001b[0;34m\u001b[0m\u001b[0;34m\u001b[0m\u001b[0m\n",
      "\u001b[0;31mKeyboardInterrupt\u001b[0m: "
     ]
    }
   ],
   "source": [
    "from sklearn.decomposition import PCA\n",
    "\n",
    "\n",
    "def pca_fit(images_features):\n",
    "    pca = PCA(n_components=2)\n",
    "    \n",
    "    pca_l = []\n",
    "    pca_var = []\n",
    "    \n",
    "    for img in images_features:\n",
    "        pca_img = pca.fit_transform(img)\n",
    "        pca_l.append(pca_img)\n",
    "        pca_var.append(pca.explained_variance_ratio_)\n",
    "#         print(pca.explained_variance_ratio_)\n",
    "#         print(pca.singular_values_)\n",
    "    \n",
    "    return pca_l, pca_var\n",
    "\n",
    "# pca_img = pca.fit_transform(Xtrain_lbp)\n",
    "\n",
    "Xtrain_lbp_pca, Xtrain_lbp_pca_var = pca_fit(Xtrain_lbp)\n",
    "# Xtest_lbp_pca, Xtest_lbp_pca_var  = pca_fit(Xtest_lbp)\n",
    "# Xval_lbp_pca, Xval_lbp_pca_var = pca_fit(Xval_lbp)\n",
    "\n",
    "\n",
    "# Xtrain_sobel_pca, Xtrain_sobel_pca_var  = pca_fit(Xtrain_sobel)\n",
    "# Xval_sobel_pca, Xtrain_sobel_pca_var = pca_fit(Xval_sobel)\n",
    "# Xtest_sobel_pca, Xtest_sobel_pca_var = pca_fit(Xtest_sobel)\n"
   ]
  },
  {
   "cell_type": "code",
   "execution_count": null,
   "metadata": {},
   "outputs": [],
   "source": [
    "import matplotlib.pyplot as plt\n",
    "\n",
    "fig = plt.figure()\n",
    "ax = fig.add_subplot(1,1,1) \n",
    "ax.set_xlabel(‘Principal Component 1’) \n",
    "ax.set_ylabel(‘Principal Component 2’) \n",
    "ax.set_title(‘2 component PCA’) \n",
    "targets = labels\n",
    "colors = ['r', 'g', 'b','p','c','m']\n",
    "\n",
    "for target, color in zip(targets,colors):\n",
    " indicesToKeep = x_pca['target'] == target\n",
    " ax.scatter(x_pca.loc[indicesToKeep, 'PC1']\n",
    " , x_pca.loc[indicesToKeep, ‘PC2’]\n",
    " , c = color\n",
    " , s = 50)\n",
    "ax.legend(targets)\n",
    "ax.grid()"
   ]
  },
  {
   "cell_type": "markdown",
   "metadata": {},
   "source": [
    "#### Résultats et résponses"
   ]
  },
  {
   "cell_type": "code",
   "execution_count": null,
   "metadata": {},
   "outputs": [],
   "source": [
    "# Vos résultats ici"
   ]
  },
  {
   "cell_type": "markdown",
   "metadata": {},
   "source": [
    "# Partie 4: Construction d'un modèle\n",
    "\n",
    "Nous sommes maintenant prêtes à entraîner un premier modèle avec les primitives extraites dans la Partie 3. On suppose que vous avez deux jeux de primitives (p.ex. LBP et SIFT), alors vous devez entraîner un modèle pour chaque jeu de primitives (2 modèles au total)."
   ]
  },
  {
   "cell_type": "markdown",
   "metadata": {},
   "source": [
    "## 4a: Entraîner un modèle\n",
    "\n",
    "Vous devez choisir un des algorithmes d'apprentissage suivants et l'entraîner sur les données d'apprentissage (même algorithme pour les deux jeux de primitives, p.ex. modèle1=DT+LBP et modèle2 = DT+SIFT):<br>\n",
    "* [Decision trees](https://scikit-learn.org/stable/modules/tree.html) de scikit-learn. <br>\n",
    "* [k-NN](https://scikit-learn.org/stable/modules/neighbors.html#nearest-neighbors-classification) de scikit-learn. <br>\n",
    "* [Naïve Bayes](https://scikit-learn.org/stable/modules/naive_bayes.html) de scikit-learn. \n",
    "\n",
    "Pour ce premier modèle, vous n'est pas supposé de régler (optimiser) votre modèle. Vous allez faire ce réglage dans la Partie (4b). Après l'entraînement, vous devez faire des prédictions sur les données de test."
   ]
  },
  {
   "cell_type": "markdown",
   "metadata": {},
   "source": [
    "### À faire:\n",
    "1. Entraîner un modèle avec l'algorithme d'apprentissage choisi\n",
    "2. Classifier tous les exemples (ensembles d'apprentissage, validation et test) et reporter les résultats:<br>\n",
    " 2a. taux de classification correct sur les trois (3) ensembles de données<br>\n",
    " 2b. matrice de confusion pour l'ensemble de test\n",
    "3. <font color=blue>Sauvagarder votre modèle dans un fichier. Regarder [model persistence](https://scikitlearn.org/stable/modules/model_persistence.html?highlight=persistence) </font> \n",
    "4. Expliquer pourquoi vous avez choisi cet algorithme d'apprentissage (Q1).\n",
    "5. Faire une analyse des résultats et présenter vos conclusions sur le modèle entraîné (Q2).\n",
    "6. Concernant vos primitives, sont-elles discriminantes? (Q3)"
   ]
  },
  {
   "cell_type": "markdown",
   "metadata": {},
   "source": [
    "#### Code"
   ]
  },
  {
   "cell_type": "code",
   "execution_count": null,
   "metadata": {},
   "outputs": [],
   "source": [
    "# Votre code ici"
   ]
  },
  {
   "cell_type": "markdown",
   "metadata": {},
   "source": [
    "#### Résultats et résponses"
   ]
  },
  {
   "cell_type": "markdown",
   "metadata": {},
   "source": [
    "#### Vos résultats ici:\n",
    "\n",
    "##### Exemple:\n",
    "\n",
    "| Ensemble | Taux de classification correct |                               \n",
    "|----------|--------------------------------|\n",
    "| App      | 99,67%                         |                   \n",
    "| Val      | 89,77%                         |                             \n",
    "| Test     | 77,99%                         |        \n",
    "\n",
    "Q1: Nous avons choisi l'algorithme d'arbre de décision parce que...\n",
    "\n",
    "Q2: Les taux de classification indiquent que le modèle...\n",
    "\n",
    "Q3: La performance avec le primitive..."
   ]
  },
  {
   "cell_type": "markdown",
   "metadata": {},
   "source": [
    "## 4b: Réglage du modèle\n",
    "\n",
    "Probablement vous avez outperformé le modèle << baseline >>, mais est-ce qu'on peut mieux performer? Est-ce qu'on peut faire un << fine-tuning >> de notre modèle? Quels sont les paramètres que vous pouvez ajuster pour améliorer la performance?"
   ]
  },
  {
   "cell_type": "markdown",
   "metadata": {},
   "source": [
    "##### À faire:\n",
    "1. Lister les principaux paramètres de votre modèle qui peuvent aider à améliorer sa performance.\n",
    "2. Choisir quelques paramètres (au moins 2) et tourner un << grid search>> pour trouver les meilleures valeurs pour ces paramètres.\n",
    "3. Une fois que vous avez trouvé le meilleur modèle, utiliser ce modèle pour classifier tous les exemples (apprentissage, validation, test) et reporter les résultats:<br>\n",
    " 3a. taux de classification correct sur les 3 ensembles<br>\n",
    " 3b. matrice de confusion pour l'ensemble de test\n",
    "4. Explique pourquoi vous avez choisi ces paramètres.\n",
    "5. Faire une analyse des résultats et présenter vos conclusions sur ce modèle << fine- tuned >>"
   ]
  },
  {
   "cell_type": "markdown",
   "metadata": {},
   "source": [
    "#### Code"
   ]
  },
  {
   "cell_type": "code",
   "execution_count": null,
   "metadata": {},
   "outputs": [],
   "source": [
    "# Votre code ici"
   ]
  },
  {
   "cell_type": "markdown",
   "metadata": {},
   "source": [
    "#### Grid search"
   ]
  },
  {
   "cell_type": "code",
   "execution_count": null,
   "metadata": {},
   "outputs": [],
   "source": [
    "# Votre code ici"
   ]
  },
  {
   "cell_type": "markdown",
   "metadata": {},
   "source": [
    "#### Résultats et résponses"
   ]
  },
  {
   "cell_type": "code",
   "execution_count": null,
   "metadata": {},
   "outputs": [],
   "source": [
    "# Vos résultats ici:"
   ]
  },
  {
   "cell_type": "markdown",
   "metadata": {},
   "source": [
    "# Partie 5: Réduction de la dimensionnalité\n",
    "\n",
    "Bibliotèques Python pour la reduction de la dimensionnalité : \n",
    "\n",
    "* [Transformation algorithms](https://scikit-learn.org/stable/modules/decomposition.html#decompositions)\n",
    "* [Feature selection algorithms](https://scikit-learn.org/stable/modules/feature_selection.html)"
   ]
  },
  {
   "cell_type": "markdown",
   "metadata": {},
   "source": [
    "## 5a: Réduction de la dimensionnalité"
   ]
  },
  {
   "cell_type": "markdown",
   "metadata": {},
   "source": [
    "### À faire:\n",
    "1. Choisir un algorithme de transformation de primitives et un algorithme de sélection des primitives et réduire la dimensionnalité de vos vecteurs de primitives (Partie 3).\n",
    "2. Choisir les deux meilleures primitives et ploter un graphique ($pc_1$ X $pc_2$ X classe) pour visualiser si ces primitives sont capables de bien séparer les sept (7) classes.\n",
    "3. Faire une analyse des résultats et présenter vos conclusions sur ces primitives."
   ]
  },
  {
   "cell_type": "markdown",
   "metadata": {},
   "source": [
    "#### Code"
   ]
  },
  {
   "cell_type": "code",
   "execution_count": null,
   "metadata": {},
   "outputs": [],
   "source": [
    "# Votre code ici"
   ]
  },
  {
   "cell_type": "markdown",
   "metadata": {},
   "source": [
    "#### Résultats et résponses"
   ]
  },
  {
   "cell_type": "code",
   "execution_count": null,
   "metadata": {},
   "outputs": [],
   "source": [
    "# Vos résultats ici:"
   ]
  },
  {
   "cell_type": "markdown",
   "metadata": {},
   "source": [
    "## 5b: Rentraîner le modèle de la partie 4a\n",
    "\n",
    "Vous devez rentraîner le modèle et l'entraîner sur les données d'apprentissage.<br>\n",
    "Après l'entraînement, vous devez faire des prédictions sur les données de test."
   ]
  },
  {
   "cell_type": "markdown",
   "metadata": {},
   "source": [
    "#### Code"
   ]
  },
  {
   "cell_type": "code",
   "execution_count": null,
   "metadata": {},
   "outputs": [],
   "source": [
    "# Votre code ici"
   ]
  },
  {
   "cell_type": "markdown",
   "metadata": {},
   "source": [
    "#### Résultats et résponses"
   ]
  },
  {
   "cell_type": "code",
   "execution_count": null,
   "metadata": {},
   "outputs": [],
   "source": [
    "# Vos résultats ici:"
   ]
  },
  {
   "cell_type": "markdown",
   "metadata": {},
   "source": [
    "## 5c: Réglage du modèle\n",
    "\n",
    "Vous devez reoptimiser votre nouveau modèle et l'entraîner sur les données d'apprentissage.\n",
    "Après l'entraînement, vous devez faire des prédictions sur les données de test."
   ]
  },
  {
   "cell_type": "markdown",
   "metadata": {},
   "source": [
    "#### Code"
   ]
  },
  {
   "cell_type": "code",
   "execution_count": null,
   "metadata": {},
   "outputs": [],
   "source": [
    "# Votre code ici"
   ]
  },
  {
   "cell_type": "markdown",
   "metadata": {},
   "source": [
    "#### Résultats et résponses"
   ]
  },
  {
   "cell_type": "code",
   "execution_count": null,
   "metadata": {},
   "outputs": [],
   "source": [
    "# Vos résultats ici"
   ]
  },
  {
   "cell_type": "markdown",
   "metadata": {},
   "source": [
    "# Partie 6: Analyse qualitative\n",
    "\n",
    "Choisir dans l'ensemble de test, exemples de visages bien et mal classifié et montrer ces exemples avec la vraie étiquette et la prédiction faite par votre meilleur modèle."
   ]
  },
  {
   "cell_type": "markdown",
   "metadata": {},
   "source": [
    "#### Code"
   ]
  },
  {
   "cell_type": "code",
   "execution_count": null,
   "metadata": {},
   "outputs": [],
   "source": [
    "# Vos résultats ici"
   ]
  },
  {
   "cell_type": "markdown",
   "metadata": {},
   "source": [
    "#### Résultats et résponses"
   ]
  },
  {
   "cell_type": "code",
   "execution_count": null,
   "metadata": {},
   "outputs": [],
   "source": [
    "# Vos résultats ici"
   ]
  },
  {
   "cell_type": "markdown",
   "metadata": {},
   "source": [
    "<font color=black> \n",
    "\n",
    "# Partie 7: Cross-Dataset Challenge\n",
    "\n",
    "Vous devez tester vos modèles (déjà entraînés et testés sur FER) sur un autre ensemble de données pour eváluer la capacité de géneralisation. \n",
    "    \n",
    "L’ensemble de données à tester est le Jaffe dataset qui contient 213 images de sept (7) expressions faciales pose par 10 modèles féminines japonaises. Chaque image a été étiquetée dans six (6) adjectives d’émotion par 60 sujets japonaises. \n",
    "\n",
    "L’ensemble de données originel contient des images 256x256 en niveau de gris, dans le format .tiff, sans compression.\n",
    "\n",
    "Vous avez les données redimensionnées à 48x48 pixels (`jaffe_48x48.csv`), aussi que les données dans la dimension originelle (`jaffe_256x256.csv`). \n",
    "    \n",
    "* Angry (30 exemples):   Y_test[0:30]   = 0 \n",
    "* Disgust (29 exemples): Y_test[30:59]  = 1\n",
    "* Fear (32 exemples): Y_test[59:91]  = 2 \n",
    "* Happy (31 exemples): Y_test[91:122] = 3 \n",
    "* Neutral (30 exemples): Y_test[122:152]= 6 \n",
    "* Surprise (31 exemples): Y_test[152:183]= 5 \n",
    "* Sad (30 exemples): Y_test[183:213]= 4 \n",
    "\n",
    "</font> "
   ]
  },
  {
   "cell_type": "markdown",
   "metadata": {},
   "source": [
    "<font color=black> \n",
    "    \n",
    "## 7a: Charger le fichier de données de test\n",
    "</font>"
   ]
  },
  {
   "cell_type": "code",
   "execution_count": null,
   "metadata": {},
   "outputs": [],
   "source": [
    "import numpy as np\n",
    "\n",
    "# Read from file\n",
    "X_test_jaffe = np.loadtxt('jaffe_48x48.csv', delimiter=',', dtype=int)\n",
    "#X_test_jaffe = np.loadtxt('jaffe_256x256.csv', delimiter=',', dtype=int)\n",
    "y_test_jaffe = np.loadtxt('jaffe_labels.csv', delimiter=',', dtype=int)\n",
    "\n",
    "# reshape to be [samples][pixels][width][height]\n",
    "X_test_jaffe  = X_test_jaffe.reshape(X_test_jaffe.shape[0], 1, 48, 48).astype('uint8')\n",
    "#X_test_jaffe  = X_test_jaffe.reshape(X_test_jaffe.shape[0], 1, 256, 256).astype('uint8')\n",
    "\n",
    "X_test_jaffe.dtype"
   ]
  },
  {
   "cell_type": "markdown",
   "metadata": {},
   "source": [
    "<font color=black>\n",
    "    \n",
    "## 7b: Visualisation des visages de Jaffe\n",
    "</font>"
   ]
  },
  {
   "cell_type": "code",
   "execution_count": null,
   "metadata": {},
   "outputs": [],
   "source": [
    "import matplotlib.pyplot as plt\n",
    "def getLabel(id):\n",
    "    return ['Angry', 'Disgust', 'Fear', 'Happy', 'Sad', 'Surprise', 'Neutral'][id]\n",
    "plt.figure(figsize=(10, 10))\n",
    "j = 0\n",
    "for i in [5, 40, 70, 105, 135, 171, 191]:\n",
    "    plt.subplot(330 + 1 + j)\n",
    "    plt.imshow(np.squeeze(X_test_jaffe[i], axis=0),cmap=plt.get_cmap('gray'))\n",
    "    plt.gca().get_xaxis().set_ticks([])\n",
    "    plt.gca().get_yaxis().set_ticks([])\n",
    "    plt.ylabel('Label = %s' % getLabel(y_test_jaffe[i]), fontsize = 12)\n",
    "    j = j + 1\n",
    "plt.show()"
   ]
  },
  {
   "cell_type": "markdown",
   "metadata": {},
   "source": [
    "<font color=black> \n",
    "    \n",
    "### À faire:\n",
    "1. Tester vos modèles sur les 213 images de Jaffe dataset.\n",
    "2. Faire une analyse des résultats et présenter vos conclusions sur la capacité de generalisation de vos modèles.\n",
    "</font>"
   ]
  },
  {
   "cell_type": "markdown",
   "metadata": {},
   "source": [
    "#### Code"
   ]
  },
  {
   "cell_type": "code",
   "execution_count": null,
   "metadata": {},
   "outputs": [],
   "source": [
    "# Votre code ici"
   ]
  },
  {
   "cell_type": "markdown",
   "metadata": {},
   "source": [
    "#### Résultats et résponses"
   ]
  },
  {
   "cell_type": "code",
   "execution_count": null,
   "metadata": {},
   "outputs": [],
   "source": [
    "# Vos résultats ici"
   ]
  },
  {
   "cell_type": "markdown",
   "metadata": {},
   "source": [
    "## Partie Final: Conclusion"
   ]
  },
  {
   "cell_type": "markdown",
   "metadata": {},
   "source": [
    "### À faire:\n",
    "1. Résumer et comparer les principaux résultats .\n",
    "2. Faire une analyse des résultats obtenus et présenter vos conclusions sur les différents modèles que vous avez entraînés."
   ]
  },
  {
   "cell_type": "markdown",
   "metadata": {},
   "source": [
    "#### Résultats et résponses"
   ]
  },
  {
   "cell_type": "code",
   "execution_count": null,
   "metadata": {},
   "outputs": [],
   "source": [
    "# Vos résultats ici:"
   ]
  }
 ],
 "metadata": {
  "kernelspec": {
   "display_name": "Python 3",
   "language": "python",
   "name": "python3"
  },
  "language_info": {
   "codemirror_mode": {
    "name": "ipython",
    "version": 3
   },
   "file_extension": ".py",
   "mimetype": "text/x-python",
   "name": "python",
   "nbconvert_exporter": "python",
   "pygments_lexer": "ipython3",
   "version": "3.6.9"
  }
 },
 "nbformat": 4,
 "nbformat_minor": 2
}
