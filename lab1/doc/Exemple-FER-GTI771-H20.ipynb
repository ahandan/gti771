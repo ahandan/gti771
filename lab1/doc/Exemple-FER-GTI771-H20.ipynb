{
 "cells": [
  {
   "cell_type": "markdown",
   "metadata": {},
   "source": [
    "# Exemple - Extraction de primitives FER\n",
    "### GTI771 - Apprentissage machine avancé\n",
    "### Département du génie logiciel et des technologies de l’information\n",
    "#### Version 1.0 janvier 2020\n",
    "#### Prof. Alessandro L. Koerich"
   ]
  },
  {
   "cell_type": "code",
   "execution_count": 2,
   "metadata": {},
   "outputs": [],
   "source": [
    "import numpy"
   ]
  },
  {
   "cell_type": "code",
   "execution_count": 3,
   "metadata": {},
   "outputs": [],
   "source": [
    "from sklearn.preprocessing import MinMaxScaler\n",
    "\n",
    "# fix random seed for reproducibility\n",
    "seed = 7\n",
    "numpy.random.seed(seed)\n",
    "# load data\n",
    "ferData = numpy.loadtxt('fer2013/fer2013.csv', delimiter=',', dtype=numpy.str)\n",
    "Xtrain = numpy.ones((28709,2304),numpy.uint8)\n",
    "for i in range(1, 28710):\n",
    "\tXtrain[i-1]=ferData[i,1].split(\" \")\n",
    "\n",
    "ytrain=ferData[1:28710,0].astype(numpy.int)\n",
    "Xval = numpy.ones((3589,2304),float)\n",
    "for i in range(28710, 32299):\n",
    "\tXval[i-28710]=ferData[i,1].split(\" \")\n",
    "\n",
    "yval=ferData[28710:32299,0].astype(numpy.int)\n",
    "Xtest = numpy.ones((3589,2304),float)\n",
    "for i in range(32299, 35888):\n",
    "\tXtest[i-32299]=ferData[i,1].split(\" \")\n",
    "\n",
    "ytest=ferData[32299:,0].astype(numpy.int)\n"
   ]
  },
  {
   "cell_type": "code",
   "execution_count": 4,
   "metadata": {},
   "outputs": [],
   "source": [
    "# normalize\n",
    "scaler = MinMaxScaler(feature_range=(0, 255))\n",
    "Xtrain = scaler.fit_transform(Xtrain)\n",
    "Xval = scaler.fit_transform(Xval)\n",
    "Xtest = scaler.fit_transform(Xtest)"
   ]
  },
  {
   "cell_type": "code",
   "execution_count": 5,
   "metadata": {},
   "outputs": [],
   "source": [
    "# reshape to be [samples][pixels][width][height]\n",
    "Xtrain = Xtrain.reshape(Xtrain.shape[0], 1, 48, 48).astype('uint8')\n",
    "Xtest = Xtest.reshape(Xtest.shape[0], 1, 48, 48).astype('uint8')\n",
    "Xval = Xval.reshape(Xval.shape[0], 1, 48, 48).astype('uint8')"
   ]
  },
  {
   "cell_type": "code",
   "execution_count": 6,
   "metadata": {},
   "outputs": [
    {
     "data": {
      "text/plain": [
       "<Figure size 640x480 with 1 Axes>"
      ]
     },
     "metadata": {},
     "output_type": "display_data"
    }
   ],
   "source": [
    "# visualize data\n",
    "import matplotlib.pyplot as plt\n",
    "plt.imshow(numpy.squeeze(Xtrain[10], axis=0), cmap='gray')\n",
    "plt.title('Class '+ str(ytrain[10]))\n",
    "plt.show()"
   ]
  },
  {
   "cell_type": "code",
   "execution_count": 7,
   "metadata": {},
   "outputs": [
    {
     "data": {
      "text/plain": [
       "((28709, 1, 48, 48), (3589, 1, 48, 48), (3589, 1, 48, 48))"
      ]
     },
     "execution_count": 7,
     "metadata": {},
     "output_type": "execute_result"
    }
   ],
   "source": [
    "Xtrain.shape, Xval.shape, Xtest.shape"
   ]
  },
  {
   "cell_type": "markdown",
   "metadata": {},
   "source": [
    "## Scikit-image\n",
    "\n",
    "#### https://scikit-image.org/docs/dev/"
   ]
  },
  {
   "cell_type": "code",
   "execution_count": 9,
   "metadata": {},
   "outputs": [],
   "source": [
    "from skimage.feature import local_binary_pattern"
   ]
  },
  {
   "cell_type": "code",
   "execution_count": 10,
   "metadata": {},
   "outputs": [],
   "source": [
    "# settings for LBP\n",
    "radius   = 3\n",
    "n_points = 8 * radius\n",
    "METHOD   = 'uniform'"
   ]
  },
  {
   "cell_type": "code",
   "execution_count": 13,
   "metadata": {},
   "outputs": [],
   "source": [
    "image = numpy.squeeze(Xtrain[0], axis=0)\n",
    "lbp = local_binary_pattern(image, n_points, radius, METHOD)"
   ]
  },
  {
   "cell_type": "code",
   "execution_count": 14,
   "metadata": {},
   "outputs": [
    {
     "data": {
      "text/plain": [
       "array([[ 1.,  0.,  0., ...,  3., 25.,  7.],\n",
       "       [ 1.,  1.,  4., ...,  1., 25., 25.],\n",
       "       [ 5.,  6., 25., ..., 25.,  1., 25.],\n",
       "       ...,\n",
       "       [ 0.,  2., 25., ..., 25., 25., 11.],\n",
       "       [ 1.,  0.,  0., ...,  1., 25.,  9.],\n",
       "       [ 1.,  1.,  0., ...,  1.,  1.,  3.]])"
      ]
     },
     "execution_count": 14,
     "metadata": {},
     "output_type": "execute_result"
    }
   ],
   "source": [
    "lbp"
   ]
  },
  {
   "cell_type": "code",
   "execution_count": 15,
   "metadata": {},
   "outputs": [
    {
     "ename": "NameError",
     "evalue": "name 'n_bins' is not defined",
     "output_type": "error",
     "traceback": [
      "\u001b[0;31m---------------------------------------------------------------------------\u001b[0m",
      "\u001b[0;31mNameError\u001b[0m                                 Traceback (most recent call last)",
      "\u001b[0;32m<ipython-input-15-e82168bbe78a>\u001b[0m in \u001b[0;36m<module>\u001b[0;34m()\u001b[0m\n\u001b[0;32m----> 1\u001b[0;31m \u001b[0mn_bins\u001b[0m\u001b[0;34m\u001b[0m\u001b[0;34m\u001b[0m\u001b[0m\n\u001b[0m",
      "\u001b[0;31mNameError\u001b[0m: name 'n_bins' is not defined"
     ]
    }
   ],
   "source": [
    "n_bins"
   ]
  },
  {
   "cell_type": "code",
   "execution_count": 16,
   "metadata": {},
   "outputs": [
    {
     "data": {
      "text/plain": [
       "(48, 48)"
      ]
     },
     "execution_count": 16,
     "metadata": {},
     "output_type": "execute_result"
    }
   ],
   "source": [
    "lbp.shape"
   ]
  },
  {
   "cell_type": "code",
   "execution_count": 17,
   "metadata": {},
   "outputs": [],
   "source": [
    "n_bins = int(lbp.max() + 1)\n",
    "hist, _ = numpy.histogram(lbp, density=False, bins=n_bins, range=(0, n_bins))"
   ]
  },
  {
   "cell_type": "code",
   "execution_count": 18,
   "metadata": {},
   "outputs": [
    {
     "data": {
      "text/plain": [
       "array([ 98,  68,  47,  31,  36,  41,  56,  59,  56,  88, 119, 144, 190,\n",
       "       132,  59,  32,  24,  20,  37,  25,  19,  35,  37,  45,  64, 742])"
      ]
     },
     "execution_count": 18,
     "metadata": {},
     "output_type": "execute_result"
    }
   ],
   "source": [
    "hist"
   ]
  },
  {
   "cell_type": "markdown",
   "metadata": {},
   "source": [
    "## OpenCV\n",
    "\n",
    "#### https://opencv-python-tutroals.readthedocs.io/en/latest/"
   ]
  },
  {
   "cell_type": "code",
   "execution_count": null,
   "metadata": {},
   "outputs": [],
   "source": [
    "import cv2"
   ]
  },
  {
   "cell_type": "code",
   "execution_count": null,
   "metadata": {},
   "outputs": [],
   "source": [
    "print(cv2.__version__)"
   ]
  },
  {
   "cell_type": "code",
   "execution_count": null,
   "metadata": {},
   "outputs": [],
   "source": [
    "def gen_sift_features(gray_img):\n",
    "    sift = cv2.xfeatures2d.SIFT_create()\n",
    "    # kp is the keypoints\n",
    "    #\n",
    "    # desc is the SIFT descriptors, they're 128-dimensional vectors\n",
    "    # that we can use for our final features\n",
    "    kp, desc = sift.detectAndCompute(gray_img, None)\n",
    "    return kp, desc\n",
    "\n",
    "\n",
    "def gen_surf_features(gray_img):\n",
    "    surf = cv2.xfeatures2d.SURF_create()\n",
    "    # Find keypoints and descriptors directly\n",
    "    kp, desc = surf.detectAndCompute(gray_img, None)\n",
    "    return kp, desc\n",
    "\n",
    "\n",
    "def gen_orb_features(gray_img):\n",
    "    orb = cv2.ORB_create()\n",
    "    # find the keypoints with ORB\n",
    "    #kp = orb.detect(gray_img, None)\n",
    "    # compute the descriptors with ORB\n",
    "    #kp, desc = orb.compute(gray_img, kp)\n",
    "    kp, desc = orb.detectAndCompute(gray_img, None)\n",
    "    return kp, desc\n",
    "\n",
    "def gen_brief_features(gray_img):\n",
    "    # Initiate FAST detector\n",
    "    star = cv2.xfeatures2d.StarDetector_create()\n",
    "    # Initiate BRIEF extractor\n",
    "    brief = cv2.xfeatures2d.BriefDescriptorExtractor_create()\n",
    "    # find the keypoints with STAR\n",
    "    kp = star.detect(gray_img, None)\n",
    "    # compute the descriptors with BRIEF\n",
    "    kp, desc = brief.compute(gray_img, kp)\n",
    "    return kp, desc"
   ]
  },
  {
   "cell_type": "code",
   "execution_count": null,
   "metadata": {},
   "outputs": [],
   "source": [
    "front_gray = image\n",
    "plt.imshow(front_gray, cmap='gray');\n",
    "front_gray.dtype"
   ]
  },
  {
   "cell_type": "code",
   "execution_count": null,
   "metadata": {},
   "outputs": [],
   "source": [
    "def show_sift_features(gray_img, color_img, kp):\n",
    "    return plt.imshow(cv2.drawKeypoints(gray_img, kp, color_img.copy()))"
   ]
  },
  {
   "cell_type": "code",
   "execution_count": null,
   "metadata": {},
   "outputs": [],
   "source": [
    "# generate SIFT keypoints and descriptors\n",
    "front_kp, front_desc = gen_sift_features(front_gray)\n",
    "\n",
    "print ('Here are what our SIFT features look like for the front-view image:')\n",
    "show_sift_features(front_gray, front_gray, front_kp);"
   ]
  },
  {
   "cell_type": "code",
   "execution_count": null,
   "metadata": {},
   "outputs": [],
   "source": [
    "print (len(front_kp), 'keypoints in the list')\n",
    "print (front_kp[0])"
   ]
  },
  {
   "cell_type": "code",
   "execution_count": null,
   "metadata": {},
   "outputs": [],
   "source": [
    "print ('SIFT descriptors are vectors of shape', front_desc[0].shape)\n",
    "print ('they look like this:', front_desc[0])"
   ]
  },
  {
   "cell_type": "code",
   "execution_count": null,
   "metadata": {},
   "outputs": [],
   "source": [
    "front_desc[0].dtype"
   ]
  },
  {
   "cell_type": "code",
   "execution_count": null,
   "metadata": {},
   "outputs": [],
   "source": [
    "# visualized another way:\n",
    "plt.imshow(front_desc[0].reshape(16,8), interpolation='none');"
   ]
  },
  {
   "cell_type": "code",
   "execution_count": null,
   "metadata": {},
   "outputs": [],
   "source": [
    "print('Notebook ended')"
   ]
  }
 ],
 "metadata": {
  "kernelspec": {
   "display_name": "Python 3",
   "language": "python",
   "name": "python3"
  },
  "language_info": {
   "codemirror_mode": {
    "name": "ipython",
    "version": 3
   },
   "file_extension": ".py",
   "mimetype": "text/x-python",
   "name": "python",
   "nbconvert_exporter": "python",
   "pygments_lexer": "ipython3",
   "version": "3.6.9"
  }
 },
 "nbformat": 4,
 "nbformat_minor": 2
}
